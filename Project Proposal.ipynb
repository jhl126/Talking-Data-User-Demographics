{
 "cells": [
  {
   "cell_type": "markdown",
   "metadata": {},
   "source": [
    "* What is the problem that you are attempting to solve?\n",
    "* How is your solution valuable?\n",
    "* What is your data source, and how will you access it?\n",
    "* What techniques from the program do you anticipate using?\n",
    "* What is the biggest challenge that you anticipate facing?"
   ]
  },
  {
   "cell_type": "markdown",
   "metadata": {},
   "source": [
    "I will be doing my final capstone project on a Talking Data Mobile User Demographic dataset obtained from Kaggle. The dataset can be found at this link: https://www.kaggle.com/c/talkingdata-mobile-user-demographics/data. \n",
    "\n",
    "The data consists of app download and usage behaviors. It also includes the age and gender of the user. I will be attempting to answer if it is possible to predict the gender and age of the user given certain details on apps and phone usage. \n",
    "\n",
    "This information is useful in a real world scenario because it can be used to help create targetted ads. Additionally, the answer obtained from this question could benefit specific apps or phone brands to have a  targetted market focus. \n",
    "\n",
    "I will be accessing my data through downloading the files through kaggle. The data source is in the form of multiple csv files. To be more specific, there are 8 different csv files each containing information ranging from age and gender, to phone brand. App labels and label categories are also included. I plan to merge some of the files and create larger datasets, rather than have many small data sets. For example, I believe the app label and label categories should be merged together, because then it will be much easier to analyze and read. Additionally, I plan on merging the age and gender file too because this will make creating predictive modeling and clustering algorithms much easier. \n",
    "\n",
    "As for techniques that will be applied on this project, I plan to use Supervised Learning, Unsupervised Learning, and Deep Learning. Before I apply each of these techniques, it is clear that I will need to perform exploratory data analysis and conduct a lot of data cleaning. As I stated earlier, the original data sets are split into eight different files, so I will need to merge data files as well.\n",
    "\n",
    "#### Supervised Learning\n",
    "\n",
    "I plan on creating six to seven classification models, each using PCA, and SelectKBest, to predict age and gender from the app user information. Each model will be compared with one another to determine which classification model is the most accurate for predicting age and gender. I will also be able to determine which dimensionality reduction method (if any) was the most helpful when creating the models. \n",
    "\n",
    "#### Unsupervised Learning\n",
    "\n",
    "Two or three dimensionality reduction methods will be used and applied to either two or three clustering algorithms. Depending on the time it takes to run and execute code, I will decide later on if I am using two or three clustering algorithms and dimensionality reduction methods. With this clustered data, I will be able to see what features are grouped together and how they have an impact on my classification models. I will also be comparing these clustering algorithms using silhouette scores. \n",
    "\n",
    "#### Deep Learning\n",
    "\n",
    "Finally, with deep learning I will be creating a Convolutional Neural Network that will also be used as a classification model. With these results I will be able to compare precision and recall scores with the Supervised Learning models and determine which produced the best model. \n",
    "\n",
    "I believe there will be many challenges to completing this project. The data set is around 75,000 rows, so I will have to spend a good amount of time evaluating the data and making sure I understand what I am working with. Whether it is finding the right way to fill missing data, or merging the data files, I predict performing optimal EDA will be the most difficult part. I do think there will be challenges when creating the models, but the biggest challenges that come from the models is finding the right parameters to tune. Therefore, it will not be as difficult as conducting clean EDA. "
   ]
  }
 ],
 "metadata": {
  "kernelspec": {
   "display_name": "Python 3",
   "language": "python",
   "name": "python3"
  },
  "language_info": {
   "codemirror_mode": {
    "name": "ipython",
    "version": 3
   },
   "file_extension": ".py",
   "mimetype": "text/x-python",
   "name": "python",
   "nbconvert_exporter": "python",
   "pygments_lexer": "ipython3",
   "version": "3.7.6"
  }
 },
 "nbformat": 4,
 "nbformat_minor": 4
}
