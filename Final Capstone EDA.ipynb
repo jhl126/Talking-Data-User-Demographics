{
 "cells": [
  {
   "cell_type": "code",
   "execution_count": 1,
   "metadata": {},
   "outputs": [
    {
     "data": {
      "application/javascript": [
       "\n",
       "            setTimeout(function() {\n",
       "                var nbb_cell_id = 1;\n",
       "                var nbb_unformatted_code = \"%reload_ext nb_black\";\n",
       "                var nbb_formatted_code = \"%reload_ext nb_black\";\n",
       "                var nbb_cells = Jupyter.notebook.get_cells();\n",
       "                for (var i = 0; i < nbb_cells.length; ++i) {\n",
       "                    if (nbb_cells[i].input_prompt_number == nbb_cell_id) {\n",
       "                        if (nbb_cells[i].get_text() == nbb_unformatted_code) {\n",
       "                             nbb_cells[i].set_text(nbb_formatted_code);\n",
       "                        }\n",
       "                        break;\n",
       "                    }\n",
       "                }\n",
       "            }, 500);\n",
       "            "
      ],
      "text/plain": [
       "<IPython.core.display.Javascript object>"
      ]
     },
     "metadata": {},
     "output_type": "display_data"
    }
   ],
   "source": [
    "%reload_ext nb_black"
   ]
  },
  {
   "cell_type": "code",
   "execution_count": 2,
   "metadata": {},
   "outputs": [
    {
     "data": {
      "application/javascript": [
       "\n",
       "            setTimeout(function() {\n",
       "                var nbb_cell_id = 2;\n",
       "                var nbb_unformatted_code = \"# creating EDA imports\\n\\nimport pandas as pd\\nimport seaborn as sns\\nimport matplotlib.pyplot as plt\\nfrom sklearn.preprocessing import MultiLabelBinarizer\";\n",
       "                var nbb_formatted_code = \"# creating EDA imports\\n\\nimport pandas as pd\\nimport seaborn as sns\\nimport matplotlib.pyplot as plt\\nfrom sklearn.preprocessing import MultiLabelBinarizer\";\n",
       "                var nbb_cells = Jupyter.notebook.get_cells();\n",
       "                for (var i = 0; i < nbb_cells.length; ++i) {\n",
       "                    if (nbb_cells[i].input_prompt_number == nbb_cell_id) {\n",
       "                        if (nbb_cells[i].get_text() == nbb_unformatted_code) {\n",
       "                             nbb_cells[i].set_text(nbb_formatted_code);\n",
       "                        }\n",
       "                        break;\n",
       "                    }\n",
       "                }\n",
       "            }, 500);\n",
       "            "
      ],
      "text/plain": [
       "<IPython.core.display.Javascript object>"
      ]
     },
     "metadata": {},
     "output_type": "display_data"
    }
   ],
   "source": [
    "# creating EDA imports\n",
    "\n",
    "import pandas as pd\n",
    "import seaborn as sns\n",
    "import matplotlib.pyplot as plt\n",
    "from sklearn.preprocessing import MultiLabelBinarizer"
   ]
  },
  {
   "cell_type": "code",
   "execution_count": 3,
   "metadata": {},
   "outputs": [
    {
     "data": {
      "application/javascript": [
       "\n",
       "            setTimeout(function() {\n",
       "                var nbb_cell_id = 3;\n",
       "                var nbb_unformatted_code = \"# reading in each data file\\n# data was obtained from: https://www.kaggle.com/c/talkingdata-mobile-user-demographics/data\\n\\napp_events = pd.read_csv(\\\"./talkingdata-mobile-user-demographics/app_events.csv.zip\\\")\\napp_labels = pd.read_csv(\\\"./talkingdata-mobile-user-demographics/app_labels.csv.zip\\\")\\nevents = pd.read_csv(\\\"./talkingdata-mobile-user-demographics/events.csv.zip\\\")\\ngender_age_train = pd.read_csv(\\n    \\\"./talkingdata-mobile-user-demographics/gender_age_train.csv.zip\\\"\\n)\\ngender_age_test = pd.read_csv(\\n    \\\"./talkingdata-mobile-user-demographics/gender_age_test.csv.zip\\\"\\n)\\ncategory_labels = pd.read_csv(\\n    \\\"./talkingdata-mobile-user-demographics/label_categories.csv.zip\\\"\\n)\\nphone_brand = pd.read_csv(\\n    \\\"./talkingdata-mobile-user-demographics/phone_brand_device_model.csv.zip\\\"\\n)\";\n",
       "                var nbb_formatted_code = \"# reading in each data file\\n# data was obtained from: https://www.kaggle.com/c/talkingdata-mobile-user-demographics/data\\n\\napp_events = pd.read_csv(\\\"./talkingdata-mobile-user-demographics/app_events.csv.zip\\\")\\napp_labels = pd.read_csv(\\\"./talkingdata-mobile-user-demographics/app_labels.csv.zip\\\")\\nevents = pd.read_csv(\\\"./talkingdata-mobile-user-demographics/events.csv.zip\\\")\\ngender_age_train = pd.read_csv(\\n    \\\"./talkingdata-mobile-user-demographics/gender_age_train.csv.zip\\\"\\n)\\ngender_age_test = pd.read_csv(\\n    \\\"./talkingdata-mobile-user-demographics/gender_age_test.csv.zip\\\"\\n)\\ncategory_labels = pd.read_csv(\\n    \\\"./talkingdata-mobile-user-demographics/label_categories.csv.zip\\\"\\n)\\nphone_brand = pd.read_csv(\\n    \\\"./talkingdata-mobile-user-demographics/phone_brand_device_model.csv.zip\\\"\\n)\";\n",
       "                var nbb_cells = Jupyter.notebook.get_cells();\n",
       "                for (var i = 0; i < nbb_cells.length; ++i) {\n",
       "                    if (nbb_cells[i].input_prompt_number == nbb_cell_id) {\n",
       "                        if (nbb_cells[i].get_text() == nbb_unformatted_code) {\n",
       "                             nbb_cells[i].set_text(nbb_formatted_code);\n",
       "                        }\n",
       "                        break;\n",
       "                    }\n",
       "                }\n",
       "            }, 500);\n",
       "            "
      ],
      "text/plain": [
       "<IPython.core.display.Javascript object>"
      ]
     },
     "metadata": {},
     "output_type": "display_data"
    }
   ],
   "source": [
    "# reading in each data file\n",
    "# data was obtained from: https://www.kaggle.com/c/talkingdata-mobile-user-demographics/data\n",
    "\n",
    "app_events = pd.read_csv(\"./talkingdata-mobile-user-demographics/app_events.csv.zip\")\n",
    "app_labels = pd.read_csv(\"./talkingdata-mobile-user-demographics/app_labels.csv.zip\")\n",
    "events = pd.read_csv(\"./talkingdata-mobile-user-demographics/events.csv.zip\")\n",
    "gender_age_train = pd.read_csv(\n",
    "    \"./talkingdata-mobile-user-demographics/gender_age_train.csv.zip\"\n",
    ")\n",
    "gender_age_test = pd.read_csv(\n",
    "    \"./talkingdata-mobile-user-demographics/gender_age_test.csv.zip\"\n",
    ")\n",
    "category_labels = pd.read_csv(\n",
    "    \"./talkingdata-mobile-user-demographics/label_categories.csv.zip\"\n",
    ")\n",
    "phone_brand = pd.read_csv(\n",
    "    \"./talkingdata-mobile-user-demographics/phone_brand_device_model.csv.zip\"\n",
    ")"
   ]
  },
  {
   "cell_type": "markdown",
   "metadata": {},
   "source": [
    "# Merging the Data"
   ]
  },
  {
   "cell_type": "code",
   "execution_count": 4,
   "metadata": {},
   "outputs": [
    {
     "data": {
      "text/html": [
       "<div>\n",
       "<style scoped>\n",
       "    .dataframe tbody tr th:only-of-type {\n",
       "        vertical-align: middle;\n",
       "    }\n",
       "\n",
       "    .dataframe tbody tr th {\n",
       "        vertical-align: top;\n",
       "    }\n",
       "\n",
       "    .dataframe thead th {\n",
       "        text-align: right;\n",
       "    }\n",
       "</style>\n",
       "<table border=\"1\" class=\"dataframe\">\n",
       "  <thead>\n",
       "    <tr style=\"text-align: right;\">\n",
       "      <th></th>\n",
       "      <th>event_id</th>\n",
       "      <th>app_id</th>\n",
       "      <th>is_installed</th>\n",
       "      <th>is_active</th>\n",
       "    </tr>\n",
       "  </thead>\n",
       "  <tbody>\n",
       "    <tr>\n",
       "      <th>0</th>\n",
       "      <td>2</td>\n",
       "      <td>5927333115845830913</td>\n",
       "      <td>1</td>\n",
       "      <td>1</td>\n",
       "    </tr>\n",
       "    <tr>\n",
       "      <th>1</th>\n",
       "      <td>2</td>\n",
       "      <td>-5720078949152207372</td>\n",
       "      <td>1</td>\n",
       "      <td>0</td>\n",
       "    </tr>\n",
       "    <tr>\n",
       "      <th>2</th>\n",
       "      <td>2</td>\n",
       "      <td>-1633887856876571208</td>\n",
       "      <td>1</td>\n",
       "      <td>0</td>\n",
       "    </tr>\n",
       "    <tr>\n",
       "      <th>3</th>\n",
       "      <td>2</td>\n",
       "      <td>-653184325010919369</td>\n",
       "      <td>1</td>\n",
       "      <td>1</td>\n",
       "    </tr>\n",
       "    <tr>\n",
       "      <th>4</th>\n",
       "      <td>2</td>\n",
       "      <td>8693964245073640147</td>\n",
       "      <td>1</td>\n",
       "      <td>1</td>\n",
       "    </tr>\n",
       "  </tbody>\n",
       "</table>\n",
       "</div>"
      ],
      "text/plain": [
       "   event_id               app_id  is_installed  is_active\n",
       "0         2  5927333115845830913             1          1\n",
       "1         2 -5720078949152207372             1          0\n",
       "2         2 -1633887856876571208             1          0\n",
       "3         2  -653184325010919369             1          1\n",
       "4         2  8693964245073640147             1          1"
      ]
     },
     "execution_count": 4,
     "metadata": {},
     "output_type": "execute_result"
    },
    {
     "data": {
      "application/javascript": [
       "\n",
       "            setTimeout(function() {\n",
       "                var nbb_cell_id = 4;\n",
       "                var nbb_unformatted_code = \"app_events.head()\";\n",
       "                var nbb_formatted_code = \"app_events.head()\";\n",
       "                var nbb_cells = Jupyter.notebook.get_cells();\n",
       "                for (var i = 0; i < nbb_cells.length; ++i) {\n",
       "                    if (nbb_cells[i].input_prompt_number == nbb_cell_id) {\n",
       "                        if (nbb_cells[i].get_text() == nbb_unformatted_code) {\n",
       "                             nbb_cells[i].set_text(nbb_formatted_code);\n",
       "                        }\n",
       "                        break;\n",
       "                    }\n",
       "                }\n",
       "            }, 500);\n",
       "            "
      ],
      "text/plain": [
       "<IPython.core.display.Javascript object>"
      ]
     },
     "metadata": {},
     "output_type": "display_data"
    }
   ],
   "source": [
    "app_events.head()"
   ]
  },
  {
   "cell_type": "code",
   "execution_count": 5,
   "metadata": {},
   "outputs": [
    {
     "data": {
      "text/html": [
       "<div>\n",
       "<style scoped>\n",
       "    .dataframe tbody tr th:only-of-type {\n",
       "        vertical-align: middle;\n",
       "    }\n",
       "\n",
       "    .dataframe tbody tr th {\n",
       "        vertical-align: top;\n",
       "    }\n",
       "\n",
       "    .dataframe thead th {\n",
       "        text-align: right;\n",
       "    }\n",
       "</style>\n",
       "<table border=\"1\" class=\"dataframe\">\n",
       "  <thead>\n",
       "    <tr style=\"text-align: right;\">\n",
       "      <th></th>\n",
       "      <th>event_id</th>\n",
       "      <th>device_id</th>\n",
       "      <th>timestamp</th>\n",
       "      <th>longitude</th>\n",
       "      <th>latitude</th>\n",
       "    </tr>\n",
       "  </thead>\n",
       "  <tbody>\n",
       "    <tr>\n",
       "      <th>0</th>\n",
       "      <td>1</td>\n",
       "      <td>29182687948017175</td>\n",
       "      <td>2016-05-01 00:55:25</td>\n",
       "      <td>121.38</td>\n",
       "      <td>31.24</td>\n",
       "    </tr>\n",
       "    <tr>\n",
       "      <th>1</th>\n",
       "      <td>2</td>\n",
       "      <td>-6401643145415154744</td>\n",
       "      <td>2016-05-01 00:54:12</td>\n",
       "      <td>103.65</td>\n",
       "      <td>30.97</td>\n",
       "    </tr>\n",
       "    <tr>\n",
       "      <th>2</th>\n",
       "      <td>3</td>\n",
       "      <td>-4833982096941402721</td>\n",
       "      <td>2016-05-01 00:08:05</td>\n",
       "      <td>106.60</td>\n",
       "      <td>29.70</td>\n",
       "    </tr>\n",
       "    <tr>\n",
       "      <th>3</th>\n",
       "      <td>4</td>\n",
       "      <td>-6815121365017318426</td>\n",
       "      <td>2016-05-01 00:06:40</td>\n",
       "      <td>104.27</td>\n",
       "      <td>23.28</td>\n",
       "    </tr>\n",
       "    <tr>\n",
       "      <th>4</th>\n",
       "      <td>5</td>\n",
       "      <td>-5373797595892518570</td>\n",
       "      <td>2016-05-01 00:07:18</td>\n",
       "      <td>115.88</td>\n",
       "      <td>28.66</td>\n",
       "    </tr>\n",
       "  </tbody>\n",
       "</table>\n",
       "</div>"
      ],
      "text/plain": [
       "   event_id            device_id            timestamp  longitude  latitude\n",
       "0         1    29182687948017175  2016-05-01 00:55:25     121.38     31.24\n",
       "1         2 -6401643145415154744  2016-05-01 00:54:12     103.65     30.97\n",
       "2         3 -4833982096941402721  2016-05-01 00:08:05     106.60     29.70\n",
       "3         4 -6815121365017318426  2016-05-01 00:06:40     104.27     23.28\n",
       "4         5 -5373797595892518570  2016-05-01 00:07:18     115.88     28.66"
      ]
     },
     "execution_count": 5,
     "metadata": {},
     "output_type": "execute_result"
    },
    {
     "data": {
      "application/javascript": [
       "\n",
       "            setTimeout(function() {\n",
       "                var nbb_cell_id = 5;\n",
       "                var nbb_unformatted_code = \"events.head()\";\n",
       "                var nbb_formatted_code = \"events.head()\";\n",
       "                var nbb_cells = Jupyter.notebook.get_cells();\n",
       "                for (var i = 0; i < nbb_cells.length; ++i) {\n",
       "                    if (nbb_cells[i].input_prompt_number == nbb_cell_id) {\n",
       "                        if (nbb_cells[i].get_text() == nbb_unformatted_code) {\n",
       "                             nbb_cells[i].set_text(nbb_formatted_code);\n",
       "                        }\n",
       "                        break;\n",
       "                    }\n",
       "                }\n",
       "            }, 500);\n",
       "            "
      ],
      "text/plain": [
       "<IPython.core.display.Javascript object>"
      ]
     },
     "metadata": {},
     "output_type": "display_data"
    }
   ],
   "source": [
    "events.head()"
   ]
  },
  {
   "cell_type": "code",
   "execution_count": 6,
   "metadata": {},
   "outputs": [
    {
     "data": {
      "text/html": [
       "<div>\n",
       "<style scoped>\n",
       "    .dataframe tbody tr th:only-of-type {\n",
       "        vertical-align: middle;\n",
       "    }\n",
       "\n",
       "    .dataframe tbody tr th {\n",
       "        vertical-align: top;\n",
       "    }\n",
       "\n",
       "    .dataframe thead th {\n",
       "        text-align: right;\n",
       "    }\n",
       "</style>\n",
       "<table border=\"1\" class=\"dataframe\">\n",
       "  <thead>\n",
       "    <tr style=\"text-align: right;\">\n",
       "      <th></th>\n",
       "      <th>app_id</th>\n",
       "      <th>label_id</th>\n",
       "    </tr>\n",
       "  </thead>\n",
       "  <tbody>\n",
       "    <tr>\n",
       "      <th>0</th>\n",
       "      <td>7324884708820027918</td>\n",
       "      <td>251</td>\n",
       "    </tr>\n",
       "    <tr>\n",
       "      <th>1</th>\n",
       "      <td>-4494216993218550286</td>\n",
       "      <td>251</td>\n",
       "    </tr>\n",
       "    <tr>\n",
       "      <th>2</th>\n",
       "      <td>6058196446775239644</td>\n",
       "      <td>406</td>\n",
       "    </tr>\n",
       "    <tr>\n",
       "      <th>3</th>\n",
       "      <td>6058196446775239644</td>\n",
       "      <td>407</td>\n",
       "    </tr>\n",
       "    <tr>\n",
       "      <th>4</th>\n",
       "      <td>8694625920731541625</td>\n",
       "      <td>406</td>\n",
       "    </tr>\n",
       "  </tbody>\n",
       "</table>\n",
       "</div>"
      ],
      "text/plain": [
       "                app_id  label_id\n",
       "0  7324884708820027918       251\n",
       "1 -4494216993218550286       251\n",
       "2  6058196446775239644       406\n",
       "3  6058196446775239644       407\n",
       "4  8694625920731541625       406"
      ]
     },
     "execution_count": 6,
     "metadata": {},
     "output_type": "execute_result"
    },
    {
     "data": {
      "application/javascript": [
       "\n",
       "            setTimeout(function() {\n",
       "                var nbb_cell_id = 6;\n",
       "                var nbb_unformatted_code = \"app_labels.head()\";\n",
       "                var nbb_formatted_code = \"app_labels.head()\";\n",
       "                var nbb_cells = Jupyter.notebook.get_cells();\n",
       "                for (var i = 0; i < nbb_cells.length; ++i) {\n",
       "                    if (nbb_cells[i].input_prompt_number == nbb_cell_id) {\n",
       "                        if (nbb_cells[i].get_text() == nbb_unformatted_code) {\n",
       "                             nbb_cells[i].set_text(nbb_formatted_code);\n",
       "                        }\n",
       "                        break;\n",
       "                    }\n",
       "                }\n",
       "            }, 500);\n",
       "            "
      ],
      "text/plain": [
       "<IPython.core.display.Javascript object>"
      ]
     },
     "metadata": {},
     "output_type": "display_data"
    }
   ],
   "source": [
    "app_labels.head()"
   ]
  },
  {
   "cell_type": "code",
   "execution_count": 7,
   "metadata": {},
   "outputs": [
    {
     "data": {
      "text/html": [
       "<div>\n",
       "<style scoped>\n",
       "    .dataframe tbody tr th:only-of-type {\n",
       "        vertical-align: middle;\n",
       "    }\n",
       "\n",
       "    .dataframe tbody tr th {\n",
       "        vertical-align: top;\n",
       "    }\n",
       "\n",
       "    .dataframe thead th {\n",
       "        text-align: right;\n",
       "    }\n",
       "</style>\n",
       "<table border=\"1\" class=\"dataframe\">\n",
       "  <thead>\n",
       "    <tr style=\"text-align: right;\">\n",
       "      <th></th>\n",
       "      <th>label_id</th>\n",
       "      <th>category</th>\n",
       "    </tr>\n",
       "  </thead>\n",
       "  <tbody>\n",
       "    <tr>\n",
       "      <th>0</th>\n",
       "      <td>1</td>\n",
       "      <td>NaN</td>\n",
       "    </tr>\n",
       "    <tr>\n",
       "      <th>1</th>\n",
       "      <td>2</td>\n",
       "      <td>game-game type</td>\n",
       "    </tr>\n",
       "    <tr>\n",
       "      <th>2</th>\n",
       "      <td>3</td>\n",
       "      <td>game-Game themes</td>\n",
       "    </tr>\n",
       "    <tr>\n",
       "      <th>3</th>\n",
       "      <td>4</td>\n",
       "      <td>game-Art Style</td>\n",
       "    </tr>\n",
       "    <tr>\n",
       "      <th>4</th>\n",
       "      <td>5</td>\n",
       "      <td>game-Leisure time</td>\n",
       "    </tr>\n",
       "  </tbody>\n",
       "</table>\n",
       "</div>"
      ],
      "text/plain": [
       "   label_id           category\n",
       "0         1                NaN\n",
       "1         2     game-game type\n",
       "2         3   game-Game themes\n",
       "3         4     game-Art Style\n",
       "4         5  game-Leisure time"
      ]
     },
     "execution_count": 7,
     "metadata": {},
     "output_type": "execute_result"
    },
    {
     "data": {
      "application/javascript": [
       "\n",
       "            setTimeout(function() {\n",
       "                var nbb_cell_id = 7;\n",
       "                var nbb_unformatted_code = \"category_labels.head()\";\n",
       "                var nbb_formatted_code = \"category_labels.head()\";\n",
       "                var nbb_cells = Jupyter.notebook.get_cells();\n",
       "                for (var i = 0; i < nbb_cells.length; ++i) {\n",
       "                    if (nbb_cells[i].input_prompt_number == nbb_cell_id) {\n",
       "                        if (nbb_cells[i].get_text() == nbb_unformatted_code) {\n",
       "                             nbb_cells[i].set_text(nbb_formatted_code);\n",
       "                        }\n",
       "                        break;\n",
       "                    }\n",
       "                }\n",
       "            }, 500);\n",
       "            "
      ],
      "text/plain": [
       "<IPython.core.display.Javascript object>"
      ]
     },
     "metadata": {},
     "output_type": "display_data"
    }
   ],
   "source": [
    "category_labels.head()"
   ]
  },
  {
   "cell_type": "code",
   "execution_count": 8,
   "metadata": {},
   "outputs": [
    {
     "data": {
      "text/html": [
       "<div>\n",
       "<style scoped>\n",
       "    .dataframe tbody tr th:only-of-type {\n",
       "        vertical-align: middle;\n",
       "    }\n",
       "\n",
       "    .dataframe tbody tr th {\n",
       "        vertical-align: top;\n",
       "    }\n",
       "\n",
       "    .dataframe thead th {\n",
       "        text-align: right;\n",
       "    }\n",
       "</style>\n",
       "<table border=\"1\" class=\"dataframe\">\n",
       "  <thead>\n",
       "    <tr style=\"text-align: right;\">\n",
       "      <th></th>\n",
       "      <th>device_id</th>\n",
       "      <th>gender</th>\n",
       "      <th>age</th>\n",
       "      <th>group</th>\n",
       "    </tr>\n",
       "  </thead>\n",
       "  <tbody>\n",
       "    <tr>\n",
       "      <th>0</th>\n",
       "      <td>-8076087639492063270</td>\n",
       "      <td>M</td>\n",
       "      <td>35</td>\n",
       "      <td>M32-38</td>\n",
       "    </tr>\n",
       "    <tr>\n",
       "      <th>1</th>\n",
       "      <td>-2897161552818060146</td>\n",
       "      <td>M</td>\n",
       "      <td>35</td>\n",
       "      <td>M32-38</td>\n",
       "    </tr>\n",
       "    <tr>\n",
       "      <th>2</th>\n",
       "      <td>-8260683887967679142</td>\n",
       "      <td>M</td>\n",
       "      <td>35</td>\n",
       "      <td>M32-38</td>\n",
       "    </tr>\n",
       "    <tr>\n",
       "      <th>3</th>\n",
       "      <td>-4938849341048082022</td>\n",
       "      <td>M</td>\n",
       "      <td>30</td>\n",
       "      <td>M29-31</td>\n",
       "    </tr>\n",
       "    <tr>\n",
       "      <th>4</th>\n",
       "      <td>245133531816851882</td>\n",
       "      <td>M</td>\n",
       "      <td>30</td>\n",
       "      <td>M29-31</td>\n",
       "    </tr>\n",
       "  </tbody>\n",
       "</table>\n",
       "</div>"
      ],
      "text/plain": [
       "             device_id gender  age   group\n",
       "0 -8076087639492063270      M   35  M32-38\n",
       "1 -2897161552818060146      M   35  M32-38\n",
       "2 -8260683887967679142      M   35  M32-38\n",
       "3 -4938849341048082022      M   30  M29-31\n",
       "4   245133531816851882      M   30  M29-31"
      ]
     },
     "execution_count": 8,
     "metadata": {},
     "output_type": "execute_result"
    },
    {
     "data": {
      "application/javascript": [
       "\n",
       "            setTimeout(function() {\n",
       "                var nbb_cell_id = 8;\n",
       "                var nbb_unformatted_code = \"gender_age_train.head()\";\n",
       "                var nbb_formatted_code = \"gender_age_train.head()\";\n",
       "                var nbb_cells = Jupyter.notebook.get_cells();\n",
       "                for (var i = 0; i < nbb_cells.length; ++i) {\n",
       "                    if (nbb_cells[i].input_prompt_number == nbb_cell_id) {\n",
       "                        if (nbb_cells[i].get_text() == nbb_unformatted_code) {\n",
       "                             nbb_cells[i].set_text(nbb_formatted_code);\n",
       "                        }\n",
       "                        break;\n",
       "                    }\n",
       "                }\n",
       "            }, 500);\n",
       "            "
      ],
      "text/plain": [
       "<IPython.core.display.Javascript object>"
      ]
     },
     "metadata": {},
     "output_type": "display_data"
    }
   ],
   "source": [
    "gender_age_train.head()"
   ]
  },
  {
   "cell_type": "code",
   "execution_count": 9,
   "metadata": {},
   "outputs": [
    {
     "data": {
      "text/html": [
       "<div>\n",
       "<style scoped>\n",
       "    .dataframe tbody tr th:only-of-type {\n",
       "        vertical-align: middle;\n",
       "    }\n",
       "\n",
       "    .dataframe tbody tr th {\n",
       "        vertical-align: top;\n",
       "    }\n",
       "\n",
       "    .dataframe thead th {\n",
       "        text-align: right;\n",
       "    }\n",
       "</style>\n",
       "<table border=\"1\" class=\"dataframe\">\n",
       "  <thead>\n",
       "    <tr style=\"text-align: right;\">\n",
       "      <th></th>\n",
       "      <th>device_id</th>\n",
       "      <th>phone_brand</th>\n",
       "      <th>device_model</th>\n",
       "    </tr>\n",
       "  </thead>\n",
       "  <tbody>\n",
       "    <tr>\n",
       "      <th>0</th>\n",
       "      <td>-8890648629457979026</td>\n",
       "      <td>小米</td>\n",
       "      <td>红米</td>\n",
       "    </tr>\n",
       "    <tr>\n",
       "      <th>1</th>\n",
       "      <td>1277779817574759137</td>\n",
       "      <td>小米</td>\n",
       "      <td>MI 2</td>\n",
       "    </tr>\n",
       "    <tr>\n",
       "      <th>2</th>\n",
       "      <td>5137427614288105724</td>\n",
       "      <td>三星</td>\n",
       "      <td>Galaxy S4</td>\n",
       "    </tr>\n",
       "    <tr>\n",
       "      <th>3</th>\n",
       "      <td>3669464369358936369</td>\n",
       "      <td>SUGAR</td>\n",
       "      <td>时尚手机</td>\n",
       "    </tr>\n",
       "    <tr>\n",
       "      <th>4</th>\n",
       "      <td>-5019277647504317457</td>\n",
       "      <td>三星</td>\n",
       "      <td>Galaxy Note 2</td>\n",
       "    </tr>\n",
       "  </tbody>\n",
       "</table>\n",
       "</div>"
      ],
      "text/plain": [
       "             device_id phone_brand   device_model\n",
       "0 -8890648629457979026          小米             红米\n",
       "1  1277779817574759137          小米           MI 2\n",
       "2  5137427614288105724          三星      Galaxy S4\n",
       "3  3669464369358936369       SUGAR           时尚手机\n",
       "4 -5019277647504317457          三星  Galaxy Note 2"
      ]
     },
     "execution_count": 9,
     "metadata": {},
     "output_type": "execute_result"
    },
    {
     "data": {
      "application/javascript": [
       "\n",
       "            setTimeout(function() {\n",
       "                var nbb_cell_id = 9;\n",
       "                var nbb_unformatted_code = \"# \\u4e09\\u661f samsung\\n# \\u5929\\u8bed Ktouch\\n# \\u6d77\\u4fe1 hisense\\n# \\u8054\\u60f3 lenovo\\n# \\u6b27\\u6bd4 obi\\n# \\u7231\\u6d3e\\u5c14 ipair\\n# \\u52aa\\u6bd4\\u4e9a nubia\\n# \\u4f18\\u7c73 youmi\\n# \\u6735\\u552f dowe\\n# \\u9ed1\\u7c73 heymi\\n# \\u9524\\u5b50 hammer\\n# \\u9177\\u6bd4\\u9b54\\u65b9 koobee\\n# \\u7f8e\\u56fe meitu\\n# \\u5c3c\\u6bd4\\u9c81 nibilu\\n# \\u4e00\\u52a0 oneplus\\n# \\u4f18\\u8d2d yougo\\n# \\u8bfa\\u57fa\\u4e9a nokia\\n# \\u7cd6\\u846b\\u82a6 candy\\n# \\u4e2d\\u56fd\\u79fb\\u52a8 ccmc\\n# \\u8bed\\u4fe1 yuxin\\n# \\u57fa\\u4f0d kiwu\\n# \\u9752\\u6a59 greeno\\n# \\u534e\\u7855 asus\\n# \\u590f\\u65b0 panosonic\\n# \\u7ef4\\u56fe weitu\\n# \\u827e\\u4f18\\u5c3c aiyouni\\n# \\u6469\\u6258\\u7f57\\u62c9 moto\\n# \\u4e61\\u7c73 xiangmi\\n# \\u7c73\\u5947 micky\\n# \\u5927\\u53ef\\u4e50 bigcola\\n# \\u6c83\\u666e\\u4e30 wpf\\n# \\u795e\\u821f hasse\\n# \\u6469\\u4e50 mole\\n# \\u98de\\u79d2 fs\\n# \\u7c73\\u6b4c mige\\n# \\u5bcc\\u53ef\\u89c6 fks\\n# \\u5fb7\\u8d5b desci\\n# \\u68a6\\u7c73 mengmi\\n# \\u4e50\\u89c6 lshi\\n# \\u5c0f\\u6768\\u6811 smallt\\n# \\u7ebd\\u66fc newman\\n# \\u90a6\\u534e banghua\\n# E\\u6d3e epai\\n# \\u6613\\u6d3e epai\\n# \\u666e\\u8010\\u5c14 pner\\n# \\u6b27\\u65b0 ouxin\\n# \\u897f\\u7c73 ximi\\n# \\u6d77\\u5c14 haier\\n# \\u6ce2\\u5bfc bodao\\n# \\u7cef\\u7c73 nuomi\\n# \\u552f\\u7c73 weimi\\n# \\u9177\\u73c0 kupo\\n# \\u8c37\\u6b4c google\\n# \\u6602\\u8fbe ada\\n# \\u8046\\u97f5 lingyun\\n# Will use dictionary to convert to English\\nphone_brand.head()\";\n",
       "                var nbb_formatted_code = \"# \\u4e09\\u661f samsung\\n# \\u5929\\u8bed Ktouch\\n# \\u6d77\\u4fe1 hisense\\n# \\u8054\\u60f3 lenovo\\n# \\u6b27\\u6bd4 obi\\n# \\u7231\\u6d3e\\u5c14 ipair\\n# \\u52aa\\u6bd4\\u4e9a nubia\\n# \\u4f18\\u7c73 youmi\\n# \\u6735\\u552f dowe\\n# \\u9ed1\\u7c73 heymi\\n# \\u9524\\u5b50 hammer\\n# \\u9177\\u6bd4\\u9b54\\u65b9 koobee\\n# \\u7f8e\\u56fe meitu\\n# \\u5c3c\\u6bd4\\u9c81 nibilu\\n# \\u4e00\\u52a0 oneplus\\n# \\u4f18\\u8d2d yougo\\n# \\u8bfa\\u57fa\\u4e9a nokia\\n# \\u7cd6\\u846b\\u82a6 candy\\n# \\u4e2d\\u56fd\\u79fb\\u52a8 ccmc\\n# \\u8bed\\u4fe1 yuxin\\n# \\u57fa\\u4f0d kiwu\\n# \\u9752\\u6a59 greeno\\n# \\u534e\\u7855 asus\\n# \\u590f\\u65b0 panosonic\\n# \\u7ef4\\u56fe weitu\\n# \\u827e\\u4f18\\u5c3c aiyouni\\n# \\u6469\\u6258\\u7f57\\u62c9 moto\\n# \\u4e61\\u7c73 xiangmi\\n# \\u7c73\\u5947 micky\\n# \\u5927\\u53ef\\u4e50 bigcola\\n# \\u6c83\\u666e\\u4e30 wpf\\n# \\u795e\\u821f hasse\\n# \\u6469\\u4e50 mole\\n# \\u98de\\u79d2 fs\\n# \\u7c73\\u6b4c mige\\n# \\u5bcc\\u53ef\\u89c6 fks\\n# \\u5fb7\\u8d5b desci\\n# \\u68a6\\u7c73 mengmi\\n# \\u4e50\\u89c6 lshi\\n# \\u5c0f\\u6768\\u6811 smallt\\n# \\u7ebd\\u66fc newman\\n# \\u90a6\\u534e banghua\\n# E\\u6d3e epai\\n# \\u6613\\u6d3e epai\\n# \\u666e\\u8010\\u5c14 pner\\n# \\u6b27\\u65b0 ouxin\\n# \\u897f\\u7c73 ximi\\n# \\u6d77\\u5c14 haier\\n# \\u6ce2\\u5bfc bodao\\n# \\u7cef\\u7c73 nuomi\\n# \\u552f\\u7c73 weimi\\n# \\u9177\\u73c0 kupo\\n# \\u8c37\\u6b4c google\\n# \\u6602\\u8fbe ada\\n# \\u8046\\u97f5 lingyun\\n# Will use dictionary to convert to English\\nphone_brand.head()\";\n",
       "                var nbb_cells = Jupyter.notebook.get_cells();\n",
       "                for (var i = 0; i < nbb_cells.length; ++i) {\n",
       "                    if (nbb_cells[i].input_prompt_number == nbb_cell_id) {\n",
       "                        if (nbb_cells[i].get_text() == nbb_unformatted_code) {\n",
       "                             nbb_cells[i].set_text(nbb_formatted_code);\n",
       "                        }\n",
       "                        break;\n",
       "                    }\n",
       "                }\n",
       "            }, 500);\n",
       "            "
      ],
      "text/plain": [
       "<IPython.core.display.Javascript object>"
      ]
     },
     "metadata": {},
     "output_type": "display_data"
    }
   ],
   "source": [
    "# 三星 samsung\n",
    "# 天语 Ktouch\n",
    "# 海信 hisense\n",
    "# 联想 lenovo\n",
    "# 欧比 obi\n",
    "# 爱派尔 ipair\n",
    "# 努比亚 nubia\n",
    "# 优米 youmi\n",
    "# 朵唯 dowe\n",
    "# 黑米 heymi\n",
    "# 锤子 hammer\n",
    "# 酷比魔方 koobee\n",
    "# 美图 meitu\n",
    "# 尼比鲁 nibilu\n",
    "# 一加 oneplus\n",
    "# 优购 yougo\n",
    "# 诺基亚 nokia\n",
    "# 糖葫芦 candy\n",
    "# 中国移动 ccmc\n",
    "# 语信 yuxin\n",
    "# 基伍 kiwu\n",
    "# 青橙 greeno\n",
    "# 华硕 asus\n",
    "# 夏新 panosonic\n",
    "# 维图 weitu\n",
    "# 艾优尼 aiyouni\n",
    "# 摩托罗拉 moto\n",
    "# 乡米 xiangmi\n",
    "# 米奇 micky\n",
    "# 大可乐 bigcola\n",
    "# 沃普丰 wpf\n",
    "# 神舟 hasse\n",
    "# 摩乐 mole\n",
    "# 飞秒 fs\n",
    "# 米歌 mige\n",
    "# 富可视 fks\n",
    "# 德赛 desci\n",
    "# 梦米 mengmi\n",
    "# 乐视 lshi\n",
    "# 小杨树 smallt\n",
    "# 纽曼 newman\n",
    "# 邦华 banghua\n",
    "# E派 epai\n",
    "# 易派 epai\n",
    "# 普耐尔 pner\n",
    "# 欧新 ouxin\n",
    "# 西米 ximi\n",
    "# 海尔 haier\n",
    "# 波导 bodao\n",
    "# 糯米 nuomi\n",
    "# 唯米 weimi\n",
    "# 酷珀 kupo\n",
    "# 谷歌 google\n",
    "# 昂达 ada\n",
    "# 聆韵 lingyun\n",
    "# Will use dictionary to convert to English\n",
    "phone_brand.head()"
   ]
  },
  {
   "cell_type": "code",
   "execution_count": 10,
   "metadata": {},
   "outputs": [
    {
     "data": {
      "application/javascript": [
       "\n",
       "            setTimeout(function() {\n",
       "                var nbb_cell_id = 10;\n",
       "                var nbb_unformatted_code = \"# Merging app_events and event_id through event_id column\\nmerged_events = pd.merge(app_events, events, on=\\\"event_id\\\")\";\n",
       "                var nbb_formatted_code = \"# Merging app_events and event_id through event_id column\\nmerged_events = pd.merge(app_events, events, on=\\\"event_id\\\")\";\n",
       "                var nbb_cells = Jupyter.notebook.get_cells();\n",
       "                for (var i = 0; i < nbb_cells.length; ++i) {\n",
       "                    if (nbb_cells[i].input_prompt_number == nbb_cell_id) {\n",
       "                        if (nbb_cells[i].get_text() == nbb_unformatted_code) {\n",
       "                             nbb_cells[i].set_text(nbb_formatted_code);\n",
       "                        }\n",
       "                        break;\n",
       "                    }\n",
       "                }\n",
       "            }, 500);\n",
       "            "
      ],
      "text/plain": [
       "<IPython.core.display.Javascript object>"
      ]
     },
     "metadata": {},
     "output_type": "display_data"
    }
   ],
   "source": [
    "# Merging app_events and event_id through event_id column\n",
    "merged_events = pd.merge(app_events, events, on=\"event_id\")"
   ]
  },
  {
   "cell_type": "code",
   "execution_count": 11,
   "metadata": {},
   "outputs": [
    {
     "data": {
      "application/javascript": [
       "\n",
       "            setTimeout(function() {\n",
       "                var nbb_cell_id = 11;\n",
       "                var nbb_unformatted_code = \"# Merging app_labels and category_labels through label_id\\nmerged_apps = pd.merge(app_labels, category_labels, on=\\\"label_id\\\")\";\n",
       "                var nbb_formatted_code = \"# Merging app_labels and category_labels through label_id\\nmerged_apps = pd.merge(app_labels, category_labels, on=\\\"label_id\\\")\";\n",
       "                var nbb_cells = Jupyter.notebook.get_cells();\n",
       "                for (var i = 0; i < nbb_cells.length; ++i) {\n",
       "                    if (nbb_cells[i].input_prompt_number == nbb_cell_id) {\n",
       "                        if (nbb_cells[i].get_text() == nbb_unformatted_code) {\n",
       "                             nbb_cells[i].set_text(nbb_formatted_code);\n",
       "                        }\n",
       "                        break;\n",
       "                    }\n",
       "                }\n",
       "            }, 500);\n",
       "            "
      ],
      "text/plain": [
       "<IPython.core.display.Javascript object>"
      ]
     },
     "metadata": {},
     "output_type": "display_data"
    }
   ],
   "source": [
    "# Merging app_labels and category_labels through label_id\n",
    "merged_apps = pd.merge(app_labels, category_labels, on=\"label_id\")"
   ]
  },
  {
   "cell_type": "code",
   "execution_count": 12,
   "metadata": {},
   "outputs": [
    {
     "data": {
      "application/javascript": [
       "\n",
       "            setTimeout(function() {\n",
       "                var nbb_cell_id = 12;\n",
       "                var nbb_unformatted_code = \"# Merging previous merged data tables together to make larger data frame\\nmerged_events_apps = pd.merge(merged_events, merged_apps, on=\\\"app_id\\\")\";\n",
       "                var nbb_formatted_code = \"# Merging previous merged data tables together to make larger data frame\\nmerged_events_apps = pd.merge(merged_events, merged_apps, on=\\\"app_id\\\")\";\n",
       "                var nbb_cells = Jupyter.notebook.get_cells();\n",
       "                for (var i = 0; i < nbb_cells.length; ++i) {\n",
       "                    if (nbb_cells[i].input_prompt_number == nbb_cell_id) {\n",
       "                        if (nbb_cells[i].get_text() == nbb_unformatted_code) {\n",
       "                             nbb_cells[i].set_text(nbb_formatted_code);\n",
       "                        }\n",
       "                        break;\n",
       "                    }\n",
       "                }\n",
       "            }, 500);\n",
       "            "
      ],
      "text/plain": [
       "<IPython.core.display.Javascript object>"
      ]
     },
     "metadata": {},
     "output_type": "display_data"
    }
   ],
   "source": [
    "# Merging previous merged data tables together to make larger data frame\n",
    "merged_events_apps = pd.merge(merged_events, merged_apps, on=\"app_id\")"
   ]
  },
  {
   "cell_type": "code",
   "execution_count": null,
   "metadata": {},
   "outputs": [],
   "source": [
    "# Adding phone brand to merged_events_apps through device_id merge\n",
    "merged_events_apps_brands = pd.merge(merged_events_apps, phone_brand, on=\"device_id\")"
   ]
  },
  {
   "cell_type": "code",
   "execution_count": null,
   "metadata": {},
   "outputs": [],
   "source": [
    "# Creating final data frame by merging gender and age with previous dataframe\n",
    "final_df = pd.merge(merged_events_apps_brands, gender_age_train, on=\"device_id\")\n",
    "final_df.head()"
   ]
  },
  {
   "cell_type": "markdown",
   "metadata": {},
   "source": [
    "# Converting Phone Brands to English"
   ]
  },
  {
   "cell_type": "code",
   "execution_count": null,
   "metadata": {},
   "outputs": [],
   "source": [
    "to_english = {\n",
    "    \"华为\": \"huawei\",  # manually translated and entered\n",
    "    \"小米\": \"xiaomi\",  # manually translated and entered\n",
    "    \"魅族\": \"meizu\",  # manually translated and entered\n",
    "    \"vivo\": \"vivo\",  # manually translated and entered\n",
    "    \"酷派\": \"coolpad\",  # manually translated and entered\n",
    "    \"索尼\": \"sony\",  # manually translated and entered\n",
    "    \"OPPO\": \"oppo\",  # manually translated and entered\n",
    "    \"LG\": \"lg\",  # manually translated and entered\n",
    "    \"HTC\": \"htc\",  # manually translated and entered\n",
    "    \"金立\": \"gionee\",  # manually translated and entered\n",
    "    \"中兴\": \"zte\",  # manually translated and entered\n",
    "    \"奇酷\": \"qiku\",  # manually translated and entered\n",
    "    \"TCL\": \"tcl\",  # manually translated and entered\n",
    "    \"三星\": \"samsung\",\n",
    "    \"天语\": \"Ktouch\",\n",
    "    \"海信\": \"hisense\",\n",
    "    \"联想\": \"lenovo\",\n",
    "    \"欧比\": \"obi\",\n",
    "    \"爱派尔\": \"ipair\",\n",
    "    \"努比亚\": \"nubia\",\n",
    "    \"优米\": \"youmi\",\n",
    "    \"朵唯\": \"dowe\",\n",
    "    \"黑米\": \"heymi\",\n",
    "    \"锤子\": \"hammer\",\n",
    "    \"酷比魔方\": \"koobee\",\n",
    "    \"美图\": \"meitu\",\n",
    "    \"尼比鲁\": \"nibilu\",\n",
    "    \"一加\": \"oneplus\",\n",
    "    \"优购\": \"yougo\",\n",
    "    \"诺基亚\": \"nokia\",\n",
    "    \"糖葫芦\": \"candy\",\n",
    "    \"中国移动\": \"ccmc\",\n",
    "    \"语信\": \"yuxin\",\n",
    "    \"基伍\": \"kiwu\",\n",
    "    \"青橙\": \"greeno\",\n",
    "    \"华硕\": \"asus\",\n",
    "    \"夏新\": \"panosonic\",\n",
    "    \"维图\": \"weitu\",\n",
    "    \"艾优尼\": \"aiyouni\",\n",
    "    \"摩托罗拉\": \"moto\",\n",
    "    \"乡米\": \"xiangmi\",\n",
    "    \"米奇\": \"micky\",\n",
    "    \"大可乐\": \"bigcola\",\n",
    "    \"沃普丰\": \"wpf\",\n",
    "    \"神舟\": \"hasse\",\n",
    "    \"摩乐\": \"mole\",\n",
    "    \"飞秒\": \"fs\",\n",
    "    \"米歌\": \"mige\",\n",
    "    \"富可视\": \"fks\",\n",
    "    \"德赛\": \"desci\",\n",
    "    \"梦米\": \"mengmi\",\n",
    "    \"乐视\": \"lshi\",\n",
    "    \"小杨树\": \"smallt\",\n",
    "    \"纽曼\": \"newman\",\n",
    "    \"邦华\": \"banghua\",\n",
    "    \"E派\": \"epai\",\n",
    "    \"易派\": \"epai\",\n",
    "    \"普耐尔\": \"pner\",\n",
    "    \"欧新\": \"ouxin\",\n",
    "    \"西米\": \"ximi\",\n",
    "    \"海尔\": \"haier\",\n",
    "    \"波导\": \"bodao\",\n",
    "    \"糯米\": \"nuomi\",\n",
    "    \"唯米\": \"weimi\",\n",
    "    \"酷珀\": \"kupo\",\n",
    "    \"谷歌\": \"google\",\n",
    "    \"昂达\": \"ada\",\n",
    "    \"聆韵\": \"lingyun\",\n",
    "}"
   ]
  },
  {
   "cell_type": "code",
   "execution_count": null,
   "metadata": {},
   "outputs": [],
   "source": [
    "# Created new column for phone brand, can now drop old phone_brand column\n",
    "final_df[\"english_phone_brand\"] = final_df[\"phone_brand\"].map(to_english)\n",
    "final_df = final_df.drop(columns=[\"phone_brand\"])"
   ]
  },
  {
   "cell_type": "markdown",
   "metadata": {},
   "source": [
    "# Examining the Features"
   ]
  },
  {
   "cell_type": "code",
   "execution_count": null,
   "metadata": {},
   "outputs": [],
   "source": [
    "# Checking for missing values\n",
    "# For the english_phone_brand column it appears less than 1% of data is missing, so drop the missing data\n",
    "final_df.isna().mean()"
   ]
  },
  {
   "cell_type": "code",
   "execution_count": null,
   "metadata": {},
   "outputs": [],
   "source": [
    "final_df = final_df.dropna()"
   ]
  },
  {
   "cell_type": "code",
   "execution_count": null,
   "metadata": {},
   "outputs": [],
   "source": [
    "# Checking the shape of the dataframe\n",
    "# A little under 80 million rows, this could lead to longer execution time\n",
    "# Will consider using Dask\n",
    "final_df.shape"
   ]
  },
  {
   "cell_type": "code",
   "execution_count": null,
   "metadata": {},
   "outputs": [],
   "source": [
    "# Checking data types of each column\n",
    "# timestamp is an object type,\n",
    "# convert timestamp to datetime type\n",
    "final_df.dtypes"
   ]
  },
  {
   "cell_type": "code",
   "execution_count": null,
   "metadata": {},
   "outputs": [],
   "source": [
    "final_df[\"timestamp\"] = pd.to_datetime(final_df[\"timestamp\"])"
   ]
  },
  {
   "cell_type": "markdown",
   "metadata": {},
   "source": [
    "# Checking for Sufficient Amount of Values"
   ]
  },
  {
   "cell_type": "code",
   "execution_count": null,
   "metadata": {},
   "outputs": [],
   "source": [
    "# pd.set_option(\"display.max_rows\", None)"
   ]
  },
  {
   "cell_type": "code",
   "execution_count": null,
   "metadata": {},
   "outputs": [],
   "source": [
    "# Only want to keep event_id with enough data,\n",
    "# Drop event_id rows with < 100 values\n",
    "final_df[\"event_id\"].value_counts()"
   ]
  },
  {
   "cell_type": "code",
   "execution_count": null,
   "metadata": {},
   "outputs": [],
   "source": [
    "count = final_df[\"event_id\"].value_counts()\n",
    "keep = count[count >= 100].index\n",
    "final_df = final_df[final_df[\"event_id\"].isin(keep)]"
   ]
  },
  {
   "cell_type": "code",
   "execution_count": null,
   "metadata": {},
   "outputs": [],
   "source": [
    "# Only want to keep app_id values with enough data,\n",
    "# Drop app_id rows with < 1000 values\n",
    "final_df[\"app_id\"].value_counts()"
   ]
  },
  {
   "cell_type": "code",
   "execution_count": null,
   "metadata": {},
   "outputs": [],
   "source": [
    "count = final_df[\"app_id\"].value_counts()\n",
    "keep = count[count >= 1000].index\n",
    "final_df = final_df[final_df[\"app_id\"].isin(keep)]"
   ]
  },
  {
   "cell_type": "code",
   "execution_count": null,
   "metadata": {},
   "outputs": [],
   "source": [
    "# Since this column only has one unique value, it does not seem important to keep for analysis,\n",
    "# Will drop this column.\n",
    "final_df[\"is_installed\"].value_counts()"
   ]
  },
  {
   "cell_type": "code",
   "execution_count": null,
   "metadata": {},
   "outputs": [],
   "source": [
    "# Appears to be enough information for each value\n",
    "# Will leave this column alone.\n",
    "final_df[\"is_active\"].value_counts()"
   ]
  },
  {
   "cell_type": "code",
   "execution_count": null,
   "metadata": {},
   "outputs": [],
   "source": [
    "# Only want to keep device_id values with enough data,\n",
    "# Drop device_id rows with < 1000 values\n",
    "final_df[\"device_id\"].value_counts()"
   ]
  },
  {
   "cell_type": "code",
   "execution_count": null,
   "metadata": {},
   "outputs": [],
   "source": [
    "count = final_df[\"device_id\"].value_counts()\n",
    "keep = count[count >= 1000].index\n",
    "final_df = final_df[final_df[\"device_id\"].isin(keep)]"
   ]
  },
  {
   "cell_type": "code",
   "execution_count": null,
   "metadata": {},
   "outputs": [],
   "source": [
    "# Only want to keep timestamp values with enough data,\n",
    "# Drop timestamp rows with < 100 values\n",
    "final_df[\"timestamp\"].value_counts()"
   ]
  },
  {
   "cell_type": "code",
   "execution_count": null,
   "metadata": {},
   "outputs": [],
   "source": [
    "count = final_df[\"timestamp\"].value_counts()\n",
    "keep = count[count >= 100].index\n",
    "final_df = final_df[final_df[\"timestamp\"].isin(keep)]"
   ]
  },
  {
   "cell_type": "code",
   "execution_count": null,
   "metadata": {},
   "outputs": [],
   "source": [
    "# Only want to keep longitude values with enough data,\n",
    "# Drop longitude rows with < 10000 values\n",
    "final_df[\"longitude\"].value_counts()"
   ]
  },
  {
   "cell_type": "code",
   "execution_count": null,
   "metadata": {},
   "outputs": [],
   "source": [
    "count = final_df[\"longitude\"].value_counts()\n",
    "keep = count[count >= 10000].index\n",
    "final_df = final_df[final_df[\"longitude\"].isin(keep)]"
   ]
  },
  {
   "cell_type": "code",
   "execution_count": null,
   "metadata": {},
   "outputs": [],
   "source": [
    "# Only want to keep latitude values with enough data,\n",
    "# Drop latitude rows with < 10000 values\n",
    "final_df[\"latitude\"].value_counts()"
   ]
  },
  {
   "cell_type": "code",
   "execution_count": null,
   "metadata": {},
   "outputs": [],
   "source": [
    "count = final_df[\"latitude\"].value_counts()\n",
    "keep = count[count >= 10000].index\n",
    "final_df = final_df[final_df[\"latitude\"].isin(keep)]"
   ]
  },
  {
   "cell_type": "code",
   "execution_count": null,
   "metadata": {},
   "outputs": [],
   "source": [
    "# Only want to keep label_id values with enough data,\n",
    "# Drop label_id rows with < 1000 values\n",
    "final_df[\"label_id\"].value_counts()"
   ]
  },
  {
   "cell_type": "code",
   "execution_count": null,
   "metadata": {},
   "outputs": [],
   "source": [
    "count = final_df[\"label_id\"].value_counts()\n",
    "keep = count[count >= 1000].index\n",
    "final_df = final_df[final_df[\"label_id\"].isin(keep)]"
   ]
  },
  {
   "cell_type": "code",
   "execution_count": null,
   "metadata": {},
   "outputs": [],
   "source": [
    "# There seems to be sufficient data for each of the values,\n",
    "# Will leave this column alone\n",
    "final_df[\"category\"].value_counts()"
   ]
  },
  {
   "cell_type": "code",
   "execution_count": null,
   "metadata": {},
   "outputs": [],
   "source": [
    "# Only want to keep device_model values with enough data,\n",
    "# Drop device_model rows with < 1000 values\n",
    "final_df[\"device_model\"].value_counts()"
   ]
  },
  {
   "cell_type": "code",
   "execution_count": null,
   "metadata": {},
   "outputs": [],
   "source": [
    "count = final_df[\"device_model\"].value_counts()\n",
    "keep = count[count >= 1000].index\n",
    "final_df = final_df[final_df[\"device_model\"].isin(keep)]"
   ]
  },
  {
   "cell_type": "code",
   "execution_count": null,
   "metadata": {},
   "outputs": [],
   "source": [
    "# There seems to be sufficient data for each of the values,\n",
    "# Will leave this column alone\n",
    "final_df[\"gender\"].value_counts()"
   ]
  },
  {
   "cell_type": "code",
   "execution_count": null,
   "metadata": {},
   "outputs": [],
   "source": [
    "# There seems to be sufficient data for each of the values,\n",
    "# Will leave this column alone\n",
    "final_df[\"age\"].value_counts()"
   ]
  },
  {
   "cell_type": "code",
   "execution_count": null,
   "metadata": {},
   "outputs": [],
   "source": [
    "# There seems to be sufficient data for each of the values,\n",
    "# Will leave this column alone\n",
    "final_df[\"group\"].value_counts()"
   ]
  },
  {
   "cell_type": "code",
   "execution_count": null,
   "metadata": {},
   "outputs": [],
   "source": [
    "# There seems to be sufficient data for each of the values,\n",
    "# Will leave this column alone\n",
    "final_df[\"english_phone_brand\"].value_counts()"
   ]
  },
  {
   "cell_type": "markdown",
   "metadata": {},
   "source": [
    "# Removing Unnecessary Columns"
   ]
  },
  {
   "cell_type": "code",
   "execution_count": null,
   "metadata": {},
   "outputs": [],
   "source": [
    "final_df.head()"
   ]
  },
  {
   "cell_type": "code",
   "execution_count": null,
   "metadata": {},
   "outputs": [],
   "source": [
    "# Since is_installed only have one unique value this column will be dropped.\n",
    "# Getting rid of category column and using label_id to identify category\n",
    "final_df = final_df.drop(\n",
    "    columns=[\"is_installed\", \"timestamp\", \"latitude\", \"longitude\", \"category\"]\n",
    ")\n",
    "final_df.head()"
   ]
  },
  {
   "cell_type": "code",
   "execution_count": null,
   "metadata": {},
   "outputs": [],
   "source": [
    "# Gets rid of duplicate rows and adds count as size\n",
    "final_df = final_df.groupby(final_df.columns.tolist(), as_index=False).size()\n",
    "final_df.head()"
   ]
  },
  {
   "cell_type": "code",
   "execution_count": null,
   "metadata": {},
   "outputs": [],
   "source": [
    "# Creating unique column for device and app ids\n",
    "final_df[\"download_id\"] = final_df[\"app_id\"] + final_df[\"device_id\"]"
   ]
  },
  {
   "cell_type": "code",
   "execution_count": null,
   "metadata": {},
   "outputs": [],
   "source": [
    "final_df.head()"
   ]
  },
  {
   "cell_type": "code",
   "execution_count": null,
   "metadata": {},
   "outputs": [],
   "source": [
    "# Creating new dataframe grouping download ids to create list of label ids\n",
    "label_ids = (\n",
    "    final_df.groupby([\"download_id\"])\n",
    "    .agg(lambda x: tuple(x))\n",
    "    .applymap(list)\n",
    "    .reset_index()[[\"label_id\", \"download_id\"]]\n",
    ")\n",
    "label_ids.head()"
   ]
  },
  {
   "cell_type": "code",
   "execution_count": null,
   "metadata": {},
   "outputs": [],
   "source": [
    "len(label_ids)"
   ]
  },
  {
   "cell_type": "code",
   "execution_count": null,
   "metadata": {},
   "outputs": [],
   "source": [
    "# Adding the download_id column to original dataframe\n",
    "final_df = final_df.merge(label_ids, how=\"left\", on=\"download_id\")"
   ]
  },
  {
   "cell_type": "code",
   "execution_count": null,
   "metadata": {},
   "outputs": [],
   "source": [
    "final_df.head()"
   ]
  },
  {
   "cell_type": "code",
   "execution_count": null,
   "metadata": {},
   "outputs": [],
   "source": [
    "final_df.shape"
   ]
  },
  {
   "cell_type": "code",
   "execution_count": null,
   "metadata": {},
   "outputs": [],
   "source": [
    "# Dropping duplicate rows\n",
    "final_df = final_df.drop_duplicates([\"download_id\"], keep=\"first\")"
   ]
  },
  {
   "cell_type": "code",
   "execution_count": null,
   "metadata": {},
   "outputs": [],
   "source": [
    "# Need to reduce to around 2 million rows\n",
    "final_df.shape"
   ]
  },
  {
   "cell_type": "code",
   "execution_count": null,
   "metadata": {},
   "outputs": [],
   "source": [
    "final_df.isna().mean()"
   ]
  },
  {
   "cell_type": "code",
   "execution_count": null,
   "metadata": {},
   "outputs": [],
   "source": [
    "final_df.head(10)"
   ]
  },
  {
   "cell_type": "code",
   "execution_count": null,
   "metadata": {},
   "outputs": [],
   "source": [
    "# Only used the download_id column to create multiple labels in one column, so no longer need that column\n",
    "# Also do not need the label_id_x column since label_id_y contains all the labels\n",
    "final_df = final_df.drop(columns=[\"label_id_x\", \"download_id\"])\n",
    "final_df.head()"
   ]
  },
  {
   "cell_type": "code",
   "execution_count": null,
   "metadata": {},
   "outputs": [],
   "source": [
    "final_df.shape"
   ]
  },
  {
   "cell_type": "markdown",
   "metadata": {},
   "source": [
    "# Checking Value Counts for New DataFrame"
   ]
  },
  {
   "cell_type": "code",
   "execution_count": null,
   "metadata": {},
   "outputs": [],
   "source": [
    "# pd.set_option(\"display.max_rows\", None)"
   ]
  },
  {
   "cell_type": "code",
   "execution_count": null,
   "metadata": {},
   "outputs": [],
   "source": [
    "final_df[\"event_id\"].value_counts()"
   ]
  },
  {
   "cell_type": "code",
   "execution_count": null,
   "metadata": {},
   "outputs": [],
   "source": [
    "# Only keep data that contains at least 10 counts,\n",
    "count = final_df[\"event_id\"].value_counts()\n",
    "keep = count[count >= 10].index\n",
    "final_df = final_df[final_df[\"event_id\"].isin(keep)]"
   ]
  },
  {
   "cell_type": "code",
   "execution_count": null,
   "metadata": {},
   "outputs": [],
   "source": [
    "final_df[\"device_model\"].value_counts()"
   ]
  },
  {
   "cell_type": "code",
   "execution_count": null,
   "metadata": {},
   "outputs": [],
   "source": [
    "# Only keep data that contains at least 100 counts,\n",
    "count = final_df[\"device_model\"].value_counts()\n",
    "keep = count[count >= 100].index\n",
    "final_df = final_df[final_df[\"device_model\"].isin(keep)]"
   ]
  },
  {
   "cell_type": "code",
   "execution_count": null,
   "metadata": {},
   "outputs": [],
   "source": [
    "final_df[\"english_phone_brand\"].value_counts()"
   ]
  },
  {
   "cell_type": "code",
   "execution_count": null,
   "metadata": {},
   "outputs": [],
   "source": [
    "# Only keep data that contains at least 100 counts,\n",
    "count = final_df[\"english_phone_brand\"].value_counts()\n",
    "keep = count[count >= 100].index\n",
    "final_df = final_df[final_df[\"english_phone_brand\"].isin(keep)]"
   ]
  },
  {
   "cell_type": "code",
   "execution_count": null,
   "metadata": {},
   "outputs": [],
   "source": [
    "final_df[\"size\"].value_counts()"
   ]
  },
  {
   "cell_type": "code",
   "execution_count": null,
   "metadata": {},
   "outputs": [],
   "source": [
    "# Only keep data that contains at least 100 counts,\n",
    "count = final_df[\"size\"].value_counts()\n",
    "keep = count[count >= 100].index\n",
    "final_df = final_df[final_df[\"size\"].isin(keep)]"
   ]
  },
  {
   "cell_type": "code",
   "execution_count": null,
   "metadata": {},
   "outputs": [],
   "source": [
    "final_df.shape"
   ]
  },
  {
   "cell_type": "code",
   "execution_count": null,
   "metadata": {},
   "outputs": [],
   "source": [
    "final_df[\"device_id\"].value_counts()"
   ]
  },
  {
   "cell_type": "markdown",
   "metadata": {},
   "source": [
    "After doing some data cleaning, the dataframe went from 78,692,532 rows by 15 columns to 435,990 rows by 11 columns. "
   ]
  },
  {
   "cell_type": "markdown",
   "metadata": {},
   "source": [
    "# Preparing Data For Analysis"
   ]
  },
  {
   "cell_type": "markdown",
   "metadata": {},
   "source": [
    "## One Hot Encoding Categorical Columns"
   ]
  },
  {
   "cell_type": "code",
   "execution_count": 73,
   "metadata": {},
   "outputs": [
    {
     "data": {
      "application/javascript": [
       "\n",
       "            setTimeout(function() {\n",
       "                var nbb_cell_id = 73;\n",
       "                var nbb_unformatted_code = \"# Encoding the label_id_y column\\nmlb = MultiLabelBinarizer()\\nfinal_df = final_df.join(\\n    pd.DataFrame(\\n        mlb.fit_transform(final_df.pop(\\\"label_id_y\\\")),\\n        columns=mlb.classes_,\\n        index=final_df.index,\\n    )\\n)\";\n",
       "                var nbb_formatted_code = \"# Encoding the label_id_y column\\nmlb = MultiLabelBinarizer()\\nfinal_df = final_df.join(\\n    pd.DataFrame(\\n        mlb.fit_transform(final_df.pop(\\\"label_id_y\\\")),\\n        columns=mlb.classes_,\\n        index=final_df.index,\\n    )\\n)\";\n",
       "                var nbb_cells = Jupyter.notebook.get_cells();\n",
       "                for (var i = 0; i < nbb_cells.length; ++i) {\n",
       "                    if (nbb_cells[i].input_prompt_number == nbb_cell_id) {\n",
       "                        if (nbb_cells[i].get_text() == nbb_unformatted_code) {\n",
       "                             nbb_cells[i].set_text(nbb_formatted_code);\n",
       "                        }\n",
       "                        break;\n",
       "                    }\n",
       "                }\n",
       "            }, 500);\n",
       "            "
      ],
      "text/plain": [
       "<IPython.core.display.Javascript object>"
      ]
     },
     "metadata": {},
     "output_type": "display_data"
    }
   ],
   "source": [
    "# Encoding the label_id_y column\n",
    "mlb = MultiLabelBinarizer()\n",
    "final_df = final_df.join(\n",
    "    pd.DataFrame(\n",
    "        mlb.fit_transform(final_df.pop(\"label_id_y\")),\n",
    "        columns=mlb.classes_,\n",
    "        index=final_df.index,\n",
    "    )\n",
    ")"
   ]
  },
  {
   "cell_type": "code",
   "execution_count": 74,
   "metadata": {
    "scrolled": false
   },
   "outputs": [
    {
     "data": {
      "text/html": [
       "<div>\n",
       "<style scoped>\n",
       "    .dataframe tbody tr th:only-of-type {\n",
       "        vertical-align: middle;\n",
       "    }\n",
       "\n",
       "    .dataframe tbody tr th {\n",
       "        vertical-align: top;\n",
       "    }\n",
       "\n",
       "    .dataframe thead th {\n",
       "        text-align: right;\n",
       "    }\n",
       "</style>\n",
       "<table border=\"1\" class=\"dataframe\">\n",
       "  <thead>\n",
       "    <tr style=\"text-align: right;\">\n",
       "      <th></th>\n",
       "      <th>event_id</th>\n",
       "      <th>app_id</th>\n",
       "      <th>is_active</th>\n",
       "      <th>device_id</th>\n",
       "      <th>gender</th>\n",
       "      <th>age</th>\n",
       "      <th>group</th>\n",
       "      <th>size</th>\n",
       "      <th>8</th>\n",
       "      <th>9</th>\n",
       "      <th>...</th>\n",
       "      <th>device_model_魅蓝</th>\n",
       "      <th>device_model_魅蓝2</th>\n",
       "      <th>device_model_魅蓝NOTE</th>\n",
       "      <th>device_model_魅蓝Note 2</th>\n",
       "      <th>device_model_魅蓝metal</th>\n",
       "      <th>device_model_麦芒3</th>\n",
       "      <th>device_model_麦芒3S</th>\n",
       "      <th>device_model_麦芒4</th>\n",
       "      <th>device_model_黄金斗士A8</th>\n",
       "      <th>device_model_黄金斗士Note8</th>\n",
       "    </tr>\n",
       "  </thead>\n",
       "  <tbody>\n",
       "    <tr>\n",
       "      <th>0</th>\n",
       "      <td>6</td>\n",
       "      <td>-8764672938472212518</td>\n",
       "      <td>1</td>\n",
       "      <td>1476664663289716375</td>\n",
       "      <td>M</td>\n",
       "      <td>19</td>\n",
       "      <td>M22-</td>\n",
       "      <td>1</td>\n",
       "      <td>0</td>\n",
       "      <td>0</td>\n",
       "      <td>...</td>\n",
       "      <td>0</td>\n",
       "      <td>0</td>\n",
       "      <td>0</td>\n",
       "      <td>0</td>\n",
       "      <td>0</td>\n",
       "      <td>0</td>\n",
       "      <td>0</td>\n",
       "      <td>0</td>\n",
       "      <td>0</td>\n",
       "      <td>0</td>\n",
       "    </tr>\n",
       "    <tr>\n",
       "      <th>4</th>\n",
       "      <td>6</td>\n",
       "      <td>-8271866350659046570</td>\n",
       "      <td>0</td>\n",
       "      <td>1476664663289716375</td>\n",
       "      <td>M</td>\n",
       "      <td>19</td>\n",
       "      <td>M22-</td>\n",
       "      <td>1</td>\n",
       "      <td>0</td>\n",
       "      <td>0</td>\n",
       "      <td>...</td>\n",
       "      <td>0</td>\n",
       "      <td>0</td>\n",
       "      <td>0</td>\n",
       "      <td>0</td>\n",
       "      <td>0</td>\n",
       "      <td>0</td>\n",
       "      <td>0</td>\n",
       "      <td>0</td>\n",
       "      <td>0</td>\n",
       "      <td>0</td>\n",
       "    </tr>\n",
       "    <tr>\n",
       "      <th>15</th>\n",
       "      <td>6</td>\n",
       "      <td>-7509752927626140732</td>\n",
       "      <td>0</td>\n",
       "      <td>1476664663289716375</td>\n",
       "      <td>M</td>\n",
       "      <td>19</td>\n",
       "      <td>M22-</td>\n",
       "      <td>1</td>\n",
       "      <td>0</td>\n",
       "      <td>0</td>\n",
       "      <td>...</td>\n",
       "      <td>0</td>\n",
       "      <td>0</td>\n",
       "      <td>0</td>\n",
       "      <td>0</td>\n",
       "      <td>0</td>\n",
       "      <td>0</td>\n",
       "      <td>0</td>\n",
       "      <td>0</td>\n",
       "      <td>0</td>\n",
       "      <td>0</td>\n",
       "    </tr>\n",
       "    <tr>\n",
       "      <th>26</th>\n",
       "      <td>6</td>\n",
       "      <td>-7377004479023402858</td>\n",
       "      <td>1</td>\n",
       "      <td>1476664663289716375</td>\n",
       "      <td>M</td>\n",
       "      <td>19</td>\n",
       "      <td>M22-</td>\n",
       "      <td>1</td>\n",
       "      <td>0</td>\n",
       "      <td>0</td>\n",
       "      <td>...</td>\n",
       "      <td>0</td>\n",
       "      <td>0</td>\n",
       "      <td>0</td>\n",
       "      <td>0</td>\n",
       "      <td>0</td>\n",
       "      <td>0</td>\n",
       "      <td>0</td>\n",
       "      <td>0</td>\n",
       "      <td>0</td>\n",
       "      <td>0</td>\n",
       "    </tr>\n",
       "    <tr>\n",
       "      <th>33</th>\n",
       "      <td>6</td>\n",
       "      <td>-5839858269967688123</td>\n",
       "      <td>0</td>\n",
       "      <td>1476664663289716375</td>\n",
       "      <td>M</td>\n",
       "      <td>19</td>\n",
       "      <td>M22-</td>\n",
       "      <td>1</td>\n",
       "      <td>0</td>\n",
       "      <td>0</td>\n",
       "      <td>...</td>\n",
       "      <td>0</td>\n",
       "      <td>0</td>\n",
       "      <td>0</td>\n",
       "      <td>0</td>\n",
       "      <td>0</td>\n",
       "      <td>0</td>\n",
       "      <td>0</td>\n",
       "      <td>0</td>\n",
       "      <td>0</td>\n",
       "      <td>0</td>\n",
       "    </tr>\n",
       "  </tbody>\n",
       "</table>\n",
       "<p>5 rows × 638 columns</p>\n",
       "</div>"
      ],
      "text/plain": [
       "    event_id               app_id  is_active            device_id gender  age  \\\n",
       "0          6 -8764672938472212518          1  1476664663289716375      M   19   \n",
       "4          6 -8271866350659046570          0  1476664663289716375      M   19   \n",
       "15         6 -7509752927626140732          0  1476664663289716375      M   19   \n",
       "26         6 -7377004479023402858          1  1476664663289716375      M   19   \n",
       "33         6 -5839858269967688123          0  1476664663289716375      M   19   \n",
       "\n",
       "   group  size  8  9  ...  device_model_魅蓝  device_model_魅蓝2  \\\n",
       "0   M22-     1  0  0  ...                0                 0   \n",
       "4   M22-     1  0  0  ...                0                 0   \n",
       "15  M22-     1  0  0  ...                0                 0   \n",
       "26  M22-     1  0  0  ...                0                 0   \n",
       "33  M22-     1  0  0  ...                0                 0   \n",
       "\n",
       "    device_model_魅蓝NOTE  device_model_魅蓝Note 2  device_model_魅蓝metal  \\\n",
       "0                     0                      0                     0   \n",
       "4                     0                      0                     0   \n",
       "15                    0                      0                     0   \n",
       "26                    0                      0                     0   \n",
       "33                    0                      0                     0   \n",
       "\n",
       "    device_model_麦芒3  device_model_麦芒3S  device_model_麦芒4  \\\n",
       "0                  0                  0                 0   \n",
       "4                  0                  0                 0   \n",
       "15                 0                  0                 0   \n",
       "26                 0                  0                 0   \n",
       "33                 0                  0                 0   \n",
       "\n",
       "    device_model_黄金斗士A8  device_model_黄金斗士Note8  \n",
       "0                     0                       0  \n",
       "4                     0                       0  \n",
       "15                    0                       0  \n",
       "26                    0                       0  \n",
       "33                    0                       0  \n",
       "\n",
       "[5 rows x 638 columns]"
      ]
     },
     "execution_count": 74,
     "metadata": {},
     "output_type": "execute_result"
    },
    {
     "data": {
      "application/javascript": [
       "\n",
       "            setTimeout(function() {\n",
       "                var nbb_cell_id = 74;\n",
       "                var nbb_unformatted_code = \"final_df = pd.get_dummies(\\n    final_df, columns=[\\\"english_phone_brand\\\", \\\"device_model\\\"], drop_first=True\\n)\\nfinal_df.head()\";\n",
       "                var nbb_formatted_code = \"final_df = pd.get_dummies(\\n    final_df, columns=[\\\"english_phone_brand\\\", \\\"device_model\\\"], drop_first=True\\n)\\nfinal_df.head()\";\n",
       "                var nbb_cells = Jupyter.notebook.get_cells();\n",
       "                for (var i = 0; i < nbb_cells.length; ++i) {\n",
       "                    if (nbb_cells[i].input_prompt_number == nbb_cell_id) {\n",
       "                        if (nbb_cells[i].get_text() == nbb_unformatted_code) {\n",
       "                             nbb_cells[i].set_text(nbb_formatted_code);\n",
       "                        }\n",
       "                        break;\n",
       "                    }\n",
       "                }\n",
       "            }, 500);\n",
       "            "
      ],
      "text/plain": [
       "<IPython.core.display.Javascript object>"
      ]
     },
     "metadata": {},
     "output_type": "display_data"
    }
   ],
   "source": [
    "final_df = pd.get_dummies(\n",
    "    final_df, columns=[\"english_phone_brand\", \"device_model\"], drop_first=True\n",
    ")\n",
    "final_df.head()"
   ]
  },
  {
   "cell_type": "markdown",
   "metadata": {},
   "source": [
    "## Dropping Unnecessary Columns"
   ]
  },
  {
   "cell_type": "code",
   "execution_count": 75,
   "metadata": {},
   "outputs": [
    {
     "data": {
      "text/html": [
       "<div>\n",
       "<style scoped>\n",
       "    .dataframe tbody tr th:only-of-type {\n",
       "        vertical-align: middle;\n",
       "    }\n",
       "\n",
       "    .dataframe tbody tr th {\n",
       "        vertical-align: top;\n",
       "    }\n",
       "\n",
       "    .dataframe thead th {\n",
       "        text-align: right;\n",
       "    }\n",
       "</style>\n",
       "<table border=\"1\" class=\"dataframe\">\n",
       "  <thead>\n",
       "    <tr style=\"text-align: right;\">\n",
       "      <th></th>\n",
       "      <th>event_id</th>\n",
       "      <th>app_id</th>\n",
       "      <th>is_active</th>\n",
       "      <th>device_id</th>\n",
       "      <th>group</th>\n",
       "      <th>8</th>\n",
       "      <th>9</th>\n",
       "      <th>10</th>\n",
       "      <th>11</th>\n",
       "      <th>12</th>\n",
       "      <th>...</th>\n",
       "      <th>device_model_魅蓝</th>\n",
       "      <th>device_model_魅蓝2</th>\n",
       "      <th>device_model_魅蓝NOTE</th>\n",
       "      <th>device_model_魅蓝Note 2</th>\n",
       "      <th>device_model_魅蓝metal</th>\n",
       "      <th>device_model_麦芒3</th>\n",
       "      <th>device_model_麦芒3S</th>\n",
       "      <th>device_model_麦芒4</th>\n",
       "      <th>device_model_黄金斗士A8</th>\n",
       "      <th>device_model_黄金斗士Note8</th>\n",
       "    </tr>\n",
       "  </thead>\n",
       "  <tbody>\n",
       "    <tr>\n",
       "      <th>0</th>\n",
       "      <td>6</td>\n",
       "      <td>-8764672938472212518</td>\n",
       "      <td>1</td>\n",
       "      <td>1476664663289716375</td>\n",
       "      <td>M22-</td>\n",
       "      <td>0</td>\n",
       "      <td>0</td>\n",
       "      <td>0</td>\n",
       "      <td>0</td>\n",
       "      <td>0</td>\n",
       "      <td>...</td>\n",
       "      <td>0</td>\n",
       "      <td>0</td>\n",
       "      <td>0</td>\n",
       "      <td>0</td>\n",
       "      <td>0</td>\n",
       "      <td>0</td>\n",
       "      <td>0</td>\n",
       "      <td>0</td>\n",
       "      <td>0</td>\n",
       "      <td>0</td>\n",
       "    </tr>\n",
       "    <tr>\n",
       "      <th>4</th>\n",
       "      <td>6</td>\n",
       "      <td>-8271866350659046570</td>\n",
       "      <td>0</td>\n",
       "      <td>1476664663289716375</td>\n",
       "      <td>M22-</td>\n",
       "      <td>0</td>\n",
       "      <td>0</td>\n",
       "      <td>0</td>\n",
       "      <td>0</td>\n",
       "      <td>0</td>\n",
       "      <td>...</td>\n",
       "      <td>0</td>\n",
       "      <td>0</td>\n",
       "      <td>0</td>\n",
       "      <td>0</td>\n",
       "      <td>0</td>\n",
       "      <td>0</td>\n",
       "      <td>0</td>\n",
       "      <td>0</td>\n",
       "      <td>0</td>\n",
       "      <td>0</td>\n",
       "    </tr>\n",
       "    <tr>\n",
       "      <th>15</th>\n",
       "      <td>6</td>\n",
       "      <td>-7509752927626140732</td>\n",
       "      <td>0</td>\n",
       "      <td>1476664663289716375</td>\n",
       "      <td>M22-</td>\n",
       "      <td>0</td>\n",
       "      <td>0</td>\n",
       "      <td>0</td>\n",
       "      <td>0</td>\n",
       "      <td>0</td>\n",
       "      <td>...</td>\n",
       "      <td>0</td>\n",
       "      <td>0</td>\n",
       "      <td>0</td>\n",
       "      <td>0</td>\n",
       "      <td>0</td>\n",
       "      <td>0</td>\n",
       "      <td>0</td>\n",
       "      <td>0</td>\n",
       "      <td>0</td>\n",
       "      <td>0</td>\n",
       "    </tr>\n",
       "    <tr>\n",
       "      <th>26</th>\n",
       "      <td>6</td>\n",
       "      <td>-7377004479023402858</td>\n",
       "      <td>1</td>\n",
       "      <td>1476664663289716375</td>\n",
       "      <td>M22-</td>\n",
       "      <td>0</td>\n",
       "      <td>0</td>\n",
       "      <td>0</td>\n",
       "      <td>0</td>\n",
       "      <td>0</td>\n",
       "      <td>...</td>\n",
       "      <td>0</td>\n",
       "      <td>0</td>\n",
       "      <td>0</td>\n",
       "      <td>0</td>\n",
       "      <td>0</td>\n",
       "      <td>0</td>\n",
       "      <td>0</td>\n",
       "      <td>0</td>\n",
       "      <td>0</td>\n",
       "      <td>0</td>\n",
       "    </tr>\n",
       "    <tr>\n",
       "      <th>33</th>\n",
       "      <td>6</td>\n",
       "      <td>-5839858269967688123</td>\n",
       "      <td>0</td>\n",
       "      <td>1476664663289716375</td>\n",
       "      <td>M22-</td>\n",
       "      <td>0</td>\n",
       "      <td>0</td>\n",
       "      <td>0</td>\n",
       "      <td>0</td>\n",
       "      <td>0</td>\n",
       "      <td>...</td>\n",
       "      <td>0</td>\n",
       "      <td>0</td>\n",
       "      <td>0</td>\n",
       "      <td>0</td>\n",
       "      <td>0</td>\n",
       "      <td>0</td>\n",
       "      <td>0</td>\n",
       "      <td>0</td>\n",
       "      <td>0</td>\n",
       "      <td>0</td>\n",
       "    </tr>\n",
       "  </tbody>\n",
       "</table>\n",
       "<p>5 rows × 635 columns</p>\n",
       "</div>"
      ],
      "text/plain": [
       "    event_id               app_id  is_active            device_id group  8  9  \\\n",
       "0          6 -8764672938472212518          1  1476664663289716375  M22-  0  0   \n",
       "4          6 -8271866350659046570          0  1476664663289716375  M22-  0  0   \n",
       "15         6 -7509752927626140732          0  1476664663289716375  M22-  0  0   \n",
       "26         6 -7377004479023402858          1  1476664663289716375  M22-  0  0   \n",
       "33         6 -5839858269967688123          0  1476664663289716375  M22-  0  0   \n",
       "\n",
       "    10  11  12  ...  device_model_魅蓝  device_model_魅蓝2  device_model_魅蓝NOTE  \\\n",
       "0    0   0   0  ...                0                 0                    0   \n",
       "4    0   0   0  ...                0                 0                    0   \n",
       "15   0   0   0  ...                0                 0                    0   \n",
       "26   0   0   0  ...                0                 0                    0   \n",
       "33   0   0   0  ...                0                 0                    0   \n",
       "\n",
       "    device_model_魅蓝Note 2  device_model_魅蓝metal  device_model_麦芒3  \\\n",
       "0                       0                     0                 0   \n",
       "4                       0                     0                 0   \n",
       "15                      0                     0                 0   \n",
       "26                      0                     0                 0   \n",
       "33                      0                     0                 0   \n",
       "\n",
       "    device_model_麦芒3S  device_model_麦芒4  device_model_黄金斗士A8  \\\n",
       "0                   0                 0                    0   \n",
       "4                   0                 0                    0   \n",
       "15                  0                 0                    0   \n",
       "26                  0                 0                    0   \n",
       "33                  0                 0                    0   \n",
       "\n",
       "    device_model_黄金斗士Note8  \n",
       "0                        0  \n",
       "4                        0  \n",
       "15                       0  \n",
       "26                       0  \n",
       "33                       0  \n",
       "\n",
       "[5 rows x 635 columns]"
      ]
     },
     "execution_count": 75,
     "metadata": {},
     "output_type": "execute_result"
    },
    {
     "data": {
      "application/javascript": [
       "\n",
       "            setTimeout(function() {\n",
       "                var nbb_cell_id = 75;\n",
       "                var nbb_unformatted_code = \"# Since I will be using group as the target variable, and group contains both age and gender, I can drop gender/age column\\n# Size of Duplicate rows does not seem like it is too important mainly because there were not many duplicate rows, drop size\\nfinal_df = final_df.drop(columns=[\\\"gender\\\", \\\"age\\\", \\\"size\\\"])\\nfinal_df.head()\";\n",
       "                var nbb_formatted_code = \"# Since I will be using group as the target variable, and group contains both age and gender, I can drop gender/age column\\n# Size of Duplicate rows does not seem like it is too important mainly because there were not many duplicate rows, drop size\\nfinal_df = final_df.drop(columns=[\\\"gender\\\", \\\"age\\\", \\\"size\\\"])\\nfinal_df.head()\";\n",
       "                var nbb_cells = Jupyter.notebook.get_cells();\n",
       "                for (var i = 0; i < nbb_cells.length; ++i) {\n",
       "                    if (nbb_cells[i].input_prompt_number == nbb_cell_id) {\n",
       "                        if (nbb_cells[i].get_text() == nbb_unformatted_code) {\n",
       "                             nbb_cells[i].set_text(nbb_formatted_code);\n",
       "                        }\n",
       "                        break;\n",
       "                    }\n",
       "                }\n",
       "            }, 500);\n",
       "            "
      ],
      "text/plain": [
       "<IPython.core.display.Javascript object>"
      ]
     },
     "metadata": {},
     "output_type": "display_data"
    }
   ],
   "source": [
    "# Since I will be using group as the target variable, and group contains both age and gender, I can drop gender/age column\n",
    "# Size of Duplicate rows does not seem like it is too important mainly because there were not many duplicate rows, drop size\n",
    "final_df = final_df.drop(columns=[\"gender\", \"age\", \"size\"])\n",
    "final_df.head()"
   ]
  },
  {
   "cell_type": "code",
   "execution_count": 76,
   "metadata": {},
   "outputs": [
    {
     "data": {
      "text/plain": [
       "(435990, 635)"
      ]
     },
     "execution_count": 76,
     "metadata": {},
     "output_type": "execute_result"
    },
    {
     "data": {
      "application/javascript": [
       "\n",
       "            setTimeout(function() {\n",
       "                var nbb_cell_id = 76;\n",
       "                var nbb_unformatted_code = \"final_df.shape\";\n",
       "                var nbb_formatted_code = \"final_df.shape\";\n",
       "                var nbb_cells = Jupyter.notebook.get_cells();\n",
       "                for (var i = 0; i < nbb_cells.length; ++i) {\n",
       "                    if (nbb_cells[i].input_prompt_number == nbb_cell_id) {\n",
       "                        if (nbb_cells[i].get_text() == nbb_unformatted_code) {\n",
       "                             nbb_cells[i].set_text(nbb_formatted_code);\n",
       "                        }\n",
       "                        break;\n",
       "                    }\n",
       "                }\n",
       "            }, 500);\n",
       "            "
      ],
      "text/plain": [
       "<IPython.core.display.Javascript object>"
      ]
     },
     "metadata": {},
     "output_type": "display_data"
    }
   ],
   "source": [
    "final_df.shape"
   ]
  },
  {
   "cell_type": "markdown",
   "metadata": {},
   "source": [
    "# Create Visualization"
   ]
  },
  {
   "cell_type": "code",
   "execution_count": 77,
   "metadata": {},
   "outputs": [
    {
     "data": {
      "image/png": "[encoded data removed]",
      "text/plain": [
       "<Figure size 432x288 with 1 Axes>"
      ]
     },
     "metadata": {
      "needs_background": "light"
     },
     "output_type": "display_data"
    },
    {
     "data": {
      "application/javascript": [
       "\n",
       "            setTimeout(function() {\n",
       "                var nbb_cell_id = 77;\n",
       "                var nbb_unformatted_code = \"# Need to change font size of x and y axis\\nsns.countplot(final_df[\\\"group\\\"])\\nplt.title(\\\"Age/Gender Demographic by Count\\\")\\nplt.ylabel(\\\"count\\\")\\nplt.xlabel(\\\"Age/Gender\\\")\\nplt.show()\";\n",
       "                var nbb_formatted_code = \"# Need to change font size of x and y axis\\nsns.countplot(final_df[\\\"group\\\"])\\nplt.title(\\\"Age/Gender Demographic by Count\\\")\\nplt.ylabel(\\\"count\\\")\\nplt.xlabel(\\\"Age/Gender\\\")\\nplt.show()\";\n",
       "                var nbb_cells = Jupyter.notebook.get_cells();\n",
       "                for (var i = 0; i < nbb_cells.length; ++i) {\n",
       "                    if (nbb_cells[i].input_prompt_number == nbb_cell_id) {\n",
       "                        if (nbb_cells[i].get_text() == nbb_unformatted_code) {\n",
       "                             nbb_cells[i].set_text(nbb_formatted_code);\n",
       "                        }\n",
       "                        break;\n",
       "                    }\n",
       "                }\n",
       "            }, 500);\n",
       "            "
      ],
      "text/plain": [
       "<IPython.core.display.Javascript object>"
      ]
     },
     "metadata": {},
     "output_type": "display_data"
    }
   ],
   "source": [
    "# Need to change font size of x and y axis\n",
    "sns.countplot(final_df[\"group\"])\n",
    "plt.title(\"Age/Gender Demographic by Count\")\n",
    "plt.ylabel(\"count\")\n",
    "plt.xlabel(\"Age/Gender\")\n",
    "plt.show()"
   ]
  },
  {
   "cell_type": "code",
   "execution_count": 78,
   "metadata": {},
   "outputs": [
    {
     "data": {
      "image/png": "[encoded data removed]",
      "text/plain": [
       "<Figure size 432x288 with 1 Axes>"
      ]
     },
     "metadata": {
      "needs_background": "light"
     },
     "output_type": "display_data"
    },
    {
     "data": {
      "application/javascript": [
       "\n",
       "            setTimeout(function() {\n",
       "                var nbb_cell_id = 78;\n",
       "                var nbb_unformatted_code = \"# It seems like most of the data is for non-active apps, however there are still a good amount of active apps.\\nsns.countplot(final_df[\\\"is_active\\\"])\\nplt.title(\\\"Active Apps\\\")\\nplt.show()\";\n",
       "                var nbb_formatted_code = \"# It seems like most of the data is for non-active apps, however there are still a good amount of active apps.\\nsns.countplot(final_df[\\\"is_active\\\"])\\nplt.title(\\\"Active Apps\\\")\\nplt.show()\";\n",
       "                var nbb_cells = Jupyter.notebook.get_cells();\n",
       "                for (var i = 0; i < nbb_cells.length; ++i) {\n",
       "                    if (nbb_cells[i].input_prompt_number == nbb_cell_id) {\n",
       "                        if (nbb_cells[i].get_text() == nbb_unformatted_code) {\n",
       "                             nbb_cells[i].set_text(nbb_formatted_code);\n",
       "                        }\n",
       "                        break;\n",
       "                    }\n",
       "                }\n",
       "            }, 500);\n",
       "            "
      ],
      "text/plain": [
       "<IPython.core.display.Javascript object>"
      ]
     },
     "metadata": {},
     "output_type": "display_data"
    }
   ],
   "source": [
    "# It seems like most of the data is for non-active apps, however there are still a good amount of active apps.\n",
    "sns.countplot(final_df[\"is_active\"])\n",
    "plt.title(\"Active Apps\")\n",
    "plt.show()"
   ]
  },
  {
   "cell_type": "markdown",
   "metadata": {},
   "source": [
    "# Saving Cleaned Data as a New CSV"
   ]
  },
  {
   "cell_type": "code",
   "execution_count": 79,
   "metadata": {},
   "outputs": [
    {
     "data": {
      "application/javascript": [
       "\n",
       "            setTimeout(function() {\n",
       "                var nbb_cell_id = 79;\n",
       "                var nbb_unformatted_code = \"# When finished with cleaning, save it as a csv to use for future notebooks and save time\\n# final_df.to_csv(\\\"cleaned_data.csv\\\", index=False)\";\n",
       "                var nbb_formatted_code = \"# When finished with cleaning, save it as a csv to use for future notebooks and save time\\n# final_df.to_csv(\\\"cleaned_data.csv\\\", index=False)\";\n",
       "                var nbb_cells = Jupyter.notebook.get_cells();\n",
       "                for (var i = 0; i < nbb_cells.length; ++i) {\n",
       "                    if (nbb_cells[i].input_prompt_number == nbb_cell_id) {\n",
       "                        if (nbb_cells[i].get_text() == nbb_unformatted_code) {\n",
       "                             nbb_cells[i].set_text(nbb_formatted_code);\n",
       "                        }\n",
       "                        break;\n",
       "                    }\n",
       "                }\n",
       "            }, 500);\n",
       "            "
      ],
      "text/plain": [
       "<IPython.core.display.Javascript object>"
      ]
     },
     "metadata": {},
     "output_type": "display_data"
    }
   ],
   "source": [
    "# When finished with cleaning, save it as a csv to use for future notebooks and save time\n",
    "# final_df.to_csv(\"cleaned_data.csv\", index=False)"
   ]
  },
  {
   "cell_type": "code",
   "execution_count": 80,
   "metadata": {},
   "outputs": [
    {
     "data": {
      "application/javascript": [
       "\n",
       "            setTimeout(function() {\n",
       "                var nbb_cell_id = 80;\n",
       "                var nbb_unformatted_code = \"# Check to see if cleaned csv is in working directory\\n# !dir\";\n",
       "                var nbb_formatted_code = \"# Check to see if cleaned csv is in working directory\\n# !dir\";\n",
       "                var nbb_cells = Jupyter.notebook.get_cells();\n",
       "                for (var i = 0; i < nbb_cells.length; ++i) {\n",
       "                    if (nbb_cells[i].input_prompt_number == nbb_cell_id) {\n",
       "                        if (nbb_cells[i].get_text() == nbb_unformatted_code) {\n",
       "                             nbb_cells[i].set_text(nbb_formatted_code);\n",
       "                        }\n",
       "                        break;\n",
       "                    }\n",
       "                }\n",
       "            }, 500);\n",
       "            "
      ],
      "text/plain": [
       "<IPython.core.display.Javascript object>"
      ]
     },
     "metadata": {},
     "output_type": "display_data"
    }
   ],
   "source": [
    "# Check to see if cleaned csv is in working directory\n",
    "# !dir"
   ]
  }
 ],
 "metadata": {
  "kernelspec": {
   "display_name": "Python 3",
   "language": "python",
   "name": "python3"
  },
  "language_info": {
   "codemirror_mode": {
    "name": "ipython",
    "version": 3
   },
   "file_extension": ".py",
   "mimetype": "text/x-python",
   "name": "python",
   "nbconvert_exporter": "python",
   "pygments_lexer": "ipython3",
   "version": "3.7.6"
  }
 },
 "nbformat": 4,
 "nbformat_minor": 4
}
