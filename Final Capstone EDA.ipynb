{
 "cells": [
  {
   "cell_type": "code",
   "execution_count": 1,
   "metadata": {},
   "outputs": [
    {
     "data": {
      "application/javascript": [
       "\n",
       "            setTimeout(function() {\n",
       "                var nbb_cell_id = 1;\n",
       "                var nbb_unformatted_code = \"%reload_ext nb_black\";\n",
       "                var nbb_formatted_code = \"%reload_ext nb_black\";\n",
       "                var nbb_cells = Jupyter.notebook.get_cells();\n",
       "                for (var i = 0; i < nbb_cells.length; ++i) {\n",
       "                    if (nbb_cells[i].input_prompt_number == nbb_cell_id) {\n",
       "                        if (nbb_cells[i].get_text() == nbb_unformatted_code) {\n",
       "                             nbb_cells[i].set_text(nbb_formatted_code);\n",
       "                        }\n",
       "                        break;\n",
       "                    }\n",
       "                }\n",
       "            }, 500);\n",
       "            "
      ],
      "text/plain": [
       "<IPython.core.display.Javascript object>"
      ]
     },
     "metadata": {},
     "output_type": "display_data"
    }
   ],
   "source": [
    "%reload_ext nb_black"
   ]
  },
  {
   "cell_type": "code",
   "execution_count": 2,
   "metadata": {},
   "outputs": [
    {
     "data": {
      "application/javascript": [
       "\n",
       "            setTimeout(function() {\n",
       "                var nbb_cell_id = 2;\n",
       "                var nbb_unformatted_code = \"# creating EDA imports\\n\\nimport pandas as pd\\nimport seaborn as sns\\nimport matplotlib.pyplot as plt\\nfrom sklearn.preprocessing import MultiLabelBinarizer\";\n",
       "                var nbb_formatted_code = \"# creating EDA imports\\n\\nimport pandas as pd\\nimport seaborn as sns\\nimport matplotlib.pyplot as plt\\nfrom sklearn.preprocessing import MultiLabelBinarizer\";\n",
       "                var nbb_cells = Jupyter.notebook.get_cells();\n",
       "                for (var i = 0; i < nbb_cells.length; ++i) {\n",
       "                    if (nbb_cells[i].input_prompt_number == nbb_cell_id) {\n",
       "                        if (nbb_cells[i].get_text() == nbb_unformatted_code) {\n",
       "                             nbb_cells[i].set_text(nbb_formatted_code);\n",
       "                        }\n",
       "                        break;\n",
       "                    }\n",
       "                }\n",
       "            }, 500);\n",
       "            "
      ],
      "text/plain": [
       "<IPython.core.display.Javascript object>"
      ]
     },
     "metadata": {},
     "output_type": "display_data"
    }
   ],
   "source": [
    "# creating EDA imports\n",
    "\n",
    "import pandas as pd\n",
    "import seaborn as sns\n",
    "import matplotlib.pyplot as plt\n",
    "from sklearn.preprocessing import MultiLabelBinarizer"
   ]
  },
  {
   "cell_type": "code",
   "execution_count": 3,
   "metadata": {},
   "outputs": [
    {
     "data": {
      "application/javascript": [
       "\n",
       "            setTimeout(function() {\n",
       "                var nbb_cell_id = 3;\n",
       "                var nbb_unformatted_code = \"# reading in each data file\\n# data was obtained from: https://www.kaggle.com/c/talkingdata-mobile-user-demographics/data\\n\\napp_events = pd.read_csv(\\\"./talkingdata-mobile-user-demographics/app_events.csv.zip\\\")\\napp_labels = pd.read_csv(\\\"./talkingdata-mobile-user-demographics/app_labels.csv.zip\\\")\\nevents = pd.read_csv(\\\"./talkingdata-mobile-user-demographics/events.csv.zip\\\")\\ngender_age_train = pd.read_csv(\\n    \\\"./talkingdata-mobile-user-demographics/gender_age_train.csv.zip\\\"\\n)\\ngender_age_test = pd.read_csv(\\n    \\\"./talkingdata-mobile-user-demographics/gender_age_test.csv.zip\\\"\\n)\\ncategory_labels = pd.read_csv(\\n    \\\"./talkingdata-mobile-user-demographics/label_categories.csv.zip\\\"\\n)\\nphone_brand = pd.read_csv(\\n    \\\"./talkingdata-mobile-user-demographics/phone_brand_device_model.csv.zip\\\"\\n)\";\n",
       "                var nbb_formatted_code = \"# reading in each data file\\n# data was obtained from: https://www.kaggle.com/c/talkingdata-mobile-user-demographics/data\\n\\napp_events = pd.read_csv(\\\"./talkingdata-mobile-user-demographics/app_events.csv.zip\\\")\\napp_labels = pd.read_csv(\\\"./talkingdata-mobile-user-demographics/app_labels.csv.zip\\\")\\nevents = pd.read_csv(\\\"./talkingdata-mobile-user-demographics/events.csv.zip\\\")\\ngender_age_train = pd.read_csv(\\n    \\\"./talkingdata-mobile-user-demographics/gender_age_train.csv.zip\\\"\\n)\\ngender_age_test = pd.read_csv(\\n    \\\"./talkingdata-mobile-user-demographics/gender_age_test.csv.zip\\\"\\n)\\ncategory_labels = pd.read_csv(\\n    \\\"./talkingdata-mobile-user-demographics/label_categories.csv.zip\\\"\\n)\\nphone_brand = pd.read_csv(\\n    \\\"./talkingdata-mobile-user-demographics/phone_brand_device_model.csv.zip\\\"\\n)\";\n",
       "                var nbb_cells = Jupyter.notebook.get_cells();\n",
       "                for (var i = 0; i < nbb_cells.length; ++i) {\n",
       "                    if (nbb_cells[i].input_prompt_number == nbb_cell_id) {\n",
       "                        if (nbb_cells[i].get_text() == nbb_unformatted_code) {\n",
       "                             nbb_cells[i].set_text(nbb_formatted_code);\n",
       "                        }\n",
       "                        break;\n",
       "                    }\n",
       "                }\n",
       "            }, 500);\n",
       "            "
      ],
      "text/plain": [
       "<IPython.core.display.Javascript object>"
      ]
     },
     "metadata": {},
     "output_type": "display_data"
    }
   ],
   "source": [
    "# reading in each data file\n",
    "# data was obtained from: https://www.kaggle.com/c/talkingdata-mobile-user-demographics/data\n",
    "\n",
    "app_events = pd.read_csv(\"./talkingdata-mobile-user-demographics/app_events.csv.zip\")\n",
    "app_labels = pd.read_csv(\"./talkingdata-mobile-user-demographics/app_labels.csv.zip\")\n",
    "events = pd.read_csv(\"./talkingdata-mobile-user-demographics/events.csv.zip\")\n",
    "gender_age_train = pd.read_csv(\n",
    "    \"./talkingdata-mobile-user-demographics/gender_age_train.csv.zip\"\n",
    ")\n",
    "gender_age_test = pd.read_csv(\n",
    "    \"./talkingdata-mobile-user-demographics/gender_age_test.csv.zip\"\n",
    ")\n",
    "category_labels = pd.read_csv(\n",
    "    \"./talkingdata-mobile-user-demographics/label_categories.csv.zip\"\n",
    ")\n",
    "phone_brand = pd.read_csv(\n",
    "    \"./talkingdata-mobile-user-demographics/phone_brand_device_model.csv.zip\"\n",
    ")"
   ]
  },
  {
   "cell_type": "markdown",
   "metadata": {},
   "source": [
    "# Merging the Data"
   ]
  },
  {
   "cell_type": "code",
   "execution_count": 4,
   "metadata": {
    "scrolled": true
   },
   "outputs": [
    {
     "data": {
      "text/html": [
       "<div>\n",
       "<style scoped>\n",
       "    .dataframe tbody tr th:only-of-type {\n",
       "        vertical-align: middle;\n",
       "    }\n",
       "\n",
       "    .dataframe tbody tr th {\n",
       "        vertical-align: top;\n",
       "    }\n",
       "\n",
       "    .dataframe thead th {\n",
       "        text-align: right;\n",
       "    }\n",
       "</style>\n",
       "<table border=\"1\" class=\"dataframe\">\n",
       "  <thead>\n",
       "    <tr style=\"text-align: right;\">\n",
       "      <th></th>\n",
       "      <th>event_id</th>\n",
       "      <th>app_id</th>\n",
       "      <th>is_installed</th>\n",
       "      <th>is_active</th>\n",
       "    </tr>\n",
       "  </thead>\n",
       "  <tbody>\n",
       "    <tr>\n",
       "      <th>0</th>\n",
       "      <td>2</td>\n",
       "      <td>5927333115845830913</td>\n",
       "      <td>1</td>\n",
       "      <td>1</td>\n",
       "    </tr>\n",
       "    <tr>\n",
       "      <th>1</th>\n",
       "      <td>2</td>\n",
       "      <td>-5720078949152207372</td>\n",
       "      <td>1</td>\n",
       "      <td>0</td>\n",
       "    </tr>\n",
       "    <tr>\n",
       "      <th>2</th>\n",
       "      <td>2</td>\n",
       "      <td>-1633887856876571208</td>\n",
       "      <td>1</td>\n",
       "      <td>0</td>\n",
       "    </tr>\n",
       "    <tr>\n",
       "      <th>3</th>\n",
       "      <td>2</td>\n",
       "      <td>-653184325010919369</td>\n",
       "      <td>1</td>\n",
       "      <td>1</td>\n",
       "    </tr>\n",
       "    <tr>\n",
       "      <th>4</th>\n",
       "      <td>2</td>\n",
       "      <td>8693964245073640147</td>\n",
       "      <td>1</td>\n",
       "      <td>1</td>\n",
       "    </tr>\n",
       "  </tbody>\n",
       "</table>\n",
       "</div>"
      ],
      "text/plain": [
       "   event_id               app_id  is_installed  is_active\n",
       "0         2  5927333115845830913             1          1\n",
       "1         2 -5720078949152207372             1          0\n",
       "2         2 -1633887856876571208             1          0\n",
       "3         2  -653184325010919369             1          1\n",
       "4         2  8693964245073640147             1          1"
      ]
     },
     "execution_count": 4,
     "metadata": {},
     "output_type": "execute_result"
    },
    {
     "data": {
      "application/javascript": [
       "\n",
       "            setTimeout(function() {\n",
       "                var nbb_cell_id = 4;\n",
       "                var nbb_unformatted_code = \"app_events.head()\";\n",
       "                var nbb_formatted_code = \"app_events.head()\";\n",
       "                var nbb_cells = Jupyter.notebook.get_cells();\n",
       "                for (var i = 0; i < nbb_cells.length; ++i) {\n",
       "                    if (nbb_cells[i].input_prompt_number == nbb_cell_id) {\n",
       "                        if (nbb_cells[i].get_text() == nbb_unformatted_code) {\n",
       "                             nbb_cells[i].set_text(nbb_formatted_code);\n",
       "                        }\n",
       "                        break;\n",
       "                    }\n",
       "                }\n",
       "            }, 500);\n",
       "            "
      ],
      "text/plain": [
       "<IPython.core.display.Javascript object>"
      ]
     },
     "metadata": {},
     "output_type": "display_data"
    }
   ],
   "source": [
    "app_events.head()"
   ]
  },
  {
   "cell_type": "code",
   "execution_count": 5,
   "metadata": {},
   "outputs": [
    {
     "data": {
      "text/html": [
       "<div>\n",
       "<style scoped>\n",
       "    .dataframe tbody tr th:only-of-type {\n",
       "        vertical-align: middle;\n",
       "    }\n",
       "\n",
       "    .dataframe tbody tr th {\n",
       "        vertical-align: top;\n",
       "    }\n",
       "\n",
       "    .dataframe thead th {\n",
       "        text-align: right;\n",
       "    }\n",
       "</style>\n",
       "<table border=\"1\" class=\"dataframe\">\n",
       "  <thead>\n",
       "    <tr style=\"text-align: right;\">\n",
       "      <th></th>\n",
       "      <th>event_id</th>\n",
       "      <th>device_id</th>\n",
       "      <th>timestamp</th>\n",
       "      <th>longitude</th>\n",
       "      <th>latitude</th>\n",
       "    </tr>\n",
       "  </thead>\n",
       "  <tbody>\n",
       "    <tr>\n",
       "      <th>0</th>\n",
       "      <td>1</td>\n",
       "      <td>29182687948017175</td>\n",
       "      <td>2016-05-01 00:55:25</td>\n",
       "      <td>121.38</td>\n",
       "      <td>31.24</td>\n",
       "    </tr>\n",
       "    <tr>\n",
       "      <th>1</th>\n",
       "      <td>2</td>\n",
       "      <td>-6401643145415154744</td>\n",
       "      <td>2016-05-01 00:54:12</td>\n",
       "      <td>103.65</td>\n",
       "      <td>30.97</td>\n",
       "    </tr>\n",
       "    <tr>\n",
       "      <th>2</th>\n",
       "      <td>3</td>\n",
       "      <td>-4833982096941402721</td>\n",
       "      <td>2016-05-01 00:08:05</td>\n",
       "      <td>106.60</td>\n",
       "      <td>29.70</td>\n",
       "    </tr>\n",
       "    <tr>\n",
       "      <th>3</th>\n",
       "      <td>4</td>\n",
       "      <td>-6815121365017318426</td>\n",
       "      <td>2016-05-01 00:06:40</td>\n",
       "      <td>104.27</td>\n",
       "      <td>23.28</td>\n",
       "    </tr>\n",
       "    <tr>\n",
       "      <th>4</th>\n",
       "      <td>5</td>\n",
       "      <td>-5373797595892518570</td>\n",
       "      <td>2016-05-01 00:07:18</td>\n",
       "      <td>115.88</td>\n",
       "      <td>28.66</td>\n",
       "    </tr>\n",
       "  </tbody>\n",
       "</table>\n",
       "</div>"
      ],
      "text/plain": [
       "   event_id            device_id            timestamp  longitude  latitude\n",
       "0         1    29182687948017175  2016-05-01 00:55:25     121.38     31.24\n",
       "1         2 -6401643145415154744  2016-05-01 00:54:12     103.65     30.97\n",
       "2         3 -4833982096941402721  2016-05-01 00:08:05     106.60     29.70\n",
       "3         4 -6815121365017318426  2016-05-01 00:06:40     104.27     23.28\n",
       "4         5 -5373797595892518570  2016-05-01 00:07:18     115.88     28.66"
      ]
     },
     "execution_count": 5,
     "metadata": {},
     "output_type": "execute_result"
    },
    {
     "data": {
      "application/javascript": [
       "\n",
       "            setTimeout(function() {\n",
       "                var nbb_cell_id = 5;\n",
       "                var nbb_unformatted_code = \"events.head()\";\n",
       "                var nbb_formatted_code = \"events.head()\";\n",
       "                var nbb_cells = Jupyter.notebook.get_cells();\n",
       "                for (var i = 0; i < nbb_cells.length; ++i) {\n",
       "                    if (nbb_cells[i].input_prompt_number == nbb_cell_id) {\n",
       "                        if (nbb_cells[i].get_text() == nbb_unformatted_code) {\n",
       "                             nbb_cells[i].set_text(nbb_formatted_code);\n",
       "                        }\n",
       "                        break;\n",
       "                    }\n",
       "                }\n",
       "            }, 500);\n",
       "            "
      ],
      "text/plain": [
       "<IPython.core.display.Javascript object>"
      ]
     },
     "metadata": {},
     "output_type": "display_data"
    }
   ],
   "source": [
    "events.head()"
   ]
  },
  {
   "cell_type": "code",
   "execution_count": 6,
   "metadata": {},
   "outputs": [
    {
     "data": {
      "text/html": [
       "<div>\n",
       "<style scoped>\n",
       "    .dataframe tbody tr th:only-of-type {\n",
       "        vertical-align: middle;\n",
       "    }\n",
       "\n",
       "    .dataframe tbody tr th {\n",
       "        vertical-align: top;\n",
       "    }\n",
       "\n",
       "    .dataframe thead th {\n",
       "        text-align: right;\n",
       "    }\n",
       "</style>\n",
       "<table border=\"1\" class=\"dataframe\">\n",
       "  <thead>\n",
       "    <tr style=\"text-align: right;\">\n",
       "      <th></th>\n",
       "      <th>app_id</th>\n",
       "      <th>label_id</th>\n",
       "    </tr>\n",
       "  </thead>\n",
       "  <tbody>\n",
       "    <tr>\n",
       "      <th>0</th>\n",
       "      <td>7324884708820027918</td>\n",
       "      <td>251</td>\n",
       "    </tr>\n",
       "    <tr>\n",
       "      <th>1</th>\n",
       "      <td>-4494216993218550286</td>\n",
       "      <td>251</td>\n",
       "    </tr>\n",
       "    <tr>\n",
       "      <th>2</th>\n",
       "      <td>6058196446775239644</td>\n",
       "      <td>406</td>\n",
       "    </tr>\n",
       "    <tr>\n",
       "      <th>3</th>\n",
       "      <td>6058196446775239644</td>\n",
       "      <td>407</td>\n",
       "    </tr>\n",
       "    <tr>\n",
       "      <th>4</th>\n",
       "      <td>8694625920731541625</td>\n",
       "      <td>406</td>\n",
       "    </tr>\n",
       "  </tbody>\n",
       "</table>\n",
       "</div>"
      ],
      "text/plain": [
       "                app_id  label_id\n",
       "0  7324884708820027918       251\n",
       "1 -4494216993218550286       251\n",
       "2  6058196446775239644       406\n",
       "3  6058196446775239644       407\n",
       "4  8694625920731541625       406"
      ]
     },
     "execution_count": 6,
     "metadata": {},
     "output_type": "execute_result"
    },
    {
     "data": {
      "application/javascript": [
       "\n",
       "            setTimeout(function() {\n",
       "                var nbb_cell_id = 6;\n",
       "                var nbb_unformatted_code = \"app_labels.head()\";\n",
       "                var nbb_formatted_code = \"app_labels.head()\";\n",
       "                var nbb_cells = Jupyter.notebook.get_cells();\n",
       "                for (var i = 0; i < nbb_cells.length; ++i) {\n",
       "                    if (nbb_cells[i].input_prompt_number == nbb_cell_id) {\n",
       "                        if (nbb_cells[i].get_text() == nbb_unformatted_code) {\n",
       "                             nbb_cells[i].set_text(nbb_formatted_code);\n",
       "                        }\n",
       "                        break;\n",
       "                    }\n",
       "                }\n",
       "            }, 500);\n",
       "            "
      ],
      "text/plain": [
       "<IPython.core.display.Javascript object>"
      ]
     },
     "metadata": {},
     "output_type": "display_data"
    }
   ],
   "source": [
    "app_labels.head()"
   ]
  },
  {
   "cell_type": "code",
   "execution_count": 7,
   "metadata": {},
   "outputs": [
    {
     "data": {
      "text/html": [
       "<div>\n",
       "<style scoped>\n",
       "    .dataframe tbody tr th:only-of-type {\n",
       "        vertical-align: middle;\n",
       "    }\n",
       "\n",
       "    .dataframe tbody tr th {\n",
       "        vertical-align: top;\n",
       "    }\n",
       "\n",
       "    .dataframe thead th {\n",
       "        text-align: right;\n",
       "    }\n",
       "</style>\n",
       "<table border=\"1\" class=\"dataframe\">\n",
       "  <thead>\n",
       "    <tr style=\"text-align: right;\">\n",
       "      <th></th>\n",
       "      <th>label_id</th>\n",
       "      <th>category</th>\n",
       "    </tr>\n",
       "  </thead>\n",
       "  <tbody>\n",
       "    <tr>\n",
       "      <th>0</th>\n",
       "      <td>1</td>\n",
       "      <td>NaN</td>\n",
       "    </tr>\n",
       "    <tr>\n",
       "      <th>1</th>\n",
       "      <td>2</td>\n",
       "      <td>game-game type</td>\n",
       "    </tr>\n",
       "    <tr>\n",
       "      <th>2</th>\n",
       "      <td>3</td>\n",
       "      <td>game-Game themes</td>\n",
       "    </tr>\n",
       "    <tr>\n",
       "      <th>3</th>\n",
       "      <td>4</td>\n",
       "      <td>game-Art Style</td>\n",
       "    </tr>\n",
       "    <tr>\n",
       "      <th>4</th>\n",
       "      <td>5</td>\n",
       "      <td>game-Leisure time</td>\n",
       "    </tr>\n",
       "  </tbody>\n",
       "</table>\n",
       "</div>"
      ],
      "text/plain": [
       "   label_id           category\n",
       "0         1                NaN\n",
       "1         2     game-game type\n",
       "2         3   game-Game themes\n",
       "3         4     game-Art Style\n",
       "4         5  game-Leisure time"
      ]
     },
     "execution_count": 7,
     "metadata": {},
     "output_type": "execute_result"
    },
    {
     "data": {
      "application/javascript": [
       "\n",
       "            setTimeout(function() {\n",
       "                var nbb_cell_id = 7;\n",
       "                var nbb_unformatted_code = \"category_labels.head()\";\n",
       "                var nbb_formatted_code = \"category_labels.head()\";\n",
       "                var nbb_cells = Jupyter.notebook.get_cells();\n",
       "                for (var i = 0; i < nbb_cells.length; ++i) {\n",
       "                    if (nbb_cells[i].input_prompt_number == nbb_cell_id) {\n",
       "                        if (nbb_cells[i].get_text() == nbb_unformatted_code) {\n",
       "                             nbb_cells[i].set_text(nbb_formatted_code);\n",
       "                        }\n",
       "                        break;\n",
       "                    }\n",
       "                }\n",
       "            }, 500);\n",
       "            "
      ],
      "text/plain": [
       "<IPython.core.display.Javascript object>"
      ]
     },
     "metadata": {},
     "output_type": "display_data"
    }
   ],
   "source": [
    "category_labels.head()"
   ]
  },
  {
   "cell_type": "code",
   "execution_count": 8,
   "metadata": {},
   "outputs": [
    {
     "data": {
      "text/html": [
       "<div>\n",
       "<style scoped>\n",
       "    .dataframe tbody tr th:only-of-type {\n",
       "        vertical-align: middle;\n",
       "    }\n",
       "\n",
       "    .dataframe tbody tr th {\n",
       "        vertical-align: top;\n",
       "    }\n",
       "\n",
       "    .dataframe thead th {\n",
       "        text-align: right;\n",
       "    }\n",
       "</style>\n",
       "<table border=\"1\" class=\"dataframe\">\n",
       "  <thead>\n",
       "    <tr style=\"text-align: right;\">\n",
       "      <th></th>\n",
       "      <th>device_id</th>\n",
       "      <th>gender</th>\n",
       "      <th>age</th>\n",
       "      <th>group</th>\n",
       "    </tr>\n",
       "  </thead>\n",
       "  <tbody>\n",
       "    <tr>\n",
       "      <th>0</th>\n",
       "      <td>-8076087639492063270</td>\n",
       "      <td>M</td>\n",
       "      <td>35</td>\n",
       "      <td>M32-38</td>\n",
       "    </tr>\n",
       "    <tr>\n",
       "      <th>1</th>\n",
       "      <td>-2897161552818060146</td>\n",
       "      <td>M</td>\n",
       "      <td>35</td>\n",
       "      <td>M32-38</td>\n",
       "    </tr>\n",
       "    <tr>\n",
       "      <th>2</th>\n",
       "      <td>-8260683887967679142</td>\n",
       "      <td>M</td>\n",
       "      <td>35</td>\n",
       "      <td>M32-38</td>\n",
       "    </tr>\n",
       "    <tr>\n",
       "      <th>3</th>\n",
       "      <td>-4938849341048082022</td>\n",
       "      <td>M</td>\n",
       "      <td>30</td>\n",
       "      <td>M29-31</td>\n",
       "    </tr>\n",
       "    <tr>\n",
       "      <th>4</th>\n",
       "      <td>245133531816851882</td>\n",
       "      <td>M</td>\n",
       "      <td>30</td>\n",
       "      <td>M29-31</td>\n",
       "    </tr>\n",
       "  </tbody>\n",
       "</table>\n",
       "</div>"
      ],
      "text/plain": [
       "             device_id gender  age   group\n",
       "0 -8076087639492063270      M   35  M32-38\n",
       "1 -2897161552818060146      M   35  M32-38\n",
       "2 -8260683887967679142      M   35  M32-38\n",
       "3 -4938849341048082022      M   30  M29-31\n",
       "4   245133531816851882      M   30  M29-31"
      ]
     },
     "execution_count": 8,
     "metadata": {},
     "output_type": "execute_result"
    },
    {
     "data": {
      "application/javascript": [
       "\n",
       "            setTimeout(function() {\n",
       "                var nbb_cell_id = 8;\n",
       "                var nbb_unformatted_code = \"gender_age_train.head()\";\n",
       "                var nbb_formatted_code = \"gender_age_train.head()\";\n",
       "                var nbb_cells = Jupyter.notebook.get_cells();\n",
       "                for (var i = 0; i < nbb_cells.length; ++i) {\n",
       "                    if (nbb_cells[i].input_prompt_number == nbb_cell_id) {\n",
       "                        if (nbb_cells[i].get_text() == nbb_unformatted_code) {\n",
       "                             nbb_cells[i].set_text(nbb_formatted_code);\n",
       "                        }\n",
       "                        break;\n",
       "                    }\n",
       "                }\n",
       "            }, 500);\n",
       "            "
      ],
      "text/plain": [
       "<IPython.core.display.Javascript object>"
      ]
     },
     "metadata": {},
     "output_type": "display_data"
    }
   ],
   "source": [
    "gender_age_train.head()"
   ]
  },
  {
   "cell_type": "code",
   "execution_count": 9,
   "metadata": {},
   "outputs": [
    {
     "data": {
      "text/html": [
       "<div>\n",
       "<style scoped>\n",
       "    .dataframe tbody tr th:only-of-type {\n",
       "        vertical-align: middle;\n",
       "    }\n",
       "\n",
       "    .dataframe tbody tr th {\n",
       "        vertical-align: top;\n",
       "    }\n",
       "\n",
       "    .dataframe thead th {\n",
       "        text-align: right;\n",
       "    }\n",
       "</style>\n",
       "<table border=\"1\" class=\"dataframe\">\n",
       "  <thead>\n",
       "    <tr style=\"text-align: right;\">\n",
       "      <th></th>\n",
       "      <th>device_id</th>\n",
       "      <th>phone_brand</th>\n",
       "      <th>device_model</th>\n",
       "    </tr>\n",
       "  </thead>\n",
       "  <tbody>\n",
       "    <tr>\n",
       "      <th>0</th>\n",
       "      <td>-8890648629457979026</td>\n",
       "      <td>小米</td>\n",
       "      <td>红米</td>\n",
       "    </tr>\n",
       "    <tr>\n",
       "      <th>1</th>\n",
       "      <td>1277779817574759137</td>\n",
       "      <td>小米</td>\n",
       "      <td>MI 2</td>\n",
       "    </tr>\n",
       "    <tr>\n",
       "      <th>2</th>\n",
       "      <td>5137427614288105724</td>\n",
       "      <td>三星</td>\n",
       "      <td>Galaxy S4</td>\n",
       "    </tr>\n",
       "    <tr>\n",
       "      <th>3</th>\n",
       "      <td>3669464369358936369</td>\n",
       "      <td>SUGAR</td>\n",
       "      <td>时尚手机</td>\n",
       "    </tr>\n",
       "    <tr>\n",
       "      <th>4</th>\n",
       "      <td>-5019277647504317457</td>\n",
       "      <td>三星</td>\n",
       "      <td>Galaxy Note 2</td>\n",
       "    </tr>\n",
       "  </tbody>\n",
       "</table>\n",
       "</div>"
      ],
      "text/plain": [
       "             device_id phone_brand   device_model\n",
       "0 -8890648629457979026          小米             红米\n",
       "1  1277779817574759137          小米           MI 2\n",
       "2  5137427614288105724          三星      Galaxy S4\n",
       "3  3669464369358936369       SUGAR           时尚手机\n",
       "4 -5019277647504317457          三星  Galaxy Note 2"
      ]
     },
     "execution_count": 9,
     "metadata": {},
     "output_type": "execute_result"
    },
    {
     "data": {
      "application/javascript": [
       "\n",
       "            setTimeout(function() {\n",
       "                var nbb_cell_id = 9;\n",
       "                var nbb_unformatted_code = \"# \\u4e09\\u661f samsung\\n# \\u5929\\u8bed Ktouch\\n# \\u6d77\\u4fe1 hisense\\n# \\u8054\\u60f3 lenovo\\n# \\u6b27\\u6bd4 obi\\n# \\u7231\\u6d3e\\u5c14 ipair\\n# \\u52aa\\u6bd4\\u4e9a nubia\\n# \\u4f18\\u7c73 youmi\\n# \\u6735\\u552f dowe\\n# \\u9ed1\\u7c73 heymi\\n# \\u9524\\u5b50 hammer\\n# \\u9177\\u6bd4\\u9b54\\u65b9 koobee\\n# \\u7f8e\\u56fe meitu\\n# \\u5c3c\\u6bd4\\u9c81 nibilu\\n# \\u4e00\\u52a0 oneplus\\n# \\u4f18\\u8d2d yougo\\n# \\u8bfa\\u57fa\\u4e9a nokia\\n# \\u7cd6\\u846b\\u82a6 candy\\n# \\u4e2d\\u56fd\\u79fb\\u52a8 ccmc\\n# \\u8bed\\u4fe1 yuxin\\n# \\u57fa\\u4f0d kiwu\\n# \\u9752\\u6a59 greeno\\n# \\u534e\\u7855 asus\\n# \\u590f\\u65b0 panosonic\\n# \\u7ef4\\u56fe weitu\\n# \\u827e\\u4f18\\u5c3c aiyouni\\n# \\u6469\\u6258\\u7f57\\u62c9 moto\\n# \\u4e61\\u7c73 xiangmi\\n# \\u7c73\\u5947 micky\\n# \\u5927\\u53ef\\u4e50 bigcola\\n# \\u6c83\\u666e\\u4e30 wpf\\n# \\u795e\\u821f hasse\\n# \\u6469\\u4e50 mole\\n# \\u98de\\u79d2 fs\\n# \\u7c73\\u6b4c mige\\n# \\u5bcc\\u53ef\\u89c6 fks\\n# \\u5fb7\\u8d5b desci\\n# \\u68a6\\u7c73 mengmi\\n# \\u4e50\\u89c6 lshi\\n# \\u5c0f\\u6768\\u6811 smallt\\n# \\u7ebd\\u66fc newman\\n# \\u90a6\\u534e banghua\\n# E\\u6d3e epai\\n# \\u6613\\u6d3e epai\\n# \\u666e\\u8010\\u5c14 pner\\n# \\u6b27\\u65b0 ouxin\\n# \\u897f\\u7c73 ximi\\n# \\u6d77\\u5c14 haier\\n# \\u6ce2\\u5bfc bodao\\n# \\u7cef\\u7c73 nuomi\\n# \\u552f\\u7c73 weimi\\n# \\u9177\\u73c0 kupo\\n# \\u8c37\\u6b4c google\\n# \\u6602\\u8fbe ada\\n# \\u8046\\u97f5 lingyun\\n# Will use dictionary to convert to English\\nphone_brand.head()\";\n",
       "                var nbb_formatted_code = \"# \\u4e09\\u661f samsung\\n# \\u5929\\u8bed Ktouch\\n# \\u6d77\\u4fe1 hisense\\n# \\u8054\\u60f3 lenovo\\n# \\u6b27\\u6bd4 obi\\n# \\u7231\\u6d3e\\u5c14 ipair\\n# \\u52aa\\u6bd4\\u4e9a nubia\\n# \\u4f18\\u7c73 youmi\\n# \\u6735\\u552f dowe\\n# \\u9ed1\\u7c73 heymi\\n# \\u9524\\u5b50 hammer\\n# \\u9177\\u6bd4\\u9b54\\u65b9 koobee\\n# \\u7f8e\\u56fe meitu\\n# \\u5c3c\\u6bd4\\u9c81 nibilu\\n# \\u4e00\\u52a0 oneplus\\n# \\u4f18\\u8d2d yougo\\n# \\u8bfa\\u57fa\\u4e9a nokia\\n# \\u7cd6\\u846b\\u82a6 candy\\n# \\u4e2d\\u56fd\\u79fb\\u52a8 ccmc\\n# \\u8bed\\u4fe1 yuxin\\n# \\u57fa\\u4f0d kiwu\\n# \\u9752\\u6a59 greeno\\n# \\u534e\\u7855 asus\\n# \\u590f\\u65b0 panosonic\\n# \\u7ef4\\u56fe weitu\\n# \\u827e\\u4f18\\u5c3c aiyouni\\n# \\u6469\\u6258\\u7f57\\u62c9 moto\\n# \\u4e61\\u7c73 xiangmi\\n# \\u7c73\\u5947 micky\\n# \\u5927\\u53ef\\u4e50 bigcola\\n# \\u6c83\\u666e\\u4e30 wpf\\n# \\u795e\\u821f hasse\\n# \\u6469\\u4e50 mole\\n# \\u98de\\u79d2 fs\\n# \\u7c73\\u6b4c mige\\n# \\u5bcc\\u53ef\\u89c6 fks\\n# \\u5fb7\\u8d5b desci\\n# \\u68a6\\u7c73 mengmi\\n# \\u4e50\\u89c6 lshi\\n# \\u5c0f\\u6768\\u6811 smallt\\n# \\u7ebd\\u66fc newman\\n# \\u90a6\\u534e banghua\\n# E\\u6d3e epai\\n# \\u6613\\u6d3e epai\\n# \\u666e\\u8010\\u5c14 pner\\n# \\u6b27\\u65b0 ouxin\\n# \\u897f\\u7c73 ximi\\n# \\u6d77\\u5c14 haier\\n# \\u6ce2\\u5bfc bodao\\n# \\u7cef\\u7c73 nuomi\\n# \\u552f\\u7c73 weimi\\n# \\u9177\\u73c0 kupo\\n# \\u8c37\\u6b4c google\\n# \\u6602\\u8fbe ada\\n# \\u8046\\u97f5 lingyun\\n# Will use dictionary to convert to English\\nphone_brand.head()\";\n",
       "                var nbb_cells = Jupyter.notebook.get_cells();\n",
       "                for (var i = 0; i < nbb_cells.length; ++i) {\n",
       "                    if (nbb_cells[i].input_prompt_number == nbb_cell_id) {\n",
       "                        if (nbb_cells[i].get_text() == nbb_unformatted_code) {\n",
       "                             nbb_cells[i].set_text(nbb_formatted_code);\n",
       "                        }\n",
       "                        break;\n",
       "                    }\n",
       "                }\n",
       "            }, 500);\n",
       "            "
      ],
      "text/plain": [
       "<IPython.core.display.Javascript object>"
      ]
     },
     "metadata": {},
     "output_type": "display_data"
    }
   ],
   "source": [
    "# 三星 samsung\n",
    "# 天语 Ktouch\n",
    "# 海信 hisense\n",
    "# 联想 lenovo\n",
    "# 欧比 obi\n",
    "# 爱派尔 ipair\n",
    "# 努比亚 nubia\n",
    "# 优米 youmi\n",
    "# 朵唯 dowe\n",
    "# 黑米 heymi\n",
    "# 锤子 hammer\n",
    "# 酷比魔方 koobee\n",
    "# 美图 meitu\n",
    "# 尼比鲁 nibilu\n",
    "# 一加 oneplus\n",
    "# 优购 yougo\n",
    "# 诺基亚 nokia\n",
    "# 糖葫芦 candy\n",
    "# 中国移动 ccmc\n",
    "# 语信 yuxin\n",
    "# 基伍 kiwu\n",
    "# 青橙 greeno\n",
    "# 华硕 asus\n",
    "# 夏新 panosonic\n",
    "# 维图 weitu\n",
    "# 艾优尼 aiyouni\n",
    "# 摩托罗拉 moto\n",
    "# 乡米 xiangmi\n",
    "# 米奇 micky\n",
    "# 大可乐 bigcola\n",
    "# 沃普丰 wpf\n",
    "# 神舟 hasse\n",
    "# 摩乐 mole\n",
    "# 飞秒 fs\n",
    "# 米歌 mige\n",
    "# 富可视 fks\n",
    "# 德赛 desci\n",
    "# 梦米 mengmi\n",
    "# 乐视 lshi\n",
    "# 小杨树 smallt\n",
    "# 纽曼 newman\n",
    "# 邦华 banghua\n",
    "# E派 epai\n",
    "# 易派 epai\n",
    "# 普耐尔 pner\n",
    "# 欧新 ouxin\n",
    "# 西米 ximi\n",
    "# 海尔 haier\n",
    "# 波导 bodao\n",
    "# 糯米 nuomi\n",
    "# 唯米 weimi\n",
    "# 酷珀 kupo\n",
    "# 谷歌 google\n",
    "# 昂达 ada\n",
    "# 聆韵 lingyun\n",
    "# Will use dictionary to convert to English\n",
    "phone_brand.head()"
   ]
  },
  {
   "cell_type": "code",
   "execution_count": 10,
   "metadata": {},
   "outputs": [
    {
     "data": {
      "application/javascript": [
       "\n",
       "            setTimeout(function() {\n",
       "                var nbb_cell_id = 10;\n",
       "                var nbb_unformatted_code = \"# Merging app_events and event_id through event_id column\\nmerged_events = pd.merge(app_events, events, on=\\\"event_id\\\")\";\n",
       "                var nbb_formatted_code = \"# Merging app_events and event_id through event_id column\\nmerged_events = pd.merge(app_events, events, on=\\\"event_id\\\")\";\n",
       "                var nbb_cells = Jupyter.notebook.get_cells();\n",
       "                for (var i = 0; i < nbb_cells.length; ++i) {\n",
       "                    if (nbb_cells[i].input_prompt_number == nbb_cell_id) {\n",
       "                        if (nbb_cells[i].get_text() == nbb_unformatted_code) {\n",
       "                             nbb_cells[i].set_text(nbb_formatted_code);\n",
       "                        }\n",
       "                        break;\n",
       "                    }\n",
       "                }\n",
       "            }, 500);\n",
       "            "
      ],
      "text/plain": [
       "<IPython.core.display.Javascript object>"
      ]
     },
     "metadata": {},
     "output_type": "display_data"
    }
   ],
   "source": [
    "# Merging app_events and event_id through event_id column\n",
    "merged_events = pd.merge(app_events, events, on=\"event_id\")"
   ]
  },
  {
   "cell_type": "code",
   "execution_count": 11,
   "metadata": {},
   "outputs": [
    {
     "data": {
      "application/javascript": [
       "\n",
       "            setTimeout(function() {\n",
       "                var nbb_cell_id = 11;\n",
       "                var nbb_unformatted_code = \"# Merging app_labels and category_labels through label_id\\nmerged_apps = pd.merge(app_labels, category_labels, on=\\\"label_id\\\")\";\n",
       "                var nbb_formatted_code = \"# Merging app_labels and category_labels through label_id\\nmerged_apps = pd.merge(app_labels, category_labels, on=\\\"label_id\\\")\";\n",
       "                var nbb_cells = Jupyter.notebook.get_cells();\n",
       "                for (var i = 0; i < nbb_cells.length; ++i) {\n",
       "                    if (nbb_cells[i].input_prompt_number == nbb_cell_id) {\n",
       "                        if (nbb_cells[i].get_text() == nbb_unformatted_code) {\n",
       "                             nbb_cells[i].set_text(nbb_formatted_code);\n",
       "                        }\n",
       "                        break;\n",
       "                    }\n",
       "                }\n",
       "            }, 500);\n",
       "            "
      ],
      "text/plain": [
       "<IPython.core.display.Javascript object>"
      ]
     },
     "metadata": {},
     "output_type": "display_data"
    }
   ],
   "source": [
    "# Merging app_labels and category_labels through label_id\n",
    "merged_apps = pd.merge(app_labels, category_labels, on=\"label_id\")"
   ]
  },
  {
   "cell_type": "code",
   "execution_count": 12,
   "metadata": {},
   "outputs": [
    {
     "data": {
      "application/javascript": [
       "\n",
       "            setTimeout(function() {\n",
       "                var nbb_cell_id = 12;\n",
       "                var nbb_unformatted_code = \"# Merging previous merged data tables together to make larger data frame\\nmerged_events_apps = pd.merge(merged_events, merged_apps, on=\\\"app_id\\\")\";\n",
       "                var nbb_formatted_code = \"# Merging previous merged data tables together to make larger data frame\\nmerged_events_apps = pd.merge(merged_events, merged_apps, on=\\\"app_id\\\")\";\n",
       "                var nbb_cells = Jupyter.notebook.get_cells();\n",
       "                for (var i = 0; i < nbb_cells.length; ++i) {\n",
       "                    if (nbb_cells[i].input_prompt_number == nbb_cell_id) {\n",
       "                        if (nbb_cells[i].get_text() == nbb_unformatted_code) {\n",
       "                             nbb_cells[i].set_text(nbb_formatted_code);\n",
       "                        }\n",
       "                        break;\n",
       "                    }\n",
       "                }\n",
       "            }, 500);\n",
       "            "
      ],
      "text/plain": [
       "<IPython.core.display.Javascript object>"
      ]
     },
     "metadata": {},
     "output_type": "display_data"
    }
   ],
   "source": [
    "# Merging previous merged data tables together to make larger data frame\n",
    "merged_events_apps = pd.merge(merged_events, merged_apps, on=\"app_id\")"
   ]
  },
  {
   "cell_type": "code",
   "execution_count": 13,
   "metadata": {},
   "outputs": [
    {
     "data": {
      "application/javascript": [
       "\n",
       "            setTimeout(function() {\n",
       "                var nbb_cell_id = 13;\n",
       "                var nbb_unformatted_code = \"# Adding phone brand to merged_events_apps through device_id merge\\nmerged_events_apps_brands = pd.merge(merged_events_apps, phone_brand, on=\\\"device_id\\\")\";\n",
       "                var nbb_formatted_code = \"# Adding phone brand to merged_events_apps through device_id merge\\nmerged_events_apps_brands = pd.merge(merged_events_apps, phone_brand, on=\\\"device_id\\\")\";\n",
       "                var nbb_cells = Jupyter.notebook.get_cells();\n",
       "                for (var i = 0; i < nbb_cells.length; ++i) {\n",
       "                    if (nbb_cells[i].input_prompt_number == nbb_cell_id) {\n",
       "                        if (nbb_cells[i].get_text() == nbb_unformatted_code) {\n",
       "                             nbb_cells[i].set_text(nbb_formatted_code);\n",
       "                        }\n",
       "                        break;\n",
       "                    }\n",
       "                }\n",
       "            }, 500);\n",
       "            "
      ],
      "text/plain": [
       "<IPython.core.display.Javascript object>"
      ]
     },
     "metadata": {},
     "output_type": "display_data"
    }
   ],
   "source": [
    "# Adding phone brand to merged_events_apps through device_id merge\n",
    "merged_events_apps_brands = pd.merge(merged_events_apps, phone_brand, on=\"device_id\")"
   ]
  },
  {
   "cell_type": "code",
   "execution_count": 14,
   "metadata": {},
   "outputs": [
    {
     "data": {
      "text/html": [
       "<div>\n",
       "<style scoped>\n",
       "    .dataframe tbody tr th:only-of-type {\n",
       "        vertical-align: middle;\n",
       "    }\n",
       "\n",
       "    .dataframe tbody tr th {\n",
       "        vertical-align: top;\n",
       "    }\n",
       "\n",
       "    .dataframe thead th {\n",
       "        text-align: right;\n",
       "    }\n",
       "</style>\n",
       "<table border=\"1\" class=\"dataframe\">\n",
       "  <thead>\n",
       "    <tr style=\"text-align: right;\">\n",
       "      <th></th>\n",
       "      <th>event_id</th>\n",
       "      <th>app_id</th>\n",
       "      <th>is_installed</th>\n",
       "      <th>is_active</th>\n",
       "      <th>device_id</th>\n",
       "      <th>timestamp</th>\n",
       "      <th>longitude</th>\n",
       "      <th>latitude</th>\n",
       "      <th>label_id</th>\n",
       "      <th>category</th>\n",
       "      <th>phone_brand</th>\n",
       "      <th>device_model</th>\n",
       "      <th>gender</th>\n",
       "      <th>age</th>\n",
       "      <th>group</th>\n",
       "    </tr>\n",
       "  </thead>\n",
       "  <tbody>\n",
       "    <tr>\n",
       "      <th>0</th>\n",
       "      <td>6</td>\n",
       "      <td>5927333115845830913</td>\n",
       "      <td>1</td>\n",
       "      <td>1</td>\n",
       "      <td>1476664663289716375</td>\n",
       "      <td>2016-05-01 00:27:21</td>\n",
       "      <td>0.0</td>\n",
       "      <td>0.0</td>\n",
       "      <td>549</td>\n",
       "      <td>Property Industry 1.0</td>\n",
       "      <td>华为</td>\n",
       "      <td>Mate 7</td>\n",
       "      <td>M</td>\n",
       "      <td>19</td>\n",
       "      <td>M22-</td>\n",
       "    </tr>\n",
       "    <tr>\n",
       "      <th>1</th>\n",
       "      <td>6</td>\n",
       "      <td>5927333115845830913</td>\n",
       "      <td>1</td>\n",
       "      <td>1</td>\n",
       "      <td>1476664663289716375</td>\n",
       "      <td>2016-05-01 00:27:21</td>\n",
       "      <td>0.0</td>\n",
       "      <td>0.0</td>\n",
       "      <td>548</td>\n",
       "      <td>Industry tag</td>\n",
       "      <td>华为</td>\n",
       "      <td>Mate 7</td>\n",
       "      <td>M</td>\n",
       "      <td>19</td>\n",
       "      <td>M22-</td>\n",
       "    </tr>\n",
       "    <tr>\n",
       "      <th>2</th>\n",
       "      <td>6</td>\n",
       "      <td>5927333115845830913</td>\n",
       "      <td>1</td>\n",
       "      <td>1</td>\n",
       "      <td>1476664663289716375</td>\n",
       "      <td>2016-05-01 00:27:21</td>\n",
       "      <td>0.0</td>\n",
       "      <td>0.0</td>\n",
       "      <td>710</td>\n",
       "      <td>Relatives 1</td>\n",
       "      <td>华为</td>\n",
       "      <td>Mate 7</td>\n",
       "      <td>M</td>\n",
       "      <td>19</td>\n",
       "      <td>M22-</td>\n",
       "    </tr>\n",
       "    <tr>\n",
       "      <th>3</th>\n",
       "      <td>6</td>\n",
       "      <td>5927333115845830913</td>\n",
       "      <td>1</td>\n",
       "      <td>1</td>\n",
       "      <td>1476664663289716375</td>\n",
       "      <td>2016-05-01 00:27:21</td>\n",
       "      <td>0.0</td>\n",
       "      <td>0.0</td>\n",
       "      <td>704</td>\n",
       "      <td>Property Industry 2.0</td>\n",
       "      <td>华为</td>\n",
       "      <td>Mate 7</td>\n",
       "      <td>M</td>\n",
       "      <td>19</td>\n",
       "      <td>M22-</td>\n",
       "    </tr>\n",
       "    <tr>\n",
       "      <th>4</th>\n",
       "      <td>6</td>\n",
       "      <td>5927333115845830913</td>\n",
       "      <td>1</td>\n",
       "      <td>1</td>\n",
       "      <td>1476664663289716375</td>\n",
       "      <td>2016-05-01 00:27:21</td>\n",
       "      <td>0.0</td>\n",
       "      <td>0.0</td>\n",
       "      <td>172</td>\n",
       "      <td>IM</td>\n",
       "      <td>华为</td>\n",
       "      <td>Mate 7</td>\n",
       "      <td>M</td>\n",
       "      <td>19</td>\n",
       "      <td>M22-</td>\n",
       "    </tr>\n",
       "  </tbody>\n",
       "</table>\n",
       "</div>"
      ],
      "text/plain": [
       "   event_id               app_id  is_installed  is_active  \\\n",
       "0         6  5927333115845830913             1          1   \n",
       "1         6  5927333115845830913             1          1   \n",
       "2         6  5927333115845830913             1          1   \n",
       "3         6  5927333115845830913             1          1   \n",
       "4         6  5927333115845830913             1          1   \n",
       "\n",
       "             device_id            timestamp  longitude  latitude  label_id  \\\n",
       "0  1476664663289716375  2016-05-01 00:27:21        0.0       0.0       549   \n",
       "1  1476664663289716375  2016-05-01 00:27:21        0.0       0.0       548   \n",
       "2  1476664663289716375  2016-05-01 00:27:21        0.0       0.0       710   \n",
       "3  1476664663289716375  2016-05-01 00:27:21        0.0       0.0       704   \n",
       "4  1476664663289716375  2016-05-01 00:27:21        0.0       0.0       172   \n",
       "\n",
       "                category phone_brand device_model gender  age group  \n",
       "0  Property Industry 1.0          华为       Mate 7      M   19  M22-  \n",
       "1           Industry tag          华为       Mate 7      M   19  M22-  \n",
       "2            Relatives 1          华为       Mate 7      M   19  M22-  \n",
       "3  Property Industry 2.0          华为       Mate 7      M   19  M22-  \n",
       "4                     IM          华为       Mate 7      M   19  M22-  "
      ]
     },
     "execution_count": 14,
     "metadata": {},
     "output_type": "execute_result"
    },
    {
     "data": {
      "application/javascript": [
       "\n",
       "            setTimeout(function() {\n",
       "                var nbb_cell_id = 14;\n",
       "                var nbb_unformatted_code = \"# Creating final data frame by merging gender and age with previous dataframe\\nfinal_df = pd.merge(merged_events_apps_brands, gender_age_train, on=\\\"device_id\\\")\\nfinal_df.head()\";\n",
       "                var nbb_formatted_code = \"# Creating final data frame by merging gender and age with previous dataframe\\nfinal_df = pd.merge(merged_events_apps_brands, gender_age_train, on=\\\"device_id\\\")\\nfinal_df.head()\";\n",
       "                var nbb_cells = Jupyter.notebook.get_cells();\n",
       "                for (var i = 0; i < nbb_cells.length; ++i) {\n",
       "                    if (nbb_cells[i].input_prompt_number == nbb_cell_id) {\n",
       "                        if (nbb_cells[i].get_text() == nbb_unformatted_code) {\n",
       "                             nbb_cells[i].set_text(nbb_formatted_code);\n",
       "                        }\n",
       "                        break;\n",
       "                    }\n",
       "                }\n",
       "            }, 500);\n",
       "            "
      ],
      "text/plain": [
       "<IPython.core.display.Javascript object>"
      ]
     },
     "metadata": {},
     "output_type": "display_data"
    }
   ],
   "source": [
    "# Creating final data frame by merging gender and age with previous dataframe\n",
    "final_df = pd.merge(merged_events_apps_brands, gender_age_train, on=\"device_id\")\n",
    "final_df.head()"
   ]
  },
  {
   "cell_type": "markdown",
   "metadata": {},
   "source": [
    "# Converting Phone Brands to English"
   ]
  },
  {
   "cell_type": "code",
   "execution_count": 15,
   "metadata": {},
   "outputs": [
    {
     "data": {
      "application/javascript": [
       "\n",
       "            setTimeout(function() {\n",
       "                var nbb_cell_id = 15;\n",
       "                var nbb_unformatted_code = \"to_english = {\\n    \\\"\\u534e\\u4e3a\\\": \\\"huawei\\\",  # manually translated and entered\\n    \\\"\\u5c0f\\u7c73\\\": \\\"xiaomi\\\",  # manually translated and entered\\n    \\\"\\u9b45\\u65cf\\\": \\\"meizu\\\",  # manually translated and entered\\n    \\\"vivo\\\": \\\"vivo\\\",  # manually translated and entered\\n    \\\"\\u9177\\u6d3e\\\": \\\"coolpad\\\",  # manually translated and entered\\n    \\\"\\u7d22\\u5c3c\\\": \\\"sony\\\",  # manually translated and entered\\n    \\\"OPPO\\\": \\\"oppo\\\",  # manually translated and entered\\n    \\\"LG\\\": \\\"lg\\\",  # manually translated and entered\\n    \\\"HTC\\\": \\\"htc\\\",  # manually translated and entered\\n    \\\"\\u91d1\\u7acb\\\": \\\"gionee\\\",  # manually translated and entered\\n    \\\"\\u4e2d\\u5174\\\": \\\"zte\\\",  # manually translated and entered\\n    \\\"\\u5947\\u9177\\\": \\\"qiku\\\",  # manually translated and entered\\n    \\\"TCL\\\": \\\"tcl\\\",  # manually translated and entered\\n    \\\"\\u4e09\\u661f\\\": \\\"samsung\\\",\\n    \\\"\\u5929\\u8bed\\\": \\\"Ktouch\\\",\\n    \\\"\\u6d77\\u4fe1\\\": \\\"hisense\\\",\\n    \\\"\\u8054\\u60f3\\\": \\\"lenovo\\\",\\n    \\\"\\u6b27\\u6bd4\\\": \\\"obi\\\",\\n    \\\"\\u7231\\u6d3e\\u5c14\\\": \\\"ipair\\\",\\n    \\\"\\u52aa\\u6bd4\\u4e9a\\\": \\\"nubia\\\",\\n    \\\"\\u4f18\\u7c73\\\": \\\"youmi\\\",\\n    \\\"\\u6735\\u552f\\\": \\\"dowe\\\",\\n    \\\"\\u9ed1\\u7c73\\\": \\\"heymi\\\",\\n    \\\"\\u9524\\u5b50\\\": \\\"hammer\\\",\\n    \\\"\\u9177\\u6bd4\\u9b54\\u65b9\\\": \\\"koobee\\\",\\n    \\\"\\u7f8e\\u56fe\\\": \\\"meitu\\\",\\n    \\\"\\u5c3c\\u6bd4\\u9c81\\\": \\\"nibilu\\\",\\n    \\\"\\u4e00\\u52a0\\\": \\\"oneplus\\\",\\n    \\\"\\u4f18\\u8d2d\\\": \\\"yougo\\\",\\n    \\\"\\u8bfa\\u57fa\\u4e9a\\\": \\\"nokia\\\",\\n    \\\"\\u7cd6\\u846b\\u82a6\\\": \\\"candy\\\",\\n    \\\"\\u4e2d\\u56fd\\u79fb\\u52a8\\\": \\\"ccmc\\\",\\n    \\\"\\u8bed\\u4fe1\\\": \\\"yuxin\\\",\\n    \\\"\\u57fa\\u4f0d\\\": \\\"kiwu\\\",\\n    \\\"\\u9752\\u6a59\\\": \\\"greeno\\\",\\n    \\\"\\u534e\\u7855\\\": \\\"asus\\\",\\n    \\\"\\u590f\\u65b0\\\": \\\"panosonic\\\",\\n    \\\"\\u7ef4\\u56fe\\\": \\\"weitu\\\",\\n    \\\"\\u827e\\u4f18\\u5c3c\\\": \\\"aiyouni\\\",\\n    \\\"\\u6469\\u6258\\u7f57\\u62c9\\\": \\\"moto\\\",\\n    \\\"\\u4e61\\u7c73\\\": \\\"xiangmi\\\",\\n    \\\"\\u7c73\\u5947\\\": \\\"micky\\\",\\n    \\\"\\u5927\\u53ef\\u4e50\\\": \\\"bigcola\\\",\\n    \\\"\\u6c83\\u666e\\u4e30\\\": \\\"wpf\\\",\\n    \\\"\\u795e\\u821f\\\": \\\"hasse\\\",\\n    \\\"\\u6469\\u4e50\\\": \\\"mole\\\",\\n    \\\"\\u98de\\u79d2\\\": \\\"fs\\\",\\n    \\\"\\u7c73\\u6b4c\\\": \\\"mige\\\",\\n    \\\"\\u5bcc\\u53ef\\u89c6\\\": \\\"fks\\\",\\n    \\\"\\u5fb7\\u8d5b\\\": \\\"desci\\\",\\n    \\\"\\u68a6\\u7c73\\\": \\\"mengmi\\\",\\n    \\\"\\u4e50\\u89c6\\\": \\\"lshi\\\",\\n    \\\"\\u5c0f\\u6768\\u6811\\\": \\\"smallt\\\",\\n    \\\"\\u7ebd\\u66fc\\\": \\\"newman\\\",\\n    \\\"\\u90a6\\u534e\\\": \\\"banghua\\\",\\n    \\\"E\\u6d3e\\\": \\\"epai\\\",\\n    \\\"\\u6613\\u6d3e\\\": \\\"epai\\\",\\n    \\\"\\u666e\\u8010\\u5c14\\\": \\\"pner\\\",\\n    \\\"\\u6b27\\u65b0\\\": \\\"ouxin\\\",\\n    \\\"\\u897f\\u7c73\\\": \\\"ximi\\\",\\n    \\\"\\u6d77\\u5c14\\\": \\\"haier\\\",\\n    \\\"\\u6ce2\\u5bfc\\\": \\\"bodao\\\",\\n    \\\"\\u7cef\\u7c73\\\": \\\"nuomi\\\",\\n    \\\"\\u552f\\u7c73\\\": \\\"weimi\\\",\\n    \\\"\\u9177\\u73c0\\\": \\\"kupo\\\",\\n    \\\"\\u8c37\\u6b4c\\\": \\\"google\\\",\\n    \\\"\\u6602\\u8fbe\\\": \\\"ada\\\",\\n    \\\"\\u8046\\u97f5\\\": \\\"lingyun\\\",\\n}\";\n",
       "                var nbb_formatted_code = \"to_english = {\\n    \\\"\\u534e\\u4e3a\\\": \\\"huawei\\\",  # manually translated and entered\\n    \\\"\\u5c0f\\u7c73\\\": \\\"xiaomi\\\",  # manually translated and entered\\n    \\\"\\u9b45\\u65cf\\\": \\\"meizu\\\",  # manually translated and entered\\n    \\\"vivo\\\": \\\"vivo\\\",  # manually translated and entered\\n    \\\"\\u9177\\u6d3e\\\": \\\"coolpad\\\",  # manually translated and entered\\n    \\\"\\u7d22\\u5c3c\\\": \\\"sony\\\",  # manually translated and entered\\n    \\\"OPPO\\\": \\\"oppo\\\",  # manually translated and entered\\n    \\\"LG\\\": \\\"lg\\\",  # manually translated and entered\\n    \\\"HTC\\\": \\\"htc\\\",  # manually translated and entered\\n    \\\"\\u91d1\\u7acb\\\": \\\"gionee\\\",  # manually translated and entered\\n    \\\"\\u4e2d\\u5174\\\": \\\"zte\\\",  # manually translated and entered\\n    \\\"\\u5947\\u9177\\\": \\\"qiku\\\",  # manually translated and entered\\n    \\\"TCL\\\": \\\"tcl\\\",  # manually translated and entered\\n    \\\"\\u4e09\\u661f\\\": \\\"samsung\\\",\\n    \\\"\\u5929\\u8bed\\\": \\\"Ktouch\\\",\\n    \\\"\\u6d77\\u4fe1\\\": \\\"hisense\\\",\\n    \\\"\\u8054\\u60f3\\\": \\\"lenovo\\\",\\n    \\\"\\u6b27\\u6bd4\\\": \\\"obi\\\",\\n    \\\"\\u7231\\u6d3e\\u5c14\\\": \\\"ipair\\\",\\n    \\\"\\u52aa\\u6bd4\\u4e9a\\\": \\\"nubia\\\",\\n    \\\"\\u4f18\\u7c73\\\": \\\"youmi\\\",\\n    \\\"\\u6735\\u552f\\\": \\\"dowe\\\",\\n    \\\"\\u9ed1\\u7c73\\\": \\\"heymi\\\",\\n    \\\"\\u9524\\u5b50\\\": \\\"hammer\\\",\\n    \\\"\\u9177\\u6bd4\\u9b54\\u65b9\\\": \\\"koobee\\\",\\n    \\\"\\u7f8e\\u56fe\\\": \\\"meitu\\\",\\n    \\\"\\u5c3c\\u6bd4\\u9c81\\\": \\\"nibilu\\\",\\n    \\\"\\u4e00\\u52a0\\\": \\\"oneplus\\\",\\n    \\\"\\u4f18\\u8d2d\\\": \\\"yougo\\\",\\n    \\\"\\u8bfa\\u57fa\\u4e9a\\\": \\\"nokia\\\",\\n    \\\"\\u7cd6\\u846b\\u82a6\\\": \\\"candy\\\",\\n    \\\"\\u4e2d\\u56fd\\u79fb\\u52a8\\\": \\\"ccmc\\\",\\n    \\\"\\u8bed\\u4fe1\\\": \\\"yuxin\\\",\\n    \\\"\\u57fa\\u4f0d\\\": \\\"kiwu\\\",\\n    \\\"\\u9752\\u6a59\\\": \\\"greeno\\\",\\n    \\\"\\u534e\\u7855\\\": \\\"asus\\\",\\n    \\\"\\u590f\\u65b0\\\": \\\"panosonic\\\",\\n    \\\"\\u7ef4\\u56fe\\\": \\\"weitu\\\",\\n    \\\"\\u827e\\u4f18\\u5c3c\\\": \\\"aiyouni\\\",\\n    \\\"\\u6469\\u6258\\u7f57\\u62c9\\\": \\\"moto\\\",\\n    \\\"\\u4e61\\u7c73\\\": \\\"xiangmi\\\",\\n    \\\"\\u7c73\\u5947\\\": \\\"micky\\\",\\n    \\\"\\u5927\\u53ef\\u4e50\\\": \\\"bigcola\\\",\\n    \\\"\\u6c83\\u666e\\u4e30\\\": \\\"wpf\\\",\\n    \\\"\\u795e\\u821f\\\": \\\"hasse\\\",\\n    \\\"\\u6469\\u4e50\\\": \\\"mole\\\",\\n    \\\"\\u98de\\u79d2\\\": \\\"fs\\\",\\n    \\\"\\u7c73\\u6b4c\\\": \\\"mige\\\",\\n    \\\"\\u5bcc\\u53ef\\u89c6\\\": \\\"fks\\\",\\n    \\\"\\u5fb7\\u8d5b\\\": \\\"desci\\\",\\n    \\\"\\u68a6\\u7c73\\\": \\\"mengmi\\\",\\n    \\\"\\u4e50\\u89c6\\\": \\\"lshi\\\",\\n    \\\"\\u5c0f\\u6768\\u6811\\\": \\\"smallt\\\",\\n    \\\"\\u7ebd\\u66fc\\\": \\\"newman\\\",\\n    \\\"\\u90a6\\u534e\\\": \\\"banghua\\\",\\n    \\\"E\\u6d3e\\\": \\\"epai\\\",\\n    \\\"\\u6613\\u6d3e\\\": \\\"epai\\\",\\n    \\\"\\u666e\\u8010\\u5c14\\\": \\\"pner\\\",\\n    \\\"\\u6b27\\u65b0\\\": \\\"ouxin\\\",\\n    \\\"\\u897f\\u7c73\\\": \\\"ximi\\\",\\n    \\\"\\u6d77\\u5c14\\\": \\\"haier\\\",\\n    \\\"\\u6ce2\\u5bfc\\\": \\\"bodao\\\",\\n    \\\"\\u7cef\\u7c73\\\": \\\"nuomi\\\",\\n    \\\"\\u552f\\u7c73\\\": \\\"weimi\\\",\\n    \\\"\\u9177\\u73c0\\\": \\\"kupo\\\",\\n    \\\"\\u8c37\\u6b4c\\\": \\\"google\\\",\\n    \\\"\\u6602\\u8fbe\\\": \\\"ada\\\",\\n    \\\"\\u8046\\u97f5\\\": \\\"lingyun\\\",\\n}\";\n",
       "                var nbb_cells = Jupyter.notebook.get_cells();\n",
       "                for (var i = 0; i < nbb_cells.length; ++i) {\n",
       "                    if (nbb_cells[i].input_prompt_number == nbb_cell_id) {\n",
       "                        if (nbb_cells[i].get_text() == nbb_unformatted_code) {\n",
       "                             nbb_cells[i].set_text(nbb_formatted_code);\n",
       "                        }\n",
       "                        break;\n",
       "                    }\n",
       "                }\n",
       "            }, 500);\n",
       "            "
      ],
      "text/plain": [
       "<IPython.core.display.Javascript object>"
      ]
     },
     "metadata": {},
     "output_type": "display_data"
    }
   ],
   "source": [
    "to_english = {\n",
    "    \"华为\": \"huawei\",  # manually translated and entered\n",
    "    \"小米\": \"xiaomi\",  # manually translated and entered\n",
    "    \"魅族\": \"meizu\",  # manually translated and entered\n",
    "    \"vivo\": \"vivo\",  # manually translated and entered\n",
    "    \"酷派\": \"coolpad\",  # manually translated and entered\n",
    "    \"索尼\": \"sony\",  # manually translated and entered\n",
    "    \"OPPO\": \"oppo\",  # manually translated and entered\n",
    "    \"LG\": \"lg\",  # manually translated and entered\n",
    "    \"HTC\": \"htc\",  # manually translated and entered\n",
    "    \"金立\": \"gionee\",  # manually translated and entered\n",
    "    \"中兴\": \"zte\",  # manually translated and entered\n",
    "    \"奇酷\": \"qiku\",  # manually translated and entered\n",
    "    \"TCL\": \"tcl\",  # manually translated and entered\n",
    "    \"三星\": \"samsung\",\n",
    "    \"天语\": \"Ktouch\",\n",
    "    \"海信\": \"hisense\",\n",
    "    \"联想\": \"lenovo\",\n",
    "    \"欧比\": \"obi\",\n",
    "    \"爱派尔\": \"ipair\",\n",
    "    \"努比亚\": \"nubia\",\n",
    "    \"优米\": \"youmi\",\n",
    "    \"朵唯\": \"dowe\",\n",
    "    \"黑米\": \"heymi\",\n",
    "    \"锤子\": \"hammer\",\n",
    "    \"酷比魔方\": \"koobee\",\n",
    "    \"美图\": \"meitu\",\n",
    "    \"尼比鲁\": \"nibilu\",\n",
    "    \"一加\": \"oneplus\",\n",
    "    \"优购\": \"yougo\",\n",
    "    \"诺基亚\": \"nokia\",\n",
    "    \"糖葫芦\": \"candy\",\n",
    "    \"中国移动\": \"ccmc\",\n",
    "    \"语信\": \"yuxin\",\n",
    "    \"基伍\": \"kiwu\",\n",
    "    \"青橙\": \"greeno\",\n",
    "    \"华硕\": \"asus\",\n",
    "    \"夏新\": \"panosonic\",\n",
    "    \"维图\": \"weitu\",\n",
    "    \"艾优尼\": \"aiyouni\",\n",
    "    \"摩托罗拉\": \"moto\",\n",
    "    \"乡米\": \"xiangmi\",\n",
    "    \"米奇\": \"micky\",\n",
    "    \"大可乐\": \"bigcola\",\n",
    "    \"沃普丰\": \"wpf\",\n",
    "    \"神舟\": \"hasse\",\n",
    "    \"摩乐\": \"mole\",\n",
    "    \"飞秒\": \"fs\",\n",
    "    \"米歌\": \"mige\",\n",
    "    \"富可视\": \"fks\",\n",
    "    \"德赛\": \"desci\",\n",
    "    \"梦米\": \"mengmi\",\n",
    "    \"乐视\": \"lshi\",\n",
    "    \"小杨树\": \"smallt\",\n",
    "    \"纽曼\": \"newman\",\n",
    "    \"邦华\": \"banghua\",\n",
    "    \"E派\": \"epai\",\n",
    "    \"易派\": \"epai\",\n",
    "    \"普耐尔\": \"pner\",\n",
    "    \"欧新\": \"ouxin\",\n",
    "    \"西米\": \"ximi\",\n",
    "    \"海尔\": \"haier\",\n",
    "    \"波导\": \"bodao\",\n",
    "    \"糯米\": \"nuomi\",\n",
    "    \"唯米\": \"weimi\",\n",
    "    \"酷珀\": \"kupo\",\n",
    "    \"谷歌\": \"google\",\n",
    "    \"昂达\": \"ada\",\n",
    "    \"聆韵\": \"lingyun\",\n",
    "}"
   ]
  },
  {
   "cell_type": "code",
   "execution_count": 16,
   "metadata": {},
   "outputs": [
    {
     "data": {
      "application/javascript": [
       "\n",
       "            setTimeout(function() {\n",
       "                var nbb_cell_id = 16;\n",
       "                var nbb_unformatted_code = \"# Created new column for phone brand, can now drop old phone_brand column\\nfinal_df[\\\"english_phone_brand\\\"] = final_df[\\\"phone_brand\\\"].map(to_english)\\nfinal_df = final_df.drop(columns=[\\\"phone_brand\\\"])\";\n",
       "                var nbb_formatted_code = \"# Created new column for phone brand, can now drop old phone_brand column\\nfinal_df[\\\"english_phone_brand\\\"] = final_df[\\\"phone_brand\\\"].map(to_english)\\nfinal_df = final_df.drop(columns=[\\\"phone_brand\\\"])\";\n",
       "                var nbb_cells = Jupyter.notebook.get_cells();\n",
       "                for (var i = 0; i < nbb_cells.length; ++i) {\n",
       "                    if (nbb_cells[i].input_prompt_number == nbb_cell_id) {\n",
       "                        if (nbb_cells[i].get_text() == nbb_unformatted_code) {\n",
       "                             nbb_cells[i].set_text(nbb_formatted_code);\n",
       "                        }\n",
       "                        break;\n",
       "                    }\n",
       "                }\n",
       "            }, 500);\n",
       "            "
      ],
      "text/plain": [
       "<IPython.core.display.Javascript object>"
      ]
     },
     "metadata": {},
     "output_type": "display_data"
    }
   ],
   "source": [
    "# Created new column for phone brand, can now drop old phone_brand column\n",
    "final_df[\"english_phone_brand\"] = final_df[\"phone_brand\"].map(to_english)\n",
    "final_df = final_df.drop(columns=[\"phone_brand\"])"
   ]
  },
  {
   "cell_type": "markdown",
   "metadata": {},
   "source": [
    "# Examining the Features"
   ]
  },
  {
   "cell_type": "code",
   "execution_count": 17,
   "metadata": {},
   "outputs": [
    {
     "data": {
      "text/plain": [
       "event_id               0.000000\n",
       "app_id                 0.000000\n",
       "is_installed           0.000000\n",
       "is_active              0.000000\n",
       "device_id              0.000000\n",
       "timestamp              0.000000\n",
       "longitude              0.000000\n",
       "latitude               0.000000\n",
       "label_id               0.000000\n",
       "category               0.000000\n",
       "device_model           0.000000\n",
       "gender                 0.000000\n",
       "age                    0.000000\n",
       "group                  0.000000\n",
       "english_phone_brand    0.004668\n",
       "dtype: float64"
      ]
     },
     "execution_count": 17,
     "metadata": {},
     "output_type": "execute_result"
    },
    {
     "data": {
      "application/javascript": [
       "\n",
       "            setTimeout(function() {\n",
       "                var nbb_cell_id = 17;\n",
       "                var nbb_unformatted_code = \"# Checking for missing values\\n# For the english_phone_brand column it appears less than 1% of data is missing, so drop the missing data\\nfinal_df.isna().mean()\";\n",
       "                var nbb_formatted_code = \"# Checking for missing values\\n# For the english_phone_brand column it appears less than 1% of data is missing, so drop the missing data\\nfinal_df.isna().mean()\";\n",
       "                var nbb_cells = Jupyter.notebook.get_cells();\n",
       "                for (var i = 0; i < nbb_cells.length; ++i) {\n",
       "                    if (nbb_cells[i].input_prompt_number == nbb_cell_id) {\n",
       "                        if (nbb_cells[i].get_text() == nbb_unformatted_code) {\n",
       "                             nbb_cells[i].set_text(nbb_formatted_code);\n",
       "                        }\n",
       "                        break;\n",
       "                    }\n",
       "                }\n",
       "            }, 500);\n",
       "            "
      ],
      "text/plain": [
       "<IPython.core.display.Javascript object>"
      ]
     },
     "metadata": {},
     "output_type": "display_data"
    }
   ],
   "source": [
    "# Checking for missing values\n",
    "# For the english_phone_brand column it appears less than 1% of data is missing, so drop the missing data\n",
    "final_df.isna().mean()"
   ]
  },
  {
   "cell_type": "code",
   "execution_count": 18,
   "metadata": {},
   "outputs": [
    {
     "data": {
      "application/javascript": [
       "\n",
       "            setTimeout(function() {\n",
       "                var nbb_cell_id = 18;\n",
       "                var nbb_unformatted_code = \"final_df = final_df.dropna()\";\n",
       "                var nbb_formatted_code = \"final_df = final_df.dropna()\";\n",
       "                var nbb_cells = Jupyter.notebook.get_cells();\n",
       "                for (var i = 0; i < nbb_cells.length; ++i) {\n",
       "                    if (nbb_cells[i].input_prompt_number == nbb_cell_id) {\n",
       "                        if (nbb_cells[i].get_text() == nbb_unformatted_code) {\n",
       "                             nbb_cells[i].set_text(nbb_formatted_code);\n",
       "                        }\n",
       "                        break;\n",
       "                    }\n",
       "                }\n",
       "            }, 500);\n",
       "            "
      ],
      "text/plain": [
       "<IPython.core.display.Javascript object>"
      ]
     },
     "metadata": {},
     "output_type": "display_data"
    }
   ],
   "source": [
    "final_df = final_df.dropna()"
   ]
  },
  {
   "cell_type": "code",
   "execution_count": 19,
   "metadata": {},
   "outputs": [
    {
     "data": {
      "text/plain": [
       "(78692532, 15)"
      ]
     },
     "execution_count": 19,
     "metadata": {},
     "output_type": "execute_result"
    },
    {
     "data": {
      "application/javascript": [
       "\n",
       "            setTimeout(function() {\n",
       "                var nbb_cell_id = 19;\n",
       "                var nbb_unformatted_code = \"# Checking the shape of the dataframe\\n# A little under 80 million rows, this could lead to longer execution time\\n# Will consider using Dask\\nfinal_df.shape\";\n",
       "                var nbb_formatted_code = \"# Checking the shape of the dataframe\\n# A little under 80 million rows, this could lead to longer execution time\\n# Will consider using Dask\\nfinal_df.shape\";\n",
       "                var nbb_cells = Jupyter.notebook.get_cells();\n",
       "                for (var i = 0; i < nbb_cells.length; ++i) {\n",
       "                    if (nbb_cells[i].input_prompt_number == nbb_cell_id) {\n",
       "                        if (nbb_cells[i].get_text() == nbb_unformatted_code) {\n",
       "                             nbb_cells[i].set_text(nbb_formatted_code);\n",
       "                        }\n",
       "                        break;\n",
       "                    }\n",
       "                }\n",
       "            }, 500);\n",
       "            "
      ],
      "text/plain": [
       "<IPython.core.display.Javascript object>"
      ]
     },
     "metadata": {},
     "output_type": "display_data"
    }
   ],
   "source": [
    "# Checking the shape of the dataframe\n",
    "# A little under 80 million rows, this could lead to longer execution time\n",
    "# Will consider using Dask\n",
    "final_df.shape"
   ]
  },
  {
   "cell_type": "code",
   "execution_count": 20,
   "metadata": {},
   "outputs": [
    {
     "data": {
      "text/plain": [
       "event_id                 int64\n",
       "app_id                   int64\n",
       "is_installed             int64\n",
       "is_active                int64\n",
       "device_id                int64\n",
       "timestamp               object\n",
       "longitude              float64\n",
       "latitude               float64\n",
       "label_id                 int64\n",
       "category                object\n",
       "device_model            object\n",
       "gender                  object\n",
       "age                      int64\n",
       "group                   object\n",
       "english_phone_brand     object\n",
       "dtype: object"
      ]
     },
     "execution_count": 20,
     "metadata": {},
     "output_type": "execute_result"
    },
    {
     "data": {
      "application/javascript": [
       "\n",
       "            setTimeout(function() {\n",
       "                var nbb_cell_id = 20;\n",
       "                var nbb_unformatted_code = \"# Checking data types of each column\\n# timestamp is an object type,\\n# convert timestamp to datetime type\\nfinal_df.dtypes\";\n",
       "                var nbb_formatted_code = \"# Checking data types of each column\\n# timestamp is an object type,\\n# convert timestamp to datetime type\\nfinal_df.dtypes\";\n",
       "                var nbb_cells = Jupyter.notebook.get_cells();\n",
       "                for (var i = 0; i < nbb_cells.length; ++i) {\n",
       "                    if (nbb_cells[i].input_prompt_number == nbb_cell_id) {\n",
       "                        if (nbb_cells[i].get_text() == nbb_unformatted_code) {\n",
       "                             nbb_cells[i].set_text(nbb_formatted_code);\n",
       "                        }\n",
       "                        break;\n",
       "                    }\n",
       "                }\n",
       "            }, 500);\n",
       "            "
      ],
      "text/plain": [
       "<IPython.core.display.Javascript object>"
      ]
     },
     "metadata": {},
     "output_type": "display_data"
    }
   ],
   "source": [
    "# Checking data types of each column\n",
    "# timestamp is an object type,\n",
    "# convert timestamp to datetime type\n",
    "final_df.dtypes"
   ]
  },
  {
   "cell_type": "code",
   "execution_count": 21,
   "metadata": {},
   "outputs": [
    {
     "data": {
      "application/javascript": [
       "\n",
       "            setTimeout(function() {\n",
       "                var nbb_cell_id = 21;\n",
       "                var nbb_unformatted_code = \"final_df[\\\"timestamp\\\"] = pd.to_datetime(final_df[\\\"timestamp\\\"])\";\n",
       "                var nbb_formatted_code = \"final_df[\\\"timestamp\\\"] = pd.to_datetime(final_df[\\\"timestamp\\\"])\";\n",
       "                var nbb_cells = Jupyter.notebook.get_cells();\n",
       "                for (var i = 0; i < nbb_cells.length; ++i) {\n",
       "                    if (nbb_cells[i].input_prompt_number == nbb_cell_id) {\n",
       "                        if (nbb_cells[i].get_text() == nbb_unformatted_code) {\n",
       "                             nbb_cells[i].set_text(nbb_formatted_code);\n",
       "                        }\n",
       "                        break;\n",
       "                    }\n",
       "                }\n",
       "            }, 500);\n",
       "            "
      ],
      "text/plain": [
       "<IPython.core.display.Javascript object>"
      ]
     },
     "metadata": {},
     "output_type": "display_data"
    }
   ],
   "source": [
    "final_df[\"timestamp\"] = pd.to_datetime(final_df[\"timestamp\"])"
   ]
  },
  {
   "cell_type": "markdown",
   "metadata": {},
   "source": [
    "# Checking for Sufficient Amount of Values"
   ]
  },
  {
   "cell_type": "code",
   "execution_count": 22,
   "metadata": {},
   "outputs": [
    {
     "data": {
      "application/javascript": [
       "\n",
       "            setTimeout(function() {\n",
       "                var nbb_cell_id = 22;\n",
       "                var nbb_unformatted_code = \"# pd.set_option(\\\"display.max_rows\\\", None)\";\n",
       "                var nbb_formatted_code = \"# pd.set_option(\\\"display.max_rows\\\", None)\";\n",
       "                var nbb_cells = Jupyter.notebook.get_cells();\n",
       "                for (var i = 0; i < nbb_cells.length; ++i) {\n",
       "                    if (nbb_cells[i].input_prompt_number == nbb_cell_id) {\n",
       "                        if (nbb_cells[i].get_text() == nbb_unformatted_code) {\n",
       "                             nbb_cells[i].set_text(nbb_formatted_code);\n",
       "                        }\n",
       "                        break;\n",
       "                    }\n",
       "                }\n",
       "            }, 500);\n",
       "            "
      ],
      "text/plain": [
       "<IPython.core.display.Javascript object>"
      ]
     },
     "metadata": {},
     "output_type": "display_data"
    }
   ],
   "source": [
    "# pd.set_option(\"display.max_rows\", None)"
   ]
  },
  {
   "cell_type": "code",
   "execution_count": 23,
   "metadata": {},
   "outputs": [
    {
     "data": {
      "text/plain": [
       "1989418    2016\n",
       "2640055    2010\n",
       "28574      2010\n",
       "2770935    2010\n",
       "3226038    2010\n",
       "           ... \n",
       "1397936       1\n",
       "230396        1\n",
       "1995050       1\n",
       "2385435       1\n",
       "2123453       1\n",
       "Name: event_id, Length: 553973, dtype: int64"
      ]
     },
     "execution_count": 23,
     "metadata": {},
     "output_type": "execute_result"
    },
    {
     "data": {
      "application/javascript": [
       "\n",
       "            setTimeout(function() {\n",
       "                var nbb_cell_id = 23;\n",
       "                var nbb_unformatted_code = \"# Only want to keep event_id with enough data,\\n# Drop event_id rows with < 100 values\\nfinal_df[\\\"event_id\\\"].value_counts()\";\n",
       "                var nbb_formatted_code = \"# Only want to keep event_id with enough data,\\n# Drop event_id rows with < 100 values\\nfinal_df[\\\"event_id\\\"].value_counts()\";\n",
       "                var nbb_cells = Jupyter.notebook.get_cells();\n",
       "                for (var i = 0; i < nbb_cells.length; ++i) {\n",
       "                    if (nbb_cells[i].input_prompt_number == nbb_cell_id) {\n",
       "                        if (nbb_cells[i].get_text() == nbb_unformatted_code) {\n",
       "                             nbb_cells[i].set_text(nbb_formatted_code);\n",
       "                        }\n",
       "                        break;\n",
       "                    }\n",
       "                }\n",
       "            }, 500);\n",
       "            "
      ],
      "text/plain": [
       "<IPython.core.display.Javascript object>"
      ]
     },
     "metadata": {},
     "output_type": "display_data"
    }
   ],
   "source": [
    "# Only want to keep event_id with enough data,\n",
    "# Drop event_id rows with < 100 values\n",
    "final_df[\"event_id\"].value_counts()"
   ]
  },
  {
   "cell_type": "code",
   "execution_count": 24,
   "metadata": {},
   "outputs": [
    {
     "data": {
      "application/javascript": [
       "\n",
       "            setTimeout(function() {\n",
       "                var nbb_cell_id = 24;\n",
       "                var nbb_unformatted_code = \"count = final_df[\\\"event_id\\\"].value_counts()\\nkeep = count[count >= 100].index\\nfinal_df = final_df[final_df[\\\"event_id\\\"].isin(keep)]\";\n",
       "                var nbb_formatted_code = \"count = final_df[\\\"event_id\\\"].value_counts()\\nkeep = count[count >= 100].index\\nfinal_df = final_df[final_df[\\\"event_id\\\"].isin(keep)]\";\n",
       "                var nbb_cells = Jupyter.notebook.get_cells();\n",
       "                for (var i = 0; i < nbb_cells.length; ++i) {\n",
       "                    if (nbb_cells[i].input_prompt_number == nbb_cell_id) {\n",
       "                        if (nbb_cells[i].get_text() == nbb_unformatted_code) {\n",
       "                             nbb_cells[i].set_text(nbb_formatted_code);\n",
       "                        }\n",
       "                        break;\n",
       "                    }\n",
       "                }\n",
       "            }, 500);\n",
       "            "
      ],
      "text/plain": [
       "<IPython.core.display.Javascript object>"
      ]
     },
     "metadata": {},
     "output_type": "display_data"
    }
   ],
   "source": [
    "count = final_df[\"event_id\"].value_counts()\n",
    "keep = count[count >= 100].index\n",
    "final_df = final_df[final_df[\"event_id\"].isin(keep)]"
   ]
  },
  {
   "cell_type": "code",
   "execution_count": 25,
   "metadata": {},
   "outputs": [
    {
     "data": {
      "text/plain": [
       " 4348659952760821294    2523396\n",
       " 33792862810792679      1297380\n",
       " 8693964245073640147    1162820\n",
       "-653184325026622087     1111032\n",
       "-5839858269967688123    1090494\n",
       "                         ...   \n",
       " 9213694769987089976          1\n",
       " 5477809057864468890          1\n",
       "-8885691848766129496          1\n",
       " 1554564834206590239          1\n",
       " 1902571708093629424          1\n",
       "Name: app_id, Length: 13160, dtype: int64"
      ]
     },
     "execution_count": 25,
     "metadata": {},
     "output_type": "execute_result"
    },
    {
     "data": {
      "application/javascript": [
       "\n",
       "            setTimeout(function() {\n",
       "                var nbb_cell_id = 25;\n",
       "                var nbb_unformatted_code = \"# Only want to keep app_id values with enough data,\\n# Drop app_id rows with < 1000 values\\nfinal_df[\\\"app_id\\\"].value_counts()\";\n",
       "                var nbb_formatted_code = \"# Only want to keep app_id values with enough data,\\n# Drop app_id rows with < 1000 values\\nfinal_df[\\\"app_id\\\"].value_counts()\";\n",
       "                var nbb_cells = Jupyter.notebook.get_cells();\n",
       "                for (var i = 0; i < nbb_cells.length; ++i) {\n",
       "                    if (nbb_cells[i].input_prompt_number == nbb_cell_id) {\n",
       "                        if (nbb_cells[i].get_text() == nbb_unformatted_code) {\n",
       "                             nbb_cells[i].set_text(nbb_formatted_code);\n",
       "                        }\n",
       "                        break;\n",
       "                    }\n",
       "                }\n",
       "            }, 500);\n",
       "            "
      ],
      "text/plain": [
       "<IPython.core.display.Javascript object>"
      ]
     },
     "metadata": {},
     "output_type": "display_data"
    }
   ],
   "source": [
    "# Only want to keep app_id values with enough data,\n",
    "# Drop app_id rows with < 1000 values\n",
    "final_df[\"app_id\"].value_counts()"
   ]
  },
  {
   "cell_type": "code",
   "execution_count": 26,
   "metadata": {},
   "outputs": [
    {
     "data": {
      "application/javascript": [
       "\n",
       "            setTimeout(function() {\n",
       "                var nbb_cell_id = 26;\n",
       "                var nbb_unformatted_code = \"count = final_df[\\\"app_id\\\"].value_counts()\\nkeep = count[count >= 1000].index\\nfinal_df = final_df[final_df[\\\"app_id\\\"].isin(keep)]\";\n",
       "                var nbb_formatted_code = \"count = final_df[\\\"app_id\\\"].value_counts()\\nkeep = count[count >= 1000].index\\nfinal_df = final_df[final_df[\\\"app_id\\\"].isin(keep)]\";\n",
       "                var nbb_cells = Jupyter.notebook.get_cells();\n",
       "                for (var i = 0; i < nbb_cells.length; ++i) {\n",
       "                    if (nbb_cells[i].input_prompt_number == nbb_cell_id) {\n",
       "                        if (nbb_cells[i].get_text() == nbb_unformatted_code) {\n",
       "                             nbb_cells[i].set_text(nbb_formatted_code);\n",
       "                        }\n",
       "                        break;\n",
       "                    }\n",
       "                }\n",
       "            }, 500);\n",
       "            "
      ],
      "text/plain": [
       "<IPython.core.display.Javascript object>"
      ]
     },
     "metadata": {},
     "output_type": "display_data"
    }
   ],
   "source": [
    "count = final_df[\"app_id\"].value_counts()\n",
    "keep = count[count >= 1000].index\n",
    "final_df = final_df[final_df[\"app_id\"].isin(keep)]"
   ]
  },
  {
   "cell_type": "code",
   "execution_count": 27,
   "metadata": {},
   "outputs": [
    {
     "data": {
      "text/plain": [
       "1    64371319\n",
       "Name: is_installed, dtype: int64"
      ]
     },
     "execution_count": 27,
     "metadata": {},
     "output_type": "execute_result"
    },
    {
     "data": {
      "application/javascript": [
       "\n",
       "            setTimeout(function() {\n",
       "                var nbb_cell_id = 27;\n",
       "                var nbb_unformatted_code = \"# Since this column only has one unique value, it does not seem important to keep for analysis,\\n# Will drop this column.\\nfinal_df[\\\"is_installed\\\"].value_counts()\";\n",
       "                var nbb_formatted_code = \"# Since this column only has one unique value, it does not seem important to keep for analysis,\\n# Will drop this column.\\nfinal_df[\\\"is_installed\\\"].value_counts()\";\n",
       "                var nbb_cells = Jupyter.notebook.get_cells();\n",
       "                for (var i = 0; i < nbb_cells.length; ++i) {\n",
       "                    if (nbb_cells[i].input_prompt_number == nbb_cell_id) {\n",
       "                        if (nbb_cells[i].get_text() == nbb_unformatted_code) {\n",
       "                             nbb_cells[i].set_text(nbb_formatted_code);\n",
       "                        }\n",
       "                        break;\n",
       "                    }\n",
       "                }\n",
       "            }, 500);\n",
       "            "
      ],
      "text/plain": [
       "<IPython.core.display.Javascript object>"
      ]
     },
     "metadata": {},
     "output_type": "display_data"
    }
   ],
   "source": [
    "# Since this column only has one unique value, it does not seem important to keep for analysis,\n",
    "# Will drop this column.\n",
    "final_df[\"is_installed\"].value_counts()"
   ]
  },
  {
   "cell_type": "code",
   "execution_count": 28,
   "metadata": {},
   "outputs": [
    {
     "data": {
      "text/plain": [
       "0    49284911\n",
       "1    15086408\n",
       "Name: is_active, dtype: int64"
      ]
     },
     "execution_count": 28,
     "metadata": {},
     "output_type": "execute_result"
    },
    {
     "data": {
      "application/javascript": [
       "\n",
       "            setTimeout(function() {\n",
       "                var nbb_cell_id = 28;\n",
       "                var nbb_unformatted_code = \"# Appears to be enough information for each value\\n# Will leave this column alone.\\nfinal_df[\\\"is_active\\\"].value_counts()\";\n",
       "                var nbb_formatted_code = \"# Appears to be enough information for each value\\n# Will leave this column alone.\\nfinal_df[\\\"is_active\\\"].value_counts()\";\n",
       "                var nbb_cells = Jupyter.notebook.get_cells();\n",
       "                for (var i = 0; i < nbb_cells.length; ++i) {\n",
       "                    if (nbb_cells[i].input_prompt_number == nbb_cell_id) {\n",
       "                        if (nbb_cells[i].get_text() == nbb_unformatted_code) {\n",
       "                             nbb_cells[i].set_text(nbb_formatted_code);\n",
       "                        }\n",
       "                        break;\n",
       "                    }\n",
       "                }\n",
       "            }, 500);\n",
       "            "
      ],
      "text/plain": [
       "<IPython.core.display.Javascript object>"
      ]
     },
     "metadata": {},
     "output_type": "display_data"
    }
   ],
   "source": [
    "# Appears to be enough information for each value\n",
    "# Will leave this column alone.\n",
    "final_df[\"is_active\"].value_counts()"
   ]
  },
  {
   "cell_type": "code",
   "execution_count": 29,
   "metadata": {},
   "outputs": [
    {
     "data": {
      "text/plain": [
       " 4452542815713609230    336859\n",
       "-4814793614000680392    295933\n",
       "-1936834210441403933    273501\n",
       " 9125896648976328820    271069\n",
       "-4100678410207151647    261929\n",
       "                         ...  \n",
       "-2936496053482520449        78\n",
       "-9049955329329147264        78\n",
       "-7943190083782480878        71\n",
       " 38630124769588888          70\n",
       " 641278996203935230         46\n",
       "Name: device_id, Length: 19256, dtype: int64"
      ]
     },
     "execution_count": 29,
     "metadata": {},
     "output_type": "execute_result"
    },
    {
     "data": {
      "application/javascript": [
       "\n",
       "            setTimeout(function() {\n",
       "                var nbb_cell_id = 29;\n",
       "                var nbb_unformatted_code = \"# Only want to keep device_id values with enough data,\\n# Drop device_id rows with < 1000 values\\nfinal_df[\\\"device_id\\\"].value_counts()\";\n",
       "                var nbb_formatted_code = \"# Only want to keep device_id values with enough data,\\n# Drop device_id rows with < 1000 values\\nfinal_df[\\\"device_id\\\"].value_counts()\";\n",
       "                var nbb_cells = Jupyter.notebook.get_cells();\n",
       "                for (var i = 0; i < nbb_cells.length; ++i) {\n",
       "                    if (nbb_cells[i].input_prompt_number == nbb_cell_id) {\n",
       "                        if (nbb_cells[i].get_text() == nbb_unformatted_code) {\n",
       "                             nbb_cells[i].set_text(nbb_formatted_code);\n",
       "                        }\n",
       "                        break;\n",
       "                    }\n",
       "                }\n",
       "            }, 500);\n",
       "            "
      ],
      "text/plain": [
       "<IPython.core.display.Javascript object>"
      ]
     },
     "metadata": {},
     "output_type": "display_data"
    }
   ],
   "source": [
    "# Only want to keep device_id values with enough data,\n",
    "# Drop device_id rows with < 1000 values\n",
    "final_df[\"device_id\"].value_counts()"
   ]
  },
  {
   "cell_type": "code",
   "execution_count": 30,
   "metadata": {},
   "outputs": [
    {
     "data": {
      "application/javascript": [
       "\n",
       "            setTimeout(function() {\n",
       "                var nbb_cell_id = 30;\n",
       "                var nbb_unformatted_code = \"count = final_df[\\\"device_id\\\"].value_counts()\\nkeep = count[count >= 1000].index\\nfinal_df = final_df[final_df[\\\"device_id\\\"].isin(keep)]\";\n",
       "                var nbb_formatted_code = \"count = final_df[\\\"device_id\\\"].value_counts()\\nkeep = count[count >= 1000].index\\nfinal_df = final_df[final_df[\\\"device_id\\\"].isin(keep)]\";\n",
       "                var nbb_cells = Jupyter.notebook.get_cells();\n",
       "                for (var i = 0; i < nbb_cells.length; ++i) {\n",
       "                    if (nbb_cells[i].input_prompt_number == nbb_cell_id) {\n",
       "                        if (nbb_cells[i].get_text() == nbb_unformatted_code) {\n",
       "                             nbb_cells[i].set_text(nbb_formatted_code);\n",
       "                        }\n",
       "                        break;\n",
       "                    }\n",
       "                }\n",
       "            }, 500);\n",
       "            "
      ],
      "text/plain": [
       "<IPython.core.display.Javascript object>"
      ]
     },
     "metadata": {},
     "output_type": "display_data"
    }
   ],
   "source": [
    "count = final_df[\"device_id\"].value_counts()\n",
    "keep = count[count >= 1000].index\n",
    "final_df = final_df[final_df[\"device_id\"].isin(keep)]"
   ]
  },
  {
   "cell_type": "code",
   "execution_count": 31,
   "metadata": {},
   "outputs": [
    {
     "data": {
      "text/plain": [
       "2016-05-02 00:46:51    4140\n",
       "2016-05-06 18:10:33    3552\n",
       "2016-05-05 09:59:12    3088\n",
       "2016-05-01 22:21:47    2894\n",
       "2016-05-03 19:24:36    2840\n",
       "                       ... \n",
       "2016-05-02 07:34:50      46\n",
       "2016-05-02 08:15:43      46\n",
       "2016-05-02 08:45:45      46\n",
       "2016-05-02 12:38:49      46\n",
       "2016-05-02 10:01:43      46\n",
       "Name: timestamp, Length: 177701, dtype: int64"
      ]
     },
     "execution_count": 31,
     "metadata": {},
     "output_type": "execute_result"
    },
    {
     "data": {
      "application/javascript": [
       "\n",
       "            setTimeout(function() {\n",
       "                var nbb_cell_id = 31;\n",
       "                var nbb_unformatted_code = \"# Only want to keep timestamp values with enough data,\\n# Drop timestamp rows with < 100 values\\nfinal_df[\\\"timestamp\\\"].value_counts()\";\n",
       "                var nbb_formatted_code = \"# Only want to keep timestamp values with enough data,\\n# Drop timestamp rows with < 100 values\\nfinal_df[\\\"timestamp\\\"].value_counts()\";\n",
       "                var nbb_cells = Jupyter.notebook.get_cells();\n",
       "                for (var i = 0; i < nbb_cells.length; ++i) {\n",
       "                    if (nbb_cells[i].input_prompt_number == nbb_cell_id) {\n",
       "                        if (nbb_cells[i].get_text() == nbb_unformatted_code) {\n",
       "                             nbb_cells[i].set_text(nbb_formatted_code);\n",
       "                        }\n",
       "                        break;\n",
       "                    }\n",
       "                }\n",
       "            }, 500);\n",
       "            "
      ],
      "text/plain": [
       "<IPython.core.display.Javascript object>"
      ]
     },
     "metadata": {},
     "output_type": "display_data"
    }
   ],
   "source": [
    "# Only want to keep timestamp values with enough data,\n",
    "# Drop timestamp rows with < 100 values\n",
    "final_df[\"timestamp\"].value_counts()"
   ]
  },
  {
   "cell_type": "code",
   "execution_count": 32,
   "metadata": {},
   "outputs": [
    {
     "data": {
      "application/javascript": [
       "\n",
       "            setTimeout(function() {\n",
       "                var nbb_cell_id = 32;\n",
       "                var nbb_unformatted_code = \"count = final_df[\\\"timestamp\\\"].value_counts()\\nkeep = count[count >= 100].index\\nfinal_df = final_df[final_df[\\\"timestamp\\\"].isin(keep)]\";\n",
       "                var nbb_formatted_code = \"count = final_df[\\\"timestamp\\\"].value_counts()\\nkeep = count[count >= 100].index\\nfinal_df = final_df[final_df[\\\"timestamp\\\"].isin(keep)]\";\n",
       "                var nbb_cells = Jupyter.notebook.get_cells();\n",
       "                for (var i = 0; i < nbb_cells.length; ++i) {\n",
       "                    if (nbb_cells[i].input_prompt_number == nbb_cell_id) {\n",
       "                        if (nbb_cells[i].get_text() == nbb_unformatted_code) {\n",
       "                             nbb_cells[i].set_text(nbb_formatted_code);\n",
       "                        }\n",
       "                        break;\n",
       "                    }\n",
       "                }\n",
       "            }, 500);\n",
       "            "
      ],
      "text/plain": [
       "<IPython.core.display.Javascript object>"
      ]
     },
     "metadata": {},
     "output_type": "display_data"
    }
   ],
   "source": [
    "count = final_df[\"timestamp\"].value_counts()\n",
    "keep = count[count >= 100].index\n",
    "final_df = final_df[final_df[\"timestamp\"].isin(keep)]"
   ]
  },
  {
   "cell_type": "code",
   "execution_count": 33,
   "metadata": {},
   "outputs": [
    {
     "data": {
      "text/plain": [
       "0.00      34338630\n",
       "1.00        713188\n",
       "120.99      302996\n",
       "104.00      264351\n",
       "113.68      219004\n",
       "            ...   \n",
       "0.07           109\n",
       "98.26          108\n",
       "103.30         102\n",
       "103.20          92\n",
       "110.46          91\n",
       "Name: longitude, Length: 2253, dtype: int64"
      ]
     },
     "execution_count": 33,
     "metadata": {},
     "output_type": "execute_result"
    },
    {
     "data": {
      "application/javascript": [
       "\n",
       "            setTimeout(function() {\n",
       "                var nbb_cell_id = 33;\n",
       "                var nbb_unformatted_code = \"# Only want to keep longitude values with enough data,\\n# Drop longitude rows with < 10000 values\\nfinal_df[\\\"longitude\\\"].value_counts()\";\n",
       "                var nbb_formatted_code = \"# Only want to keep longitude values with enough data,\\n# Drop longitude rows with < 10000 values\\nfinal_df[\\\"longitude\\\"].value_counts()\";\n",
       "                var nbb_cells = Jupyter.notebook.get_cells();\n",
       "                for (var i = 0; i < nbb_cells.length; ++i) {\n",
       "                    if (nbb_cells[i].input_prompt_number == nbb_cell_id) {\n",
       "                        if (nbb_cells[i].get_text() == nbb_unformatted_code) {\n",
       "                             nbb_cells[i].set_text(nbb_formatted_code);\n",
       "                        }\n",
       "                        break;\n",
       "                    }\n",
       "                }\n",
       "            }, 500);\n",
       "            "
      ],
      "text/plain": [
       "<IPython.core.display.Javascript object>"
      ]
     },
     "metadata": {},
     "output_type": "display_data"
    }
   ],
   "source": [
    "# Only want to keep longitude values with enough data,\n",
    "# Drop longitude rows with < 10000 values\n",
    "final_df[\"longitude\"].value_counts()"
   ]
  },
  {
   "cell_type": "code",
   "execution_count": 34,
   "metadata": {},
   "outputs": [
    {
     "data": {
      "application/javascript": [
       "\n",
       "            setTimeout(function() {\n",
       "                var nbb_cell_id = 34;\n",
       "                var nbb_unformatted_code = \"count = final_df[\\\"longitude\\\"].value_counts()\\nkeep = count[count >= 10000].index\\nfinal_df = final_df[final_df[\\\"longitude\\\"].isin(keep)]\";\n",
       "                var nbb_formatted_code = \"count = final_df[\\\"longitude\\\"].value_counts()\\nkeep = count[count >= 10000].index\\nfinal_df = final_df[final_df[\\\"longitude\\\"].isin(keep)]\";\n",
       "                var nbb_cells = Jupyter.notebook.get_cells();\n",
       "                for (var i = 0; i < nbb_cells.length; ++i) {\n",
       "                    if (nbb_cells[i].input_prompt_number == nbb_cell_id) {\n",
       "                        if (nbb_cells[i].get_text() == nbb_unformatted_code) {\n",
       "                             nbb_cells[i].set_text(nbb_formatted_code);\n",
       "                        }\n",
       "                        break;\n",
       "                    }\n",
       "                }\n",
       "            }, 500);\n",
       "            "
      ],
      "text/plain": [
       "<IPython.core.display.Javascript object>"
      ]
     },
     "metadata": {},
     "output_type": "display_data"
    }
   ],
   "source": [
    "count = final_df[\"longitude\"].value_counts()\n",
    "keep = count[count >= 10000].index\n",
    "final_df = final_df[final_df[\"longitude\"].isin(keep)]"
   ]
  },
  {
   "cell_type": "code",
   "execution_count": 35,
   "metadata": {},
   "outputs": [
    {
     "data": {
      "text/plain": [
       "0.00     34338630\n",
       "1.00       713188\n",
       "30.00      315518\n",
       "31.38      301191\n",
       "22.93      211932\n",
       "           ...   \n",
       "21.67         102\n",
       "26.63         102\n",
       "28.05         101\n",
       "36.00         101\n",
       "25.89         100\n",
       "Name: latitude, Length: 1673, dtype: int64"
      ]
     },
     "execution_count": 35,
     "metadata": {},
     "output_type": "execute_result"
    },
    {
     "data": {
      "application/javascript": [
       "\n",
       "            setTimeout(function() {\n",
       "                var nbb_cell_id = 35;\n",
       "                var nbb_unformatted_code = \"# Only want to keep latitude values with enough data,\\n# Drop latitude rows with < 10000 values\\nfinal_df[\\\"latitude\\\"].value_counts()\";\n",
       "                var nbb_formatted_code = \"# Only want to keep latitude values with enough data,\\n# Drop latitude rows with < 10000 values\\nfinal_df[\\\"latitude\\\"].value_counts()\";\n",
       "                var nbb_cells = Jupyter.notebook.get_cells();\n",
       "                for (var i = 0; i < nbb_cells.length; ++i) {\n",
       "                    if (nbb_cells[i].input_prompt_number == nbb_cell_id) {\n",
       "                        if (nbb_cells[i].get_text() == nbb_unformatted_code) {\n",
       "                             nbb_cells[i].set_text(nbb_formatted_code);\n",
       "                        }\n",
       "                        break;\n",
       "                    }\n",
       "                }\n",
       "            }, 500);\n",
       "            "
      ],
      "text/plain": [
       "<IPython.core.display.Javascript object>"
      ]
     },
     "metadata": {},
     "output_type": "display_data"
    }
   ],
   "source": [
    "# Only want to keep latitude values with enough data,\n",
    "# Drop latitude rows with < 10000 values\n",
    "final_df[\"latitude\"].value_counts()"
   ]
  },
  {
   "cell_type": "code",
   "execution_count": 36,
   "metadata": {},
   "outputs": [
    {
     "data": {
      "application/javascript": [
       "\n",
       "            setTimeout(function() {\n",
       "                var nbb_cell_id = 36;\n",
       "                var nbb_unformatted_code = \"count = final_df[\\\"latitude\\\"].value_counts()\\nkeep = count[count >= 10000].index\\nfinal_df = final_df[final_df[\\\"latitude\\\"].isin(keep)]\";\n",
       "                var nbb_formatted_code = \"count = final_df[\\\"latitude\\\"].value_counts()\\nkeep = count[count >= 10000].index\\nfinal_df = final_df[final_df[\\\"latitude\\\"].isin(keep)]\";\n",
       "                var nbb_cells = Jupyter.notebook.get_cells();\n",
       "                for (var i = 0; i < nbb_cells.length; ++i) {\n",
       "                    if (nbb_cells[i].input_prompt_number == nbb_cell_id) {\n",
       "                        if (nbb_cells[i].get_text() == nbb_unformatted_code) {\n",
       "                             nbb_cells[i].set_text(nbb_formatted_code);\n",
       "                        }\n",
       "                        break;\n",
       "                    }\n",
       "                }\n",
       "            }, 500);\n",
       "            "
      ],
      "text/plain": [
       "<IPython.core.display.Javascript object>"
      ]
     },
     "metadata": {},
     "output_type": "display_data"
    }
   ],
   "source": [
    "count = final_df[\"latitude\"].value_counts()\n",
    "keep = count[count >= 10000].index\n",
    "final_df = final_df[final_df[\"latitude\"].isin(keep)]"
   ]
  },
  {
   "cell_type": "code",
   "execution_count": 37,
   "metadata": {},
   "outputs": [
    {
     "data": {
      "text/plain": [
       "548    5608716\n",
       "704    3898092\n",
       "549    3108964\n",
       "405    2214024\n",
       "713    2031490\n",
       "        ...   \n",
       "84         149\n",
       "839        116\n",
       "734        106\n",
       "931        104\n",
       "772         63\n",
       "Name: label_id, Length: 402, dtype: int64"
      ]
     },
     "execution_count": 37,
     "metadata": {},
     "output_type": "execute_result"
    },
    {
     "data": {
      "application/javascript": [
       "\n",
       "            setTimeout(function() {\n",
       "                var nbb_cell_id = 37;\n",
       "                var nbb_unformatted_code = \"# Only want to keep label_id values with enough data,\\n# Drop label_id rows with < 1000 values\\nfinal_df[\\\"label_id\\\"].value_counts()\";\n",
       "                var nbb_formatted_code = \"# Only want to keep label_id values with enough data,\\n# Drop label_id rows with < 1000 values\\nfinal_df[\\\"label_id\\\"].value_counts()\";\n",
       "                var nbb_cells = Jupyter.notebook.get_cells();\n",
       "                for (var i = 0; i < nbb_cells.length; ++i) {\n",
       "                    if (nbb_cells[i].input_prompt_number == nbb_cell_id) {\n",
       "                        if (nbb_cells[i].get_text() == nbb_unformatted_code) {\n",
       "                             nbb_cells[i].set_text(nbb_formatted_code);\n",
       "                        }\n",
       "                        break;\n",
       "                    }\n",
       "                }\n",
       "            }, 500);\n",
       "            "
      ],
      "text/plain": [
       "<IPython.core.display.Javascript object>"
      ]
     },
     "metadata": {},
     "output_type": "display_data"
    }
   ],
   "source": [
    "# Only want to keep label_id values with enough data,\n",
    "# Drop label_id rows with < 1000 values\n",
    "final_df[\"label_id\"].value_counts()"
   ]
  },
  {
   "cell_type": "code",
   "execution_count": 38,
   "metadata": {},
   "outputs": [
    {
     "data": {
      "application/javascript": [
       "\n",
       "            setTimeout(function() {\n",
       "                var nbb_cell_id = 38;\n",
       "                var nbb_unformatted_code = \"count = final_df[\\\"label_id\\\"].value_counts()\\nkeep = count[count >= 1000].index\\nfinal_df = final_df[final_df[\\\"label_id\\\"].isin(keep)]\";\n",
       "                var nbb_formatted_code = \"count = final_df[\\\"label_id\\\"].value_counts()\\nkeep = count[count >= 1000].index\\nfinal_df = final_df[final_df[\\\"label_id\\\"].isin(keep)]\";\n",
       "                var nbb_cells = Jupyter.notebook.get_cells();\n",
       "                for (var i = 0; i < nbb_cells.length; ++i) {\n",
       "                    if (nbb_cells[i].input_prompt_number == nbb_cell_id) {\n",
       "                        if (nbb_cells[i].get_text() == nbb_unformatted_code) {\n",
       "                             nbb_cells[i].set_text(nbb_formatted_code);\n",
       "                        }\n",
       "                        break;\n",
       "                    }\n",
       "                }\n",
       "            }, 500);\n",
       "            "
      ],
      "text/plain": [
       "<IPython.core.display.Javascript object>"
      ]
     },
     "metadata": {},
     "output_type": "display_data"
    }
   ],
   "source": [
    "count = final_df[\"label_id\"].value_counts()\n",
    "keep = count[count >= 1000].index\n",
    "final_df = final_df[final_df[\"label_id\"].isin(keep)]"
   ]
  },
  {
   "cell_type": "code",
   "execution_count": 39,
   "metadata": {},
   "outputs": [
    {
     "data": {
      "text/plain": [
       "Industry tag             5608716\n",
       "Property Industry 2.0    3898092\n",
       "unknown                  3137741\n",
       "Property Industry 1.0    3108964\n",
       "Custom label             2214024\n",
       "                          ...   \n",
       "lose weight                 1072\n",
       "Low Cost Airlines           1068\n",
       "war chess                   1067\n",
       "MMO                         1052\n",
       "round                       1020\n",
       "Name: category, Length: 305, dtype: int64"
      ]
     },
     "execution_count": 39,
     "metadata": {},
     "output_type": "execute_result"
    },
    {
     "data": {
      "application/javascript": [
       "\n",
       "            setTimeout(function() {\n",
       "                var nbb_cell_id = 39;\n",
       "                var nbb_unformatted_code = \"# There seems to be sufficient data for each of the values,\\n# Will leave this column alone\\nfinal_df[\\\"category\\\"].value_counts()\";\n",
       "                var nbb_formatted_code = \"# There seems to be sufficient data for each of the values,\\n# Will leave this column alone\\nfinal_df[\\\"category\\\"].value_counts()\";\n",
       "                var nbb_cells = Jupyter.notebook.get_cells();\n",
       "                for (var i = 0; i < nbb_cells.length; ++i) {\n",
       "                    if (nbb_cells[i].input_prompt_number == nbb_cell_id) {\n",
       "                        if (nbb_cells[i].get_text() == nbb_unformatted_code) {\n",
       "                             nbb_cells[i].set_text(nbb_formatted_code);\n",
       "                        }\n",
       "                        break;\n",
       "                    }\n",
       "                }\n",
       "            }, 500);\n",
       "            "
      ],
      "text/plain": [
       "<IPython.core.display.Javascript object>"
      ]
     },
     "metadata": {},
     "output_type": "display_data"
    }
   ],
   "source": [
    "# There seems to be sufficient data for each of the values,\n",
    "# Will leave this column alone\n",
    "final_df[\"category\"].value_counts()"
   ]
  },
  {
   "cell_type": "code",
   "execution_count": 40,
   "metadata": {},
   "outputs": [
    {
     "data": {
      "text/plain": [
       "荣耀6                 3773523\n",
       "Mate 7              2658842\n",
       "MI 4                2505255\n",
       "荣耀6 Plus            2263884\n",
       "Galaxy Note 3       1819742\n",
       "                     ...   \n",
       "天鉴W900S                 215\n",
       "Galaxy Core Lite        205\n",
       "One A9                  170\n",
       "1100                    170\n",
       "5891Q                   128\n",
       "Name: device_model, Length: 519, dtype: int64"
      ]
     },
     "execution_count": 40,
     "metadata": {},
     "output_type": "execute_result"
    },
    {
     "data": {
      "application/javascript": [
       "\n",
       "            setTimeout(function() {\n",
       "                var nbb_cell_id = 40;\n",
       "                var nbb_unformatted_code = \"# Only want to keep device_model values with enough data,\\n# Drop device_model rows with < 1000 values\\nfinal_df[\\\"device_model\\\"].value_counts()\";\n",
       "                var nbb_formatted_code = \"# Only want to keep device_model values with enough data,\\n# Drop device_model rows with < 1000 values\\nfinal_df[\\\"device_model\\\"].value_counts()\";\n",
       "                var nbb_cells = Jupyter.notebook.get_cells();\n",
       "                for (var i = 0; i < nbb_cells.length; ++i) {\n",
       "                    if (nbb_cells[i].input_prompt_number == nbb_cell_id) {\n",
       "                        if (nbb_cells[i].get_text() == nbb_unformatted_code) {\n",
       "                             nbb_cells[i].set_text(nbb_formatted_code);\n",
       "                        }\n",
       "                        break;\n",
       "                    }\n",
       "                }\n",
       "            }, 500);\n",
       "            "
      ],
      "text/plain": [
       "<IPython.core.display.Javascript object>"
      ]
     },
     "metadata": {},
     "output_type": "display_data"
    }
   ],
   "source": [
    "# Only want to keep device_model values with enough data,\n",
    "# Drop device_model rows with < 1000 values\n",
    "final_df[\"device_model\"].value_counts()"
   ]
  },
  {
   "cell_type": "code",
   "execution_count": 41,
   "metadata": {},
   "outputs": [
    {
     "data": {
      "application/javascript": [
       "\n",
       "            setTimeout(function() {\n",
       "                var nbb_cell_id = 41;\n",
       "                var nbb_unformatted_code = \"count = final_df[\\\"device_model\\\"].value_counts()\\nkeep = count[count >= 1000].index\\nfinal_df = final_df[final_df[\\\"device_model\\\"].isin(keep)]\";\n",
       "                var nbb_formatted_code = \"count = final_df[\\\"device_model\\\"].value_counts()\\nkeep = count[count >= 1000].index\\nfinal_df = final_df[final_df[\\\"device_model\\\"].isin(keep)]\";\n",
       "                var nbb_cells = Jupyter.notebook.get_cells();\n",
       "                for (var i = 0; i < nbb_cells.length; ++i) {\n",
       "                    if (nbb_cells[i].input_prompt_number == nbb_cell_id) {\n",
       "                        if (nbb_cells[i].get_text() == nbb_unformatted_code) {\n",
       "                             nbb_cells[i].set_text(nbb_formatted_code);\n",
       "                        }\n",
       "                        break;\n",
       "                    }\n",
       "                }\n",
       "            }, 500);\n",
       "            "
      ],
      "text/plain": [
       "<IPython.core.display.Javascript object>"
      ]
     },
     "metadata": {},
     "output_type": "display_data"
    }
   ],
   "source": [
    "count = final_df[\"device_model\"].value_counts()\n",
    "keep = count[count >= 1000].index\n",
    "final_df = final_df[final_df[\"device_model\"].isin(keep)]"
   ]
  },
  {
   "cell_type": "code",
   "execution_count": 42,
   "metadata": {},
   "outputs": [
    {
     "data": {
      "text/plain": [
       "M    39845077\n",
       "F    12417126\n",
       "Name: gender, dtype: int64"
      ]
     },
     "execution_count": 42,
     "metadata": {},
     "output_type": "execute_result"
    },
    {
     "data": {
      "application/javascript": [
       "\n",
       "            setTimeout(function() {\n",
       "                var nbb_cell_id = 42;\n",
       "                var nbb_unformatted_code = \"# There seems to be sufficient data for each of the values,\\n# Will leave this column alone\\nfinal_df[\\\"gender\\\"].value_counts()\";\n",
       "                var nbb_formatted_code = \"# There seems to be sufficient data for each of the values,\\n# Will leave this column alone\\nfinal_df[\\\"gender\\\"].value_counts()\";\n",
       "                var nbb_cells = Jupyter.notebook.get_cells();\n",
       "                for (var i = 0; i < nbb_cells.length; ++i) {\n",
       "                    if (nbb_cells[i].input_prompt_number == nbb_cell_id) {\n",
       "                        if (nbb_cells[i].get_text() == nbb_unformatted_code) {\n",
       "                             nbb_cells[i].set_text(nbb_formatted_code);\n",
       "                        }\n",
       "                        break;\n",
       "                    }\n",
       "                }\n",
       "            }, 500);\n",
       "            "
      ],
      "text/plain": [
       "<IPython.core.display.Javascript object>"
      ]
     },
     "metadata": {},
     "output_type": "display_data"
    }
   ],
   "source": [
    "# There seems to be sufficient data for each of the values,\n",
    "# Will leave this column alone\n",
    "final_df[\"gender\"].value_counts()"
   ]
  },
  {
   "cell_type": "code",
   "execution_count": 43,
   "metadata": {},
   "outputs": [
    {
     "data": {
      "text/plain": [
       "29    3766510\n",
       "28    2854136\n",
       "34    2810260\n",
       "30    2634393\n",
       "32    2390787\n",
       "       ...   \n",
       "76       2256\n",
       "82       1703\n",
       "11       1430\n",
       "81       1290\n",
       "78       1142\n",
       "Name: age, Length: 71, dtype: int64"
      ]
     },
     "execution_count": 43,
     "metadata": {},
     "output_type": "execute_result"
    },
    {
     "data": {
      "application/javascript": [
       "\n",
       "            setTimeout(function() {\n",
       "                var nbb_cell_id = 43;\n",
       "                var nbb_unformatted_code = \"# There seems to be sufficient data for each of the values,\\n# Will leave this column alone\\nfinal_df[\\\"age\\\"].value_counts()\";\n",
       "                var nbb_formatted_code = \"# There seems to be sufficient data for each of the values,\\n# Will leave this column alone\\nfinal_df[\\\"age\\\"].value_counts()\";\n",
       "                var nbb_cells = Jupyter.notebook.get_cells();\n",
       "                for (var i = 0; i < nbb_cells.length; ++i) {\n",
       "                    if (nbb_cells[i].input_prompt_number == nbb_cell_id) {\n",
       "                        if (nbb_cells[i].get_text() == nbb_unformatted_code) {\n",
       "                             nbb_cells[i].set_text(nbb_formatted_code);\n",
       "                        }\n",
       "                        break;\n",
       "                    }\n",
       "                }\n",
       "            }, 500);\n",
       "            "
      ],
      "text/plain": [
       "<IPython.core.display.Javascript object>"
      ]
     },
     "metadata": {},
     "output_type": "display_data"
    }
   ],
   "source": [
    "# There seems to be sufficient data for each of the values,\n",
    "# Will leave this column alone\n",
    "final_df[\"age\"].value_counts()"
   ]
  },
  {
   "cell_type": "code",
   "execution_count": 44,
   "metadata": {},
   "outputs": [
    {
     "data": {
      "text/plain": [
       "M32-38    10927180\n",
       "M39+      10480787\n",
       "M29-31     6925990\n",
       "M23-26     5207226\n",
       "M27-28     3923560\n",
       "F33-42     3634860\n",
       "F43+       2680901\n",
       "M22-       2380334\n",
       "F29-32     2209444\n",
       "F24-26     1543534\n",
       "F27-28     1277892\n",
       "F23-       1070495\n",
       "Name: group, dtype: int64"
      ]
     },
     "execution_count": 44,
     "metadata": {},
     "output_type": "execute_result"
    },
    {
     "data": {
      "application/javascript": [
       "\n",
       "            setTimeout(function() {\n",
       "                var nbb_cell_id = 44;\n",
       "                var nbb_unformatted_code = \"# There seems to be sufficient data for each of the values,\\n# Will leave this column alone\\nfinal_df[\\\"group\\\"].value_counts()\";\n",
       "                var nbb_formatted_code = \"# There seems to be sufficient data for each of the values,\\n# Will leave this column alone\\nfinal_df[\\\"group\\\"].value_counts()\";\n",
       "                var nbb_cells = Jupyter.notebook.get_cells();\n",
       "                for (var i = 0; i < nbb_cells.length; ++i) {\n",
       "                    if (nbb_cells[i].input_prompt_number == nbb_cell_id) {\n",
       "                        if (nbb_cells[i].get_text() == nbb_unformatted_code) {\n",
       "                             nbb_cells[i].set_text(nbb_formatted_code);\n",
       "                        }\n",
       "                        break;\n",
       "                    }\n",
       "                }\n",
       "            }, 500);\n",
       "            "
      ],
      "text/plain": [
       "<IPython.core.display.Javascript object>"
      ]
     },
     "metadata": {},
     "output_type": "display_data"
    }
   ],
   "source": [
    "# There seems to be sufficient data for each of the values,\n",
    "# Will leave this column alone\n",
    "final_df[\"group\"].value_counts()"
   ]
  },
  {
   "cell_type": "code",
   "execution_count": 45,
   "metadata": {},
   "outputs": [
    {
     "data": {
      "text/plain": [
       "huawei     17595859\n",
       "xiaomi      9068258\n",
       "samsung     6589050\n",
       "meizu       4595012\n",
       "oppo        3839911\n",
       "coolpad     2401883\n",
       "vivo        2355591\n",
       "lshi        1171297\n",
       "lenovo      1036183\n",
       "htc          429602\n",
       "nubia        417315\n",
       "zte          413940\n",
       "gionee       397889\n",
       "oneplus      293915\n",
       "hammer       280011\n",
       "sony         265080\n",
       "qiku         231966\n",
       "lg           168175\n",
       "ccmc         152769\n",
       "asus         108435\n",
       "tcl           83624\n",
       "aiyouni       80024\n",
       "moto          71355\n",
       "hisense       50826\n",
       "yuxin         48028\n",
       "nibilu        36181\n",
       "meitu         18561\n",
       "newman        18409\n",
       "bigcola        6850\n",
       "Ktouch         6406\n",
       "google         6071\n",
       "hasse          5873\n",
       "yougo          4117\n",
       "ximi           4004\n",
       "dowe           3649\n",
       "weimi          2295\n",
       "nokia          1403\n",
       "weitu          1274\n",
       "lingyun        1112\n",
       "Name: english_phone_brand, dtype: int64"
      ]
     },
     "execution_count": 45,
     "metadata": {},
     "output_type": "execute_result"
    },
    {
     "data": {
      "application/javascript": [
       "\n",
       "            setTimeout(function() {\n",
       "                var nbb_cell_id = 45;\n",
       "                var nbb_unformatted_code = \"# There seems to be sufficient data for each of the values,\\n# Will leave this column alone\\nfinal_df[\\\"english_phone_brand\\\"].value_counts()\";\n",
       "                var nbb_formatted_code = \"# There seems to be sufficient data for each of the values,\\n# Will leave this column alone\\nfinal_df[\\\"english_phone_brand\\\"].value_counts()\";\n",
       "                var nbb_cells = Jupyter.notebook.get_cells();\n",
       "                for (var i = 0; i < nbb_cells.length; ++i) {\n",
       "                    if (nbb_cells[i].input_prompt_number == nbb_cell_id) {\n",
       "                        if (nbb_cells[i].get_text() == nbb_unformatted_code) {\n",
       "                             nbb_cells[i].set_text(nbb_formatted_code);\n",
       "                        }\n",
       "                        break;\n",
       "                    }\n",
       "                }\n",
       "            }, 500);\n",
       "            "
      ],
      "text/plain": [
       "<IPython.core.display.Javascript object>"
      ]
     },
     "metadata": {},
     "output_type": "display_data"
    }
   ],
   "source": [
    "# There seems to be sufficient data for each of the values,\n",
    "# Will leave this column alone\n",
    "final_df[\"english_phone_brand\"].value_counts()"
   ]
  },
  {
   "cell_type": "markdown",
   "metadata": {},
   "source": [
    "# Removing Unnecessary Columns"
   ]
  },
  {
   "cell_type": "code",
   "execution_count": 46,
   "metadata": {},
   "outputs": [
    {
     "data": {
      "text/html": [
       "<div>\n",
       "<style scoped>\n",
       "    .dataframe tbody tr th:only-of-type {\n",
       "        vertical-align: middle;\n",
       "    }\n",
       "\n",
       "    .dataframe tbody tr th {\n",
       "        vertical-align: top;\n",
       "    }\n",
       "\n",
       "    .dataframe thead th {\n",
       "        text-align: right;\n",
       "    }\n",
       "</style>\n",
       "<table border=\"1\" class=\"dataframe\">\n",
       "  <thead>\n",
       "    <tr style=\"text-align: right;\">\n",
       "      <th></th>\n",
       "      <th>event_id</th>\n",
       "      <th>app_id</th>\n",
       "      <th>is_installed</th>\n",
       "      <th>is_active</th>\n",
       "      <th>device_id</th>\n",
       "      <th>timestamp</th>\n",
       "      <th>longitude</th>\n",
       "      <th>latitude</th>\n",
       "      <th>label_id</th>\n",
       "      <th>category</th>\n",
       "      <th>device_model</th>\n",
       "      <th>gender</th>\n",
       "      <th>age</th>\n",
       "      <th>group</th>\n",
       "      <th>english_phone_brand</th>\n",
       "    </tr>\n",
       "  </thead>\n",
       "  <tbody>\n",
       "    <tr>\n",
       "      <th>0</th>\n",
       "      <td>6</td>\n",
       "      <td>5927333115845830913</td>\n",
       "      <td>1</td>\n",
       "      <td>1</td>\n",
       "      <td>1476664663289716375</td>\n",
       "      <td>2016-05-01 00:27:21</td>\n",
       "      <td>0.0</td>\n",
       "      <td>0.0</td>\n",
       "      <td>549</td>\n",
       "      <td>Property Industry 1.0</td>\n",
       "      <td>Mate 7</td>\n",
       "      <td>M</td>\n",
       "      <td>19</td>\n",
       "      <td>M22-</td>\n",
       "      <td>huawei</td>\n",
       "    </tr>\n",
       "    <tr>\n",
       "      <th>1</th>\n",
       "      <td>6</td>\n",
       "      <td>5927333115845830913</td>\n",
       "      <td>1</td>\n",
       "      <td>1</td>\n",
       "      <td>1476664663289716375</td>\n",
       "      <td>2016-05-01 00:27:21</td>\n",
       "      <td>0.0</td>\n",
       "      <td>0.0</td>\n",
       "      <td>548</td>\n",
       "      <td>Industry tag</td>\n",
       "      <td>Mate 7</td>\n",
       "      <td>M</td>\n",
       "      <td>19</td>\n",
       "      <td>M22-</td>\n",
       "      <td>huawei</td>\n",
       "    </tr>\n",
       "    <tr>\n",
       "      <th>2</th>\n",
       "      <td>6</td>\n",
       "      <td>5927333115845830913</td>\n",
       "      <td>1</td>\n",
       "      <td>1</td>\n",
       "      <td>1476664663289716375</td>\n",
       "      <td>2016-05-01 00:27:21</td>\n",
       "      <td>0.0</td>\n",
       "      <td>0.0</td>\n",
       "      <td>710</td>\n",
       "      <td>Relatives 1</td>\n",
       "      <td>Mate 7</td>\n",
       "      <td>M</td>\n",
       "      <td>19</td>\n",
       "      <td>M22-</td>\n",
       "      <td>huawei</td>\n",
       "    </tr>\n",
       "    <tr>\n",
       "      <th>3</th>\n",
       "      <td>6</td>\n",
       "      <td>5927333115845830913</td>\n",
       "      <td>1</td>\n",
       "      <td>1</td>\n",
       "      <td>1476664663289716375</td>\n",
       "      <td>2016-05-01 00:27:21</td>\n",
       "      <td>0.0</td>\n",
       "      <td>0.0</td>\n",
       "      <td>704</td>\n",
       "      <td>Property Industry 2.0</td>\n",
       "      <td>Mate 7</td>\n",
       "      <td>M</td>\n",
       "      <td>19</td>\n",
       "      <td>M22-</td>\n",
       "      <td>huawei</td>\n",
       "    </tr>\n",
       "    <tr>\n",
       "      <th>4</th>\n",
       "      <td>6</td>\n",
       "      <td>5927333115845830913</td>\n",
       "      <td>1</td>\n",
       "      <td>1</td>\n",
       "      <td>1476664663289716375</td>\n",
       "      <td>2016-05-01 00:27:21</td>\n",
       "      <td>0.0</td>\n",
       "      <td>0.0</td>\n",
       "      <td>172</td>\n",
       "      <td>IM</td>\n",
       "      <td>Mate 7</td>\n",
       "      <td>M</td>\n",
       "      <td>19</td>\n",
       "      <td>M22-</td>\n",
       "      <td>huawei</td>\n",
       "    </tr>\n",
       "  </tbody>\n",
       "</table>\n",
       "</div>"
      ],
      "text/plain": [
       "   event_id               app_id  is_installed  is_active  \\\n",
       "0         6  5927333115845830913             1          1   \n",
       "1         6  5927333115845830913             1          1   \n",
       "2         6  5927333115845830913             1          1   \n",
       "3         6  5927333115845830913             1          1   \n",
       "4         6  5927333115845830913             1          1   \n",
       "\n",
       "             device_id           timestamp  longitude  latitude  label_id  \\\n",
       "0  1476664663289716375 2016-05-01 00:27:21        0.0       0.0       549   \n",
       "1  1476664663289716375 2016-05-01 00:27:21        0.0       0.0       548   \n",
       "2  1476664663289716375 2016-05-01 00:27:21        0.0       0.0       710   \n",
       "3  1476664663289716375 2016-05-01 00:27:21        0.0       0.0       704   \n",
       "4  1476664663289716375 2016-05-01 00:27:21        0.0       0.0       172   \n",
       "\n",
       "                category device_model gender  age group english_phone_brand  \n",
       "0  Property Industry 1.0       Mate 7      M   19  M22-              huawei  \n",
       "1           Industry tag       Mate 7      M   19  M22-              huawei  \n",
       "2            Relatives 1       Mate 7      M   19  M22-              huawei  \n",
       "3  Property Industry 2.0       Mate 7      M   19  M22-              huawei  \n",
       "4                     IM       Mate 7      M   19  M22-              huawei  "
      ]
     },
     "execution_count": 46,
     "metadata": {},
     "output_type": "execute_result"
    },
    {
     "data": {
      "application/javascript": [
       "\n",
       "            setTimeout(function() {\n",
       "                var nbb_cell_id = 46;\n",
       "                var nbb_unformatted_code = \"final_df.head()\";\n",
       "                var nbb_formatted_code = \"final_df.head()\";\n",
       "                var nbb_cells = Jupyter.notebook.get_cells();\n",
       "                for (var i = 0; i < nbb_cells.length; ++i) {\n",
       "                    if (nbb_cells[i].input_prompt_number == nbb_cell_id) {\n",
       "                        if (nbb_cells[i].get_text() == nbb_unformatted_code) {\n",
       "                             nbb_cells[i].set_text(nbb_formatted_code);\n",
       "                        }\n",
       "                        break;\n",
       "                    }\n",
       "                }\n",
       "            }, 500);\n",
       "            "
      ],
      "text/plain": [
       "<IPython.core.display.Javascript object>"
      ]
     },
     "metadata": {},
     "output_type": "display_data"
    }
   ],
   "source": [
    "final_df.head()"
   ]
  },
  {
   "cell_type": "code",
   "execution_count": 47,
   "metadata": {},
   "outputs": [
    {
     "data": {
      "text/html": [
       "<div>\n",
       "<style scoped>\n",
       "    .dataframe tbody tr th:only-of-type {\n",
       "        vertical-align: middle;\n",
       "    }\n",
       "\n",
       "    .dataframe tbody tr th {\n",
       "        vertical-align: top;\n",
       "    }\n",
       "\n",
       "    .dataframe thead th {\n",
       "        text-align: right;\n",
       "    }\n",
       "</style>\n",
       "<table border=\"1\" class=\"dataframe\">\n",
       "  <thead>\n",
       "    <tr style=\"text-align: right;\">\n",
       "      <th></th>\n",
       "      <th>event_id</th>\n",
       "      <th>app_id</th>\n",
       "      <th>is_active</th>\n",
       "      <th>device_id</th>\n",
       "      <th>label_id</th>\n",
       "      <th>device_model</th>\n",
       "      <th>gender</th>\n",
       "      <th>age</th>\n",
       "      <th>group</th>\n",
       "      <th>english_phone_brand</th>\n",
       "    </tr>\n",
       "  </thead>\n",
       "  <tbody>\n",
       "    <tr>\n",
       "      <th>0</th>\n",
       "      <td>6</td>\n",
       "      <td>5927333115845830913</td>\n",
       "      <td>1</td>\n",
       "      <td>1476664663289716375</td>\n",
       "      <td>549</td>\n",
       "      <td>Mate 7</td>\n",
       "      <td>M</td>\n",
       "      <td>19</td>\n",
       "      <td>M22-</td>\n",
       "      <td>huawei</td>\n",
       "    </tr>\n",
       "    <tr>\n",
       "      <th>1</th>\n",
       "      <td>6</td>\n",
       "      <td>5927333115845830913</td>\n",
       "      <td>1</td>\n",
       "      <td>1476664663289716375</td>\n",
       "      <td>548</td>\n",
       "      <td>Mate 7</td>\n",
       "      <td>M</td>\n",
       "      <td>19</td>\n",
       "      <td>M22-</td>\n",
       "      <td>huawei</td>\n",
       "    </tr>\n",
       "    <tr>\n",
       "      <th>2</th>\n",
       "      <td>6</td>\n",
       "      <td>5927333115845830913</td>\n",
       "      <td>1</td>\n",
       "      <td>1476664663289716375</td>\n",
       "      <td>710</td>\n",
       "      <td>Mate 7</td>\n",
       "      <td>M</td>\n",
       "      <td>19</td>\n",
       "      <td>M22-</td>\n",
       "      <td>huawei</td>\n",
       "    </tr>\n",
       "    <tr>\n",
       "      <th>3</th>\n",
       "      <td>6</td>\n",
       "      <td>5927333115845830913</td>\n",
       "      <td>1</td>\n",
       "      <td>1476664663289716375</td>\n",
       "      <td>704</td>\n",
       "      <td>Mate 7</td>\n",
       "      <td>M</td>\n",
       "      <td>19</td>\n",
       "      <td>M22-</td>\n",
       "      <td>huawei</td>\n",
       "    </tr>\n",
       "    <tr>\n",
       "      <th>4</th>\n",
       "      <td>6</td>\n",
       "      <td>5927333115845830913</td>\n",
       "      <td>1</td>\n",
       "      <td>1476664663289716375</td>\n",
       "      <td>172</td>\n",
       "      <td>Mate 7</td>\n",
       "      <td>M</td>\n",
       "      <td>19</td>\n",
       "      <td>M22-</td>\n",
       "      <td>huawei</td>\n",
       "    </tr>\n",
       "  </tbody>\n",
       "</table>\n",
       "</div>"
      ],
      "text/plain": [
       "   event_id               app_id  is_active            device_id  label_id  \\\n",
       "0         6  5927333115845830913          1  1476664663289716375       549   \n",
       "1         6  5927333115845830913          1  1476664663289716375       548   \n",
       "2         6  5927333115845830913          1  1476664663289716375       710   \n",
       "3         6  5927333115845830913          1  1476664663289716375       704   \n",
       "4         6  5927333115845830913          1  1476664663289716375       172   \n",
       "\n",
       "  device_model gender  age group english_phone_brand  \n",
       "0       Mate 7      M   19  M22-              huawei  \n",
       "1       Mate 7      M   19  M22-              huawei  \n",
       "2       Mate 7      M   19  M22-              huawei  \n",
       "3       Mate 7      M   19  M22-              huawei  \n",
       "4       Mate 7      M   19  M22-              huawei  "
      ]
     },
     "execution_count": 47,
     "metadata": {},
     "output_type": "execute_result"
    },
    {
     "data": {
      "application/javascript": [
       "\n",
       "            setTimeout(function() {\n",
       "                var nbb_cell_id = 47;\n",
       "                var nbb_unformatted_code = \"# Since is_installed only have one unique value this column will be dropped.\\n# Getting rid of category column and using label_id to identify category\\nfinal_df = final_df.drop(\\n    columns=[\\\"is_installed\\\", \\\"timestamp\\\", \\\"latitude\\\", \\\"longitude\\\", \\\"category\\\"]\\n)\\nfinal_df.head()\";\n",
       "                var nbb_formatted_code = \"# Since is_installed only have one unique value this column will be dropped.\\n# Getting rid of category column and using label_id to identify category\\nfinal_df = final_df.drop(\\n    columns=[\\\"is_installed\\\", \\\"timestamp\\\", \\\"latitude\\\", \\\"longitude\\\", \\\"category\\\"]\\n)\\nfinal_df.head()\";\n",
       "                var nbb_cells = Jupyter.notebook.get_cells();\n",
       "                for (var i = 0; i < nbb_cells.length; ++i) {\n",
       "                    if (nbb_cells[i].input_prompt_number == nbb_cell_id) {\n",
       "                        if (nbb_cells[i].get_text() == nbb_unformatted_code) {\n",
       "                             nbb_cells[i].set_text(nbb_formatted_code);\n",
       "                        }\n",
       "                        break;\n",
       "                    }\n",
       "                }\n",
       "            }, 500);\n",
       "            "
      ],
      "text/plain": [
       "<IPython.core.display.Javascript object>"
      ]
     },
     "metadata": {},
     "output_type": "display_data"
    }
   ],
   "source": [
    "# Since is_installed only have one unique value this column will be dropped.\n",
    "# Getting rid of category column and using label_id to identify category\n",
    "final_df = final_df.drop(\n",
    "    columns=[\"is_installed\", \"timestamp\", \"latitude\", \"longitude\", \"category\"]\n",
    ")\n",
    "final_df.head()"
   ]
  },
  {
   "cell_type": "code",
   "execution_count": 48,
   "metadata": {},
   "outputs": [
    {
     "data": {
      "text/html": [
       "<div>\n",
       "<style scoped>\n",
       "    .dataframe tbody tr th:only-of-type {\n",
       "        vertical-align: middle;\n",
       "    }\n",
       "\n",
       "    .dataframe tbody tr th {\n",
       "        vertical-align: top;\n",
       "    }\n",
       "\n",
       "    .dataframe thead th {\n",
       "        text-align: right;\n",
       "    }\n",
       "</style>\n",
       "<table border=\"1\" class=\"dataframe\">\n",
       "  <thead>\n",
       "    <tr style=\"text-align: right;\">\n",
       "      <th></th>\n",
       "      <th>event_id</th>\n",
       "      <th>app_id</th>\n",
       "      <th>is_active</th>\n",
       "      <th>device_id</th>\n",
       "      <th>label_id</th>\n",
       "      <th>device_model</th>\n",
       "      <th>gender</th>\n",
       "      <th>age</th>\n",
       "      <th>group</th>\n",
       "      <th>english_phone_brand</th>\n",
       "      <th>size</th>\n",
       "    </tr>\n",
       "  </thead>\n",
       "  <tbody>\n",
       "    <tr>\n",
       "      <th>0</th>\n",
       "      <td>6</td>\n",
       "      <td>-8764672938472212518</td>\n",
       "      <td>1</td>\n",
       "      <td>1476664663289716375</td>\n",
       "      <td>179</td>\n",
       "      <td>Mate 7</td>\n",
       "      <td>M</td>\n",
       "      <td>19</td>\n",
       "      <td>M22-</td>\n",
       "      <td>huawei</td>\n",
       "      <td>1</td>\n",
       "    </tr>\n",
       "    <tr>\n",
       "      <th>1</th>\n",
       "      <td>6</td>\n",
       "      <td>-8764672938472212518</td>\n",
       "      <td>1</td>\n",
       "      <td>1476664663289716375</td>\n",
       "      <td>548</td>\n",
       "      <td>Mate 7</td>\n",
       "      <td>M</td>\n",
       "      <td>19</td>\n",
       "      <td>M22-</td>\n",
       "      <td>huawei</td>\n",
       "      <td>1</td>\n",
       "    </tr>\n",
       "    <tr>\n",
       "      <th>2</th>\n",
       "      <td>6</td>\n",
       "      <td>-8764672938472212518</td>\n",
       "      <td>1</td>\n",
       "      <td>1476664663289716375</td>\n",
       "      <td>704</td>\n",
       "      <td>Mate 7</td>\n",
       "      <td>M</td>\n",
       "      <td>19</td>\n",
       "      <td>M22-</td>\n",
       "      <td>huawei</td>\n",
       "      <td>1</td>\n",
       "    </tr>\n",
       "    <tr>\n",
       "      <th>3</th>\n",
       "      <td>6</td>\n",
       "      <td>-8764672938472212518</td>\n",
       "      <td>1</td>\n",
       "      <td>1476664663289716375</td>\n",
       "      <td>714</td>\n",
       "      <td>Mate 7</td>\n",
       "      <td>M</td>\n",
       "      <td>19</td>\n",
       "      <td>M22-</td>\n",
       "      <td>huawei</td>\n",
       "      <td>1</td>\n",
       "    </tr>\n",
       "    <tr>\n",
       "      <th>4</th>\n",
       "      <td>6</td>\n",
       "      <td>-8271866350659046570</td>\n",
       "      <td>0</td>\n",
       "      <td>1476664663289716375</td>\n",
       "      <td>405</td>\n",
       "      <td>Mate 7</td>\n",
       "      <td>M</td>\n",
       "      <td>19</td>\n",
       "      <td>M22-</td>\n",
       "      <td>huawei</td>\n",
       "      <td>1</td>\n",
       "    </tr>\n",
       "  </tbody>\n",
       "</table>\n",
       "</div>"
      ],
      "text/plain": [
       "   event_id               app_id  is_active            device_id  label_id  \\\n",
       "0         6 -8764672938472212518          1  1476664663289716375       179   \n",
       "1         6 -8764672938472212518          1  1476664663289716375       548   \n",
       "2         6 -8764672938472212518          1  1476664663289716375       704   \n",
       "3         6 -8764672938472212518          1  1476664663289716375       714   \n",
       "4         6 -8271866350659046570          0  1476664663289716375       405   \n",
       "\n",
       "  device_model gender  age group english_phone_brand  size  \n",
       "0       Mate 7      M   19  M22-              huawei     1  \n",
       "1       Mate 7      M   19  M22-              huawei     1  \n",
       "2       Mate 7      M   19  M22-              huawei     1  \n",
       "3       Mate 7      M   19  M22-              huawei     1  \n",
       "4       Mate 7      M   19  M22-              huawei     1  "
      ]
     },
     "execution_count": 48,
     "metadata": {},
     "output_type": "execute_result"
    },
    {
     "data": {
      "application/javascript": [
       "\n",
       "            setTimeout(function() {\n",
       "                var nbb_cell_id = 48;\n",
       "                var nbb_unformatted_code = \"# Gets rid of duplicate rows and adds count as size\\nfinal_df = final_df.groupby(final_df.columns.tolist(), as_index=False).size()\\nfinal_df.head()\";\n",
       "                var nbb_formatted_code = \"# Gets rid of duplicate rows and adds count as size\\nfinal_df = final_df.groupby(final_df.columns.tolist(), as_index=False).size()\\nfinal_df.head()\";\n",
       "                var nbb_cells = Jupyter.notebook.get_cells();\n",
       "                for (var i = 0; i < nbb_cells.length; ++i) {\n",
       "                    if (nbb_cells[i].input_prompt_number == nbb_cell_id) {\n",
       "                        if (nbb_cells[i].get_text() == nbb_unformatted_code) {\n",
       "                             nbb_cells[i].set_text(nbb_formatted_code);\n",
       "                        }\n",
       "                        break;\n",
       "                    }\n",
       "                }\n",
       "            }, 500);\n",
       "            "
      ],
      "text/plain": [
       "<IPython.core.display.Javascript object>"
      ]
     },
     "metadata": {},
     "output_type": "display_data"
    }
   ],
   "source": [
    "# Gets rid of duplicate rows and adds count as size\n",
    "final_df = final_df.groupby(final_df.columns.tolist(), as_index=False).size()\n",
    "final_df.head()"
   ]
  },
  {
   "cell_type": "code",
   "execution_count": 49,
   "metadata": {},
   "outputs": [
    {
     "data": {
      "application/javascript": [
       "\n",
       "            setTimeout(function() {\n",
       "                var nbb_cell_id = 49;\n",
       "                var nbb_unformatted_code = \"# Creating unique column for device and app ids\\nfinal_df[\\\"download_id\\\"] = final_df[\\\"app_id\\\"] + final_df[\\\"device_id\\\"]\";\n",
       "                var nbb_formatted_code = \"# Creating unique column for device and app ids\\nfinal_df[\\\"download_id\\\"] = final_df[\\\"app_id\\\"] + final_df[\\\"device_id\\\"]\";\n",
       "                var nbb_cells = Jupyter.notebook.get_cells();\n",
       "                for (var i = 0; i < nbb_cells.length; ++i) {\n",
       "                    if (nbb_cells[i].input_prompt_number == nbb_cell_id) {\n",
       "                        if (nbb_cells[i].get_text() == nbb_unformatted_code) {\n",
       "                             nbb_cells[i].set_text(nbb_formatted_code);\n",
       "                        }\n",
       "                        break;\n",
       "                    }\n",
       "                }\n",
       "            }, 500);\n",
       "            "
      ],
      "text/plain": [
       "<IPython.core.display.Javascript object>"
      ]
     },
     "metadata": {},
     "output_type": "display_data"
    }
   ],
   "source": [
    "# Creating unique column for device and app ids\n",
    "final_df[\"download_id\"] = final_df[\"app_id\"] + final_df[\"device_id\"]"
   ]
  },
  {
   "cell_type": "code",
   "execution_count": 50,
   "metadata": {},
   "outputs": [
    {
     "data": {
      "text/html": [
       "<div>\n",
       "<style scoped>\n",
       "    .dataframe tbody tr th:only-of-type {\n",
       "        vertical-align: middle;\n",
       "    }\n",
       "\n",
       "    .dataframe tbody tr th {\n",
       "        vertical-align: top;\n",
       "    }\n",
       "\n",
       "    .dataframe thead th {\n",
       "        text-align: right;\n",
       "    }\n",
       "</style>\n",
       "<table border=\"1\" class=\"dataframe\">\n",
       "  <thead>\n",
       "    <tr style=\"text-align: right;\">\n",
       "      <th></th>\n",
       "      <th>event_id</th>\n",
       "      <th>app_id</th>\n",
       "      <th>is_active</th>\n",
       "      <th>device_id</th>\n",
       "      <th>label_id</th>\n",
       "      <th>device_model</th>\n",
       "      <th>gender</th>\n",
       "      <th>age</th>\n",
       "      <th>group</th>\n",
       "      <th>english_phone_brand</th>\n",
       "      <th>size</th>\n",
       "      <th>download_id</th>\n",
       "    </tr>\n",
       "  </thead>\n",
       "  <tbody>\n",
       "    <tr>\n",
       "      <th>0</th>\n",
       "      <td>6</td>\n",
       "      <td>-8764672938472212518</td>\n",
       "      <td>1</td>\n",
       "      <td>1476664663289716375</td>\n",
       "      <td>179</td>\n",
       "      <td>Mate 7</td>\n",
       "      <td>M</td>\n",
       "      <td>19</td>\n",
       "      <td>M22-</td>\n",
       "      <td>huawei</td>\n",
       "      <td>1</td>\n",
       "      <td>-7288008275182496143</td>\n",
       "    </tr>\n",
       "    <tr>\n",
       "      <th>1</th>\n",
       "      <td>6</td>\n",
       "      <td>-8764672938472212518</td>\n",
       "      <td>1</td>\n",
       "      <td>1476664663289716375</td>\n",
       "      <td>548</td>\n",
       "      <td>Mate 7</td>\n",
       "      <td>M</td>\n",
       "      <td>19</td>\n",
       "      <td>M22-</td>\n",
       "      <td>huawei</td>\n",
       "      <td>1</td>\n",
       "      <td>-7288008275182496143</td>\n",
       "    </tr>\n",
       "    <tr>\n",
       "      <th>2</th>\n",
       "      <td>6</td>\n",
       "      <td>-8764672938472212518</td>\n",
       "      <td>1</td>\n",
       "      <td>1476664663289716375</td>\n",
       "      <td>704</td>\n",
       "      <td>Mate 7</td>\n",
       "      <td>M</td>\n",
       "      <td>19</td>\n",
       "      <td>M22-</td>\n",
       "      <td>huawei</td>\n",
       "      <td>1</td>\n",
       "      <td>-7288008275182496143</td>\n",
       "    </tr>\n",
       "    <tr>\n",
       "      <th>3</th>\n",
       "      <td>6</td>\n",
       "      <td>-8764672938472212518</td>\n",
       "      <td>1</td>\n",
       "      <td>1476664663289716375</td>\n",
       "      <td>714</td>\n",
       "      <td>Mate 7</td>\n",
       "      <td>M</td>\n",
       "      <td>19</td>\n",
       "      <td>M22-</td>\n",
       "      <td>huawei</td>\n",
       "      <td>1</td>\n",
       "      <td>-7288008275182496143</td>\n",
       "    </tr>\n",
       "    <tr>\n",
       "      <th>4</th>\n",
       "      <td>6</td>\n",
       "      <td>-8271866350659046570</td>\n",
       "      <td>0</td>\n",
       "      <td>1476664663289716375</td>\n",
       "      <td>405</td>\n",
       "      <td>Mate 7</td>\n",
       "      <td>M</td>\n",
       "      <td>19</td>\n",
       "      <td>M22-</td>\n",
       "      <td>huawei</td>\n",
       "      <td>1</td>\n",
       "      <td>-6795201687369330195</td>\n",
       "    </tr>\n",
       "  </tbody>\n",
       "</table>\n",
       "</div>"
      ],
      "text/plain": [
       "   event_id               app_id  is_active            device_id  label_id  \\\n",
       "0         6 -8764672938472212518          1  1476664663289716375       179   \n",
       "1         6 -8764672938472212518          1  1476664663289716375       548   \n",
       "2         6 -8764672938472212518          1  1476664663289716375       704   \n",
       "3         6 -8764672938472212518          1  1476664663289716375       714   \n",
       "4         6 -8271866350659046570          0  1476664663289716375       405   \n",
       "\n",
       "  device_model gender  age group english_phone_brand  size  \\\n",
       "0       Mate 7      M   19  M22-              huawei     1   \n",
       "1       Mate 7      M   19  M22-              huawei     1   \n",
       "2       Mate 7      M   19  M22-              huawei     1   \n",
       "3       Mate 7      M   19  M22-              huawei     1   \n",
       "4       Mate 7      M   19  M22-              huawei     1   \n",
       "\n",
       "           download_id  \n",
       "0 -7288008275182496143  \n",
       "1 -7288008275182496143  \n",
       "2 -7288008275182496143  \n",
       "3 -7288008275182496143  \n",
       "4 -6795201687369330195  "
      ]
     },
     "execution_count": 50,
     "metadata": {},
     "output_type": "execute_result"
    },
    {
     "data": {
      "application/javascript": [
       "\n",
       "            setTimeout(function() {\n",
       "                var nbb_cell_id = 50;\n",
       "                var nbb_unformatted_code = \"final_df.head()\";\n",
       "                var nbb_formatted_code = \"final_df.head()\";\n",
       "                var nbb_cells = Jupyter.notebook.get_cells();\n",
       "                for (var i = 0; i < nbb_cells.length; ++i) {\n",
       "                    if (nbb_cells[i].input_prompt_number == nbb_cell_id) {\n",
       "                        if (nbb_cells[i].get_text() == nbb_unformatted_code) {\n",
       "                             nbb_cells[i].set_text(nbb_formatted_code);\n",
       "                        }\n",
       "                        break;\n",
       "                    }\n",
       "                }\n",
       "            }, 500);\n",
       "            "
      ],
      "text/plain": [
       "<IPython.core.display.Javascript object>"
      ]
     },
     "metadata": {},
     "output_type": "display_data"
    }
   ],
   "source": [
    "final_df.head()"
   ]
  },
  {
   "cell_type": "code",
   "execution_count": 51,
   "metadata": {},
   "outputs": [
    {
     "data": {
      "text/html": [
       "<div>\n",
       "<style scoped>\n",
       "    .dataframe tbody tr th:only-of-type {\n",
       "        vertical-align: middle;\n",
       "    }\n",
       "\n",
       "    .dataframe tbody tr th {\n",
       "        vertical-align: top;\n",
       "    }\n",
       "\n",
       "    .dataframe thead th {\n",
       "        text-align: right;\n",
       "    }\n",
       "</style>\n",
       "<table border=\"1\" class=\"dataframe\">\n",
       "  <thead>\n",
       "    <tr style=\"text-align: right;\">\n",
       "      <th></th>\n",
       "      <th>label_id</th>\n",
       "      <th>download_id</th>\n",
       "    </tr>\n",
       "  </thead>\n",
       "  <tbody>\n",
       "    <tr>\n",
       "      <th>0</th>\n",
       "      <td>[1007, 1007, 1007, 1007, 1007, 1007, 1007]</td>\n",
       "      <td>-9223276892638539712</td>\n",
       "    </tr>\n",
       "    <tr>\n",
       "      <th>1</th>\n",
       "      <td>[548, 704, 713, 548, 704, 713]</td>\n",
       "      <td>-9223272092386098237</td>\n",
       "    </tr>\n",
       "    <tr>\n",
       "      <th>2</th>\n",
       "      <td>[302, 303, 302, 303, 302, 303, 302, 303, 302, ...</td>\n",
       "      <td>-9223267350362224650</td>\n",
       "    </tr>\n",
       "    <tr>\n",
       "      <th>3</th>\n",
       "      <td>[251, 254, 405, 548, 562, 564, 691, 704, 713, ...</td>\n",
       "      <td>-9223257467215032936</td>\n",
       "    </tr>\n",
       "    <tr>\n",
       "      <th>4</th>\n",
       "      <td>[548, 704, 713, 548, 704, 713, 548, 704, 713, ...</td>\n",
       "      <td>-9223177142067208743</td>\n",
       "    </tr>\n",
       "  </tbody>\n",
       "</table>\n",
       "</div>"
      ],
      "text/plain": [
       "                                            label_id          download_id\n",
       "0         [1007, 1007, 1007, 1007, 1007, 1007, 1007] -9223276892638539712\n",
       "1                     [548, 704, 713, 548, 704, 713] -9223272092386098237\n",
       "2  [302, 303, 302, 303, 302, 303, 302, 303, 302, ... -9223267350362224650\n",
       "3  [251, 254, 405, 548, 562, 564, 691, 704, 713, ... -9223257467215032936\n",
       "4  [548, 704, 713, 548, 704, 713, 548, 704, 713, ... -9223177142067208743"
      ]
     },
     "execution_count": 51,
     "metadata": {},
     "output_type": "execute_result"
    },
    {
     "data": {
      "application/javascript": [
       "\n",
       "            setTimeout(function() {\n",
       "                var nbb_cell_id = 51;\n",
       "                var nbb_unformatted_code = \"# Creating new dataframe grouping download ids to create list of label ids\\nlabel_ids = (\\n    final_df.groupby([\\\"download_id\\\"])\\n    .agg(lambda x: tuple(x))\\n    .applymap(list)\\n    .reset_index()[[\\\"label_id\\\", \\\"download_id\\\"]]\\n)\\nlabel_ids.head()\";\n",
       "                var nbb_formatted_code = \"# Creating new dataframe grouping download ids to create list of label ids\\nlabel_ids = (\\n    final_df.groupby([\\\"download_id\\\"])\\n    .agg(lambda x: tuple(x))\\n    .applymap(list)\\n    .reset_index()[[\\\"label_id\\\", \\\"download_id\\\"]]\\n)\\nlabel_ids.head()\";\n",
       "                var nbb_cells = Jupyter.notebook.get_cells();\n",
       "                for (var i = 0; i < nbb_cells.length; ++i) {\n",
       "                    if (nbb_cells[i].input_prompt_number == nbb_cell_id) {\n",
       "                        if (nbb_cells[i].get_text() == nbb_unformatted_code) {\n",
       "                             nbb_cells[i].set_text(nbb_formatted_code);\n",
       "                        }\n",
       "                        break;\n",
       "                    }\n",
       "                }\n",
       "            }, 500);\n",
       "            "
      ],
      "text/plain": [
       "<IPython.core.display.Javascript object>"
      ]
     },
     "metadata": {},
     "output_type": "display_data"
    }
   ],
   "source": [
    "# Creating new dataframe grouping download ids to create list of label ids\n",
    "label_ids = (\n",
    "    final_df.groupby([\"download_id\"])\n",
    "    .agg(lambda x: tuple(x))\n",
    "    .applymap(list)\n",
    "    .reset_index()[[\"label_id\", \"download_id\"]]\n",
    ")\n",
    "label_ids.head()"
   ]
  },
  {
   "cell_type": "code",
   "execution_count": 52,
   "metadata": {},
   "outputs": [
    {
     "data": {
      "text/plain": [
       "487887"
      ]
     },
     "execution_count": 52,
     "metadata": {},
     "output_type": "execute_result"
    },
    {
     "data": {
      "application/javascript": [
       "\n",
       "            setTimeout(function() {\n",
       "                var nbb_cell_id = 52;\n",
       "                var nbb_unformatted_code = \"len(label_ids)\";\n",
       "                var nbb_formatted_code = \"len(label_ids)\";\n",
       "                var nbb_cells = Jupyter.notebook.get_cells();\n",
       "                for (var i = 0; i < nbb_cells.length; ++i) {\n",
       "                    if (nbb_cells[i].input_prompt_number == nbb_cell_id) {\n",
       "                        if (nbb_cells[i].get_text() == nbb_unformatted_code) {\n",
       "                             nbb_cells[i].set_text(nbb_formatted_code);\n",
       "                        }\n",
       "                        break;\n",
       "                    }\n",
       "                }\n",
       "            }, 500);\n",
       "            "
      ],
      "text/plain": [
       "<IPython.core.display.Javascript object>"
      ]
     },
     "metadata": {},
     "output_type": "display_data"
    }
   ],
   "source": [
    "len(label_ids)"
   ]
  },
  {
   "cell_type": "code",
   "execution_count": 53,
   "metadata": {},
   "outputs": [
    {
     "data": {
      "application/javascript": [
       "\n",
       "            setTimeout(function() {\n",
       "                var nbb_cell_id = 53;\n",
       "                var nbb_unformatted_code = \"# Adding the download_id column to original dataframe\\nfinal_df = final_df.merge(label_ids, how=\\\"left\\\", on=\\\"download_id\\\")\";\n",
       "                var nbb_formatted_code = \"# Adding the download_id column to original dataframe\\nfinal_df = final_df.merge(label_ids, how=\\\"left\\\", on=\\\"download_id\\\")\";\n",
       "                var nbb_cells = Jupyter.notebook.get_cells();\n",
       "                for (var i = 0; i < nbb_cells.length; ++i) {\n",
       "                    if (nbb_cells[i].input_prompt_number == nbb_cell_id) {\n",
       "                        if (nbb_cells[i].get_text() == nbb_unformatted_code) {\n",
       "                             nbb_cells[i].set_text(nbb_formatted_code);\n",
       "                        }\n",
       "                        break;\n",
       "                    }\n",
       "                }\n",
       "            }, 500);\n",
       "            "
      ],
      "text/plain": [
       "<IPython.core.display.Javascript object>"
      ]
     },
     "metadata": {},
     "output_type": "display_data"
    }
   ],
   "source": [
    "# Adding the download_id column to original dataframe\n",
    "final_df = final_df.merge(label_ids, how=\"left\", on=\"download_id\")"
   ]
  },
  {
   "cell_type": "code",
   "execution_count": 54,
   "metadata": {},
   "outputs": [
    {
     "data": {
      "text/html": [
       "<div>\n",
       "<style scoped>\n",
       "    .dataframe tbody tr th:only-of-type {\n",
       "        vertical-align: middle;\n",
       "    }\n",
       "\n",
       "    .dataframe tbody tr th {\n",
       "        vertical-align: top;\n",
       "    }\n",
       "\n",
       "    .dataframe thead th {\n",
       "        text-align: right;\n",
       "    }\n",
       "</style>\n",
       "<table border=\"1\" class=\"dataframe\">\n",
       "  <thead>\n",
       "    <tr style=\"text-align: right;\">\n",
       "      <th></th>\n",
       "      <th>event_id</th>\n",
       "      <th>app_id</th>\n",
       "      <th>is_active</th>\n",
       "      <th>device_id</th>\n",
       "      <th>label_id_x</th>\n",
       "      <th>device_model</th>\n",
       "      <th>gender</th>\n",
       "      <th>age</th>\n",
       "      <th>group</th>\n",
       "      <th>english_phone_brand</th>\n",
       "      <th>size</th>\n",
       "      <th>download_id</th>\n",
       "      <th>label_id_y</th>\n",
       "    </tr>\n",
       "  </thead>\n",
       "  <tbody>\n",
       "    <tr>\n",
       "      <th>0</th>\n",
       "      <td>6</td>\n",
       "      <td>-8764672938472212518</td>\n",
       "      <td>1</td>\n",
       "      <td>1476664663289716375</td>\n",
       "      <td>179</td>\n",
       "      <td>Mate 7</td>\n",
       "      <td>M</td>\n",
       "      <td>19</td>\n",
       "      <td>M22-</td>\n",
       "      <td>huawei</td>\n",
       "      <td>1</td>\n",
       "      <td>-7288008275182496143</td>\n",
       "      <td>[179, 548, 704, 714, 179, 548, 704, 714, 179, ...</td>\n",
       "    </tr>\n",
       "    <tr>\n",
       "      <th>1</th>\n",
       "      <td>6</td>\n",
       "      <td>-8764672938472212518</td>\n",
       "      <td>1</td>\n",
       "      <td>1476664663289716375</td>\n",
       "      <td>548</td>\n",
       "      <td>Mate 7</td>\n",
       "      <td>M</td>\n",
       "      <td>19</td>\n",
       "      <td>M22-</td>\n",
       "      <td>huawei</td>\n",
       "      <td>1</td>\n",
       "      <td>-7288008275182496143</td>\n",
       "      <td>[179, 548, 704, 714, 179, 548, 704, 714, 179, ...</td>\n",
       "    </tr>\n",
       "    <tr>\n",
       "      <th>2</th>\n",
       "      <td>6</td>\n",
       "      <td>-8764672938472212518</td>\n",
       "      <td>1</td>\n",
       "      <td>1476664663289716375</td>\n",
       "      <td>704</td>\n",
       "      <td>Mate 7</td>\n",
       "      <td>M</td>\n",
       "      <td>19</td>\n",
       "      <td>M22-</td>\n",
       "      <td>huawei</td>\n",
       "      <td>1</td>\n",
       "      <td>-7288008275182496143</td>\n",
       "      <td>[179, 548, 704, 714, 179, 548, 704, 714, 179, ...</td>\n",
       "    </tr>\n",
       "    <tr>\n",
       "      <th>3</th>\n",
       "      <td>6</td>\n",
       "      <td>-8764672938472212518</td>\n",
       "      <td>1</td>\n",
       "      <td>1476664663289716375</td>\n",
       "      <td>714</td>\n",
       "      <td>Mate 7</td>\n",
       "      <td>M</td>\n",
       "      <td>19</td>\n",
       "      <td>M22-</td>\n",
       "      <td>huawei</td>\n",
       "      <td>1</td>\n",
       "      <td>-7288008275182496143</td>\n",
       "      <td>[179, 548, 704, 714, 179, 548, 704, 714, 179, ...</td>\n",
       "    </tr>\n",
       "    <tr>\n",
       "      <th>4</th>\n",
       "      <td>6</td>\n",
       "      <td>-8271866350659046570</td>\n",
       "      <td>0</td>\n",
       "      <td>1476664663289716375</td>\n",
       "      <td>405</td>\n",
       "      <td>Mate 7</td>\n",
       "      <td>M</td>\n",
       "      <td>19</td>\n",
       "      <td>M22-</td>\n",
       "      <td>huawei</td>\n",
       "      <td>1</td>\n",
       "      <td>-6795201687369330195</td>\n",
       "      <td>[405, 730, 737, 738, 774, 775, 780, 781, 785, ...</td>\n",
       "    </tr>\n",
       "  </tbody>\n",
       "</table>\n",
       "</div>"
      ],
      "text/plain": [
       "   event_id               app_id  is_active            device_id  label_id_x  \\\n",
       "0         6 -8764672938472212518          1  1476664663289716375         179   \n",
       "1         6 -8764672938472212518          1  1476664663289716375         548   \n",
       "2         6 -8764672938472212518          1  1476664663289716375         704   \n",
       "3         6 -8764672938472212518          1  1476664663289716375         714   \n",
       "4         6 -8271866350659046570          0  1476664663289716375         405   \n",
       "\n",
       "  device_model gender  age group english_phone_brand  size  \\\n",
       "0       Mate 7      M   19  M22-              huawei     1   \n",
       "1       Mate 7      M   19  M22-              huawei     1   \n",
       "2       Mate 7      M   19  M22-              huawei     1   \n",
       "3       Mate 7      M   19  M22-              huawei     1   \n",
       "4       Mate 7      M   19  M22-              huawei     1   \n",
       "\n",
       "           download_id                                         label_id_y  \n",
       "0 -7288008275182496143  [179, 548, 704, 714, 179, 548, 704, 714, 179, ...  \n",
       "1 -7288008275182496143  [179, 548, 704, 714, 179, 548, 704, 714, 179, ...  \n",
       "2 -7288008275182496143  [179, 548, 704, 714, 179, 548, 704, 714, 179, ...  \n",
       "3 -7288008275182496143  [179, 548, 704, 714, 179, 548, 704, 714, 179, ...  \n",
       "4 -6795201687369330195  [405, 730, 737, 738, 774, 775, 780, 781, 785, ...  "
      ]
     },
     "execution_count": 54,
     "metadata": {},
     "output_type": "execute_result"
    },
    {
     "data": {
      "application/javascript": [
       "\n",
       "            setTimeout(function() {\n",
       "                var nbb_cell_id = 54;\n",
       "                var nbb_unformatted_code = \"final_df.head()\";\n",
       "                var nbb_formatted_code = \"final_df.head()\";\n",
       "                var nbb_cells = Jupyter.notebook.get_cells();\n",
       "                for (var i = 0; i < nbb_cells.length; ++i) {\n",
       "                    if (nbb_cells[i].input_prompt_number == nbb_cell_id) {\n",
       "                        if (nbb_cells[i].get_text() == nbb_unformatted_code) {\n",
       "                             nbb_cells[i].set_text(nbb_formatted_code);\n",
       "                        }\n",
       "                        break;\n",
       "                    }\n",
       "                }\n",
       "            }, 500);\n",
       "            "
      ],
      "text/plain": [
       "<IPython.core.display.Javascript object>"
      ]
     },
     "metadata": {},
     "output_type": "display_data"
    }
   ],
   "source": [
    "final_df.head()"
   ]
  },
  {
   "cell_type": "code",
   "execution_count": 55,
   "metadata": {},
   "outputs": [
    {
     "data": {
      "text/plain": [
       "(51813662, 13)"
      ]
     },
     "execution_count": 55,
     "metadata": {},
     "output_type": "execute_result"
    },
    {
     "data": {
      "application/javascript": [
       "\n",
       "            setTimeout(function() {\n",
       "                var nbb_cell_id = 55;\n",
       "                var nbb_unformatted_code = \"final_df.shape\";\n",
       "                var nbb_formatted_code = \"final_df.shape\";\n",
       "                var nbb_cells = Jupyter.notebook.get_cells();\n",
       "                for (var i = 0; i < nbb_cells.length; ++i) {\n",
       "                    if (nbb_cells[i].input_prompt_number == nbb_cell_id) {\n",
       "                        if (nbb_cells[i].get_text() == nbb_unformatted_code) {\n",
       "                             nbb_cells[i].set_text(nbb_formatted_code);\n",
       "                        }\n",
       "                        break;\n",
       "                    }\n",
       "                }\n",
       "            }, 500);\n",
       "            "
      ],
      "text/plain": [
       "<IPython.core.display.Javascript object>"
      ]
     },
     "metadata": {},
     "output_type": "display_data"
    }
   ],
   "source": [
    "final_df.shape"
   ]
  },
  {
   "cell_type": "code",
   "execution_count": 56,
   "metadata": {},
   "outputs": [
    {
     "data": {
      "application/javascript": [
       "\n",
       "            setTimeout(function() {\n",
       "                var nbb_cell_id = 56;\n",
       "                var nbb_unformatted_code = \"# Dropping duplicate rows\\nfinal_df = final_df.drop_duplicates([\\\"download_id\\\"], keep=\\\"first\\\")\";\n",
       "                var nbb_formatted_code = \"# Dropping duplicate rows\\nfinal_df = final_df.drop_duplicates([\\\"download_id\\\"], keep=\\\"first\\\")\";\n",
       "                var nbb_cells = Jupyter.notebook.get_cells();\n",
       "                for (var i = 0; i < nbb_cells.length; ++i) {\n",
       "                    if (nbb_cells[i].input_prompt_number == nbb_cell_id) {\n",
       "                        if (nbb_cells[i].get_text() == nbb_unformatted_code) {\n",
       "                             nbb_cells[i].set_text(nbb_formatted_code);\n",
       "                        }\n",
       "                        break;\n",
       "                    }\n",
       "                }\n",
       "            }, 500);\n",
       "            "
      ],
      "text/plain": [
       "<IPython.core.display.Javascript object>"
      ]
     },
     "metadata": {},
     "output_type": "display_data"
    }
   ],
   "source": [
    "# Dropping duplicate rows\n",
    "final_df = final_df.drop_duplicates([\"download_id\"], keep=\"first\")"
   ]
  },
  {
   "cell_type": "code",
   "execution_count": 57,
   "metadata": {},
   "outputs": [
    {
     "data": {
      "text/plain": [
       "(487887, 13)"
      ]
     },
     "execution_count": 57,
     "metadata": {},
     "output_type": "execute_result"
    },
    {
     "data": {
      "application/javascript": [
       "\n",
       "            setTimeout(function() {\n",
       "                var nbb_cell_id = 57;\n",
       "                var nbb_unformatted_code = \"# Need to reduce to around 2 million rows\\nfinal_df.shape\";\n",
       "                var nbb_formatted_code = \"# Need to reduce to around 2 million rows\\nfinal_df.shape\";\n",
       "                var nbb_cells = Jupyter.notebook.get_cells();\n",
       "                for (var i = 0; i < nbb_cells.length; ++i) {\n",
       "                    if (nbb_cells[i].input_prompt_number == nbb_cell_id) {\n",
       "                        if (nbb_cells[i].get_text() == nbb_unformatted_code) {\n",
       "                             nbb_cells[i].set_text(nbb_formatted_code);\n",
       "                        }\n",
       "                        break;\n",
       "                    }\n",
       "                }\n",
       "            }, 500);\n",
       "            "
      ],
      "text/plain": [
       "<IPython.core.display.Javascript object>"
      ]
     },
     "metadata": {},
     "output_type": "display_data"
    }
   ],
   "source": [
    "# Need to reduce to around 2 million rows\n",
    "final_df.shape"
   ]
  },
  {
   "cell_type": "code",
   "execution_count": 58,
   "metadata": {},
   "outputs": [
    {
     "data": {
      "text/plain": [
       "event_id               0.0\n",
       "app_id                 0.0\n",
       "is_active              0.0\n",
       "device_id              0.0\n",
       "label_id_x             0.0\n",
       "device_model           0.0\n",
       "gender                 0.0\n",
       "age                    0.0\n",
       "group                  0.0\n",
       "english_phone_brand    0.0\n",
       "size                   0.0\n",
       "download_id            0.0\n",
       "label_id_y             0.0\n",
       "dtype: float64"
      ]
     },
     "execution_count": 58,
     "metadata": {},
     "output_type": "execute_result"
    },
    {
     "data": {
      "application/javascript": [
       "\n",
       "            setTimeout(function() {\n",
       "                var nbb_cell_id = 58;\n",
       "                var nbb_unformatted_code = \"final_df.isna().mean()\";\n",
       "                var nbb_formatted_code = \"final_df.isna().mean()\";\n",
       "                var nbb_cells = Jupyter.notebook.get_cells();\n",
       "                for (var i = 0; i < nbb_cells.length; ++i) {\n",
       "                    if (nbb_cells[i].input_prompt_number == nbb_cell_id) {\n",
       "                        if (nbb_cells[i].get_text() == nbb_unformatted_code) {\n",
       "                             nbb_cells[i].set_text(nbb_formatted_code);\n",
       "                        }\n",
       "                        break;\n",
       "                    }\n",
       "                }\n",
       "            }, 500);\n",
       "            "
      ],
      "text/plain": [
       "<IPython.core.display.Javascript object>"
      ]
     },
     "metadata": {},
     "output_type": "display_data"
    }
   ],
   "source": [
    "final_df.isna().mean()"
   ]
  },
  {
   "cell_type": "code",
   "execution_count": 59,
   "metadata": {},
   "outputs": [
    {
     "data": {
      "text/html": [
       "<div>\n",
       "<style scoped>\n",
       "    .dataframe tbody tr th:only-of-type {\n",
       "        vertical-align: middle;\n",
       "    }\n",
       "\n",
       "    .dataframe tbody tr th {\n",
       "        vertical-align: top;\n",
       "    }\n",
       "\n",
       "    .dataframe thead th {\n",
       "        text-align: right;\n",
       "    }\n",
       "</style>\n",
       "<table border=\"1\" class=\"dataframe\">\n",
       "  <thead>\n",
       "    <tr style=\"text-align: right;\">\n",
       "      <th></th>\n",
       "      <th>event_id</th>\n",
       "      <th>app_id</th>\n",
       "      <th>is_active</th>\n",
       "      <th>device_id</th>\n",
       "      <th>label_id_x</th>\n",
       "      <th>device_model</th>\n",
       "      <th>gender</th>\n",
       "      <th>age</th>\n",
       "      <th>group</th>\n",
       "      <th>english_phone_brand</th>\n",
       "      <th>size</th>\n",
       "      <th>download_id</th>\n",
       "      <th>label_id_y</th>\n",
       "    </tr>\n",
       "  </thead>\n",
       "  <tbody>\n",
       "    <tr>\n",
       "      <th>0</th>\n",
       "      <td>6</td>\n",
       "      <td>-8764672938472212518</td>\n",
       "      <td>1</td>\n",
       "      <td>1476664663289716375</td>\n",
       "      <td>179</td>\n",
       "      <td>Mate 7</td>\n",
       "      <td>M</td>\n",
       "      <td>19</td>\n",
       "      <td>M22-</td>\n",
       "      <td>huawei</td>\n",
       "      <td>1</td>\n",
       "      <td>-7288008275182496143</td>\n",
       "      <td>[179, 548, 704, 714, 179, 548, 704, 714, 179, ...</td>\n",
       "    </tr>\n",
       "    <tr>\n",
       "      <th>4</th>\n",
       "      <td>6</td>\n",
       "      <td>-8271866350659046570</td>\n",
       "      <td>0</td>\n",
       "      <td>1476664663289716375</td>\n",
       "      <td>405</td>\n",
       "      <td>Mate 7</td>\n",
       "      <td>M</td>\n",
       "      <td>19</td>\n",
       "      <td>M22-</td>\n",
       "      <td>huawei</td>\n",
       "      <td>1</td>\n",
       "      <td>-6795201687369330195</td>\n",
       "      <td>[405, 730, 737, 738, 774, 775, 780, 781, 785, ...</td>\n",
       "    </tr>\n",
       "    <tr>\n",
       "      <th>15</th>\n",
       "      <td>6</td>\n",
       "      <td>-7509752927626140732</td>\n",
       "      <td>0</td>\n",
       "      <td>1476664663289716375</td>\n",
       "      <td>405</td>\n",
       "      <td>Mate 7</td>\n",
       "      <td>M</td>\n",
       "      <td>19</td>\n",
       "      <td>M22-</td>\n",
       "      <td>huawei</td>\n",
       "      <td>1</td>\n",
       "      <td>-6033088264336424357</td>\n",
       "      <td>[405, 548, 730, 756, 761, 777, 782, 787, 959, ...</td>\n",
       "    </tr>\n",
       "    <tr>\n",
       "      <th>26</th>\n",
       "      <td>6</td>\n",
       "      <td>-7377004479023402858</td>\n",
       "      <td>1</td>\n",
       "      <td>1476664663289716375</td>\n",
       "      <td>183</td>\n",
       "      <td>Mate 7</td>\n",
       "      <td>M</td>\n",
       "      <td>19</td>\n",
       "      <td>M22-</td>\n",
       "      <td>huawei</td>\n",
       "      <td>1</td>\n",
       "      <td>-5900339815733686483</td>\n",
       "      <td>[183, 302, 303, 548, 549, 704, 721, 183, 302, ...</td>\n",
       "    </tr>\n",
       "    <tr>\n",
       "      <th>33</th>\n",
       "      <td>6</td>\n",
       "      <td>-5839858269967688123</td>\n",
       "      <td>0</td>\n",
       "      <td>1476664663289716375</td>\n",
       "      <td>251</td>\n",
       "      <td>Mate 7</td>\n",
       "      <td>M</td>\n",
       "      <td>19</td>\n",
       "      <td>M22-</td>\n",
       "      <td>huawei</td>\n",
       "      <td>1</td>\n",
       "      <td>-4363193606677971748</td>\n",
       "      <td>[251, 254, 405, 548, 562, 564, 691, 704, 713, ...</td>\n",
       "    </tr>\n",
       "    <tr>\n",
       "      <th>51</th>\n",
       "      <td>6</td>\n",
       "      <td>-5305696816021977482</td>\n",
       "      <td>0</td>\n",
       "      <td>1476664663289716375</td>\n",
       "      <td>178</td>\n",
       "      <td>Mate 7</td>\n",
       "      <td>M</td>\n",
       "      <td>19</td>\n",
       "      <td>M22-</td>\n",
       "      <td>huawei</td>\n",
       "      <td>1</td>\n",
       "      <td>-3829032152732261107</td>\n",
       "      <td>[178, 548, 704, 714, 723, 178, 548, 704, 714, ...</td>\n",
       "    </tr>\n",
       "    <tr>\n",
       "      <th>56</th>\n",
       "      <td>6</td>\n",
       "      <td>-4514556887128287722</td>\n",
       "      <td>0</td>\n",
       "      <td>1476664663289716375</td>\n",
       "      <td>209</td>\n",
       "      <td>Mate 7</td>\n",
       "      <td>M</td>\n",
       "      <td>19</td>\n",
       "      <td>M22-</td>\n",
       "      <td>huawei</td>\n",
       "      <td>1</td>\n",
       "      <td>-3037892223838571347</td>\n",
       "      <td>[209, 548, 704, 706, 209, 548, 704, 706, 209, ...</td>\n",
       "    </tr>\n",
       "    <tr>\n",
       "      <th>60</th>\n",
       "      <td>6</td>\n",
       "      <td>-4361453417043092299</td>\n",
       "      <td>1</td>\n",
       "      <td>1476664663289716375</td>\n",
       "      <td>163</td>\n",
       "      <td>Mate 7</td>\n",
       "      <td>M</td>\n",
       "      <td>19</td>\n",
       "      <td>M22-</td>\n",
       "      <td>huawei</td>\n",
       "      <td>1</td>\n",
       "      <td>-2884788753753375924</td>\n",
       "      <td>[163, 405, 548, 549, 704, 705, 706, 709, 713, ...</td>\n",
       "    </tr>\n",
       "    <tr>\n",
       "      <th>73</th>\n",
       "      <td>6</td>\n",
       "      <td>-3955212733485100109</td>\n",
       "      <td>1</td>\n",
       "      <td>1476664663289716375</td>\n",
       "      <td>302</td>\n",
       "      <td>Mate 7</td>\n",
       "      <td>M</td>\n",
       "      <td>19</td>\n",
       "      <td>M22-</td>\n",
       "      <td>huawei</td>\n",
       "      <td>1</td>\n",
       "      <td>-2478548070195383734</td>\n",
       "      <td>[302, 303, 302, 303, 302, 303, 302, 303, 302, ...</td>\n",
       "    </tr>\n",
       "    <tr>\n",
       "      <th>75</th>\n",
       "      <td>6</td>\n",
       "      <td>-3467200097934864127</td>\n",
       "      <td>1</td>\n",
       "      <td>1476664663289716375</td>\n",
       "      <td>128</td>\n",
       "      <td>Mate 7</td>\n",
       "      <td>M</td>\n",
       "      <td>19</td>\n",
       "      <td>M22-</td>\n",
       "      <td>huawei</td>\n",
       "      <td>1</td>\n",
       "      <td>-1990535434645147752</td>\n",
       "      <td>[128, 1014, 128, 1014, 128, 1014, 128, 1014, 1...</td>\n",
       "    </tr>\n",
       "  </tbody>\n",
       "</table>\n",
       "</div>"
      ],
      "text/plain": [
       "    event_id               app_id  is_active            device_id  label_id_x  \\\n",
       "0          6 -8764672938472212518          1  1476664663289716375         179   \n",
       "4          6 -8271866350659046570          0  1476664663289716375         405   \n",
       "15         6 -7509752927626140732          0  1476664663289716375         405   \n",
       "26         6 -7377004479023402858          1  1476664663289716375         183   \n",
       "33         6 -5839858269967688123          0  1476664663289716375         251   \n",
       "51         6 -5305696816021977482          0  1476664663289716375         178   \n",
       "56         6 -4514556887128287722          0  1476664663289716375         209   \n",
       "60         6 -4361453417043092299          1  1476664663289716375         163   \n",
       "73         6 -3955212733485100109          1  1476664663289716375         302   \n",
       "75         6 -3467200097934864127          1  1476664663289716375         128   \n",
       "\n",
       "   device_model gender  age group english_phone_brand  size  \\\n",
       "0        Mate 7      M   19  M22-              huawei     1   \n",
       "4        Mate 7      M   19  M22-              huawei     1   \n",
       "15       Mate 7      M   19  M22-              huawei     1   \n",
       "26       Mate 7      M   19  M22-              huawei     1   \n",
       "33       Mate 7      M   19  M22-              huawei     1   \n",
       "51       Mate 7      M   19  M22-              huawei     1   \n",
       "56       Mate 7      M   19  M22-              huawei     1   \n",
       "60       Mate 7      M   19  M22-              huawei     1   \n",
       "73       Mate 7      M   19  M22-              huawei     1   \n",
       "75       Mate 7      M   19  M22-              huawei     1   \n",
       "\n",
       "            download_id                                         label_id_y  \n",
       "0  -7288008275182496143  [179, 548, 704, 714, 179, 548, 704, 714, 179, ...  \n",
       "4  -6795201687369330195  [405, 730, 737, 738, 774, 775, 780, 781, 785, ...  \n",
       "15 -6033088264336424357  [405, 548, 730, 756, 761, 777, 782, 787, 959, ...  \n",
       "26 -5900339815733686483  [183, 302, 303, 548, 549, 704, 721, 183, 302, ...  \n",
       "33 -4363193606677971748  [251, 254, 405, 548, 562, 564, 691, 704, 713, ...  \n",
       "51 -3829032152732261107  [178, 548, 704, 714, 723, 178, 548, 704, 714, ...  \n",
       "56 -3037892223838571347  [209, 548, 704, 706, 209, 548, 704, 706, 209, ...  \n",
       "60 -2884788753753375924  [163, 405, 548, 549, 704, 705, 706, 709, 713, ...  \n",
       "73 -2478548070195383734  [302, 303, 302, 303, 302, 303, 302, 303, 302, ...  \n",
       "75 -1990535434645147752  [128, 1014, 128, 1014, 128, 1014, 128, 1014, 1...  "
      ]
     },
     "execution_count": 59,
     "metadata": {},
     "output_type": "execute_result"
    },
    {
     "data": {
      "application/javascript": [
       "\n",
       "            setTimeout(function() {\n",
       "                var nbb_cell_id = 59;\n",
       "                var nbb_unformatted_code = \"final_df.head(10)\";\n",
       "                var nbb_formatted_code = \"final_df.head(10)\";\n",
       "                var nbb_cells = Jupyter.notebook.get_cells();\n",
       "                for (var i = 0; i < nbb_cells.length; ++i) {\n",
       "                    if (nbb_cells[i].input_prompt_number == nbb_cell_id) {\n",
       "                        if (nbb_cells[i].get_text() == nbb_unformatted_code) {\n",
       "                             nbb_cells[i].set_text(nbb_formatted_code);\n",
       "                        }\n",
       "                        break;\n",
       "                    }\n",
       "                }\n",
       "            }, 500);\n",
       "            "
      ],
      "text/plain": [
       "<IPython.core.display.Javascript object>"
      ]
     },
     "metadata": {},
     "output_type": "display_data"
    }
   ],
   "source": [
    "final_df.head(10)"
   ]
  },
  {
   "cell_type": "code",
   "execution_count": 60,
   "metadata": {},
   "outputs": [
    {
     "data": {
      "text/html": [
       "<div>\n",
       "<style scoped>\n",
       "    .dataframe tbody tr th:only-of-type {\n",
       "        vertical-align: middle;\n",
       "    }\n",
       "\n",
       "    .dataframe tbody tr th {\n",
       "        vertical-align: top;\n",
       "    }\n",
       "\n",
       "    .dataframe thead th {\n",
       "        text-align: right;\n",
       "    }\n",
       "</style>\n",
       "<table border=\"1\" class=\"dataframe\">\n",
       "  <thead>\n",
       "    <tr style=\"text-align: right;\">\n",
       "      <th></th>\n",
       "      <th>event_id</th>\n",
       "      <th>app_id</th>\n",
       "      <th>is_active</th>\n",
       "      <th>device_id</th>\n",
       "      <th>device_model</th>\n",
       "      <th>gender</th>\n",
       "      <th>age</th>\n",
       "      <th>group</th>\n",
       "      <th>english_phone_brand</th>\n",
       "      <th>size</th>\n",
       "      <th>label_id_y</th>\n",
       "    </tr>\n",
       "  </thead>\n",
       "  <tbody>\n",
       "    <tr>\n",
       "      <th>0</th>\n",
       "      <td>6</td>\n",
       "      <td>-8764672938472212518</td>\n",
       "      <td>1</td>\n",
       "      <td>1476664663289716375</td>\n",
       "      <td>Mate 7</td>\n",
       "      <td>M</td>\n",
       "      <td>19</td>\n",
       "      <td>M22-</td>\n",
       "      <td>huawei</td>\n",
       "      <td>1</td>\n",
       "      <td>[179, 548, 704, 714, 179, 548, 704, 714, 179, ...</td>\n",
       "    </tr>\n",
       "    <tr>\n",
       "      <th>4</th>\n",
       "      <td>6</td>\n",
       "      <td>-8271866350659046570</td>\n",
       "      <td>0</td>\n",
       "      <td>1476664663289716375</td>\n",
       "      <td>Mate 7</td>\n",
       "      <td>M</td>\n",
       "      <td>19</td>\n",
       "      <td>M22-</td>\n",
       "      <td>huawei</td>\n",
       "      <td>1</td>\n",
       "      <td>[405, 730, 737, 738, 774, 775, 780, 781, 785, ...</td>\n",
       "    </tr>\n",
       "    <tr>\n",
       "      <th>15</th>\n",
       "      <td>6</td>\n",
       "      <td>-7509752927626140732</td>\n",
       "      <td>0</td>\n",
       "      <td>1476664663289716375</td>\n",
       "      <td>Mate 7</td>\n",
       "      <td>M</td>\n",
       "      <td>19</td>\n",
       "      <td>M22-</td>\n",
       "      <td>huawei</td>\n",
       "      <td>1</td>\n",
       "      <td>[405, 548, 730, 756, 761, 777, 782, 787, 959, ...</td>\n",
       "    </tr>\n",
       "    <tr>\n",
       "      <th>26</th>\n",
       "      <td>6</td>\n",
       "      <td>-7377004479023402858</td>\n",
       "      <td>1</td>\n",
       "      <td>1476664663289716375</td>\n",
       "      <td>Mate 7</td>\n",
       "      <td>M</td>\n",
       "      <td>19</td>\n",
       "      <td>M22-</td>\n",
       "      <td>huawei</td>\n",
       "      <td>1</td>\n",
       "      <td>[183, 302, 303, 548, 549, 704, 721, 183, 302, ...</td>\n",
       "    </tr>\n",
       "    <tr>\n",
       "      <th>33</th>\n",
       "      <td>6</td>\n",
       "      <td>-5839858269967688123</td>\n",
       "      <td>0</td>\n",
       "      <td>1476664663289716375</td>\n",
       "      <td>Mate 7</td>\n",
       "      <td>M</td>\n",
       "      <td>19</td>\n",
       "      <td>M22-</td>\n",
       "      <td>huawei</td>\n",
       "      <td>1</td>\n",
       "      <td>[251, 254, 405, 548, 562, 564, 691, 704, 713, ...</td>\n",
       "    </tr>\n",
       "  </tbody>\n",
       "</table>\n",
       "</div>"
      ],
      "text/plain": [
       "    event_id               app_id  is_active            device_id  \\\n",
       "0          6 -8764672938472212518          1  1476664663289716375   \n",
       "4          6 -8271866350659046570          0  1476664663289716375   \n",
       "15         6 -7509752927626140732          0  1476664663289716375   \n",
       "26         6 -7377004479023402858          1  1476664663289716375   \n",
       "33         6 -5839858269967688123          0  1476664663289716375   \n",
       "\n",
       "   device_model gender  age group english_phone_brand  size  \\\n",
       "0        Mate 7      M   19  M22-              huawei     1   \n",
       "4        Mate 7      M   19  M22-              huawei     1   \n",
       "15       Mate 7      M   19  M22-              huawei     1   \n",
       "26       Mate 7      M   19  M22-              huawei     1   \n",
       "33       Mate 7      M   19  M22-              huawei     1   \n",
       "\n",
       "                                           label_id_y  \n",
       "0   [179, 548, 704, 714, 179, 548, 704, 714, 179, ...  \n",
       "4   [405, 730, 737, 738, 774, 775, 780, 781, 785, ...  \n",
       "15  [405, 548, 730, 756, 761, 777, 782, 787, 959, ...  \n",
       "26  [183, 302, 303, 548, 549, 704, 721, 183, 302, ...  \n",
       "33  [251, 254, 405, 548, 562, 564, 691, 704, 713, ...  "
      ]
     },
     "execution_count": 60,
     "metadata": {},
     "output_type": "execute_result"
    },
    {
     "data": {
      "application/javascript": [
       "\n",
       "            setTimeout(function() {\n",
       "                var nbb_cell_id = 60;\n",
       "                var nbb_unformatted_code = \"# Only used the download_id column to create multiple labels in one column, so no longer need that column\\n# Also do not need the label_id_x column since label_id_y contains all the labels\\nfinal_df = final_df.drop(columns=[\\\"label_id_x\\\", \\\"download_id\\\"])\\nfinal_df.head()\";\n",
       "                var nbb_formatted_code = \"# Only used the download_id column to create multiple labels in one column, so no longer need that column\\n# Also do not need the label_id_x column since label_id_y contains all the labels\\nfinal_df = final_df.drop(columns=[\\\"label_id_x\\\", \\\"download_id\\\"])\\nfinal_df.head()\";\n",
       "                var nbb_cells = Jupyter.notebook.get_cells();\n",
       "                for (var i = 0; i < nbb_cells.length; ++i) {\n",
       "                    if (nbb_cells[i].input_prompt_number == nbb_cell_id) {\n",
       "                        if (nbb_cells[i].get_text() == nbb_unformatted_code) {\n",
       "                             nbb_cells[i].set_text(nbb_formatted_code);\n",
       "                        }\n",
       "                        break;\n",
       "                    }\n",
       "                }\n",
       "            }, 500);\n",
       "            "
      ],
      "text/plain": [
       "<IPython.core.display.Javascript object>"
      ]
     },
     "metadata": {},
     "output_type": "display_data"
    }
   ],
   "source": [
    "# Only used the download_id column to create multiple labels in one column, so no longer need that column\n",
    "# Also do not need the label_id_x column since label_id_y contains all the labels\n",
    "final_df = final_df.drop(columns=[\"label_id_x\", \"download_id\"])\n",
    "final_df.head()"
   ]
  },
  {
   "cell_type": "code",
   "execution_count": 61,
   "metadata": {},
   "outputs": [
    {
     "data": {
      "text/plain": [
       "(487887, 11)"
      ]
     },
     "execution_count": 61,
     "metadata": {},
     "output_type": "execute_result"
    },
    {
     "data": {
      "application/javascript": [
       "\n",
       "            setTimeout(function() {\n",
       "                var nbb_cell_id = 61;\n",
       "                var nbb_unformatted_code = \"final_df.shape\";\n",
       "                var nbb_formatted_code = \"final_df.shape\";\n",
       "                var nbb_cells = Jupyter.notebook.get_cells();\n",
       "                for (var i = 0; i < nbb_cells.length; ++i) {\n",
       "                    if (nbb_cells[i].input_prompt_number == nbb_cell_id) {\n",
       "                        if (nbb_cells[i].get_text() == nbb_unformatted_code) {\n",
       "                             nbb_cells[i].set_text(nbb_formatted_code);\n",
       "                        }\n",
       "                        break;\n",
       "                    }\n",
       "                }\n",
       "            }, 500);\n",
       "            "
      ],
      "text/plain": [
       "<IPython.core.display.Javascript object>"
      ]
     },
     "metadata": {},
     "output_type": "display_data"
    }
   ],
   "source": [
    "final_df.shape"
   ]
  },
  {
   "cell_type": "markdown",
   "metadata": {},
   "source": [
    "# Checking Value Counts for New DataFrame"
   ]
  },
  {
   "cell_type": "code",
   "execution_count": 62,
   "metadata": {},
   "outputs": [
    {
     "data": {
      "application/javascript": [
       "\n",
       "            setTimeout(function() {\n",
       "                var nbb_cell_id = 62;\n",
       "                var nbb_unformatted_code = \"# pd.set_option(\\\"display.max_rows\\\", None)\";\n",
       "                var nbb_formatted_code = \"# pd.set_option(\\\"display.max_rows\\\", None)\";\n",
       "                var nbb_cells = Jupyter.notebook.get_cells();\n",
       "                for (var i = 0; i < nbb_cells.length; ++i) {\n",
       "                    if (nbb_cells[i].input_prompt_number == nbb_cell_id) {\n",
       "                        if (nbb_cells[i].get_text() == nbb_unformatted_code) {\n",
       "                             nbb_cells[i].set_text(nbb_formatted_code);\n",
       "                        }\n",
       "                        break;\n",
       "                    }\n",
       "                }\n",
       "            }, 500);\n",
       "            "
      ],
      "text/plain": [
       "<IPython.core.display.Javascript object>"
      ]
     },
     "metadata": {},
     "output_type": "display_data"
    }
   ],
   "source": [
    "# pd.set_option(\"display.max_rows\", None)"
   ]
  },
  {
   "cell_type": "code",
   "execution_count": 63,
   "metadata": {},
   "outputs": [
    {
     "data": {
      "text/plain": [
       "1268100    203\n",
       "19935      189\n",
       "28574      185\n",
       "19886      185\n",
       "79909      179\n",
       "          ... \n",
       "2239002      1\n",
       "1214990      1\n",
       "371178       1\n",
       "1333716      1\n",
       "1066999      1\n",
       "Name: event_id, Length: 34818, dtype: int64"
      ]
     },
     "execution_count": 63,
     "metadata": {},
     "output_type": "execute_result"
    },
    {
     "data": {
      "application/javascript": [
       "\n",
       "            setTimeout(function() {\n",
       "                var nbb_cell_id = 63;\n",
       "                var nbb_unformatted_code = \"final_df[\\\"event_id\\\"].value_counts()\";\n",
       "                var nbb_formatted_code = \"final_df[\\\"event_id\\\"].value_counts()\";\n",
       "                var nbb_cells = Jupyter.notebook.get_cells();\n",
       "                for (var i = 0; i < nbb_cells.length; ++i) {\n",
       "                    if (nbb_cells[i].input_prompt_number == nbb_cell_id) {\n",
       "                        if (nbb_cells[i].get_text() == nbb_unformatted_code) {\n",
       "                             nbb_cells[i].set_text(nbb_formatted_code);\n",
       "                        }\n",
       "                        break;\n",
       "                    }\n",
       "                }\n",
       "            }, 500);\n",
       "            "
      ],
      "text/plain": [
       "<IPython.core.display.Javascript object>"
      ]
     },
     "metadata": {},
     "output_type": "display_data"
    }
   ],
   "source": [
    "final_df[\"event_id\"].value_counts()"
   ]
  },
  {
   "cell_type": "code",
   "execution_count": 64,
   "metadata": {},
   "outputs": [
    {
     "data": {
      "application/javascript": [
       "\n",
       "            setTimeout(function() {\n",
       "                var nbb_cell_id = 64;\n",
       "                var nbb_unformatted_code = \"# Only keep data that contains at least 10 counts,\\ncount = final_df[\\\"event_id\\\"].value_counts()\\nkeep = count[count >= 10].index\\nfinal_df = final_df[final_df[\\\"event_id\\\"].isin(keep)]\";\n",
       "                var nbb_formatted_code = \"# Only keep data that contains at least 10 counts,\\ncount = final_df[\\\"event_id\\\"].value_counts()\\nkeep = count[count >= 10].index\\nfinal_df = final_df[final_df[\\\"event_id\\\"].isin(keep)]\";\n",
       "                var nbb_cells = Jupyter.notebook.get_cells();\n",
       "                for (var i = 0; i < nbb_cells.length; ++i) {\n",
       "                    if (nbb_cells[i].input_prompt_number == nbb_cell_id) {\n",
       "                        if (nbb_cells[i].get_text() == nbb_unformatted_code) {\n",
       "                             nbb_cells[i].set_text(nbb_formatted_code);\n",
       "                        }\n",
       "                        break;\n",
       "                    }\n",
       "                }\n",
       "            }, 500);\n",
       "            "
      ],
      "text/plain": [
       "<IPython.core.display.Javascript object>"
      ]
     },
     "metadata": {},
     "output_type": "display_data"
    }
   ],
   "source": [
    "# Only keep data that contains at least 10 counts,\n",
    "count = final_df[\"event_id\"].value_counts()\n",
    "keep = count[count >= 10].index\n",
    "final_df = final_df[final_df[\"event_id\"].isin(keep)]"
   ]
  },
  {
   "cell_type": "code",
   "execution_count": 65,
   "metadata": {},
   "outputs": [
    {
     "data": {
      "text/plain": [
       "MI 4             22175\n",
       "Mate 7           17725\n",
       "荣耀6              17333\n",
       "荣耀6 Plus         14000\n",
       "Galaxy Note 3    12254\n",
       "                 ...  \n",
       "醉享                  14\n",
       "G3818               13\n",
       "idol3               13\n",
       "A355e               13\n",
       "S7I                 10\n",
       "Name: device_model, Length: 500, dtype: int64"
      ]
     },
     "execution_count": 65,
     "metadata": {},
     "output_type": "execute_result"
    },
    {
     "data": {
      "application/javascript": [
       "\n",
       "            setTimeout(function() {\n",
       "                var nbb_cell_id = 65;\n",
       "                var nbb_unformatted_code = \"final_df[\\\"device_model\\\"].value_counts()\";\n",
       "                var nbb_formatted_code = \"final_df[\\\"device_model\\\"].value_counts()\";\n",
       "                var nbb_cells = Jupyter.notebook.get_cells();\n",
       "                for (var i = 0; i < nbb_cells.length; ++i) {\n",
       "                    if (nbb_cells[i].input_prompt_number == nbb_cell_id) {\n",
       "                        if (nbb_cells[i].get_text() == nbb_unformatted_code) {\n",
       "                             nbb_cells[i].set_text(nbb_formatted_code);\n",
       "                        }\n",
       "                        break;\n",
       "                    }\n",
       "                }\n",
       "            }, 500);\n",
       "            "
      ],
      "text/plain": [
       "<IPython.core.display.Javascript object>"
      ]
     },
     "metadata": {},
     "output_type": "display_data"
    }
   ],
   "source": [
    "final_df[\"device_model\"].value_counts()"
   ]
  },
  {
   "cell_type": "code",
   "execution_count": 66,
   "metadata": {},
   "outputs": [
    {
     "data": {
      "application/javascript": [
       "\n",
       "            setTimeout(function() {\n",
       "                var nbb_cell_id = 66;\n",
       "                var nbb_unformatted_code = \"# Only keep data that contains at least 100 counts,\\ncount = final_df[\\\"device_model\\\"].value_counts()\\nkeep = count[count >= 100].index\\nfinal_df = final_df[final_df[\\\"device_model\\\"].isin(keep)]\";\n",
       "                var nbb_formatted_code = \"# Only keep data that contains at least 100 counts,\\ncount = final_df[\\\"device_model\\\"].value_counts()\\nkeep = count[count >= 100].index\\nfinal_df = final_df[final_df[\\\"device_model\\\"].isin(keep)]\";\n",
       "                var nbb_cells = Jupyter.notebook.get_cells();\n",
       "                for (var i = 0; i < nbb_cells.length; ++i) {\n",
       "                    if (nbb_cells[i].input_prompt_number == nbb_cell_id) {\n",
       "                        if (nbb_cells[i].get_text() == nbb_unformatted_code) {\n",
       "                             nbb_cells[i].set_text(nbb_formatted_code);\n",
       "                        }\n",
       "                        break;\n",
       "                    }\n",
       "                }\n",
       "            }, 500);\n",
       "            "
      ],
      "text/plain": [
       "<IPython.core.display.Javascript object>"
      ]
     },
     "metadata": {},
     "output_type": "display_data"
    }
   ],
   "source": [
    "# Only keep data that contains at least 100 counts,\n",
    "count = final_df[\"device_model\"].value_counts()\n",
    "keep = count[count >= 100].index\n",
    "final_df = final_df[final_df[\"device_model\"].isin(keep)]"
   ]
  },
  {
   "cell_type": "code",
   "execution_count": 67,
   "metadata": {},
   "outputs": [
    {
     "data": {
      "text/plain": [
       "huawei     114217\n",
       "xiaomi     103067\n",
       "samsung     58988\n",
       "meizu       40183\n",
       "oppo        36848\n",
       "vivo        19107\n",
       "coolpad     17843\n",
       "lshi        13803\n",
       "lenovo       6146\n",
       "nubia        4082\n",
       "hammer       3392\n",
       "gionee       2775\n",
       "qiku         2481\n",
       "oneplus      2181\n",
       "htc          1947\n",
       "sony         1649\n",
       "zte          1563\n",
       "lg           1079\n",
       "ccmc         1031\n",
       "asus          661\n",
       "aiyouni       599\n",
       "moto          596\n",
       "tcl           576\n",
       "yuxin         305\n",
       "meitu         264\n",
       "nibilu        257\n",
       "newman        255\n",
       "google        131\n",
       "Name: english_phone_brand, dtype: int64"
      ]
     },
     "execution_count": 67,
     "metadata": {},
     "output_type": "execute_result"
    },
    {
     "data": {
      "application/javascript": [
       "\n",
       "            setTimeout(function() {\n",
       "                var nbb_cell_id = 67;\n",
       "                var nbb_unformatted_code = \"final_df[\\\"english_phone_brand\\\"].value_counts()\";\n",
       "                var nbb_formatted_code = \"final_df[\\\"english_phone_brand\\\"].value_counts()\";\n",
       "                var nbb_cells = Jupyter.notebook.get_cells();\n",
       "                for (var i = 0; i < nbb_cells.length; ++i) {\n",
       "                    if (nbb_cells[i].input_prompt_number == nbb_cell_id) {\n",
       "                        if (nbb_cells[i].get_text() == nbb_unformatted_code) {\n",
       "                             nbb_cells[i].set_text(nbb_formatted_code);\n",
       "                        }\n",
       "                        break;\n",
       "                    }\n",
       "                }\n",
       "            }, 500);\n",
       "            "
      ],
      "text/plain": [
       "<IPython.core.display.Javascript object>"
      ]
     },
     "metadata": {},
     "output_type": "display_data"
    }
   ],
   "source": [
    "final_df[\"english_phone_brand\"].value_counts()"
   ]
  },
  {
   "cell_type": "code",
   "execution_count": 68,
   "metadata": {},
   "outputs": [
    {
     "data": {
      "application/javascript": [
       "\n",
       "            setTimeout(function() {\n",
       "                var nbb_cell_id = 68;\n",
       "                var nbb_unformatted_code = \"# Only keep data that contains at least 100 counts,\\ncount = final_df[\\\"english_phone_brand\\\"].value_counts()\\nkeep = count[count >= 100].index\\nfinal_df = final_df[final_df[\\\"english_phone_brand\\\"].isin(keep)]\";\n",
       "                var nbb_formatted_code = \"# Only keep data that contains at least 100 counts,\\ncount = final_df[\\\"english_phone_brand\\\"].value_counts()\\nkeep = count[count >= 100].index\\nfinal_df = final_df[final_df[\\\"english_phone_brand\\\"].isin(keep)]\";\n",
       "                var nbb_cells = Jupyter.notebook.get_cells();\n",
       "                for (var i = 0; i < nbb_cells.length; ++i) {\n",
       "                    if (nbb_cells[i].input_prompt_number == nbb_cell_id) {\n",
       "                        if (nbb_cells[i].get_text() == nbb_unformatted_code) {\n",
       "                             nbb_cells[i].set_text(nbb_formatted_code);\n",
       "                        }\n",
       "                        break;\n",
       "                    }\n",
       "                }\n",
       "            }, 500);\n",
       "            "
      ],
      "text/plain": [
       "<IPython.core.display.Javascript object>"
      ]
     },
     "metadata": {},
     "output_type": "display_data"
    }
   ],
   "source": [
    "# Only keep data that contains at least 100 counts,\n",
    "count = final_df[\"english_phone_brand\"].value_counts()\n",
    "keep = count[count >= 100].index\n",
    "final_df = final_df[final_df[\"english_phone_brand\"].isin(keep)]"
   ]
  },
  {
   "cell_type": "code",
   "execution_count": 69,
   "metadata": {},
   "outputs": [
    {
     "data": {
      "text/plain": [
       "1    427366\n",
       "2      8624\n",
       "4        36\n",
       "Name: size, dtype: int64"
      ]
     },
     "execution_count": 69,
     "metadata": {},
     "output_type": "execute_result"
    },
    {
     "data": {
      "application/javascript": [
       "\n",
       "            setTimeout(function() {\n",
       "                var nbb_cell_id = 69;\n",
       "                var nbb_unformatted_code = \"final_df[\\\"size\\\"].value_counts()\";\n",
       "                var nbb_formatted_code = \"final_df[\\\"size\\\"].value_counts()\";\n",
       "                var nbb_cells = Jupyter.notebook.get_cells();\n",
       "                for (var i = 0; i < nbb_cells.length; ++i) {\n",
       "                    if (nbb_cells[i].input_prompt_number == nbb_cell_id) {\n",
       "                        if (nbb_cells[i].get_text() == nbb_unformatted_code) {\n",
       "                             nbb_cells[i].set_text(nbb_formatted_code);\n",
       "                        }\n",
       "                        break;\n",
       "                    }\n",
       "                }\n",
       "            }, 500);\n",
       "            "
      ],
      "text/plain": [
       "<IPython.core.display.Javascript object>"
      ]
     },
     "metadata": {},
     "output_type": "display_data"
    }
   ],
   "source": [
    "final_df[\"size\"].value_counts()"
   ]
  },
  {
   "cell_type": "code",
   "execution_count": 70,
   "metadata": {},
   "outputs": [
    {
     "data": {
      "application/javascript": [
       "\n",
       "            setTimeout(function() {\n",
       "                var nbb_cell_id = 70;\n",
       "                var nbb_unformatted_code = \"# Only keep data that contains at least 100 counts,\\ncount = final_df[\\\"size\\\"].value_counts()\\nkeep = count[count >= 100].index\\nfinal_df = final_df[final_df[\\\"size\\\"].isin(keep)]\";\n",
       "                var nbb_formatted_code = \"# Only keep data that contains at least 100 counts,\\ncount = final_df[\\\"size\\\"].value_counts()\\nkeep = count[count >= 100].index\\nfinal_df = final_df[final_df[\\\"size\\\"].isin(keep)]\";\n",
       "                var nbb_cells = Jupyter.notebook.get_cells();\n",
       "                for (var i = 0; i < nbb_cells.length; ++i) {\n",
       "                    if (nbb_cells[i].input_prompt_number == nbb_cell_id) {\n",
       "                        if (nbb_cells[i].get_text() == nbb_unformatted_code) {\n",
       "                             nbb_cells[i].set_text(nbb_formatted_code);\n",
       "                        }\n",
       "                        break;\n",
       "                    }\n",
       "                }\n",
       "            }, 500);\n",
       "            "
      ],
      "text/plain": [
       "<IPython.core.display.Javascript object>"
      ]
     },
     "metadata": {},
     "output_type": "display_data"
    }
   ],
   "source": [
    "# Only keep data that contains at least 100 counts,\n",
    "count = final_df[\"size\"].value_counts()\n",
    "keep = count[count >= 100].index\n",
    "final_df = final_df[final_df[\"size\"].isin(keep)]"
   ]
  },
  {
   "cell_type": "code",
   "execution_count": 71,
   "metadata": {},
   "outputs": [
    {
     "data": {
      "text/plain": [
       "(435990, 11)"
      ]
     },
     "execution_count": 71,
     "metadata": {},
     "output_type": "execute_result"
    },
    {
     "data": {
      "application/javascript": [
       "\n",
       "            setTimeout(function() {\n",
       "                var nbb_cell_id = 71;\n",
       "                var nbb_unformatted_code = \"final_df.shape\";\n",
       "                var nbb_formatted_code = \"final_df.shape\";\n",
       "                var nbb_cells = Jupyter.notebook.get_cells();\n",
       "                for (var i = 0; i < nbb_cells.length; ++i) {\n",
       "                    if (nbb_cells[i].input_prompt_number == nbb_cell_id) {\n",
       "                        if (nbb_cells[i].get_text() == nbb_unformatted_code) {\n",
       "                             nbb_cells[i].set_text(nbb_formatted_code);\n",
       "                        }\n",
       "                        break;\n",
       "                    }\n",
       "                }\n",
       "            }, 500);\n",
       "            "
      ],
      "text/plain": [
       "<IPython.core.display.Javascript object>"
      ]
     },
     "metadata": {},
     "output_type": "display_data"
    }
   ],
   "source": [
    "final_df.shape"
   ]
  },
  {
   "cell_type": "code",
   "execution_count": 72,
   "metadata": {},
   "outputs": [
    {
     "data": {
      "text/plain": [
       " 5163358485108251402    203\n",
       "-3590835713200004419    189\n",
       "-7410679970237215532    185\n",
       " 7962886997244679015    185\n",
       "-4580846346771082281    179\n",
       "                       ... \n",
       "-8881478309599705987     12\n",
       "-9053654631606385950     12\n",
       "-217293774247722170      11\n",
       "-2561542957420307233     11\n",
       " 4382148241324428253     10\n",
       "Name: device_id, Length: 9841, dtype: int64"
      ]
     },
     "execution_count": 72,
     "metadata": {},
     "output_type": "execute_result"
    },
    {
     "data": {
      "application/javascript": [
       "\n",
       "            setTimeout(function() {\n",
       "                var nbb_cell_id = 72;\n",
       "                var nbb_unformatted_code = \"final_df[\\\"device_id\\\"].value_counts()\";\n",
       "                var nbb_formatted_code = \"final_df[\\\"device_id\\\"].value_counts()\";\n",
       "                var nbb_cells = Jupyter.notebook.get_cells();\n",
       "                for (var i = 0; i < nbb_cells.length; ++i) {\n",
       "                    if (nbb_cells[i].input_prompt_number == nbb_cell_id) {\n",
       "                        if (nbb_cells[i].get_text() == nbb_unformatted_code) {\n",
       "                             nbb_cells[i].set_text(nbb_formatted_code);\n",
       "                        }\n",
       "                        break;\n",
       "                    }\n",
       "                }\n",
       "            }, 500);\n",
       "            "
      ],
      "text/plain": [
       "<IPython.core.display.Javascript object>"
      ]
     },
     "metadata": {},
     "output_type": "display_data"
    }
   ],
   "source": [
    "final_df[\"device_id\"].value_counts()"
   ]
  },
  {
   "cell_type": "markdown",
   "metadata": {},
   "source": [
    "After doing some data cleaning, the dataframe went from 78,692,532 rows by 15 columns to 435,990 rows by 11 columns. "
   ]
  },
  {
   "cell_type": "markdown",
   "metadata": {},
   "source": [
    "# Preparing Data For Analysis"
   ]
  },
  {
   "cell_type": "markdown",
   "metadata": {},
   "source": [
    "## One Hot Encoding Categorical Columns"
   ]
  },
  {
   "cell_type": "code",
   "execution_count": 73,
   "metadata": {},
   "outputs": [
    {
     "data": {
      "application/javascript": [
       "\n",
       "            setTimeout(function() {\n",
       "                var nbb_cell_id = 73;\n",
       "                var nbb_unformatted_code = \"# Encoding the label_id_y column\\nmlb = MultiLabelBinarizer()\\nfinal_df = final_df.join(\\n    pd.DataFrame(\\n        mlb.fit_transform(final_df.pop(\\\"label_id_y\\\")),\\n        columns=mlb.classes_,\\n        index=final_df.index,\\n    )\\n)\";\n",
       "                var nbb_formatted_code = \"# Encoding the label_id_y column\\nmlb = MultiLabelBinarizer()\\nfinal_df = final_df.join(\\n    pd.DataFrame(\\n        mlb.fit_transform(final_df.pop(\\\"label_id_y\\\")),\\n        columns=mlb.classes_,\\n        index=final_df.index,\\n    )\\n)\";\n",
       "                var nbb_cells = Jupyter.notebook.get_cells();\n",
       "                for (var i = 0; i < nbb_cells.length; ++i) {\n",
       "                    if (nbb_cells[i].input_prompt_number == nbb_cell_id) {\n",
       "                        if (nbb_cells[i].get_text() == nbb_unformatted_code) {\n",
       "                             nbb_cells[i].set_text(nbb_formatted_code);\n",
       "                        }\n",
       "                        break;\n",
       "                    }\n",
       "                }\n",
       "            }, 500);\n",
       "            "
      ],
      "text/plain": [
       "<IPython.core.display.Javascript object>"
      ]
     },
     "metadata": {},
     "output_type": "display_data"
    }
   ],
   "source": [
    "# Encoding the label_id_y column\n",
    "mlb = MultiLabelBinarizer()\n",
    "final_df = final_df.join(\n",
    "    pd.DataFrame(\n",
    "        mlb.fit_transform(final_df.pop(\"label_id_y\")),\n",
    "        columns=mlb.classes_,\n",
    "        index=final_df.index,\n",
    "    )\n",
    ")"
   ]
  },
  {
   "cell_type": "code",
   "execution_count": 74,
   "metadata": {
    "scrolled": false
   },
   "outputs": [
    {
     "data": {
      "text/html": [
       "<div>\n",
       "<style scoped>\n",
       "    .dataframe tbody tr th:only-of-type {\n",
       "        vertical-align: middle;\n",
       "    }\n",
       "\n",
       "    .dataframe tbody tr th {\n",
       "        vertical-align: top;\n",
       "    }\n",
       "\n",
       "    .dataframe thead th {\n",
       "        text-align: right;\n",
       "    }\n",
       "</style>\n",
       "<table border=\"1\" class=\"dataframe\">\n",
       "  <thead>\n",
       "    <tr style=\"text-align: right;\">\n",
       "      <th></th>\n",
       "      <th>event_id</th>\n",
       "      <th>app_id</th>\n",
       "      <th>is_active</th>\n",
       "      <th>device_id</th>\n",
       "      <th>gender</th>\n",
       "      <th>age</th>\n",
       "      <th>group</th>\n",
       "      <th>size</th>\n",
       "      <th>8</th>\n",
       "      <th>9</th>\n",
       "      <th>...</th>\n",
       "      <th>device_model_魅蓝</th>\n",
       "      <th>device_model_魅蓝2</th>\n",
       "      <th>device_model_魅蓝NOTE</th>\n",
       "      <th>device_model_魅蓝Note 2</th>\n",
       "      <th>device_model_魅蓝metal</th>\n",
       "      <th>device_model_麦芒3</th>\n",
       "      <th>device_model_麦芒3S</th>\n",
       "      <th>device_model_麦芒4</th>\n",
       "      <th>device_model_黄金斗士A8</th>\n",
       "      <th>device_model_黄金斗士Note8</th>\n",
       "    </tr>\n",
       "  </thead>\n",
       "  <tbody>\n",
       "    <tr>\n",
       "      <th>0</th>\n",
       "      <td>6</td>\n",
       "      <td>-8764672938472212518</td>\n",
       "      <td>1</td>\n",
       "      <td>1476664663289716375</td>\n",
       "      <td>M</td>\n",
       "      <td>19</td>\n",
       "      <td>M22-</td>\n",
       "      <td>1</td>\n",
       "      <td>0</td>\n",
       "      <td>0</td>\n",
       "      <td>...</td>\n",
       "      <td>0</td>\n",
       "      <td>0</td>\n",
       "      <td>0</td>\n",
       "      <td>0</td>\n",
       "      <td>0</td>\n",
       "      <td>0</td>\n",
       "      <td>0</td>\n",
       "      <td>0</td>\n",
       "      <td>0</td>\n",
       "      <td>0</td>\n",
       "    </tr>\n",
       "    <tr>\n",
       "      <th>4</th>\n",
       "      <td>6</td>\n",
       "      <td>-8271866350659046570</td>\n",
       "      <td>0</td>\n",
       "      <td>1476664663289716375</td>\n",
       "      <td>M</td>\n",
       "      <td>19</td>\n",
       "      <td>M22-</td>\n",
       "      <td>1</td>\n",
       "      <td>0</td>\n",
       "      <td>0</td>\n",
       "      <td>...</td>\n",
       "      <td>0</td>\n",
       "      <td>0</td>\n",
       "      <td>0</td>\n",
       "      <td>0</td>\n",
       "      <td>0</td>\n",
       "      <td>0</td>\n",
       "      <td>0</td>\n",
       "      <td>0</td>\n",
       "      <td>0</td>\n",
       "      <td>0</td>\n",
       "    </tr>\n",
       "    <tr>\n",
       "      <th>15</th>\n",
       "      <td>6</td>\n",
       "      <td>-7509752927626140732</td>\n",
       "      <td>0</td>\n",
       "      <td>1476664663289716375</td>\n",
       "      <td>M</td>\n",
       "      <td>19</td>\n",
       "      <td>M22-</td>\n",
       "      <td>1</td>\n",
       "      <td>0</td>\n",
       "      <td>0</td>\n",
       "      <td>...</td>\n",
       "      <td>0</td>\n",
       "      <td>0</td>\n",
       "      <td>0</td>\n",
       "      <td>0</td>\n",
       "      <td>0</td>\n",
       "      <td>0</td>\n",
       "      <td>0</td>\n",
       "      <td>0</td>\n",
       "      <td>0</td>\n",
       "      <td>0</td>\n",
       "    </tr>\n",
       "    <tr>\n",
       "      <th>26</th>\n",
       "      <td>6</td>\n",
       "      <td>-7377004479023402858</td>\n",
       "      <td>1</td>\n",
       "      <td>1476664663289716375</td>\n",
       "      <td>M</td>\n",
       "      <td>19</td>\n",
       "      <td>M22-</td>\n",
       "      <td>1</td>\n",
       "      <td>0</td>\n",
       "      <td>0</td>\n",
       "      <td>...</td>\n",
       "      <td>0</td>\n",
       "      <td>0</td>\n",
       "      <td>0</td>\n",
       "      <td>0</td>\n",
       "      <td>0</td>\n",
       "      <td>0</td>\n",
       "      <td>0</td>\n",
       "      <td>0</td>\n",
       "      <td>0</td>\n",
       "      <td>0</td>\n",
       "    </tr>\n",
       "    <tr>\n",
       "      <th>33</th>\n",
       "      <td>6</td>\n",
       "      <td>-5839858269967688123</td>\n",
       "      <td>0</td>\n",
       "      <td>1476664663289716375</td>\n",
       "      <td>M</td>\n",
       "      <td>19</td>\n",
       "      <td>M22-</td>\n",
       "      <td>1</td>\n",
       "      <td>0</td>\n",
       "      <td>0</td>\n",
       "      <td>...</td>\n",
       "      <td>0</td>\n",
       "      <td>0</td>\n",
       "      <td>0</td>\n",
       "      <td>0</td>\n",
       "      <td>0</td>\n",
       "      <td>0</td>\n",
       "      <td>0</td>\n",
       "      <td>0</td>\n",
       "      <td>0</td>\n",
       "      <td>0</td>\n",
       "    </tr>\n",
       "  </tbody>\n",
       "</table>\n",
       "<p>5 rows × 638 columns</p>\n",
       "</div>"
      ],
      "text/plain": [
       "    event_id               app_id  is_active            device_id gender  age  \\\n",
       "0          6 -8764672938472212518          1  1476664663289716375      M   19   \n",
       "4          6 -8271866350659046570          0  1476664663289716375      M   19   \n",
       "15         6 -7509752927626140732          0  1476664663289716375      M   19   \n",
       "26         6 -7377004479023402858          1  1476664663289716375      M   19   \n",
       "33         6 -5839858269967688123          0  1476664663289716375      M   19   \n",
       "\n",
       "   group  size  8  9  ...  device_model_魅蓝  device_model_魅蓝2  \\\n",
       "0   M22-     1  0  0  ...                0                 0   \n",
       "4   M22-     1  0  0  ...                0                 0   \n",
       "15  M22-     1  0  0  ...                0                 0   \n",
       "26  M22-     1  0  0  ...                0                 0   \n",
       "33  M22-     1  0  0  ...                0                 0   \n",
       "\n",
       "    device_model_魅蓝NOTE  device_model_魅蓝Note 2  device_model_魅蓝metal  \\\n",
       "0                     0                      0                     0   \n",
       "4                     0                      0                     0   \n",
       "15                    0                      0                     0   \n",
       "26                    0                      0                     0   \n",
       "33                    0                      0                     0   \n",
       "\n",
       "    device_model_麦芒3  device_model_麦芒3S  device_model_麦芒4  \\\n",
       "0                  0                  0                 0   \n",
       "4                  0                  0                 0   \n",
       "15                 0                  0                 0   \n",
       "26                 0                  0                 0   \n",
       "33                 0                  0                 0   \n",
       "\n",
       "    device_model_黄金斗士A8  device_model_黄金斗士Note8  \n",
       "0                     0                       0  \n",
       "4                     0                       0  \n",
       "15                    0                       0  \n",
       "26                    0                       0  \n",
       "33                    0                       0  \n",
       "\n",
       "[5 rows x 638 columns]"
      ]
     },
     "execution_count": 74,
     "metadata": {},
     "output_type": "execute_result"
    },
    {
     "data": {
      "application/javascript": [
       "\n",
       "            setTimeout(function() {\n",
       "                var nbb_cell_id = 74;\n",
       "                var nbb_unformatted_code = \"final_df = pd.get_dummies(\\n    final_df, columns=[\\\"english_phone_brand\\\", \\\"device_model\\\"], drop_first=True\\n)\\nfinal_df.head()\";\n",
       "                var nbb_formatted_code = \"final_df = pd.get_dummies(\\n    final_df, columns=[\\\"english_phone_brand\\\", \\\"device_model\\\"], drop_first=True\\n)\\nfinal_df.head()\";\n",
       "                var nbb_cells = Jupyter.notebook.get_cells();\n",
       "                for (var i = 0; i < nbb_cells.length; ++i) {\n",
       "                    if (nbb_cells[i].input_prompt_number == nbb_cell_id) {\n",
       "                        if (nbb_cells[i].get_text() == nbb_unformatted_code) {\n",
       "                             nbb_cells[i].set_text(nbb_formatted_code);\n",
       "                        }\n",
       "                        break;\n",
       "                    }\n",
       "                }\n",
       "            }, 500);\n",
       "            "
      ],
      "text/plain": [
       "<IPython.core.display.Javascript object>"
      ]
     },
     "metadata": {},
     "output_type": "display_data"
    }
   ],
   "source": [
    "final_df = pd.get_dummies(\n",
    "    final_df, columns=[\"english_phone_brand\", \"device_model\"], drop_first=True\n",
    ")\n",
    "final_df.head()"
   ]
  },
  {
   "cell_type": "markdown",
   "metadata": {},
   "source": [
    "## Dropping Unnecessary Columns"
   ]
  },
  {
   "cell_type": "code",
   "execution_count": 75,
   "metadata": {},
   "outputs": [
    {
     "data": {
      "text/html": [
       "<div>\n",
       "<style scoped>\n",
       "    .dataframe tbody tr th:only-of-type {\n",
       "        vertical-align: middle;\n",
       "    }\n",
       "\n",
       "    .dataframe tbody tr th {\n",
       "        vertical-align: top;\n",
       "    }\n",
       "\n",
       "    .dataframe thead th {\n",
       "        text-align: right;\n",
       "    }\n",
       "</style>\n",
       "<table border=\"1\" class=\"dataframe\">\n",
       "  <thead>\n",
       "    <tr style=\"text-align: right;\">\n",
       "      <th></th>\n",
       "      <th>event_id</th>\n",
       "      <th>app_id</th>\n",
       "      <th>is_active</th>\n",
       "      <th>device_id</th>\n",
       "      <th>group</th>\n",
       "      <th>8</th>\n",
       "      <th>9</th>\n",
       "      <th>10</th>\n",
       "      <th>11</th>\n",
       "      <th>12</th>\n",
       "      <th>...</th>\n",
       "      <th>device_model_魅蓝</th>\n",
       "      <th>device_model_魅蓝2</th>\n",
       "      <th>device_model_魅蓝NOTE</th>\n",
       "      <th>device_model_魅蓝Note 2</th>\n",
       "      <th>device_model_魅蓝metal</th>\n",
       "      <th>device_model_麦芒3</th>\n",
       "      <th>device_model_麦芒3S</th>\n",
       "      <th>device_model_麦芒4</th>\n",
       "      <th>device_model_黄金斗士A8</th>\n",
       "      <th>device_model_黄金斗士Note8</th>\n",
       "    </tr>\n",
       "  </thead>\n",
       "  <tbody>\n",
       "    <tr>\n",
       "      <th>0</th>\n",
       "      <td>6</td>\n",
       "      <td>-8764672938472212518</td>\n",
       "      <td>1</td>\n",
       "      <td>1476664663289716375</td>\n",
       "      <td>M22-</td>\n",
       "      <td>0</td>\n",
       "      <td>0</td>\n",
       "      <td>0</td>\n",
       "      <td>0</td>\n",
       "      <td>0</td>\n",
       "      <td>...</td>\n",
       "      <td>0</td>\n",
       "      <td>0</td>\n",
       "      <td>0</td>\n",
       "      <td>0</td>\n",
       "      <td>0</td>\n",
       "      <td>0</td>\n",
       "      <td>0</td>\n",
       "      <td>0</td>\n",
       "      <td>0</td>\n",
       "      <td>0</td>\n",
       "    </tr>\n",
       "    <tr>\n",
       "      <th>4</th>\n",
       "      <td>6</td>\n",
       "      <td>-8271866350659046570</td>\n",
       "      <td>0</td>\n",
       "      <td>1476664663289716375</td>\n",
       "      <td>M22-</td>\n",
       "      <td>0</td>\n",
       "      <td>0</td>\n",
       "      <td>0</td>\n",
       "      <td>0</td>\n",
       "      <td>0</td>\n",
       "      <td>...</td>\n",
       "      <td>0</td>\n",
       "      <td>0</td>\n",
       "      <td>0</td>\n",
       "      <td>0</td>\n",
       "      <td>0</td>\n",
       "      <td>0</td>\n",
       "      <td>0</td>\n",
       "      <td>0</td>\n",
       "      <td>0</td>\n",
       "      <td>0</td>\n",
       "    </tr>\n",
       "    <tr>\n",
       "      <th>15</th>\n",
       "      <td>6</td>\n",
       "      <td>-7509752927626140732</td>\n",
       "      <td>0</td>\n",
       "      <td>1476664663289716375</td>\n",
       "      <td>M22-</td>\n",
       "      <td>0</td>\n",
       "      <td>0</td>\n",
       "      <td>0</td>\n",
       "      <td>0</td>\n",
       "      <td>0</td>\n",
       "      <td>...</td>\n",
       "      <td>0</td>\n",
       "      <td>0</td>\n",
       "      <td>0</td>\n",
       "      <td>0</td>\n",
       "      <td>0</td>\n",
       "      <td>0</td>\n",
       "      <td>0</td>\n",
       "      <td>0</td>\n",
       "      <td>0</td>\n",
       "      <td>0</td>\n",
       "    </tr>\n",
       "    <tr>\n",
       "      <th>26</th>\n",
       "      <td>6</td>\n",
       "      <td>-7377004479023402858</td>\n",
       "      <td>1</td>\n",
       "      <td>1476664663289716375</td>\n",
       "      <td>M22-</td>\n",
       "      <td>0</td>\n",
       "      <td>0</td>\n",
       "      <td>0</td>\n",
       "      <td>0</td>\n",
       "      <td>0</td>\n",
       "      <td>...</td>\n",
       "      <td>0</td>\n",
       "      <td>0</td>\n",
       "      <td>0</td>\n",
       "      <td>0</td>\n",
       "      <td>0</td>\n",
       "      <td>0</td>\n",
       "      <td>0</td>\n",
       "      <td>0</td>\n",
       "      <td>0</td>\n",
       "      <td>0</td>\n",
       "    </tr>\n",
       "    <tr>\n",
       "      <th>33</th>\n",
       "      <td>6</td>\n",
       "      <td>-5839858269967688123</td>\n",
       "      <td>0</td>\n",
       "      <td>1476664663289716375</td>\n",
       "      <td>M22-</td>\n",
       "      <td>0</td>\n",
       "      <td>0</td>\n",
       "      <td>0</td>\n",
       "      <td>0</td>\n",
       "      <td>0</td>\n",
       "      <td>...</td>\n",
       "      <td>0</td>\n",
       "      <td>0</td>\n",
       "      <td>0</td>\n",
       "      <td>0</td>\n",
       "      <td>0</td>\n",
       "      <td>0</td>\n",
       "      <td>0</td>\n",
       "      <td>0</td>\n",
       "      <td>0</td>\n",
       "      <td>0</td>\n",
       "    </tr>\n",
       "  </tbody>\n",
       "</table>\n",
       "<p>5 rows × 635 columns</p>\n",
       "</div>"
      ],
      "text/plain": [
       "    event_id               app_id  is_active            device_id group  8  9  \\\n",
       "0          6 -8764672938472212518          1  1476664663289716375  M22-  0  0   \n",
       "4          6 -8271866350659046570          0  1476664663289716375  M22-  0  0   \n",
       "15         6 -7509752927626140732          0  1476664663289716375  M22-  0  0   \n",
       "26         6 -7377004479023402858          1  1476664663289716375  M22-  0  0   \n",
       "33         6 -5839858269967688123          0  1476664663289716375  M22-  0  0   \n",
       "\n",
       "    10  11  12  ...  device_model_魅蓝  device_model_魅蓝2  device_model_魅蓝NOTE  \\\n",
       "0    0   0   0  ...                0                 0                    0   \n",
       "4    0   0   0  ...                0                 0                    0   \n",
       "15   0   0   0  ...                0                 0                    0   \n",
       "26   0   0   0  ...                0                 0                    0   \n",
       "33   0   0   0  ...                0                 0                    0   \n",
       "\n",
       "    device_model_魅蓝Note 2  device_model_魅蓝metal  device_model_麦芒3  \\\n",
       "0                       0                     0                 0   \n",
       "4                       0                     0                 0   \n",
       "15                      0                     0                 0   \n",
       "26                      0                     0                 0   \n",
       "33                      0                     0                 0   \n",
       "\n",
       "    device_model_麦芒3S  device_model_麦芒4  device_model_黄金斗士A8  \\\n",
       "0                   0                 0                    0   \n",
       "4                   0                 0                    0   \n",
       "15                  0                 0                    0   \n",
       "26                  0                 0                    0   \n",
       "33                  0                 0                    0   \n",
       "\n",
       "    device_model_黄金斗士Note8  \n",
       "0                        0  \n",
       "4                        0  \n",
       "15                       0  \n",
       "26                       0  \n",
       "33                       0  \n",
       "\n",
       "[5 rows x 635 columns]"
      ]
     },
     "execution_count": 75,
     "metadata": {},
     "output_type": "execute_result"
    },
    {
     "data": {
      "application/javascript": [
       "\n",
       "            setTimeout(function() {\n",
       "                var nbb_cell_id = 75;\n",
       "                var nbb_unformatted_code = \"# Since I will be using group as the target variable, and group contains both age and gender, I can drop gender/age column\\n# Size of Duplicate rows does not seem like it is too important mainly because there were not many duplicate rows, drop size\\nfinal_df = final_df.drop(columns=[\\\"gender\\\", \\\"age\\\", \\\"size\\\"])\\nfinal_df.head()\";\n",
       "                var nbb_formatted_code = \"# Since I will be using group as the target variable, and group contains both age and gender, I can drop gender/age column\\n# Size of Duplicate rows does not seem like it is too important mainly because there were not many duplicate rows, drop size\\nfinal_df = final_df.drop(columns=[\\\"gender\\\", \\\"age\\\", \\\"size\\\"])\\nfinal_df.head()\";\n",
       "                var nbb_cells = Jupyter.notebook.get_cells();\n",
       "                for (var i = 0; i < nbb_cells.length; ++i) {\n",
       "                    if (nbb_cells[i].input_prompt_number == nbb_cell_id) {\n",
       "                        if (nbb_cells[i].get_text() == nbb_unformatted_code) {\n",
       "                             nbb_cells[i].set_text(nbb_formatted_code);\n",
       "                        }\n",
       "                        break;\n",
       "                    }\n",
       "                }\n",
       "            }, 500);\n",
       "            "
      ],
      "text/plain": [
       "<IPython.core.display.Javascript object>"
      ]
     },
     "metadata": {},
     "output_type": "display_data"
    }
   ],
   "source": [
    "# Since I will be using group as the target variable, and group contains both age and gender, I can drop gender/age column\n",
    "# Size of Duplicate rows does not seem like it is too important mainly because there were not many duplicate rows, drop size\n",
    "final_df = final_df.drop(columns=[\"gender\", \"age\", \"size\"])\n",
    "final_df.head()"
   ]
  },
  {
   "cell_type": "code",
   "execution_count": 76,
   "metadata": {},
   "outputs": [
    {
     "data": {
      "text/plain": [
       "(435990, 635)"
      ]
     },
     "execution_count": 76,
     "metadata": {},
     "output_type": "execute_result"
    },
    {
     "data": {
      "application/javascript": [
       "\n",
       "            setTimeout(function() {\n",
       "                var nbb_cell_id = 76;\n",
       "                var nbb_unformatted_code = \"final_df.shape\";\n",
       "                var nbb_formatted_code = \"final_df.shape\";\n",
       "                var nbb_cells = Jupyter.notebook.get_cells();\n",
       "                for (var i = 0; i < nbb_cells.length; ++i) {\n",
       "                    if (nbb_cells[i].input_prompt_number == nbb_cell_id) {\n",
       "                        if (nbb_cells[i].get_text() == nbb_unformatted_code) {\n",
       "                             nbb_cells[i].set_text(nbb_formatted_code);\n",
       "                        }\n",
       "                        break;\n",
       "                    }\n",
       "                }\n",
       "            }, 500);\n",
       "            "
      ],
      "text/plain": [
       "<IPython.core.display.Javascript object>"
      ]
     },
     "metadata": {},
     "output_type": "display_data"
    }
   ],
   "source": [
    "final_df.shape"
   ]
  },
  {
   "cell_type": "code",
   "execution_count": 80,
   "metadata": {},
   "outputs": [
    {
     "data": {
      "text/html": [
       "<div>\n",
       "<style scoped>\n",
       "    .dataframe tbody tr th:only-of-type {\n",
       "        vertical-align: middle;\n",
       "    }\n",
       "\n",
       "    .dataframe tbody tr th {\n",
       "        vertical-align: top;\n",
       "    }\n",
       "\n",
       "    .dataframe thead th {\n",
       "        text-align: right;\n",
       "    }\n",
       "</style>\n",
       "<table border=\"1\" class=\"dataframe\">\n",
       "  <thead>\n",
       "    <tr style=\"text-align: right;\">\n",
       "      <th></th>\n",
       "      <th>event_id</th>\n",
       "      <th>app_id</th>\n",
       "      <th>is_active</th>\n",
       "      <th>device_id</th>\n",
       "      <th>8</th>\n",
       "      <th>9</th>\n",
       "      <th>10</th>\n",
       "      <th>11</th>\n",
       "      <th>12</th>\n",
       "      <th>13</th>\n",
       "      <th>...</th>\n",
       "      <th>device_model_魅蓝2</th>\n",
       "      <th>device_model_魅蓝NOTE</th>\n",
       "      <th>device_model_魅蓝Note 2</th>\n",
       "      <th>device_model_魅蓝metal</th>\n",
       "      <th>device_model_麦芒3</th>\n",
       "      <th>device_model_麦芒3S</th>\n",
       "      <th>device_model_麦芒4</th>\n",
       "      <th>device_model_黄金斗士A8</th>\n",
       "      <th>device_model_黄金斗士Note8</th>\n",
       "      <th>num_group</th>\n",
       "    </tr>\n",
       "  </thead>\n",
       "  <tbody>\n",
       "    <tr>\n",
       "      <th>0</th>\n",
       "      <td>6</td>\n",
       "      <td>-8764672938472212518</td>\n",
       "      <td>1</td>\n",
       "      <td>1476664663289716375</td>\n",
       "      <td>0</td>\n",
       "      <td>0</td>\n",
       "      <td>0</td>\n",
       "      <td>0</td>\n",
       "      <td>0</td>\n",
       "      <td>0</td>\n",
       "      <td>...</td>\n",
       "      <td>0</td>\n",
       "      <td>0</td>\n",
       "      <td>0</td>\n",
       "      <td>0</td>\n",
       "      <td>0</td>\n",
       "      <td>0</td>\n",
       "      <td>0</td>\n",
       "      <td>0</td>\n",
       "      <td>0</td>\n",
       "      <td>0</td>\n",
       "    </tr>\n",
       "    <tr>\n",
       "      <th>4</th>\n",
       "      <td>6</td>\n",
       "      <td>-8271866350659046570</td>\n",
       "      <td>0</td>\n",
       "      <td>1476664663289716375</td>\n",
       "      <td>0</td>\n",
       "      <td>0</td>\n",
       "      <td>0</td>\n",
       "      <td>0</td>\n",
       "      <td>0</td>\n",
       "      <td>0</td>\n",
       "      <td>...</td>\n",
       "      <td>0</td>\n",
       "      <td>0</td>\n",
       "      <td>0</td>\n",
       "      <td>0</td>\n",
       "      <td>0</td>\n",
       "      <td>0</td>\n",
       "      <td>0</td>\n",
       "      <td>0</td>\n",
       "      <td>0</td>\n",
       "      <td>0</td>\n",
       "    </tr>\n",
       "    <tr>\n",
       "      <th>15</th>\n",
       "      <td>6</td>\n",
       "      <td>-7509752927626140732</td>\n",
       "      <td>0</td>\n",
       "      <td>1476664663289716375</td>\n",
       "      <td>0</td>\n",
       "      <td>0</td>\n",
       "      <td>0</td>\n",
       "      <td>0</td>\n",
       "      <td>0</td>\n",
       "      <td>0</td>\n",
       "      <td>...</td>\n",
       "      <td>0</td>\n",
       "      <td>0</td>\n",
       "      <td>0</td>\n",
       "      <td>0</td>\n",
       "      <td>0</td>\n",
       "      <td>0</td>\n",
       "      <td>0</td>\n",
       "      <td>0</td>\n",
       "      <td>0</td>\n",
       "      <td>0</td>\n",
       "    </tr>\n",
       "    <tr>\n",
       "      <th>26</th>\n",
       "      <td>6</td>\n",
       "      <td>-7377004479023402858</td>\n",
       "      <td>1</td>\n",
       "      <td>1476664663289716375</td>\n",
       "      <td>0</td>\n",
       "      <td>0</td>\n",
       "      <td>0</td>\n",
       "      <td>0</td>\n",
       "      <td>0</td>\n",
       "      <td>0</td>\n",
       "      <td>...</td>\n",
       "      <td>0</td>\n",
       "      <td>0</td>\n",
       "      <td>0</td>\n",
       "      <td>0</td>\n",
       "      <td>0</td>\n",
       "      <td>0</td>\n",
       "      <td>0</td>\n",
       "      <td>0</td>\n",
       "      <td>0</td>\n",
       "      <td>0</td>\n",
       "    </tr>\n",
       "    <tr>\n",
       "      <th>33</th>\n",
       "      <td>6</td>\n",
       "      <td>-5839858269967688123</td>\n",
       "      <td>0</td>\n",
       "      <td>1476664663289716375</td>\n",
       "      <td>0</td>\n",
       "      <td>0</td>\n",
       "      <td>0</td>\n",
       "      <td>0</td>\n",
       "      <td>0</td>\n",
       "      <td>0</td>\n",
       "      <td>...</td>\n",
       "      <td>0</td>\n",
       "      <td>0</td>\n",
       "      <td>0</td>\n",
       "      <td>0</td>\n",
       "      <td>0</td>\n",
       "      <td>0</td>\n",
       "      <td>0</td>\n",
       "      <td>0</td>\n",
       "      <td>0</td>\n",
       "      <td>0</td>\n",
       "    </tr>\n",
       "  </tbody>\n",
       "</table>\n",
       "<p>5 rows × 635 columns</p>\n",
       "</div>"
      ],
      "text/plain": [
       "    event_id               app_id  is_active            device_id  8  9  10  \\\n",
       "0          6 -8764672938472212518          1  1476664663289716375  0  0   0   \n",
       "4          6 -8271866350659046570          0  1476664663289716375  0  0   0   \n",
       "15         6 -7509752927626140732          0  1476664663289716375  0  0   0   \n",
       "26         6 -7377004479023402858          1  1476664663289716375  0  0   0   \n",
       "33         6 -5839858269967688123          0  1476664663289716375  0  0   0   \n",
       "\n",
       "    11  12  13  ...  device_model_魅蓝2  device_model_魅蓝NOTE  \\\n",
       "0    0   0   0  ...                 0                    0   \n",
       "4    0   0   0  ...                 0                    0   \n",
       "15   0   0   0  ...                 0                    0   \n",
       "26   0   0   0  ...                 0                    0   \n",
       "33   0   0   0  ...                 0                    0   \n",
       "\n",
       "    device_model_魅蓝Note 2  device_model_魅蓝metal  device_model_麦芒3  \\\n",
       "0                       0                     0                 0   \n",
       "4                       0                     0                 0   \n",
       "15                      0                     0                 0   \n",
       "26                      0                     0                 0   \n",
       "33                      0                     0                 0   \n",
       "\n",
       "    device_model_麦芒3S  device_model_麦芒4  device_model_黄金斗士A8  \\\n",
       "0                   0                 0                    0   \n",
       "4                   0                 0                    0   \n",
       "15                  0                 0                    0   \n",
       "26                  0                 0                    0   \n",
       "33                  0                 0                    0   \n",
       "\n",
       "    device_model_黄金斗士Note8  num_group  \n",
       "0                        0          0  \n",
       "4                        0          0  \n",
       "15                       0          0  \n",
       "26                       0          0  \n",
       "33                       0          0  \n",
       "\n",
       "[5 rows x 635 columns]"
      ]
     },
     "execution_count": 80,
     "metadata": {},
     "output_type": "execute_result"
    },
    {
     "data": {
      "application/javascript": [
       "\n",
       "            setTimeout(function() {\n",
       "                var nbb_cell_id = 80;\n",
       "                var nbb_unformatted_code = \"# Converting object data to numeric data in group column\\nto_num = {\\n    \\\"M22-\\\": 0,\\n    \\\"M23-26\\\": 1,\\n    \\\"M27-28\\\": 2,\\n    \\\"M29-31\\\": 3,\\n    \\\"M32-38\\\": 4,\\n    \\\"M39+\\\": 5,\\n    \\\"F23-\\\": 6,\\n    \\\"F24-26\\\": 7,\\n    \\\"F27-28\\\": 8,\\n    \\\"F29-32\\\": 9,\\n    \\\"F33-42\\\": 10,\\n    \\\"F43+\\\": 11,\\n}\\n\\n# Created new column for numeric group, can now drop old group column\\nfinal_df[\\\"num_group\\\"] = final_df[\\\"group\\\"].map(to_num)\\nfinal_df = final_df.drop(columns=[\\\"group\\\"])\\nfinal_df.head()\";\n",
       "                var nbb_formatted_code = \"# Converting object data to numeric data in group column\\nto_num = {\\n    \\\"M22-\\\": 0,\\n    \\\"M23-26\\\": 1,\\n    \\\"M27-28\\\": 2,\\n    \\\"M29-31\\\": 3,\\n    \\\"M32-38\\\": 4,\\n    \\\"M39+\\\": 5,\\n    \\\"F23-\\\": 6,\\n    \\\"F24-26\\\": 7,\\n    \\\"F27-28\\\": 8,\\n    \\\"F29-32\\\": 9,\\n    \\\"F33-42\\\": 10,\\n    \\\"F43+\\\": 11,\\n}\\n\\n# Created new column for numeric group, can now drop old group column\\nfinal_df[\\\"num_group\\\"] = final_df[\\\"group\\\"].map(to_num)\\nfinal_df = final_df.drop(columns=[\\\"group\\\"])\\nfinal_df.head()\";\n",
       "                var nbb_cells = Jupyter.notebook.get_cells();\n",
       "                for (var i = 0; i < nbb_cells.length; ++i) {\n",
       "                    if (nbb_cells[i].input_prompt_number == nbb_cell_id) {\n",
       "                        if (nbb_cells[i].get_text() == nbb_unformatted_code) {\n",
       "                             nbb_cells[i].set_text(nbb_formatted_code);\n",
       "                        }\n",
       "                        break;\n",
       "                    }\n",
       "                }\n",
       "            }, 500);\n",
       "            "
      ],
      "text/plain": [
       "<IPython.core.display.Javascript object>"
      ]
     },
     "metadata": {},
     "output_type": "display_data"
    }
   ],
   "source": [
    "# Converting object data to numeric data in group column\n",
    "to_num = {\n",
    "    \"M22-\": 0,\n",
    "    \"M23-26\": 1,\n",
    "    \"M27-28\": 2,\n",
    "    \"M29-31\": 3,\n",
    "    \"M32-38\": 4,\n",
    "    \"M39+\": 5,\n",
    "    \"F23-\": 6,\n",
    "    \"F24-26\": 7,\n",
    "    \"F27-28\": 8,\n",
    "    \"F29-32\": 9,\n",
    "    \"F33-42\": 10,\n",
    "    \"F43+\": 11,\n",
    "}\n",
    "\n",
    "# Created new column for numeric group, can now drop old group column\n",
    "final_df[\"num_group\"] = final_df[\"group\"].map(to_num)\n",
    "final_df = final_df.drop(columns=[\"group\"])\n",
    "final_df.head()"
   ]
  },
  {
   "cell_type": "markdown",
   "metadata": {},
   "source": [
    "# Create Visualization"
   ]
  },
  {
   "cell_type": "code",
   "execution_count": 81,
   "metadata": {},
   "outputs": [
    {
     "data": {
      "image/png": "[encoded data removed]",
      "text/plain": [
       "<Figure size 432x288 with 1 Axes>"
      ]
     },
     "metadata": {
      "needs_background": "light"
     },
     "output_type": "display_data"
    },
    {
     "data": {
      "application/javascript": [
       "\n",
       "            setTimeout(function() {\n",
       "                var nbb_cell_id = 81;\n",
       "                var nbb_unformatted_code = \"# Need to change font size of x and y axis\\nsns.countplot(final_df[\\\"num_group\\\"])\\nplt.title(\\\"Age/Gender Demographic by Count\\\")\\nplt.ylabel(\\\"count\\\")\\nplt.xlabel(\\\"Age/Gender\\\")\\nplt.show()\";\n",
       "                var nbb_formatted_code = \"# Need to change font size of x and y axis\\nsns.countplot(final_df[\\\"num_group\\\"])\\nplt.title(\\\"Age/Gender Demographic by Count\\\")\\nplt.ylabel(\\\"count\\\")\\nplt.xlabel(\\\"Age/Gender\\\")\\nplt.show()\";\n",
       "                var nbb_cells = Jupyter.notebook.get_cells();\n",
       "                for (var i = 0; i < nbb_cells.length; ++i) {\n",
       "                    if (nbb_cells[i].input_prompt_number == nbb_cell_id) {\n",
       "                        if (nbb_cells[i].get_text() == nbb_unformatted_code) {\n",
       "                             nbb_cells[i].set_text(nbb_formatted_code);\n",
       "                        }\n",
       "                        break;\n",
       "                    }\n",
       "                }\n",
       "            }, 500);\n",
       "            "
      ],
      "text/plain": [
       "<IPython.core.display.Javascript object>"
      ]
     },
     "metadata": {},
     "output_type": "display_data"
    }
   ],
   "source": [
    "# Need to change font size of x and y axis\n",
    "sns.countplot(final_df[\"num_group\"])\n",
    "plt.title(\"Age/Gender Demographic by Count\")\n",
    "plt.ylabel(\"count\")\n",
    "plt.xlabel(\"Age/Gender\")\n",
    "plt.show()"
   ]
  },
  {
   "cell_type": "code",
   "execution_count": 78,
   "metadata": {},
   "outputs": [
    {
     "data": {
      "image/png": "[encoded data removed]",
      "text/plain": [
       "<Figure size 432x288 with 1 Axes>"
      ]
     },
     "metadata": {
      "needs_background": "light"
     },
     "output_type": "display_data"
    },
    {
     "data": {
      "application/javascript": [
       "\n",
       "            setTimeout(function() {\n",
       "                var nbb_cell_id = 78;\n",
       "                var nbb_unformatted_code = \"# It seems like most of the data is for non-active apps, however there are still a good amount of active apps.\\nsns.countplot(final_df[\\\"is_active\\\"])\\nplt.title(\\\"Active Apps\\\")\\nplt.show()\";\n",
       "                var nbb_formatted_code = \"# It seems like most of the data is for non-active apps, however there are still a good amount of active apps.\\nsns.countplot(final_df[\\\"is_active\\\"])\\nplt.title(\\\"Active Apps\\\")\\nplt.show()\";\n",
       "                var nbb_cells = Jupyter.notebook.get_cells();\n",
       "                for (var i = 0; i < nbb_cells.length; ++i) {\n",
       "                    if (nbb_cells[i].input_prompt_number == nbb_cell_id) {\n",
       "                        if (nbb_cells[i].get_text() == nbb_unformatted_code) {\n",
       "                             nbb_cells[i].set_text(nbb_formatted_code);\n",
       "                        }\n",
       "                        break;\n",
       "                    }\n",
       "                }\n",
       "            }, 500);\n",
       "            "
      ],
      "text/plain": [
       "<IPython.core.display.Javascript object>"
      ]
     },
     "metadata": {},
     "output_type": "display_data"
    }
   ],
   "source": [
    "# It seems like most of the data is for non-active apps, however there are still a good amount of active apps.\n",
    "sns.countplot(final_df[\"is_active\"])\n",
    "plt.title(\"Active Apps\")\n",
    "plt.show()"
   ]
  },
  {
   "cell_type": "markdown",
   "metadata": {},
   "source": [
    "# Saving Cleaned Data as a New CSV"
   ]
  },
  {
   "cell_type": "code",
   "execution_count": 79,
   "metadata": {},
   "outputs": [
    {
     "data": {
      "application/javascript": [
       "\n",
       "            setTimeout(function() {\n",
       "                var nbb_cell_id = 79;\n",
       "                var nbb_unformatted_code = \"# When finished with cleaning, save it as a csv to use for future notebooks and save time\\n# final_df.to_csv(\\\"cleaned_data.csv\\\", index=False)\";\n",
       "                var nbb_formatted_code = \"# When finished with cleaning, save it as a csv to use for future notebooks and save time\\n# final_df.to_csv(\\\"cleaned_data.csv\\\", index=False)\";\n",
       "                var nbb_cells = Jupyter.notebook.get_cells();\n",
       "                for (var i = 0; i < nbb_cells.length; ++i) {\n",
       "                    if (nbb_cells[i].input_prompt_number == nbb_cell_id) {\n",
       "                        if (nbb_cells[i].get_text() == nbb_unformatted_code) {\n",
       "                             nbb_cells[i].set_text(nbb_formatted_code);\n",
       "                        }\n",
       "                        break;\n",
       "                    }\n",
       "                }\n",
       "            }, 500);\n",
       "            "
      ],
      "text/plain": [
       "<IPython.core.display.Javascript object>"
      ]
     },
     "metadata": {},
     "output_type": "display_data"
    }
   ],
   "source": [
    "# When finished with cleaning, save it as a csv to use for future notebooks and save time\n",
    "# final_df.to_csv(\"cleaned_data.csv\", index=False)"
   ]
  },
  {
   "cell_type": "code",
   "execution_count": 80,
   "metadata": {},
   "outputs": [
    {
     "data": {
      "application/javascript": [
       "\n",
       "            setTimeout(function() {\n",
       "                var nbb_cell_id = 80;\n",
       "                var nbb_unformatted_code = \"# Check to see if cleaned csv is in working directory\\n# !dir\";\n",
       "                var nbb_formatted_code = \"# Check to see if cleaned csv is in working directory\\n# !dir\";\n",
       "                var nbb_cells = Jupyter.notebook.get_cells();\n",
       "                for (var i = 0; i < nbb_cells.length; ++i) {\n",
       "                    if (nbb_cells[i].input_prompt_number == nbb_cell_id) {\n",
       "                        if (nbb_cells[i].get_text() == nbb_unformatted_code) {\n",
       "                             nbb_cells[i].set_text(nbb_formatted_code);\n",
       "                        }\n",
       "                        break;\n",
       "                    }\n",
       "                }\n",
       "            }, 500);\n",
       "            "
      ],
      "text/plain": [
       "<IPython.core.display.Javascript object>"
      ]
     },
     "metadata": {},
     "output_type": "display_data"
    }
   ],
   "source": [
    "# Check to see if cleaned csv is in working directory\n",
    "# !dir"
   ]
  }
 ],
 "metadata": {
  "kernelspec": {
   "display_name": "Python 3",
   "language": "python",
   "name": "python3"
  },
  "language_info": {
   "codemirror_mode": {
    "name": "ipython",
    "version": 3
   },
   "file_extension": ".py",
   "mimetype": "text/x-python",
   "name": "python",
   "nbconvert_exporter": "python",
   "pygments_lexer": "ipython3",
   "version": "3.7.6"
  }
 },
 "nbformat": 4,
 "nbformat_minor": 4
}
