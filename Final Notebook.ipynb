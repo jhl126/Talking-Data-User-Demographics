{
 "cells": [
  {
   "cell_type": "code",
   "execution_count": 1,
   "metadata": {},
   "outputs": [
    {
     "data": {
      "application/javascript": [
       "\n",
       "            setTimeout(function() {\n",
       "                var nbb_cell_id = 1;\n",
       "                var nbb_unformatted_code = \"%reload_ext nb_black\";\n",
       "                var nbb_formatted_code = \"%reload_ext nb_black\";\n",
       "                var nbb_cells = Jupyter.notebook.get_cells();\n",
       "                for (var i = 0; i < nbb_cells.length; ++i) {\n",
       "                    if (nbb_cells[i].input_prompt_number == nbb_cell_id) {\n",
       "                        if (nbb_cells[i].get_text() == nbb_unformatted_code) {\n",
       "                             nbb_cells[i].set_text(nbb_formatted_code);\n",
       "                        }\n",
       "                        break;\n",
       "                    }\n",
       "                }\n",
       "            }, 500);\n",
       "            "
      ],
      "text/plain": [
       "<IPython.core.display.Javascript object>"
      ]
     },
     "metadata": {},
     "output_type": "display_data"
    }
   ],
   "source": [
    "%reload_ext nb_black"
   ]
  },
  {
   "cell_type": "markdown",
   "metadata": {},
   "source": [
    "# Supervised Learning"
   ]
  },
  {
   "cell_type": "code",
   "execution_count": 4,
   "metadata": {},
   "outputs": [
    {
     "data": {
      "application/javascript": [
       "\n",
       "            setTimeout(function() {\n",
       "                var nbb_cell_id = 4;\n",
       "                var nbb_unformatted_code = \"# creating supervised learning imports\\n\\nimport pandas as pd\\nimport numpy as np\\n\\nfrom sklearn.model_selection import train_test_split, GridSearchCV\\nfrom sklearn.compose import ColumnTransformer\\nfrom sklearn.preprocessing import StandardScaler\\nfrom sklearn.pipeline import Pipeline\\n\\nfrom sklearn.neighbors import KNeighborsClassifier\\nfrom sklearn.ensemble import RandomForestClassifier\\nfrom sklearn.svm import SVC\\n\\nfrom sklearn.decomposition import PCA\\nfrom sklearn.feature_selection import SelectKBest\\n\\nfrom sklearn.metrics import (\\n    classification_report,\\n    confusion_matrix,\\n)\";\n",
       "                var nbb_formatted_code = \"# creating supervised learning imports\\n\\nimport pandas as pd\\nimport numpy as np\\n\\nfrom sklearn.model_selection import train_test_split, GridSearchCV\\nfrom sklearn.compose import ColumnTransformer\\nfrom sklearn.preprocessing import StandardScaler\\nfrom sklearn.pipeline import Pipeline\\n\\nfrom sklearn.neighbors import KNeighborsClassifier\\nfrom sklearn.ensemble import RandomForestClassifier\\nfrom sklearn.svm import SVC\\n\\nfrom sklearn.decomposition import PCA\\nfrom sklearn.feature_selection import SelectKBest\\n\\nfrom sklearn.metrics import (\\n    classification_report,\\n    confusion_matrix,\\n)\";\n",
       "                var nbb_cells = Jupyter.notebook.get_cells();\n",
       "                for (var i = 0; i < nbb_cells.length; ++i) {\n",
       "                    if (nbb_cells[i].input_prompt_number == nbb_cell_id) {\n",
       "                        if (nbb_cells[i].get_text() == nbb_unformatted_code) {\n",
       "                             nbb_cells[i].set_text(nbb_formatted_code);\n",
       "                        }\n",
       "                        break;\n",
       "                    }\n",
       "                }\n",
       "            }, 500);\n",
       "            "
      ],
      "text/plain": [
       "<IPython.core.display.Javascript object>"
      ]
     },
     "metadata": {},
     "output_type": "display_data"
    }
   ],
   "source": [
    "# creating supervised learning imports\n",
    "\n",
    "import pandas as pd\n",
    "import numpy as np\n",
    "\n",
    "from sklearn.model_selection import train_test_split, GridSearchCV\n",
    "from sklearn.compose import ColumnTransformer\n",
    "from sklearn.preprocessing import StandardScaler\n",
    "from sklearn.pipeline import Pipeline\n",
    "\n",
    "from sklearn.neighbors import KNeighborsClassifier\n",
    "from sklearn.ensemble import RandomForestClassifier\n",
    "from sklearn.svm import SVC\n",
    "\n",
    "from sklearn.decomposition import PCA\n",
    "from sklearn.feature_selection import SelectKBest\n",
    "\n",
    "from sklearn.metrics import (\n",
    "    classification_report,\n",
    "    confusion_matrix,\n",
    ")"
   ]
  },
  {
   "cell_type": "code",
   "execution_count": 3,
   "metadata": {},
   "outputs": [
    {
     "data": {
      "application/javascript": [
       "\n",
       "            setTimeout(function() {\n",
       "                var nbb_cell_id = 3;\n",
       "                var nbb_unformatted_code = \"final_df = pd.read_csv(\\\"./cleaned_data.csv\\\")\";\n",
       "                var nbb_formatted_code = \"final_df = pd.read_csv(\\\"./cleaned_data.csv\\\")\";\n",
       "                var nbb_cells = Jupyter.notebook.get_cells();\n",
       "                for (var i = 0; i < nbb_cells.length; ++i) {\n",
       "                    if (nbb_cells[i].input_prompt_number == nbb_cell_id) {\n",
       "                        if (nbb_cells[i].get_text() == nbb_unformatted_code) {\n",
       "                             nbb_cells[i].set_text(nbb_formatted_code);\n",
       "                        }\n",
       "                        break;\n",
       "                    }\n",
       "                }\n",
       "            }, 500);\n",
       "            "
      ],
      "text/plain": [
       "<IPython.core.display.Javascript object>"
      ]
     },
     "metadata": {},
     "output_type": "display_data"
    }
   ],
   "source": [
    "final_df = pd.read_csv(\"./cleaned_data.csv\")"
   ]
  },
  {
   "cell_type": "code",
   "execution_count": 4,
   "metadata": {},
   "outputs": [
    {
     "data": {
      "application/javascript": [
       "\n",
       "            setTimeout(function() {\n",
       "                var nbb_cell_id = 4;\n",
       "                var nbb_unformatted_code = \"# Do not think event_id, app_id are necessary\\nfinal_df = final_df.drop(columns=[\\\"app_id\\\"])\";\n",
       "                var nbb_formatted_code = \"# Do not think event_id, app_id are necessary\\nfinal_df = final_df.drop(columns=[\\\"app_id\\\"])\";\n",
       "                var nbb_cells = Jupyter.notebook.get_cells();\n",
       "                for (var i = 0; i < nbb_cells.length; ++i) {\n",
       "                    if (nbb_cells[i].input_prompt_number == nbb_cell_id) {\n",
       "                        if (nbb_cells[i].get_text() == nbb_unformatted_code) {\n",
       "                             nbb_cells[i].set_text(nbb_formatted_code);\n",
       "                        }\n",
       "                        break;\n",
       "                    }\n",
       "                }\n",
       "            }, 500);\n",
       "            "
      ],
      "text/plain": [
       "<IPython.core.display.Javascript object>"
      ]
     },
     "metadata": {},
     "output_type": "display_data"
    }
   ],
   "source": [
    "# Do not think event_id, app_id are necessary\n",
    "final_df = final_df.drop(columns=[\"app_id\"])"
   ]
  },
  {
   "cell_type": "code",
   "execution_count": 5,
   "metadata": {},
   "outputs": [
    {
     "data": {
      "application/javascript": [
       "\n",
       "            setTimeout(function() {\n",
       "                var nbb_cell_id = 5;\n",
       "                var nbb_unformatted_code = \"# Converting object data to numeric data in group column\\nto_num = {\\n    \\\"M22-\\\": 0,\\n    \\\"M23-26\\\": 1,\\n    \\\"M27-28\\\": 2,\\n    \\\"M29-31\\\": 3,\\n    \\\"M32-38\\\": 4,\\n    \\\"M39+\\\": 5,\\n    \\\"F23-\\\": 6,\\n    \\\"F24-26\\\": 7,\\n    \\\"F27-28\\\": 8,\\n    \\\"F29-32\\\": 9,\\n    \\\"F33-42\\\": 10,\\n    \\\"F43+\\\": 11,\\n}\\n\\n# Created new column for numeric group, can now drop old group column\\nfinal_df[\\\"num_group\\\"] = final_df[\\\"group\\\"].map(to_num)\\nfinal_df = final_df.drop(columns=[\\\"group\\\"])\";\n",
       "                var nbb_formatted_code = \"# Converting object data to numeric data in group column\\nto_num = {\\n    \\\"M22-\\\": 0,\\n    \\\"M23-26\\\": 1,\\n    \\\"M27-28\\\": 2,\\n    \\\"M29-31\\\": 3,\\n    \\\"M32-38\\\": 4,\\n    \\\"M39+\\\": 5,\\n    \\\"F23-\\\": 6,\\n    \\\"F24-26\\\": 7,\\n    \\\"F27-28\\\": 8,\\n    \\\"F29-32\\\": 9,\\n    \\\"F33-42\\\": 10,\\n    \\\"F43+\\\": 11,\\n}\\n\\n# Created new column for numeric group, can now drop old group column\\nfinal_df[\\\"num_group\\\"] = final_df[\\\"group\\\"].map(to_num)\\nfinal_df = final_df.drop(columns=[\\\"group\\\"])\";\n",
       "                var nbb_cells = Jupyter.notebook.get_cells();\n",
       "                for (var i = 0; i < nbb_cells.length; ++i) {\n",
       "                    if (nbb_cells[i].input_prompt_number == nbb_cell_id) {\n",
       "                        if (nbb_cells[i].get_text() == nbb_unformatted_code) {\n",
       "                             nbb_cells[i].set_text(nbb_formatted_code);\n",
       "                        }\n",
       "                        break;\n",
       "                    }\n",
       "                }\n",
       "            }, 500);\n",
       "            "
      ],
      "text/plain": [
       "<IPython.core.display.Javascript object>"
      ]
     },
     "metadata": {},
     "output_type": "display_data"
    }
   ],
   "source": [
    "# Converting object data to numeric data in group column\n",
    "to_num = {\n",
    "    \"M22-\": 0,\n",
    "    \"M23-26\": 1,\n",
    "    \"M27-28\": 2,\n",
    "    \"M29-31\": 3,\n",
    "    \"M32-38\": 4,\n",
    "    \"M39+\": 5,\n",
    "    \"F23-\": 6,\n",
    "    \"F24-26\": 7,\n",
    "    \"F27-28\": 8,\n",
    "    \"F29-32\": 9,\n",
    "    \"F33-42\": 10,\n",
    "    \"F43+\": 11,\n",
    "}\n",
    "\n",
    "# Created new column for numeric group, can now drop old group column\n",
    "final_df[\"num_group\"] = final_df[\"group\"].map(to_num)\n",
    "final_df = final_df.drop(columns=[\"group\"])"
   ]
  },
  {
   "cell_type": "code",
   "execution_count": 6,
   "metadata": {},
   "outputs": [
    {
     "data": {
      "application/javascript": [
       "\n",
       "            setTimeout(function() {\n",
       "                var nbb_cell_id = 6;\n",
       "                var nbb_unformatted_code = \"num_cols = [\\\"device_id\\\", \\\"event_id\\\"]\\n# splitting up the data and choosing num_group as target variable\\nX = final_df.drop(columns=[\\\"num_group\\\"])\\ny = final_df[\\\"num_group\\\"]\\n\\nX_train, X_test, y_train, y_test = train_test_split(\\n    X, y, test_size=0.20, random_state=13, stratify=y\\n)\\n# set up preprocessing for pipeline (used to scale features)\\npreprocessing = ColumnTransformer(\\n    [(\\\"scale\\\", StandardScaler(), num_cols),], remainder=\\\"passthrough\\\",\\n)\";\n",
       "                var nbb_formatted_code = \"num_cols = [\\\"device_id\\\", \\\"event_id\\\"]\\n# splitting up the data and choosing num_group as target variable\\nX = final_df.drop(columns=[\\\"num_group\\\"])\\ny = final_df[\\\"num_group\\\"]\\n\\nX_train, X_test, y_train, y_test = train_test_split(\\n    X, y, test_size=0.20, random_state=13, stratify=y\\n)\\n# set up preprocessing for pipeline (used to scale features)\\npreprocessing = ColumnTransformer(\\n    [(\\\"scale\\\", StandardScaler(), num_cols),], remainder=\\\"passthrough\\\",\\n)\";\n",
       "                var nbb_cells = Jupyter.notebook.get_cells();\n",
       "                for (var i = 0; i < nbb_cells.length; ++i) {\n",
       "                    if (nbb_cells[i].input_prompt_number == nbb_cell_id) {\n",
       "                        if (nbb_cells[i].get_text() == nbb_unformatted_code) {\n",
       "                             nbb_cells[i].set_text(nbb_formatted_code);\n",
       "                        }\n",
       "                        break;\n",
       "                    }\n",
       "                }\n",
       "            }, 500);\n",
       "            "
      ],
      "text/plain": [
       "<IPython.core.display.Javascript object>"
      ]
     },
     "metadata": {},
     "output_type": "display_data"
    }
   ],
   "source": [
    "num_cols = [\"device_id\", \"event_id\"]\n",
    "# splitting up the data and choosing num_group as target variable\n",
    "X = final_df.drop(columns=[\"num_group\"])\n",
    "y = final_df[\"num_group\"]\n",
    "\n",
    "X_train, X_test, y_train, y_test = train_test_split(\n",
    "    X, y, test_size=0.20, random_state=13, stratify=y\n",
    ")\n",
    "# set up preprocessing for pipeline (used to scale features)\n",
    "preprocessing = ColumnTransformer(\n",
    "    [(\"scale\", StandardScaler(), num_cols),], remainder=\"passthrough\",\n",
    ")"
   ]
  },
  {
   "cell_type": "code",
   "execution_count": 7,
   "metadata": {},
   "outputs": [
    {
     "name": "stdout",
     "output_type": "stream",
     "text": [
      "[Pipeline] ..... (step 1 of 2) Processing preprocessing, total=   0.8s\n",
      "[Pipeline] ................ (step 2 of 2) Processing rf, total= 6.3min\n"
     ]
    },
    {
     "data": {
      "text/plain": [
       "Pipeline(steps=[('preprocessing',\n",
       "                 ColumnTransformer(remainder='passthrough',\n",
       "                                   transformers=[('scale', StandardScaler(),\n",
       "                                                  ['device_id', 'event_id'])])),\n",
       "                ('rf', RandomForestClassifier())],\n",
       "         verbose=True)"
      ]
     },
     "execution_count": 7,
     "metadata": {},
     "output_type": "execute_result"
    },
    {
     "data": {
      "application/javascript": [
       "\n",
       "            setTimeout(function() {\n",
       "                var nbb_cell_id = 7;\n",
       "                var nbb_unformatted_code = \"pipeline = Pipeline(\\n    [(\\\"preprocessing\\\", preprocessing), (\\\"rf\\\", RandomForestClassifier())], verbose=True\\n)\\n\\npipeline.fit(X_train, y_train)\";\n",
       "                var nbb_formatted_code = \"pipeline = Pipeline(\\n    [(\\\"preprocessing\\\", preprocessing), (\\\"rf\\\", RandomForestClassifier())], verbose=True\\n)\\n\\npipeline.fit(X_train, y_train)\";\n",
       "                var nbb_cells = Jupyter.notebook.get_cells();\n",
       "                for (var i = 0; i < nbb_cells.length; ++i) {\n",
       "                    if (nbb_cells[i].input_prompt_number == nbb_cell_id) {\n",
       "                        if (nbb_cells[i].get_text() == nbb_unformatted_code) {\n",
       "                             nbb_cells[i].set_text(nbb_formatted_code);\n",
       "                        }\n",
       "                        break;\n",
       "                    }\n",
       "                }\n",
       "            }, 500);\n",
       "            "
      ],
      "text/plain": [
       "<IPython.core.display.Javascript object>"
      ]
     },
     "metadata": {},
     "output_type": "display_data"
    }
   ],
   "source": [
    "pipeline = Pipeline(\n",
    "    [(\"preprocessing\", preprocessing), (\"rf\", RandomForestClassifier())], verbose=True\n",
    ")\n",
    "\n",
    "pipeline.fit(X_train, y_train)"
   ]
  },
  {
   "cell_type": "code",
   "execution_count": 8,
   "metadata": {},
   "outputs": [
    {
     "name": "stdout",
     "output_type": "stream",
     "text": [
      "Fitting 5 folds for each of 48 candidates, totalling 240 fits\n"
     ]
    },
    {
     "name": "stderr",
     "output_type": "stream",
     "text": [
      "[Parallel(n_jobs=-1)]: Using backend LokyBackend with 12 concurrent workers.\n",
      "[Parallel(n_jobs=-1)]: Done  26 tasks      | elapsed:  5.2min\n",
      "[Parallel(n_jobs=-1)]: Done 176 tasks      | elapsed: 55.5min\n",
      "[Parallel(n_jobs=-1)]: Done 240 out of 240 | elapsed: 79.7min finished\n"
     ]
    },
    {
     "name": "stdout",
     "output_type": "stream",
     "text": [
      "[Pipeline] ..... (step 1 of 2) Processing preprocessing, total=   1.9s\n",
      "[Pipeline] ................ (step 2 of 2) Processing rf, total= 5.6min\n"
     ]
    },
    {
     "data": {
      "text/plain": [
       "GridSearchCV(estimator=Pipeline(steps=[('preprocessing',\n",
       "                                        ColumnTransformer(remainder='passthrough',\n",
       "                                                          transformers=[('scale',\n",
       "                                                                         StandardScaler(),\n",
       "                                                                         ['device_id',\n",
       "                                                                          'event_id'])])),\n",
       "                                       ('rf', RandomForestClassifier())],\n",
       "                                verbose=True),\n",
       "             n_jobs=-1,\n",
       "             param_grid={'rf__criterion': ['gini'],\n",
       "                         'rf__max_depth': [50, 70, 90, 110],\n",
       "                         'rf__min_samples_leaf': [1, 3, 5, 7],\n",
       "                         'rf__n_estimators': [1, 10, 100]},\n",
       "             verbose=True)"
      ]
     },
     "execution_count": 8,
     "metadata": {},
     "output_type": "execute_result"
    },
    {
     "data": {
      "application/javascript": [
       "\n",
       "            setTimeout(function() {\n",
       "                var nbb_cell_id = 8;\n",
       "                var nbb_unformatted_code = \"grid = {\\n    \\\"rf__max_depth\\\": [50, 70, 90, 110],\\n    \\\"rf__n_estimators\\\": [1, 10, 100],\\n    \\\"rf__min_samples_leaf\\\": [1, 3, 5, 7],\\n    \\\"rf__criterion\\\": [\\\"gini\\\"],\\n}\\n\\nmodel = GridSearchCV(pipeline, grid, n_jobs=-1, verbose=True)\\nmodel.fit(X_train, y_train)\";\n",
       "                var nbb_formatted_code = \"grid = {\\n    \\\"rf__max_depth\\\": [50, 70, 90, 110],\\n    \\\"rf__n_estimators\\\": [1, 10, 100],\\n    \\\"rf__min_samples_leaf\\\": [1, 3, 5, 7],\\n    \\\"rf__criterion\\\": [\\\"gini\\\"],\\n}\\n\\nmodel = GridSearchCV(pipeline, grid, n_jobs=-1, verbose=True)\\nmodel.fit(X_train, y_train)\";\n",
       "                var nbb_cells = Jupyter.notebook.get_cells();\n",
       "                for (var i = 0; i < nbb_cells.length; ++i) {\n",
       "                    if (nbb_cells[i].input_prompt_number == nbb_cell_id) {\n",
       "                        if (nbb_cells[i].get_text() == nbb_unformatted_code) {\n",
       "                             nbb_cells[i].set_text(nbb_formatted_code);\n",
       "                        }\n",
       "                        break;\n",
       "                    }\n",
       "                }\n",
       "            }, 500);\n",
       "            "
      ],
      "text/plain": [
       "<IPython.core.display.Javascript object>"
      ]
     },
     "metadata": {},
     "output_type": "display_data"
    }
   ],
   "source": [
    "grid = {\n",
    "    \"rf__max_depth\": [50, 70, 90, 110],\n",
    "    \"rf__n_estimators\": [1, 10, 100],\n",
    "    \"rf__min_samples_leaf\": [1, 3, 5, 7],\n",
    "    \"rf__criterion\": [\"gini\"],\n",
    "}\n",
    "\n",
    "model = GridSearchCV(pipeline, grid, n_jobs=-1, verbose=True)\n",
    "model.fit(X_train, y_train)"
   ]
  },
  {
   "cell_type": "code",
   "execution_count": 9,
   "metadata": {},
   "outputs": [
    {
     "data": {
      "text/plain": [
       "{'rf__criterion': 'gini',\n",
       " 'rf__max_depth': 110,\n",
       " 'rf__min_samples_leaf': 1,\n",
       " 'rf__n_estimators': 100}"
      ]
     },
     "execution_count": 9,
     "metadata": {},
     "output_type": "execute_result"
    },
    {
     "data": {
      "application/javascript": [
       "\n",
       "            setTimeout(function() {\n",
       "                var nbb_cell_id = 9;\n",
       "                var nbb_unformatted_code = \"model.best_params_\";\n",
       "                var nbb_formatted_code = \"model.best_params_\";\n",
       "                var nbb_cells = Jupyter.notebook.get_cells();\n",
       "                for (var i = 0; i < nbb_cells.length; ++i) {\n",
       "                    if (nbb_cells[i].input_prompt_number == nbb_cell_id) {\n",
       "                        if (nbb_cells[i].get_text() == nbb_unformatted_code) {\n",
       "                             nbb_cells[i].set_text(nbb_formatted_code);\n",
       "                        }\n",
       "                        break;\n",
       "                    }\n",
       "                }\n",
       "            }, 500);\n",
       "            "
      ],
      "text/plain": [
       "<IPython.core.display.Javascript object>"
      ]
     },
     "metadata": {},
     "output_type": "display_data"
    }
   ],
   "source": [
    "model.best_params_"
   ]
  },
  {
   "cell_type": "code",
   "execution_count": 10,
   "metadata": {},
   "outputs": [
    {
     "name": "stdout",
     "output_type": "stream",
     "text": [
      "Train score: 1.0\n",
      "Test score: 0.5497603156035689\n"
     ]
    },
    {
     "data": {
      "application/javascript": [
       "\n",
       "            setTimeout(function() {\n",
       "                var nbb_cell_id = 10;\n",
       "                var nbb_unformatted_code = \"train_score = model.score(X_train, y_train)\\ntest_score = model.score(X_test, y_test)\\n\\nprint(f\\\"Train score: {train_score}\\\")\\nprint(f\\\"Test score: {test_score}\\\")\";\n",
       "                var nbb_formatted_code = \"train_score = model.score(X_train, y_train)\\ntest_score = model.score(X_test, y_test)\\n\\nprint(f\\\"Train score: {train_score}\\\")\\nprint(f\\\"Test score: {test_score}\\\")\";\n",
       "                var nbb_cells = Jupyter.notebook.get_cells();\n",
       "                for (var i = 0; i < nbb_cells.length; ++i) {\n",
       "                    if (nbb_cells[i].input_prompt_number == nbb_cell_id) {\n",
       "                        if (nbb_cells[i].get_text() == nbb_unformatted_code) {\n",
       "                             nbb_cells[i].set_text(nbb_formatted_code);\n",
       "                        }\n",
       "                        break;\n",
       "                    }\n",
       "                }\n",
       "            }, 500);\n",
       "            "
      ],
      "text/plain": [
       "<IPython.core.display.Javascript object>"
      ]
     },
     "metadata": {},
     "output_type": "display_data"
    }
   ],
   "source": [
    "train_score = model.score(X_train, y_train)\n",
    "test_score = model.score(X_test, y_test)\n",
    "\n",
    "print(f\"Train score: {train_score}\")\n",
    "print(f\"Test score: {test_score}\")"
   ]
  },
  {
   "cell_type": "code",
   "execution_count": 11,
   "metadata": {},
   "outputs": [
    {
     "data": {
      "text/html": [
       "<style  type=\"text/css\" >\n",
       "#T_91cb18c8_3474_11eb_82ff_40ec99f34421row0_col0,#T_91cb18c8_3474_11eb_82ff_40ec99f34421row2_col2{\n",
       "            background-color:  #bfc9e1;\n",
       "            color:  #000000;\n",
       "        }#T_91cb18c8_3474_11eb_82ff_40ec99f34421row0_col1,#T_91cb18c8_3474_11eb_82ff_40ec99f34421row0_col5,#T_91cb18c8_3474_11eb_82ff_40ec99f34421row1_col0,#T_91cb18c8_3474_11eb_82ff_40ec99f34421row10_col3{\n",
       "            background-color:  #faf2f8;\n",
       "            color:  #000000;\n",
       "        }#T_91cb18c8_3474_11eb_82ff_40ec99f34421row0_col2,#T_91cb18c8_3474_11eb_82ff_40ec99f34421row1_col9,#T_91cb18c8_3474_11eb_82ff_40ec99f34421row1_col11,#T_91cb18c8_3474_11eb_82ff_40ec99f34421row2_col10,#T_91cb18c8_3474_11eb_82ff_40ec99f34421row3_col9,#T_91cb18c8_3474_11eb_82ff_40ec99f34421row3_col11,#T_91cb18c8_3474_11eb_82ff_40ec99f34421row4_col8,#T_91cb18c8_3474_11eb_82ff_40ec99f34421row6_col0,#T_91cb18c8_3474_11eb_82ff_40ec99f34421row6_col1,#T_91cb18c8_3474_11eb_82ff_40ec99f34421row6_col5,#T_91cb18c8_3474_11eb_82ff_40ec99f34421row7_col1,#T_91cb18c8_3474_11eb_82ff_40ec99f34421row7_col3,#T_91cb18c8_3474_11eb_82ff_40ec99f34421row8_col1,#T_91cb18c8_3474_11eb_82ff_40ec99f34421row8_col3,#T_91cb18c8_3474_11eb_82ff_40ec99f34421row9_col2,#T_91cb18c8_3474_11eb_82ff_40ec99f34421row9_col10,#T_91cb18c8_3474_11eb_82ff_40ec99f34421row10_col0,#T_91cb18c8_3474_11eb_82ff_40ec99f34421row10_col2,#T_91cb18c8_3474_11eb_82ff_40ec99f34421row10_col11,#T_91cb18c8_3474_11eb_82ff_40ec99f34421row11_col2,#T_91cb18c8_3474_11eb_82ff_40ec99f34421row11_col10{\n",
       "            background-color:  #fdf5fa;\n",
       "            color:  #000000;\n",
       "        }#T_91cb18c8_3474_11eb_82ff_40ec99f34421row0_col3,#T_91cb18c8_3474_11eb_82ff_40ec99f34421row1_col2,#T_91cb18c8_3474_11eb_82ff_40ec99f34421row4_col0,#T_91cb18c8_3474_11eb_82ff_40ec99f34421row5_col2,#T_91cb18c8_3474_11eb_82ff_40ec99f34421row8_col4{\n",
       "            background-color:  #faf3f9;\n",
       "            color:  #000000;\n",
       "        }#T_91cb18c8_3474_11eb_82ff_40ec99f34421row0_col4,#T_91cb18c8_3474_11eb_82ff_40ec99f34421row2_col3,#T_91cb18c8_3474_11eb_82ff_40ec99f34421row5_col1,#T_91cb18c8_3474_11eb_82ff_40ec99f34421row11_col4,#T_91cb18c8_3474_11eb_82ff_40ec99f34421row11_col5{\n",
       "            background-color:  #f7f0f7;\n",
       "            color:  #000000;\n",
       "        }#T_91cb18c8_3474_11eb_82ff_40ec99f34421row0_col6,#T_91cb18c8_3474_11eb_82ff_40ec99f34421row0_col8,#T_91cb18c8_3474_11eb_82ff_40ec99f34421row0_col9,#T_91cb18c8_3474_11eb_82ff_40ec99f34421row0_col11,#T_91cb18c8_3474_11eb_82ff_40ec99f34421row2_col7,#T_91cb18c8_3474_11eb_82ff_40ec99f34421row2_col8,#T_91cb18c8_3474_11eb_82ff_40ec99f34421row3_col6,#T_91cb18c8_3474_11eb_82ff_40ec99f34421row3_col8,#T_91cb18c8_3474_11eb_82ff_40ec99f34421row6_col2,#T_91cb18c8_3474_11eb_82ff_40ec99f34421row6_col10,#T_91cb18c8_3474_11eb_82ff_40ec99f34421row7_col2,#T_91cb18c8_3474_11eb_82ff_40ec99f34421row7_col6,#T_91cb18c8_3474_11eb_82ff_40ec99f34421row7_col9,#T_91cb18c8_3474_11eb_82ff_40ec99f34421row7_col10,#T_91cb18c8_3474_11eb_82ff_40ec99f34421row8_col2,#T_91cb18c8_3474_11eb_82ff_40ec99f34421row8_col11,#T_91cb18c8_3474_11eb_82ff_40ec99f34421row10_col6,#T_91cb18c8_3474_11eb_82ff_40ec99f34421row10_col8,#T_91cb18c8_3474_11eb_82ff_40ec99f34421row11_col0{\n",
       "            background-color:  #fef6fb;\n",
       "            color:  #000000;\n",
       "        }#T_91cb18c8_3474_11eb_82ff_40ec99f34421row0_col7,#T_91cb18c8_3474_11eb_82ff_40ec99f34421row2_col6,#T_91cb18c8_3474_11eb_82ff_40ec99f34421row6_col7,#T_91cb18c8_3474_11eb_82ff_40ec99f34421row6_col8,#T_91cb18c8_3474_11eb_82ff_40ec99f34421row6_col9,#T_91cb18c8_3474_11eb_82ff_40ec99f34421row6_col11,#T_91cb18c8_3474_11eb_82ff_40ec99f34421row7_col8,#T_91cb18c8_3474_11eb_82ff_40ec99f34421row7_col11,#T_91cb18c8_3474_11eb_82ff_40ec99f34421row8_col6,#T_91cb18c8_3474_11eb_82ff_40ec99f34421row8_col7,#T_91cb18c8_3474_11eb_82ff_40ec99f34421row8_col9,#T_91cb18c8_3474_11eb_82ff_40ec99f34421row9_col6,#T_91cb18c8_3474_11eb_82ff_40ec99f34421row9_col7,#T_91cb18c8_3474_11eb_82ff_40ec99f34421row9_col8,#T_91cb18c8_3474_11eb_82ff_40ec99f34421row10_col7,#T_91cb18c8_3474_11eb_82ff_40ec99f34421row11_col6,#T_91cb18c8_3474_11eb_82ff_40ec99f34421row11_col7,#T_91cb18c8_3474_11eb_82ff_40ec99f34421row11_col8{\n",
       "            background-color:  #fff7fb;\n",
       "            color:  #000000;\n",
       "        }#T_91cb18c8_3474_11eb_82ff_40ec99f34421row0_col10,#T_91cb18c8_3474_11eb_82ff_40ec99f34421row1_col6,#T_91cb18c8_3474_11eb_82ff_40ec99f34421row1_col7,#T_91cb18c8_3474_11eb_82ff_40ec99f34421row1_col8,#T_91cb18c8_3474_11eb_82ff_40ec99f34421row2_col9,#T_91cb18c8_3474_11eb_82ff_40ec99f34421row2_col11,#T_91cb18c8_3474_11eb_82ff_40ec99f34421row3_col7,#T_91cb18c8_3474_11eb_82ff_40ec99f34421row4_col6,#T_91cb18c8_3474_11eb_82ff_40ec99f34421row4_col7,#T_91cb18c8_3474_11eb_82ff_40ec99f34421row5_col6,#T_91cb18c8_3474_11eb_82ff_40ec99f34421row5_col7,#T_91cb18c8_3474_11eb_82ff_40ec99f34421row5_col8,#T_91cb18c8_3474_11eb_82ff_40ec99f34421row6_col3,#T_91cb18c8_3474_11eb_82ff_40ec99f34421row7_col0,#T_91cb18c8_3474_11eb_82ff_40ec99f34421row8_col0,#T_91cb18c8_3474_11eb_82ff_40ec99f34421row8_col10,#T_91cb18c8_3474_11eb_82ff_40ec99f34421row9_col0,#T_91cb18c8_3474_11eb_82ff_40ec99f34421row9_col11,#T_91cb18c8_3474_11eb_82ff_40ec99f34421row10_col9,#T_91cb18c8_3474_11eb_82ff_40ec99f34421row11_col9{\n",
       "            background-color:  #fef6fa;\n",
       "            color:  #000000;\n",
       "        }#T_91cb18c8_3474_11eb_82ff_40ec99f34421row1_col1{\n",
       "            background-color:  #62a2cb;\n",
       "            color:  #000000;\n",
       "        }#T_91cb18c8_3474_11eb_82ff_40ec99f34421row1_col3{\n",
       "            background-color:  #f5eef6;\n",
       "            color:  #000000;\n",
       "        }#T_91cb18c8_3474_11eb_82ff_40ec99f34421row1_col4{\n",
       "            background-color:  #efe9f3;\n",
       "            color:  #000000;\n",
       "        }#T_91cb18c8_3474_11eb_82ff_40ec99f34421row1_col5,#T_91cb18c8_3474_11eb_82ff_40ec99f34421row10_col5{\n",
       "            background-color:  #f4edf6;\n",
       "            color:  #000000;\n",
       "        }#T_91cb18c8_3474_11eb_82ff_40ec99f34421row1_col10,#T_91cb18c8_3474_11eb_82ff_40ec99f34421row2_col0,#T_91cb18c8_3474_11eb_82ff_40ec99f34421row5_col9,#T_91cb18c8_3474_11eb_82ff_40ec99f34421row7_col5{\n",
       "            background-color:  #fcf4fa;\n",
       "            color:  #000000;\n",
       "        }#T_91cb18c8_3474_11eb_82ff_40ec99f34421row2_col1,#T_91cb18c8_3474_11eb_82ff_40ec99f34421row3_col2{\n",
       "            background-color:  #f9f2f8;\n",
       "            color:  #000000;\n",
       "        }#T_91cb18c8_3474_11eb_82ff_40ec99f34421row2_col4{\n",
       "            background-color:  #f3edf5;\n",
       "            color:  #000000;\n",
       "        }#T_91cb18c8_3474_11eb_82ff_40ec99f34421row2_col5,#T_91cb18c8_3474_11eb_82ff_40ec99f34421row3_col1{\n",
       "            background-color:  #f6eff7;\n",
       "            color:  #000000;\n",
       "        }#T_91cb18c8_3474_11eb_82ff_40ec99f34421row3_col0,#T_91cb18c8_3474_11eb_82ff_40ec99f34421row4_col9,#T_91cb18c8_3474_11eb_82ff_40ec99f34421row5_col0,#T_91cb18c8_3474_11eb_82ff_40ec99f34421row5_col11,#T_91cb18c8_3474_11eb_82ff_40ec99f34421row6_col4,#T_91cb18c8_3474_11eb_82ff_40ec99f34421row7_col4,#T_91cb18c8_3474_11eb_82ff_40ec99f34421row8_col5,#T_91cb18c8_3474_11eb_82ff_40ec99f34421row9_col1,#T_91cb18c8_3474_11eb_82ff_40ec99f34421row9_col3,#T_91cb18c8_3474_11eb_82ff_40ec99f34421row10_col1,#T_91cb18c8_3474_11eb_82ff_40ec99f34421row11_col1{\n",
       "            background-color:  #fbf4f9;\n",
       "            color:  #000000;\n",
       "        }#T_91cb18c8_3474_11eb_82ff_40ec99f34421row3_col3{\n",
       "            background-color:  #3d93c2;\n",
       "            color:  #000000;\n",
       "        }#T_91cb18c8_3474_11eb_82ff_40ec99f34421row3_col4{\n",
       "            background-color:  #eee8f3;\n",
       "            color:  #000000;\n",
       "        }#T_91cb18c8_3474_11eb_82ff_40ec99f34421row3_col5,#T_91cb18c8_3474_11eb_82ff_40ec99f34421row7_col7,#T_91cb18c8_3474_11eb_82ff_40ec99f34421row8_col8{\n",
       "            background-color:  #f0eaf4;\n",
       "            color:  #000000;\n",
       "        }#T_91cb18c8_3474_11eb_82ff_40ec99f34421row3_col10,#T_91cb18c8_3474_11eb_82ff_40ec99f34421row4_col11,#T_91cb18c8_3474_11eb_82ff_40ec99f34421row11_col3{\n",
       "            background-color:  #fbf3f9;\n",
       "            color:  #000000;\n",
       "        }#T_91cb18c8_3474_11eb_82ff_40ec99f34421row4_col1,#T_91cb18c8_3474_11eb_82ff_40ec99f34421row4_col3,#T_91cb18c8_3474_11eb_82ff_40ec99f34421row5_col3{\n",
       "            background-color:  #f2ecf5;\n",
       "            color:  #000000;\n",
       "        }#T_91cb18c8_3474_11eb_82ff_40ec99f34421row4_col2,#T_91cb18c8_3474_11eb_82ff_40ec99f34421row4_col10,#T_91cb18c8_3474_11eb_82ff_40ec99f34421row5_col10,#T_91cb18c8_3474_11eb_82ff_40ec99f34421row9_col4,#T_91cb18c8_3474_11eb_82ff_40ec99f34421row9_col5{\n",
       "            background-color:  #f8f1f8;\n",
       "            color:  #000000;\n",
       "        }#T_91cb18c8_3474_11eb_82ff_40ec99f34421row4_col4{\n",
       "            background-color:  #023858;\n",
       "            color:  #f1f1f1;\n",
       "        }#T_91cb18c8_3474_11eb_82ff_40ec99f34421row4_col5{\n",
       "            background-color:  #e7e3f0;\n",
       "            color:  #000000;\n",
       "        }#T_91cb18c8_3474_11eb_82ff_40ec99f34421row5_col4{\n",
       "            background-color:  #e6e2ef;\n",
       "            color:  #000000;\n",
       "        }#T_91cb18c8_3474_11eb_82ff_40ec99f34421row5_col5{\n",
       "            background-color:  #045687;\n",
       "            color:  #f1f1f1;\n",
       "        }#T_91cb18c8_3474_11eb_82ff_40ec99f34421row6_col6{\n",
       "            background-color:  #ebe6f2;\n",
       "            color:  #000000;\n",
       "        }#T_91cb18c8_3474_11eb_82ff_40ec99f34421row9_col9{\n",
       "            background-color:  #e3e0ee;\n",
       "            color:  #000000;\n",
       "        }#T_91cb18c8_3474_11eb_82ff_40ec99f34421row10_col4{\n",
       "            background-color:  #f4eef6;\n",
       "            color:  #000000;\n",
       "        }#T_91cb18c8_3474_11eb_82ff_40ec99f34421row10_col10{\n",
       "            background-color:  #cccfe5;\n",
       "            color:  #000000;\n",
       "        }#T_91cb18c8_3474_11eb_82ff_40ec99f34421row11_col11{\n",
       "            background-color:  #dddbec;\n",
       "            color:  #000000;\n",
       "        }</style><table id=\"T_91cb18c8_3474_11eb_82ff_40ec99f34421\" ><thead>    <tr>        <th class=\"blank level0\" ></th>        <th class=\"col_heading level0 col0\" >Predicted M22-</th>        <th class=\"col_heading level0 col1\" >Predicted M23-26</th>        <th class=\"col_heading level0 col2\" >Predicted M27-28</th>        <th class=\"col_heading level0 col3\" >Predicted M29-31</th>        <th class=\"col_heading level0 col4\" >Predicted M32-38</th>        <th class=\"col_heading level0 col5\" >Predicted M39+</th>        <th class=\"col_heading level0 col6\" >Predicted F23-</th>        <th class=\"col_heading level0 col7\" >Predicted F24-26</th>        <th class=\"col_heading level0 col8\" >Predicted F27-28</th>        <th class=\"col_heading level0 col9\" >Predicted F29-32</th>        <th class=\"col_heading level0 col10\" >Predicted F33-42</th>        <th class=\"col_heading level0 col11\" >Predicted F43+</th>    </tr></thead><tbody>\n",
       "                <tr>\n",
       "                        <th id=\"T_91cb18c8_3474_11eb_82ff_40ec99f34421level0_row0\" class=\"row_heading level0 row0\" >Actually M22-</th>\n",
       "                        <td id=\"T_91cb18c8_3474_11eb_82ff_40ec99f34421row0_col0\" class=\"data row0 col0\" >3148</td>\n",
       "                        <td id=\"T_91cb18c8_3474_11eb_82ff_40ec99f34421row0_col1\" class=\"data row0 col1\" >424</td>\n",
       "                        <td id=\"T_91cb18c8_3474_11eb_82ff_40ec99f34421row0_col2\" class=\"data row0 col2\" >204</td>\n",
       "                        <td id=\"T_91cb18c8_3474_11eb_82ff_40ec99f34421row0_col3\" class=\"data row0 col3\" >383</td>\n",
       "                        <td id=\"T_91cb18c8_3474_11eb_82ff_40ec99f34421row0_col4\" class=\"data row0 col4\" >598</td>\n",
       "                        <td id=\"T_91cb18c8_3474_11eb_82ff_40ec99f34421row0_col5\" class=\"data row0 col5\" >397</td>\n",
       "                        <td id=\"T_91cb18c8_3474_11eb_82ff_40ec99f34421row0_col6\" class=\"data row0 col6\" >111</td>\n",
       "                        <td id=\"T_91cb18c8_3474_11eb_82ff_40ec99f34421row0_col7\" class=\"data row0 col7\" >68</td>\n",
       "                        <td id=\"T_91cb18c8_3474_11eb_82ff_40ec99f34421row0_col8\" class=\"data row0 col8\" >92</td>\n",
       "                        <td id=\"T_91cb18c8_3474_11eb_82ff_40ec99f34421row0_col9\" class=\"data row0 col9\" >107</td>\n",
       "                        <td id=\"T_91cb18c8_3474_11eb_82ff_40ec99f34421row0_col10\" class=\"data row0 col10\" >124</td>\n",
       "                        <td id=\"T_91cb18c8_3474_11eb_82ff_40ec99f34421row0_col11\" class=\"data row0 col11\" >85</td>\n",
       "            </tr>\n",
       "            <tr>\n",
       "                        <th id=\"T_91cb18c8_3474_11eb_82ff_40ec99f34421level0_row1\" class=\"row_heading level0 row1\" >Actually M23-26</th>\n",
       "                        <td id=\"T_91cb18c8_3474_11eb_82ff_40ec99f34421row1_col0\" class=\"data row1 col0\" >404</td>\n",
       "                        <td id=\"T_91cb18c8_3474_11eb_82ff_40ec99f34421row1_col1\" class=\"data row1 col1\" >5598</td>\n",
       "                        <td id=\"T_91cb18c8_3474_11eb_82ff_40ec99f34421row1_col2\" class=\"data row1 col2\" >367</td>\n",
       "                        <td id=\"T_91cb18c8_3474_11eb_82ff_40ec99f34421row1_col3\" class=\"data row1 col3\" >723</td>\n",
       "                        <td id=\"T_91cb18c8_3474_11eb_82ff_40ec99f34421row1_col4\" class=\"data row1 col4\" >1147</td>\n",
       "                        <td id=\"T_91cb18c8_3474_11eb_82ff_40ec99f34421row1_col5\" class=\"data row1 col5\" >827</td>\n",
       "                        <td id=\"T_91cb18c8_3474_11eb_82ff_40ec99f34421row1_col6\" class=\"data row1 col6\" >133</td>\n",
       "                        <td id=\"T_91cb18c8_3474_11eb_82ff_40ec99f34421row1_col7\" class=\"data row1 col7\" >137</td>\n",
       "                        <td id=\"T_91cb18c8_3474_11eb_82ff_40ec99f34421row1_col8\" class=\"data row1 col8\" >132</td>\n",
       "                        <td id=\"T_91cb18c8_3474_11eb_82ff_40ec99f34421row1_col9\" class=\"data row1 col9\" >183</td>\n",
       "                        <td id=\"T_91cb18c8_3474_11eb_82ff_40ec99f34421row1_col10\" class=\"data row1 col10\" >256</td>\n",
       "                        <td id=\"T_91cb18c8_3474_11eb_82ff_40ec99f34421row1_col11\" class=\"data row1 col11\" >173</td>\n",
       "            </tr>\n",
       "            <tr>\n",
       "                        <th id=\"T_91cb18c8_3474_11eb_82ff_40ec99f34421level0_row2\" class=\"row_heading level0 row2\" >Actually M27-28</th>\n",
       "                        <td id=\"T_91cb18c8_3474_11eb_82ff_40ec99f34421row2_col0\" class=\"data row2 col0\" >235</td>\n",
       "                        <td id=\"T_91cb18c8_3474_11eb_82ff_40ec99f34421row2_col1\" class=\"data row2 col1\" >466</td>\n",
       "                        <td id=\"T_91cb18c8_3474_11eb_82ff_40ec99f34421row2_col2\" class=\"data row2 col2\" >3158</td>\n",
       "                        <td id=\"T_91cb18c8_3474_11eb_82ff_40ec99f34421row2_col3\" class=\"data row2 col3\" >614</td>\n",
       "                        <td id=\"T_91cb18c8_3474_11eb_82ff_40ec99f34421row2_col4\" class=\"data row2 col4\" >855</td>\n",
       "                        <td id=\"T_91cb18c8_3474_11eb_82ff_40ec99f34421row2_col5\" class=\"data row2 col5\" >664</td>\n",
       "                        <td id=\"T_91cb18c8_3474_11eb_82ff_40ec99f34421row2_col6\" class=\"data row2 col6\" >66</td>\n",
       "                        <td id=\"T_91cb18c8_3474_11eb_82ff_40ec99f34421row2_col7\" class=\"data row2 col7\" >83</td>\n",
       "                        <td id=\"T_91cb18c8_3474_11eb_82ff_40ec99f34421row2_col8\" class=\"data row2 col8\" >95</td>\n",
       "                        <td id=\"T_91cb18c8_3474_11eb_82ff_40ec99f34421row2_col9\" class=\"data row2 col9\" >149</td>\n",
       "                        <td id=\"T_91cb18c8_3474_11eb_82ff_40ec99f34421row2_col10\" class=\"data row2 col10\" >200</td>\n",
       "                        <td id=\"T_91cb18c8_3474_11eb_82ff_40ec99f34421row2_col11\" class=\"data row2 col11\" >150</td>\n",
       "            </tr>\n",
       "            <tr>\n",
       "                        <th id=\"T_91cb18c8_3474_11eb_82ff_40ec99f34421level0_row3\" class=\"row_heading level0 row3\" >Actually M29-31</th>\n",
       "                        <td id=\"T_91cb18c8_3474_11eb_82ff_40ec99f34421row3_col0\" class=\"data row3 col0\" >276</td>\n",
       "                        <td id=\"T_91cb18c8_3474_11eb_82ff_40ec99f34421row3_col1\" class=\"data row3 col1\" >664</td>\n",
       "                        <td id=\"T_91cb18c8_3474_11eb_82ff_40ec99f34421row3_col2\" class=\"data row3 col2\" >437</td>\n",
       "                        <td id=\"T_91cb18c8_3474_11eb_82ff_40ec99f34421row3_col3\" class=\"data row3 col3\" >6369</td>\n",
       "                        <td id=\"T_91cb18c8_3474_11eb_82ff_40ec99f34421row3_col4\" class=\"data row3 col4\" >1239</td>\n",
       "                        <td id=\"T_91cb18c8_3474_11eb_82ff_40ec99f34421row3_col5\" class=\"data row3 col5\" >1073</td>\n",
       "                        <td id=\"T_91cb18c8_3474_11eb_82ff_40ec99f34421row3_col6\" class=\"data row3 col6\" >90</td>\n",
       "                        <td id=\"T_91cb18c8_3474_11eb_82ff_40ec99f34421row3_col7\" class=\"data row3 col7\" >117</td>\n",
       "                        <td id=\"T_91cb18c8_3474_11eb_82ff_40ec99f34421row3_col8\" class=\"data row3 col8\" >110</td>\n",
       "                        <td id=\"T_91cb18c8_3474_11eb_82ff_40ec99f34421row3_col9\" class=\"data row3 col9\" >173</td>\n",
       "                        <td id=\"T_91cb18c8_3474_11eb_82ff_40ec99f34421row3_col10\" class=\"data row3 col10\" >334</td>\n",
       "                        <td id=\"T_91cb18c8_3474_11eb_82ff_40ec99f34421row3_col11\" class=\"data row3 col11\" >202</td>\n",
       "            </tr>\n",
       "            <tr>\n",
       "                        <th id=\"T_91cb18c8_3474_11eb_82ff_40ec99f34421level0_row4\" class=\"row_heading level0 row4\" >Actually M32-38</th>\n",
       "                        <td id=\"T_91cb18c8_3474_11eb_82ff_40ec99f34421row4_col0\" class=\"data row4 col0\" >373</td>\n",
       "                        <td id=\"T_91cb18c8_3474_11eb_82ff_40ec99f34421row4_col1\" class=\"data row4 col1\" >890</td>\n",
       "                        <td id=\"T_91cb18c8_3474_11eb_82ff_40ec99f34421row4_col2\" class=\"data row4 col2\" >520</td>\n",
       "                        <td id=\"T_91cb18c8_3474_11eb_82ff_40ec99f34421row4_col3\" class=\"data row4 col3\" >941</td>\n",
       "                        <td id=\"T_91cb18c8_3474_11eb_82ff_40ec99f34421row4_col4\" class=\"data row4 col4\" >10375</td>\n",
       "                        <td id=\"T_91cb18c8_3474_11eb_82ff_40ec99f34421row4_col5\" class=\"data row4 col5\" >1568</td>\n",
       "                        <td id=\"T_91cb18c8_3474_11eb_82ff_40ec99f34421row4_col6\" class=\"data row4 col6\" >119</td>\n",
       "                        <td id=\"T_91cb18c8_3474_11eb_82ff_40ec99f34421row4_col7\" class=\"data row4 col7\" >119</td>\n",
       "                        <td id=\"T_91cb18c8_3474_11eb_82ff_40ec99f34421row4_col8\" class=\"data row4 col8\" >180</td>\n",
       "                        <td id=\"T_91cb18c8_3474_11eb_82ff_40ec99f34421row4_col9\" class=\"data row4 col9\" >292</td>\n",
       "                        <td id=\"T_91cb18c8_3474_11eb_82ff_40ec99f34421row4_col10\" class=\"data row4 col10\" >490</td>\n",
       "                        <td id=\"T_91cb18c8_3474_11eb_82ff_40ec99f34421row4_col11\" class=\"data row4 col11\" >324</td>\n",
       "            </tr>\n",
       "            <tr>\n",
       "                        <th id=\"T_91cb18c8_3474_11eb_82ff_40ec99f34421level0_row5\" class=\"row_heading level0 row5\" >Actually M39+</th>\n",
       "                        <td id=\"T_91cb18c8_3474_11eb_82ff_40ec99f34421row5_col0\" class=\"data row5 col0\" >282</td>\n",
       "                        <td id=\"T_91cb18c8_3474_11eb_82ff_40ec99f34421row5_col1\" class=\"data row5 col1\" >622</td>\n",
       "                        <td id=\"T_91cb18c8_3474_11eb_82ff_40ec99f34421row5_col2\" class=\"data row5 col2\" >379</td>\n",
       "                        <td id=\"T_91cb18c8_3474_11eb_82ff_40ec99f34421row5_col3\" class=\"data row5 col3\" >896</td>\n",
       "                        <td id=\"T_91cb18c8_3474_11eb_82ff_40ec99f34421row5_col4\" class=\"data row5 col4\" >1608</td>\n",
       "                        <td id=\"T_91cb18c8_3474_11eb_82ff_40ec99f34421row5_col5\" class=\"data row5 col5\" >9230</td>\n",
       "                        <td id=\"T_91cb18c8_3474_11eb_82ff_40ec99f34421row5_col6\" class=\"data row5 col6\" >115</td>\n",
       "                        <td id=\"T_91cb18c8_3474_11eb_82ff_40ec99f34421row5_col7\" class=\"data row5 col7\" >120</td>\n",
       "                        <td id=\"T_91cb18c8_3474_11eb_82ff_40ec99f34421row5_col8\" class=\"data row5 col8\" >137</td>\n",
       "                        <td id=\"T_91cb18c8_3474_11eb_82ff_40ec99f34421row5_col9\" class=\"data row5 col9\" >246</td>\n",
       "                        <td id=\"T_91cb18c8_3474_11eb_82ff_40ec99f34421row5_col10\" class=\"data row5 col10\" >477</td>\n",
       "                        <td id=\"T_91cb18c8_3474_11eb_82ff_40ec99f34421row5_col11\" class=\"data row5 col11\" >280</td>\n",
       "            </tr>\n",
       "            <tr>\n",
       "                        <th id=\"T_91cb18c8_3474_11eb_82ff_40ec99f34421level0_row6\" class=\"row_heading level0 row6\" >Actually F23-</th>\n",
       "                        <td id=\"T_91cb18c8_3474_11eb_82ff_40ec99f34421row6_col0\" class=\"data row6 col0\" >154</td>\n",
       "                        <td id=\"T_91cb18c8_3474_11eb_82ff_40ec99f34421row6_col1\" class=\"data row6 col1\" >229</td>\n",
       "                        <td id=\"T_91cb18c8_3474_11eb_82ff_40ec99f34421row6_col2\" class=\"data row6 col2\" >85</td>\n",
       "                        <td id=\"T_91cb18c8_3474_11eb_82ff_40ec99f34421row6_col3\" class=\"data row6 col3\" >149</td>\n",
       "                        <td id=\"T_91cb18c8_3474_11eb_82ff_40ec99f34421row6_col4\" class=\"data row6 col4\" >282</td>\n",
       "                        <td id=\"T_91cb18c8_3474_11eb_82ff_40ec99f34421row6_col5\" class=\"data row6 col5\" >190</td>\n",
       "                        <td id=\"T_91cb18c8_3474_11eb_82ff_40ec99f34421row6_col6\" class=\"data row6 col6\" >1366</td>\n",
       "                        <td id=\"T_91cb18c8_3474_11eb_82ff_40ec99f34421row6_col7\" class=\"data row6 col7\" >59</td>\n",
       "                        <td id=\"T_91cb18c8_3474_11eb_82ff_40ec99f34421row6_col8\" class=\"data row6 col8\" >36</td>\n",
       "                        <td id=\"T_91cb18c8_3474_11eb_82ff_40ec99f34421row6_col9\" class=\"data row6 col9\" >69</td>\n",
       "                        <td id=\"T_91cb18c8_3474_11eb_82ff_40ec99f34421row6_col10\" class=\"data row6 col10\" >97</td>\n",
       "                        <td id=\"T_91cb18c8_3474_11eb_82ff_40ec99f34421row6_col11\" class=\"data row6 col11\" >54</td>\n",
       "            </tr>\n",
       "            <tr>\n",
       "                        <th id=\"T_91cb18c8_3474_11eb_82ff_40ec99f34421level0_row7\" class=\"row_heading level0 row7\" >Actually F24-26</th>\n",
       "                        <td id=\"T_91cb18c8_3474_11eb_82ff_40ec99f34421row7_col0\" class=\"data row7 col0\" >122</td>\n",
       "                        <td id=\"T_91cb18c8_3474_11eb_82ff_40ec99f34421row7_col1\" class=\"data row7 col1\" >175</td>\n",
       "                        <td id=\"T_91cb18c8_3474_11eb_82ff_40ec99f34421row7_col2\" class=\"data row7 col2\" >110</td>\n",
       "                        <td id=\"T_91cb18c8_3474_11eb_82ff_40ec99f34421row7_col3\" class=\"data row7 col3\" >178</td>\n",
       "                        <td id=\"T_91cb18c8_3474_11eb_82ff_40ec99f34421row7_col4\" class=\"data row7 col4\" >280</td>\n",
       "                        <td id=\"T_91cb18c8_3474_11eb_82ff_40ec99f34421row7_col5\" class=\"data row7 col5\" >255</td>\n",
       "                        <td id=\"T_91cb18c8_3474_11eb_82ff_40ec99f34421row7_col6\" class=\"data row7 col6\" >76</td>\n",
       "                        <td id=\"T_91cb18c8_3474_11eb_82ff_40ec99f34421row7_col7\" class=\"data row7 col7\" >1065</td>\n",
       "                        <td id=\"T_91cb18c8_3474_11eb_82ff_40ec99f34421row7_col8\" class=\"data row7 col8\" >56</td>\n",
       "                        <td id=\"T_91cb18c8_3474_11eb_82ff_40ec99f34421row7_col9\" class=\"data row7 col9\" >81</td>\n",
       "                        <td id=\"T_91cb18c8_3474_11eb_82ff_40ec99f34421row7_col10\" class=\"data row7 col10\" >102</td>\n",
       "                        <td id=\"T_91cb18c8_3474_11eb_82ff_40ec99f34421row7_col11\" class=\"data row7 col11\" >62</td>\n",
       "            </tr>\n",
       "            <tr>\n",
       "                        <th id=\"T_91cb18c8_3474_11eb_82ff_40ec99f34421level0_row8\" class=\"row_heading level0 row8\" >Actually F27-28</th>\n",
       "                        <td id=\"T_91cb18c8_3474_11eb_82ff_40ec99f34421row8_col0\" class=\"data row8 col0\" >118</td>\n",
       "                        <td id=\"T_91cb18c8_3474_11eb_82ff_40ec99f34421row8_col1\" class=\"data row8 col1\" >216</td>\n",
       "                        <td id=\"T_91cb18c8_3474_11eb_82ff_40ec99f34421row8_col2\" class=\"data row8 col2\" >88</td>\n",
       "                        <td id=\"T_91cb18c8_3474_11eb_82ff_40ec99f34421row8_col3\" class=\"data row8 col3\" >204</td>\n",
       "                        <td id=\"T_91cb18c8_3474_11eb_82ff_40ec99f34421row8_col4\" class=\"data row8 col4\" >383</td>\n",
       "                        <td id=\"T_91cb18c8_3474_11eb_82ff_40ec99f34421row8_col5\" class=\"data row8 col5\" >281</td>\n",
       "                        <td id=\"T_91cb18c8_3474_11eb_82ff_40ec99f34421row8_col6\" class=\"data row8 col6\" >32</td>\n",
       "                        <td id=\"T_91cb18c8_3474_11eb_82ff_40ec99f34421row8_col7\" class=\"data row8 col7\" >49</td>\n",
       "                        <td id=\"T_91cb18c8_3474_11eb_82ff_40ec99f34421row8_col8\" class=\"data row8 col8\" >1072</td>\n",
       "                        <td id=\"T_91cb18c8_3474_11eb_82ff_40ec99f34421row8_col9\" class=\"data row8 col9\" >70</td>\n",
       "                        <td id=\"T_91cb18c8_3474_11eb_82ff_40ec99f34421row8_col10\" class=\"data row8 col10\" >138</td>\n",
       "                        <td id=\"T_91cb18c8_3474_11eb_82ff_40ec99f34421row8_col11\" class=\"data row8 col11\" >81</td>\n",
       "            </tr>\n",
       "            <tr>\n",
       "                        <th id=\"T_91cb18c8_3474_11eb_82ff_40ec99f34421level0_row9\" class=\"row_heading level0 row9\" >Actually F29-32</th>\n",
       "                        <td id=\"T_91cb18c8_3474_11eb_82ff_40ec99f34421row9_col0\" class=\"data row9 col0\" >152</td>\n",
       "                        <td id=\"T_91cb18c8_3474_11eb_82ff_40ec99f34421row9_col1\" class=\"data row9 col1\" >290</td>\n",
       "                        <td id=\"T_91cb18c8_3474_11eb_82ff_40ec99f34421row9_col2\" class=\"data row9 col2\" >181</td>\n",
       "                        <td id=\"T_91cb18c8_3474_11eb_82ff_40ec99f34421row9_col3\" class=\"data row9 col3\" >283</td>\n",
       "                        <td id=\"T_91cb18c8_3474_11eb_82ff_40ec99f34421row9_col4\" class=\"data row9 col4\" >520</td>\n",
       "                        <td id=\"T_91cb18c8_3474_11eb_82ff_40ec99f34421row9_col5\" class=\"data row9 col5\" >484</td>\n",
       "                        <td id=\"T_91cb18c8_3474_11eb_82ff_40ec99f34421row9_col6\" class=\"data row9 col6\" >57</td>\n",
       "                        <td id=\"T_91cb18c8_3474_11eb_82ff_40ec99f34421row9_col7\" class=\"data row9 col7\" >69</td>\n",
       "                        <td id=\"T_91cb18c8_3474_11eb_82ff_40ec99f34421row9_col8\" class=\"data row9 col8\" >67</td>\n",
       "                        <td id=\"T_91cb18c8_3474_11eb_82ff_40ec99f34421row9_col9\" class=\"data row9 col9\" >1768</td>\n",
       "                        <td id=\"T_91cb18c8_3474_11eb_82ff_40ec99f34421row9_col10\" class=\"data row9 col10\" >172</td>\n",
       "                        <td id=\"T_91cb18c8_3474_11eb_82ff_40ec99f34421row9_col11\" class=\"data row9 col11\" >127</td>\n",
       "            </tr>\n",
       "            <tr>\n",
       "                        <th id=\"T_91cb18c8_3474_11eb_82ff_40ec99f34421level0_row10\" class=\"row_heading level0 row10\" >Actually F33-42</th>\n",
       "                        <td id=\"T_91cb18c8_3474_11eb_82ff_40ec99f34421row10_col0\" class=\"data row10 col0\" >186</td>\n",
       "                        <td id=\"T_91cb18c8_3474_11eb_82ff_40ec99f34421row10_col1\" class=\"data row10 col1\" >308</td>\n",
       "                        <td id=\"T_91cb18c8_3474_11eb_82ff_40ec99f34421row10_col2\" class=\"data row10 col2\" >199</td>\n",
       "                        <td id=\"T_91cb18c8_3474_11eb_82ff_40ec99f34421row10_col3\" class=\"data row10 col3\" >421</td>\n",
       "                        <td id=\"T_91cb18c8_3474_11eb_82ff_40ec99f34421row10_col4\" class=\"data row10 col4\" >792</td>\n",
       "                        <td id=\"T_91cb18c8_3474_11eb_82ff_40ec99f34421row10_col5\" class=\"data row10 col5\" >824</td>\n",
       "                        <td id=\"T_91cb18c8_3474_11eb_82ff_40ec99f34421row10_col6\" class=\"data row10 col6\" >90</td>\n",
       "                        <td id=\"T_91cb18c8_3474_11eb_82ff_40ec99f34421row10_col7\" class=\"data row10 col7\" >69</td>\n",
       "                        <td id=\"T_91cb18c8_3474_11eb_82ff_40ec99f34421row10_col8\" class=\"data row10 col8\" >83</td>\n",
       "                        <td id=\"T_91cb18c8_3474_11eb_82ff_40ec99f34421row10_col9\" class=\"data row10 col9\" >143</td>\n",
       "                        <td id=\"T_91cb18c8_3474_11eb_82ff_40ec99f34421row10_col10\" class=\"data row10 col10\" >2777</td>\n",
       "                        <td id=\"T_91cb18c8_3474_11eb_82ff_40ec99f34421row10_col11\" class=\"data row10 col11\" >167</td>\n",
       "            </tr>\n",
       "            <tr>\n",
       "                        <th id=\"T_91cb18c8_3474_11eb_82ff_40ec99f34421level0_row11\" class=\"row_heading level0 row11\" >Actually F43+</th>\n",
       "                        <td id=\"T_91cb18c8_3474_11eb_82ff_40ec99f34421row11_col0\" class=\"data row11 col0\" >104</td>\n",
       "                        <td id=\"T_91cb18c8_3474_11eb_82ff_40ec99f34421row11_col1\" class=\"data row11 col1\" >302</td>\n",
       "                        <td id=\"T_91cb18c8_3474_11eb_82ff_40ec99f34421row11_col2\" class=\"data row11 col2\" >197</td>\n",
       "                        <td id=\"T_91cb18c8_3474_11eb_82ff_40ec99f34421row11_col3\" class=\"data row11 col3\" >330</td>\n",
       "                        <td id=\"T_91cb18c8_3474_11eb_82ff_40ec99f34421row11_col4\" class=\"data row11 col4\" >630</td>\n",
       "                        <td id=\"T_91cb18c8_3474_11eb_82ff_40ec99f34421row11_col5\" class=\"data row11 col5\" >601</td>\n",
       "                        <td id=\"T_91cb18c8_3474_11eb_82ff_40ec99f34421row11_col6\" class=\"data row11 col6\" >60</td>\n",
       "                        <td id=\"T_91cb18c8_3474_11eb_82ff_40ec99f34421row11_col7\" class=\"data row11 col7\" >57</td>\n",
       "                        <td id=\"T_91cb18c8_3474_11eb_82ff_40ec99f34421row11_col8\" class=\"data row11 col8\" >72</td>\n",
       "                        <td id=\"T_91cb18c8_3474_11eb_82ff_40ec99f34421row11_col9\" class=\"data row11 col9\" >121</td>\n",
       "                        <td id=\"T_91cb18c8_3474_11eb_82ff_40ec99f34421row11_col10\" class=\"data row11 col10\" >196</td>\n",
       "                        <td id=\"T_91cb18c8_3474_11eb_82ff_40ec99f34421row11_col11\" class=\"data row11 col11\" >2012</td>\n",
       "            </tr>\n",
       "    </tbody></table>"
      ],
      "text/plain": [
       "<pandas.io.formats.style.Styler at 0x27c2720d548>"
      ]
     },
     "execution_count": 11,
     "metadata": {},
     "output_type": "execute_result"
    },
    {
     "data": {
      "application/javascript": [
       "\n",
       "            setTimeout(function() {\n",
       "                var nbb_cell_id = 11;\n",
       "                var nbb_unformatted_code = \"y_pred = model.predict(X_test)\\n\\ncon_mat = pd.DataFrame(\\n    confusion_matrix(y_test, y_pred),\\n    index=[\\n        \\\"Actually M22-\\\",\\n        \\\"Actually M23-26\\\",\\n        \\\"Actually M27-28\\\",\\n        \\\"Actually M29-31\\\",\\n        \\\"Actually M32-38\\\",\\n        \\\"Actually M39+\\\",\\n        \\\"Actually F23-\\\",\\n        \\\"Actually F24-26\\\",\\n        \\\"Actually F27-28\\\",\\n        \\\"Actually F29-32\\\",\\n        \\\"Actually F33-42\\\",\\n        \\\"Actually F43+\\\",\\n    ],\\n    columns=[\\n        \\\"Predicted M22-\\\",\\n        \\\"Predicted M23-26\\\",\\n        \\\"Predicted M27-28\\\",\\n        \\\"Predicted M29-31\\\",\\n        \\\"Predicted M32-38\\\",\\n        \\\"Predicted M39+\\\",\\n        \\\"Predicted F23-\\\",\\n        \\\"Predicted F24-26\\\",\\n        \\\"Predicted F27-28\\\",\\n        \\\"Predicted F29-32\\\",\\n        \\\"Predicted F33-42\\\",\\n        \\\"Predicted F43+\\\",\\n    ],\\n)\\ncon_mat.style.background_gradient(axis=None)\";\n",
       "                var nbb_formatted_code = \"y_pred = model.predict(X_test)\\n\\ncon_mat = pd.DataFrame(\\n    confusion_matrix(y_test, y_pred),\\n    index=[\\n        \\\"Actually M22-\\\",\\n        \\\"Actually M23-26\\\",\\n        \\\"Actually M27-28\\\",\\n        \\\"Actually M29-31\\\",\\n        \\\"Actually M32-38\\\",\\n        \\\"Actually M39+\\\",\\n        \\\"Actually F23-\\\",\\n        \\\"Actually F24-26\\\",\\n        \\\"Actually F27-28\\\",\\n        \\\"Actually F29-32\\\",\\n        \\\"Actually F33-42\\\",\\n        \\\"Actually F43+\\\",\\n    ],\\n    columns=[\\n        \\\"Predicted M22-\\\",\\n        \\\"Predicted M23-26\\\",\\n        \\\"Predicted M27-28\\\",\\n        \\\"Predicted M29-31\\\",\\n        \\\"Predicted M32-38\\\",\\n        \\\"Predicted M39+\\\",\\n        \\\"Predicted F23-\\\",\\n        \\\"Predicted F24-26\\\",\\n        \\\"Predicted F27-28\\\",\\n        \\\"Predicted F29-32\\\",\\n        \\\"Predicted F33-42\\\",\\n        \\\"Predicted F43+\\\",\\n    ],\\n)\\ncon_mat.style.background_gradient(axis=None)\";\n",
       "                var nbb_cells = Jupyter.notebook.get_cells();\n",
       "                for (var i = 0; i < nbb_cells.length; ++i) {\n",
       "                    if (nbb_cells[i].input_prompt_number == nbb_cell_id) {\n",
       "                        if (nbb_cells[i].get_text() == nbb_unformatted_code) {\n",
       "                             nbb_cells[i].set_text(nbb_formatted_code);\n",
       "                        }\n",
       "                        break;\n",
       "                    }\n",
       "                }\n",
       "            }, 500);\n",
       "            "
      ],
      "text/plain": [
       "<IPython.core.display.Javascript object>"
      ]
     },
     "metadata": {},
     "output_type": "display_data"
    }
   ],
   "source": [
    "y_pred = model.predict(X_test)\n",
    "\n",
    "con_mat = pd.DataFrame(\n",
    "    confusion_matrix(y_test, y_pred),\n",
    "    index=[\n",
    "        \"Actually M22-\",\n",
    "        \"Actually M23-26\",\n",
    "        \"Actually M27-28\",\n",
    "        \"Actually M29-31\",\n",
    "        \"Actually M32-38\",\n",
    "        \"Actually M39+\",\n",
    "        \"Actually F23-\",\n",
    "        \"Actually F24-26\",\n",
    "        \"Actually F27-28\",\n",
    "        \"Actually F29-32\",\n",
    "        \"Actually F33-42\",\n",
    "        \"Actually F43+\",\n",
    "    ],\n",
    "    columns=[\n",
    "        \"Predicted M22-\",\n",
    "        \"Predicted M23-26\",\n",
    "        \"Predicted M27-28\",\n",
    "        \"Predicted M29-31\",\n",
    "        \"Predicted M32-38\",\n",
    "        \"Predicted M39+\",\n",
    "        \"Predicted F23-\",\n",
    "        \"Predicted F24-26\",\n",
    "        \"Predicted F27-28\",\n",
    "        \"Predicted F29-32\",\n",
    "        \"Predicted F33-42\",\n",
    "        \"Predicted F43+\",\n",
    "    ],\n",
    ")\n",
    "con_mat.style.background_gradient(axis=None)"
   ]
  },
  {
   "cell_type": "code",
   "execution_count": 12,
   "metadata": {},
   "outputs": [
    {
     "name": "stdout",
     "output_type": "stream",
     "text": [
      "              precision    recall  f1-score   support\n",
      "\n",
      "           0       0.57      0.55      0.56      5741\n",
      "           1       0.55      0.56      0.55     10080\n",
      "           2       0.53      0.47      0.50      6735\n",
      "           3       0.55      0.57      0.56     11084\n",
      "           4       0.55      0.64      0.59     16191\n",
      "           5       0.56      0.64      0.60     14392\n",
      "           6       0.59      0.49      0.54      2770\n",
      "           7       0.53      0.42      0.47      2562\n",
      "           8       0.50      0.39      0.44      2732\n",
      "           9       0.52      0.42      0.47      4170\n",
      "          10       0.52      0.46      0.49      6059\n",
      "          11       0.54      0.43      0.48      4682\n",
      "\n",
      "    accuracy                           0.55     87198\n",
      "   macro avg       0.54      0.50      0.52     87198\n",
      "weighted avg       0.55      0.55      0.55     87198\n",
      "\n"
     ]
    },
    {
     "data": {
      "application/javascript": [
       "\n",
       "            setTimeout(function() {\n",
       "                var nbb_cell_id = 12;\n",
       "                var nbb_unformatted_code = \"print(classification_report(y_test, y_pred))\";\n",
       "                var nbb_formatted_code = \"print(classification_report(y_test, y_pred))\";\n",
       "                var nbb_cells = Jupyter.notebook.get_cells();\n",
       "                for (var i = 0; i < nbb_cells.length; ++i) {\n",
       "                    if (nbb_cells[i].input_prompt_number == nbb_cell_id) {\n",
       "                        if (nbb_cells[i].get_text() == nbb_unformatted_code) {\n",
       "                             nbb_cells[i].set_text(nbb_formatted_code);\n",
       "                        }\n",
       "                        break;\n",
       "                    }\n",
       "                }\n",
       "            }, 500);\n",
       "            "
      ],
      "text/plain": [
       "<IPython.core.display.Javascript object>"
      ]
     },
     "metadata": {},
     "output_type": "display_data"
    }
   ],
   "source": [
    "print(classification_report(y_test, y_pred))"
   ]
  },
  {
   "cell_type": "markdown",
   "metadata": {},
   "source": [
    "# Unsupervised Learning"
   ]
  },
  {
   "cell_type": "code",
   "execution_count": 2,
   "metadata": {},
   "outputs": [
    {
     "data": {
      "application/javascript": [
       "\n",
       "            setTimeout(function() {\n",
       "                var nbb_cell_id = 2;\n",
       "                var nbb_unformatted_code = \"import seaborn as sns\\nimport matplotlib.pyplot as plt\\nfrom matplotlib.pyplot import figure\\n\\nfrom sklearn.cluster import (\\n    KMeans,\\n    DBSCAN,\\n    AffinityPropagation,\\n    MeanShift,\\n)\\nfrom sklearn.mixture import GaussianMixture\\nfrom sklearn import metrics\\nfrom sklearn.preprocessing import StandardScaler\\nfrom sklearn.decomposition import PCA\\nimport umap\";\n",
       "                var nbb_formatted_code = \"import seaborn as sns\\nimport matplotlib.pyplot as plt\\nfrom matplotlib.pyplot import figure\\n\\nfrom sklearn.cluster import (\\n    KMeans,\\n    DBSCAN,\\n    AffinityPropagation,\\n    MeanShift,\\n)\\nfrom sklearn.mixture import GaussianMixture\\nfrom sklearn import metrics\\nfrom sklearn.preprocessing import StandardScaler\\nfrom sklearn.decomposition import PCA\\nimport umap\";\n",
       "                var nbb_cells = Jupyter.notebook.get_cells();\n",
       "                for (var i = 0; i < nbb_cells.length; ++i) {\n",
       "                    if (nbb_cells[i].input_prompt_number == nbb_cell_id) {\n",
       "                        if (nbb_cells[i].get_text() == nbb_unformatted_code) {\n",
       "                             nbb_cells[i].set_text(nbb_formatted_code);\n",
       "                        }\n",
       "                        break;\n",
       "                    }\n",
       "                }\n",
       "            }, 500);\n",
       "            "
      ],
      "text/plain": [
       "<IPython.core.display.Javascript object>"
      ]
     },
     "metadata": {},
     "output_type": "display_data"
    }
   ],
   "source": [
    "import seaborn as sns\n",
    "import matplotlib.pyplot as plt\n",
    "from matplotlib.pyplot import figure\n",
    "\n",
    "from sklearn.cluster import (\n",
    "    KMeans,\n",
    "    DBSCAN,\n",
    "    AffinityPropagation,\n",
    "    MeanShift,\n",
    ")\n",
    "from sklearn.mixture import GaussianMixture\n",
    "from sklearn import metrics\n",
    "from sklearn.preprocessing import StandardScaler\n",
    "from sklearn.decomposition import PCA\n",
    "import umap"
   ]
  },
  {
   "cell_type": "code",
   "execution_count": 8,
   "metadata": {},
   "outputs": [
    {
     "data": {
      "application/javascript": [
       "\n",
       "            setTimeout(function() {\n",
       "                var nbb_cell_id = 8;\n",
       "                var nbb_unformatted_code = \"final_df = pd.read_csv(\\\"./cleaned_data.csv\\\")\\nfinal_df = final_df.sample(100000, random_state=13)\\n# Converting object data to numeric data in group column\\nto_num = {\\n    \\\"M22-\\\": 0,\\n    \\\"M23-26\\\": 1,\\n    \\\"M27-28\\\": 2,\\n    \\\"M29-31\\\": 3,\\n    \\\"M32-38\\\": 4,\\n    \\\"M39+\\\": 5,\\n    \\\"F23-\\\": 6,\\n    \\\"F24-26\\\": 7,\\n    \\\"F27-28\\\": 8,\\n    \\\"F29-32\\\": 9,\\n    \\\"F33-42\\\": 10,\\n    \\\"F43+\\\": 11,\\n}\\n\\n# Created new column for numeric group, can now drop old group column\\nfinal_df[\\\"num_group\\\"] = final_df[\\\"group\\\"].map(to_num)\\nfinal_df = final_df.drop(columns=[\\\"group\\\"])\";\n",
       "                var nbb_formatted_code = \"final_df = pd.read_csv(\\\"./cleaned_data.csv\\\")\\nfinal_df = final_df.sample(100000, random_state=13)\\n# Converting object data to numeric data in group column\\nto_num = {\\n    \\\"M22-\\\": 0,\\n    \\\"M23-26\\\": 1,\\n    \\\"M27-28\\\": 2,\\n    \\\"M29-31\\\": 3,\\n    \\\"M32-38\\\": 4,\\n    \\\"M39+\\\": 5,\\n    \\\"F23-\\\": 6,\\n    \\\"F24-26\\\": 7,\\n    \\\"F27-28\\\": 8,\\n    \\\"F29-32\\\": 9,\\n    \\\"F33-42\\\": 10,\\n    \\\"F43+\\\": 11,\\n}\\n\\n# Created new column for numeric group, can now drop old group column\\nfinal_df[\\\"num_group\\\"] = final_df[\\\"group\\\"].map(to_num)\\nfinal_df = final_df.drop(columns=[\\\"group\\\"])\";\n",
       "                var nbb_cells = Jupyter.notebook.get_cells();\n",
       "                for (var i = 0; i < nbb_cells.length; ++i) {\n",
       "                    if (nbb_cells[i].input_prompt_number == nbb_cell_id) {\n",
       "                        if (nbb_cells[i].get_text() == nbb_unformatted_code) {\n",
       "                             nbb_cells[i].set_text(nbb_formatted_code);\n",
       "                        }\n",
       "                        break;\n",
       "                    }\n",
       "                }\n",
       "            }, 500);\n",
       "            "
      ],
      "text/plain": [
       "<IPython.core.display.Javascript object>"
      ]
     },
     "metadata": {},
     "output_type": "display_data"
    }
   ],
   "source": [
    "final_df = pd.read_csv(\"./cleaned_data.csv\")\n",
    "final_df = final_df.sample(100000, random_state=13)\n",
    "# Converting object data to numeric data in group column\n",
    "to_num = {\n",
    "    \"M22-\": 0,\n",
    "    \"M23-26\": 1,\n",
    "    \"M27-28\": 2,\n",
    "    \"M29-31\": 3,\n",
    "    \"M32-38\": 4,\n",
    "    \"M39+\": 5,\n",
    "    \"F23-\": 6,\n",
    "    \"F24-26\": 7,\n",
    "    \"F27-28\": 8,\n",
    "    \"F29-32\": 9,\n",
    "    \"F33-42\": 10,\n",
    "    \"F43+\": 11,\n",
    "}\n",
    "\n",
    "# Created new column for numeric group, can now drop old group column\n",
    "final_df[\"num_group\"] = final_df[\"group\"].map(to_num)\n",
    "final_df = final_df.drop(columns=[\"group\"])"
   ]
  },
  {
   "cell_type": "code",
   "execution_count": 9,
   "metadata": {},
   "outputs": [
    {
     "data": {
      "application/javascript": [
       "\n",
       "            setTimeout(function() {\n",
       "                var nbb_cell_id = 9;\n",
       "                var nbb_unformatted_code = \"# Create copy of data frame and rename to be used for clustering\\nfinal_clust_df = final_df.copy()\\n# drop columns that won't be necessary for clustering data\\nfinal_clust_df = final_clust_df.drop(columns=['app_id',\\\"device_id\\\", \\\"event_id\\\"])\";\n",
       "                var nbb_formatted_code = \"# Create copy of data frame and rename to be used for clustering\\nfinal_clust_df = final_df.copy()\\n# drop columns that won't be necessary for clustering data\\nfinal_clust_df = final_clust_df.drop(columns=[\\\"app_id\\\", \\\"device_id\\\", \\\"event_id\\\"])\";\n",
       "                var nbb_cells = Jupyter.notebook.get_cells();\n",
       "                for (var i = 0; i < nbb_cells.length; ++i) {\n",
       "                    if (nbb_cells[i].input_prompt_number == nbb_cell_id) {\n",
       "                        if (nbb_cells[i].get_text() == nbb_unformatted_code) {\n",
       "                             nbb_cells[i].set_text(nbb_formatted_code);\n",
       "                        }\n",
       "                        break;\n",
       "                    }\n",
       "                }\n",
       "            }, 500);\n",
       "            "
      ],
      "text/plain": [
       "<IPython.core.display.Javascript object>"
      ]
     },
     "metadata": {},
     "output_type": "display_data"
    }
   ],
   "source": [
    "# Create copy of data frame and rename to be used for clustering\n",
    "final_clust_df = final_df.copy()\n",
    "# drop columns that won't be necessary for clustering data\n",
    "final_clust_df = final_clust_df.drop(columns=['app_id',\"device_id\", \"event_id\"])"
   ]
  },
  {
   "cell_type": "code",
   "execution_count": 10,
   "metadata": {},
   "outputs": [
    {
     "name": "stderr",
     "output_type": "stream",
     "text": [
      "C:\\Users\\jlim7\\anaconda3\\lib\\site-packages\\sklearn\\manifold\\_spectral_embedding.py:236: UserWarning: Graph is not fully connected, spectral embedding may not work as expected.\n",
      "  warnings.warn(\"Graph is not fully connected, spectral embedding\"\n"
     ]
    },
    {
     "data": {
      "application/javascript": [
       "\n",
       "            setTimeout(function() {\n",
       "                var nbb_cell_id = 10;\n",
       "                var nbb_unformatted_code = \"scaler = StandardScaler()\\nX_std = scaler.fit_transform(final_clust_df)\\numap_results = umap.UMAP(n_components=2, n_neighbors=200)\\nX_umap = umap_results.fit_transform(X_std)\\nkm = KMeans(n_clusters=6, random_state=13)\\nclusters = km.fit_predict(X_umap)\";\n",
       "                var nbb_formatted_code = \"scaler = StandardScaler()\\nX_std = scaler.fit_transform(final_clust_df)\\numap_results = umap.UMAP(n_components=2, n_neighbors=200)\\nX_umap = umap_results.fit_transform(X_std)\\nkm = KMeans(n_clusters=6, random_state=13)\\nclusters = km.fit_predict(X_umap)\";\n",
       "                var nbb_cells = Jupyter.notebook.get_cells();\n",
       "                for (var i = 0; i < nbb_cells.length; ++i) {\n",
       "                    if (nbb_cells[i].input_prompt_number == nbb_cell_id) {\n",
       "                        if (nbb_cells[i].get_text() == nbb_unformatted_code) {\n",
       "                             nbb_cells[i].set_text(nbb_formatted_code);\n",
       "                        }\n",
       "                        break;\n",
       "                    }\n",
       "                }\n",
       "            }, 500);\n",
       "            "
      ],
      "text/plain": [
       "<IPython.core.display.Javascript object>"
      ]
     },
     "metadata": {},
     "output_type": "display_data"
    }
   ],
   "source": [
    "scaler = StandardScaler()\n",
    "X_std = scaler.fit_transform(final_clust_df)\n",
    "umap_results = umap.UMAP(n_components=2, n_neighbors=200)\n",
    "X_umap = umap_results.fit_transform(X_std)\n",
    "km = KMeans(n_clusters=6, random_state=13)\n",
    "clusters = km.fit_predict(X_umap)"
   ]
  },
  {
   "cell_type": "code",
   "execution_count": 11,
   "metadata": {},
   "outputs": [
    {
     "data": {
      "image/png": "[encoded data removed]",
      "text/plain": [
       "<Figure size 432x288 with 1 Axes>"
      ]
     },
     "metadata": {
      "needs_background": "light"
     },
     "output_type": "display_data"
    },
    {
     "data": {
      "application/javascript": [
       "\n",
       "            setTimeout(function() {\n",
       "                var nbb_cell_id = 11;\n",
       "                var nbb_unformatted_code = \"labels = km.fit_predict(X_umap)\\nsns.scatterplot(X_umap[:, 0], X_umap[:, 1], hue=labels)\\nplt.title(\\\"UMAP Data Grouped by KMeans Clusters\\\")\\nplt.show()\";\n",
       "                var nbb_formatted_code = \"labels = km.fit_predict(X_umap)\\nsns.scatterplot(X_umap[:, 0], X_umap[:, 1], hue=labels)\\nplt.title(\\\"UMAP Data Grouped by KMeans Clusters\\\")\\nplt.show()\";\n",
       "                var nbb_cells = Jupyter.notebook.get_cells();\n",
       "                for (var i = 0; i < nbb_cells.length; ++i) {\n",
       "                    if (nbb_cells[i].input_prompt_number == nbb_cell_id) {\n",
       "                        if (nbb_cells[i].get_text() == nbb_unformatted_code) {\n",
       "                             nbb_cells[i].set_text(nbb_formatted_code);\n",
       "                        }\n",
       "                        break;\n",
       "                    }\n",
       "                }\n",
       "            }, 500);\n",
       "            "
      ],
      "text/plain": [
       "<IPython.core.display.Javascript object>"
      ]
     },
     "metadata": {},
     "output_type": "display_data"
    }
   ],
   "source": [
    "labels = km.fit_predict(X_umap)\n",
    "sns.scatterplot(X_umap[:, 0], X_umap[:, 1], hue=labels)\n",
    "plt.title(\"UMAP Data Grouped by KMeans Clusters\")\n",
    "plt.show()"
   ]
  },
  {
   "cell_type": "code",
   "execution_count": 12,
   "metadata": {},
   "outputs": [
    {
     "data": {
      "application/javascript": [
       "\n",
       "            setTimeout(function() {\n",
       "                var nbb_cell_id = 12;\n",
       "                var nbb_unformatted_code = \"# adding the cluster labels to the original dataframe\\nfinal_df[\\\"Cluster\\\"] = km.labels_\";\n",
       "                var nbb_formatted_code = \"# adding the cluster labels to the original dataframe\\nfinal_df[\\\"Cluster\\\"] = km.labels_\";\n",
       "                var nbb_cells = Jupyter.notebook.get_cells();\n",
       "                for (var i = 0; i < nbb_cells.length; ++i) {\n",
       "                    if (nbb_cells[i].input_prompt_number == nbb_cell_id) {\n",
       "                        if (nbb_cells[i].get_text() == nbb_unformatted_code) {\n",
       "                             nbb_cells[i].set_text(nbb_formatted_code);\n",
       "                        }\n",
       "                        break;\n",
       "                    }\n",
       "                }\n",
       "            }, 500);\n",
       "            "
      ],
      "text/plain": [
       "<IPython.core.display.Javascript object>"
      ]
     },
     "metadata": {},
     "output_type": "display_data"
    }
   ],
   "source": [
    "# adding the cluster labels to the original dataframe\n",
    "final_df[\"Cluster\"] = km.labels_"
   ]
  },
  {
   "cell_type": "code",
   "execution_count": 13,
   "metadata": {},
   "outputs": [
    {
     "data": {
      "image/png": "[encoded data removed]",
      "text/plain": [
       "<Figure size 432x288 with 1 Axes>"
      ]
     },
     "metadata": {
      "needs_background": "light"
     },
     "output_type": "display_data"
    },
    {
     "data": {
      "application/javascript": [
       "\n",
       "            setTimeout(function() {\n",
       "                var nbb_cell_id = 13;\n",
       "                var nbb_unformatted_code = \"# Create bar chart for cluster sizes\\nsns.countplot(final_df[\\\"Cluster\\\"])\\nplt.title(\\\"Cluster Sizes\\\")\\nplt.legend\\nplt.show()\";\n",
       "                var nbb_formatted_code = \"# Create bar chart for cluster sizes\\nsns.countplot(final_df[\\\"Cluster\\\"])\\nplt.title(\\\"Cluster Sizes\\\")\\nplt.legend\\nplt.show()\";\n",
       "                var nbb_cells = Jupyter.notebook.get_cells();\n",
       "                for (var i = 0; i < nbb_cells.length; ++i) {\n",
       "                    if (nbb_cells[i].input_prompt_number == nbb_cell_id) {\n",
       "                        if (nbb_cells[i].get_text() == nbb_unformatted_code) {\n",
       "                             nbb_cells[i].set_text(nbb_formatted_code);\n",
       "                        }\n",
       "                        break;\n",
       "                    }\n",
       "                }\n",
       "            }, 500);\n",
       "            "
      ],
      "text/plain": [
       "<IPython.core.display.Javascript object>"
      ]
     },
     "metadata": {},
     "output_type": "display_data"
    }
   ],
   "source": [
    "# Create bar chart for cluster sizes\n",
    "sns.countplot(final_df[\"Cluster\"])\n",
    "plt.title(\"Cluster Sizes\")\n",
    "plt.legend\n",
    "plt.show()"
   ]
  },
  {
   "cell_type": "code",
   "execution_count": 14,
   "metadata": {},
   "outputs": [
    {
     "data": {
      "image/png": "[encoded data removed]",
      "text/plain": [
       "<Figure size 432x288 with 1 Axes>"
      ]
     },
     "metadata": {
      "needs_background": "light"
     },
     "output_type": "display_data"
    },
    {
     "data": {
      "application/javascript": [
       "\n",
       "            setTimeout(function() {\n",
       "                var nbb_cell_id = 14;\n",
       "                var nbb_unformatted_code = \"sns.countplot(data=final_df, x=\\\"Cluster\\\", hue=\\\"is_active\\\")\\nplt.legend(\\n    loc=\\\"upper right\\\", title=\\\"Activity\\\",\\n)\\nsns.set(rc={\\\"figure.figsize\\\": (10, 10)})\\nsns.set_style(\\\"whitegrid\\\")\\nplt.title(\\\"Activity Grouped by Each Cluster\\\", fontsize=20)\\nplt.show()\";\n",
       "                var nbb_formatted_code = \"sns.countplot(data=final_df, x=\\\"Cluster\\\", hue=\\\"is_active\\\")\\nplt.legend(\\n    loc=\\\"upper right\\\", title=\\\"Activity\\\",\\n)\\nsns.set(rc={\\\"figure.figsize\\\": (10, 10)})\\nsns.set_style(\\\"whitegrid\\\")\\nplt.title(\\\"Activity Grouped by Each Cluster\\\", fontsize=20)\\nplt.show()\";\n",
       "                var nbb_cells = Jupyter.notebook.get_cells();\n",
       "                for (var i = 0; i < nbb_cells.length; ++i) {\n",
       "                    if (nbb_cells[i].input_prompt_number == nbb_cell_id) {\n",
       "                        if (nbb_cells[i].get_text() == nbb_unformatted_code) {\n",
       "                             nbb_cells[i].set_text(nbb_formatted_code);\n",
       "                        }\n",
       "                        break;\n",
       "                    }\n",
       "                }\n",
       "            }, 500);\n",
       "            "
      ],
      "text/plain": [
       "<IPython.core.display.Javascript object>"
      ]
     },
     "metadata": {},
     "output_type": "display_data"
    }
   ],
   "source": [
    "sns.countplot(data=final_df, x=\"Cluster\", hue=\"is_active\")\n",
    "plt.legend(\n",
    "    loc=\"upper right\", title=\"Activity\",\n",
    ")\n",
    "sns.set(rc={\"figure.figsize\": (10, 10)})\n",
    "sns.set_style(\"whitegrid\")\n",
    "plt.title(\"Activity Grouped by Each Cluster\", fontsize=20)\n",
    "plt.show()"
   ]
  },
  {
   "cell_type": "code",
   "execution_count": 15,
   "metadata": {},
   "outputs": [
    {
     "data": {
      "image/png": "[encoded data removed]",
      "text/plain": [
       "<Figure size 720x720 with 1 Axes>"
      ]
     },
     "metadata": {},
     "output_type": "display_data"
    },
    {
     "data": {
      "application/javascript": [
       "\n",
       "            setTimeout(function() {\n",
       "                var nbb_cell_id = 15;\n",
       "                var nbb_unformatted_code = \"sns.countplot(data=final_df, x=\\\"Cluster\\\", hue=\\\"num_group\\\")\\nplt.legend(\\n    loc=\\\"upper right\\\", title=\\\"Age/Gender Group\\\",\\n)\\nsns.set(rc={\\\"figure.figsize\\\": (10, 10)})\\nsns.set_style(\\\"whitegrid\\\")\\nplt.title(\\\"Age/Gender Grouped by Each Cluster\\\", fontsize=20)\\nplt.show()\";\n",
       "                var nbb_formatted_code = \"sns.countplot(data=final_df, x=\\\"Cluster\\\", hue=\\\"num_group\\\")\\nplt.legend(\\n    loc=\\\"upper right\\\", title=\\\"Age/Gender Group\\\",\\n)\\nsns.set(rc={\\\"figure.figsize\\\": (10, 10)})\\nsns.set_style(\\\"whitegrid\\\")\\nplt.title(\\\"Age/Gender Grouped by Each Cluster\\\", fontsize=20)\\nplt.show()\";\n",
       "                var nbb_cells = Jupyter.notebook.get_cells();\n",
       "                for (var i = 0; i < nbb_cells.length; ++i) {\n",
       "                    if (nbb_cells[i].input_prompt_number == nbb_cell_id) {\n",
       "                        if (nbb_cells[i].get_text() == nbb_unformatted_code) {\n",
       "                             nbb_cells[i].set_text(nbb_formatted_code);\n",
       "                        }\n",
       "                        break;\n",
       "                    }\n",
       "                }\n",
       "            }, 500);\n",
       "            "
      ],
      "text/plain": [
       "<IPython.core.display.Javascript object>"
      ]
     },
     "metadata": {},
     "output_type": "display_data"
    }
   ],
   "source": [
    "sns.countplot(data=final_df, x=\"Cluster\", hue=\"num_group\")\n",
    "plt.legend(\n",
    "    loc=\"upper right\", title=\"Age/Gender Group\",\n",
    ")\n",
    "sns.set(rc={\"figure.figsize\": (10, 10)})\n",
    "sns.set_style(\"whitegrid\")\n",
    "plt.title(\"Age/Gender Grouped by Each Cluster\", fontsize=20)\n",
    "plt.show()"
   ]
  },
  {
   "cell_type": "markdown",
   "metadata": {},
   "source": [
    "# Neural Network"
   ]
  },
  {
   "cell_type": "code",
   "execution_count": 16,
   "metadata": {},
   "outputs": [
    {
     "data": {
      "application/javascript": [
       "\n",
       "            setTimeout(function() {\n",
       "                var nbb_cell_id = 16;\n",
       "                var nbb_unformatted_code = \"import tensorflow as tf\\nfrom tensorflow.keras.optimizers import SGD\\nfrom tensorflow.keras.utils import to_categorical\\nfrom tensorflow.keras.models import Sequential\\nfrom tensorflow.keras.layers import Conv2D, MaxPooling2D\\nfrom tensorflow.keras.layers import (\\n    Activation,\\n    Dropout,\\n    Flatten,\\n    Dense,\\n    BatchNormalization,\\n)\\nfrom tensorflow.keras import backend as K\";\n",
       "                var nbb_formatted_code = \"import tensorflow as tf\\nfrom tensorflow.keras.optimizers import SGD\\nfrom tensorflow.keras.utils import to_categorical\\nfrom tensorflow.keras.models import Sequential\\nfrom tensorflow.keras.layers import Conv2D, MaxPooling2D\\nfrom tensorflow.keras.layers import (\\n    Activation,\\n    Dropout,\\n    Flatten,\\n    Dense,\\n    BatchNormalization,\\n)\\nfrom tensorflow.keras import backend as K\";\n",
       "                var nbb_cells = Jupyter.notebook.get_cells();\n",
       "                for (var i = 0; i < nbb_cells.length; ++i) {\n",
       "                    if (nbb_cells[i].input_prompt_number == nbb_cell_id) {\n",
       "                        if (nbb_cells[i].get_text() == nbb_unformatted_code) {\n",
       "                             nbb_cells[i].set_text(nbb_formatted_code);\n",
       "                        }\n",
       "                        break;\n",
       "                    }\n",
       "                }\n",
       "            }, 500);\n",
       "            "
      ],
      "text/plain": [
       "<IPython.core.display.Javascript object>"
      ]
     },
     "metadata": {},
     "output_type": "display_data"
    }
   ],
   "source": [
    "import tensorflow as tf\n",
    "from tensorflow.keras.optimizers import SGD\n",
    "from tensorflow.keras.utils import to_categorical\n",
    "from tensorflow.keras.models import Sequential\n",
    "from tensorflow.keras.layers import Conv2D, MaxPooling2D\n",
    "from tensorflow.keras.layers import (\n",
    "    Activation,\n",
    "    Dropout,\n",
    "    Flatten,\n",
    "    Dense,\n",
    "    BatchNormalization,\n",
    ")\n",
    "from tensorflow.keras import backend as K"
   ]
  },
  {
   "cell_type": "code",
   "execution_count": 17,
   "metadata": {},
   "outputs": [
    {
     "data": {
      "application/javascript": [
       "\n",
       "            setTimeout(function() {\n",
       "                var nbb_cell_id = 17;\n",
       "                var nbb_unformatted_code = \"final_df = pd.read_csv(\\\"./cleaned_data.csv\\\")\\n\\n# Converting object data to numeric data in group column\\nto_num = {\\n    \\\"M22-\\\": 0,\\n    \\\"M23-26\\\": 1,\\n    \\\"M27-28\\\": 2,\\n    \\\"M29-31\\\": 3,\\n    \\\"M32-38\\\": 4,\\n    \\\"M39+\\\": 5,\\n    \\\"F23-\\\": 6,\\n    \\\"F24-26\\\": 7,\\n    \\\"F27-28\\\": 8,\\n    \\\"F29-32\\\": 9,\\n    \\\"F33-42\\\": 10,\\n    \\\"F43+\\\": 11,\\n}\\n\\n# Created new column for numeric group, can now drop old group column\\nfinal_df[\\\"num_group\\\"] = final_df[\\\"group\\\"].map(to_num)\\nfinal_df = final_df.drop(columns=[\\\"group\\\"])\\nfinal_df.head()\\n\\nX = final_df.drop(columns=[\\\"num_group\\\"])\\ny = final_df[\\\"num_group\\\"]\\n\\nX_train, X_test, y_train, y_test = train_test_split(\\n    X, y, test_size=0.20, random_state=13, stratify=y\\n)\";\n",
       "                var nbb_formatted_code = \"final_df = pd.read_csv(\\\"./cleaned_data.csv\\\")\\n\\n# Converting object data to numeric data in group column\\nto_num = {\\n    \\\"M22-\\\": 0,\\n    \\\"M23-26\\\": 1,\\n    \\\"M27-28\\\": 2,\\n    \\\"M29-31\\\": 3,\\n    \\\"M32-38\\\": 4,\\n    \\\"M39+\\\": 5,\\n    \\\"F23-\\\": 6,\\n    \\\"F24-26\\\": 7,\\n    \\\"F27-28\\\": 8,\\n    \\\"F29-32\\\": 9,\\n    \\\"F33-42\\\": 10,\\n    \\\"F43+\\\": 11,\\n}\\n\\n# Created new column for numeric group, can now drop old group column\\nfinal_df[\\\"num_group\\\"] = final_df[\\\"group\\\"].map(to_num)\\nfinal_df = final_df.drop(columns=[\\\"group\\\"])\\nfinal_df.head()\\n\\nX = final_df.drop(columns=[\\\"num_group\\\"])\\ny = final_df[\\\"num_group\\\"]\\n\\nX_train, X_test, y_train, y_test = train_test_split(\\n    X, y, test_size=0.20, random_state=13, stratify=y\\n)\";\n",
       "                var nbb_cells = Jupyter.notebook.get_cells();\n",
       "                for (var i = 0; i < nbb_cells.length; ++i) {\n",
       "                    if (nbb_cells[i].input_prompt_number == nbb_cell_id) {\n",
       "                        if (nbb_cells[i].get_text() == nbb_unformatted_code) {\n",
       "                             nbb_cells[i].set_text(nbb_formatted_code);\n",
       "                        }\n",
       "                        break;\n",
       "                    }\n",
       "                }\n",
       "            }, 500);\n",
       "            "
      ],
      "text/plain": [
       "<IPython.core.display.Javascript object>"
      ]
     },
     "metadata": {},
     "output_type": "display_data"
    }
   ],
   "source": [
    "final_df = pd.read_csv(\"./cleaned_data.csv\")\n",
    "\n",
    "# Converting object data to numeric data in group column\n",
    "to_num = {\n",
    "    \"M22-\": 0,\n",
    "    \"M23-26\": 1,\n",
    "    \"M27-28\": 2,\n",
    "    \"M29-31\": 3,\n",
    "    \"M32-38\": 4,\n",
    "    \"M39+\": 5,\n",
    "    \"F23-\": 6,\n",
    "    \"F24-26\": 7,\n",
    "    \"F27-28\": 8,\n",
    "    \"F29-32\": 9,\n",
    "    \"F33-42\": 10,\n",
    "    \"F43+\": 11,\n",
    "}\n",
    "\n",
    "# Created new column for numeric group, can now drop old group column\n",
    "final_df[\"num_group\"] = final_df[\"group\"].map(to_num)\n",
    "final_df = final_df.drop(columns=[\"group\"])\n",
    "final_df.head()\n",
    "\n",
    "X = final_df.drop(columns=[\"num_group\"])\n",
    "y = final_df[\"num_group\"]\n",
    "\n",
    "X_train, X_test, y_train, y_test = train_test_split(\n",
    "    X, y, test_size=0.20, random_state=13, stratify=y\n",
    ")"
   ]
  },
  {
   "cell_type": "code",
   "execution_count": 18,
   "metadata": {},
   "outputs": [
    {
     "data": {
      "application/javascript": [
       "\n",
       "            setTimeout(function() {\n",
       "                var nbb_cell_id = 18;\n",
       "                var nbb_unformatted_code = \"# Output_dim = 12 because there are 12 different age/gender groups\\noutput_dim = 12\\n\\nX_train_np = X_train.to_numpy()\\nX_test_np = X_test.to_numpy()\\ny_train = to_categorical(y_train, output_dim)\\ny_test = to_categorical(y_test, output_dim)\";\n",
       "                var nbb_formatted_code = \"# Output_dim = 12 because there are 12 different age/gender groups\\noutput_dim = 12\\n\\nX_train_np = X_train.to_numpy()\\nX_test_np = X_test.to_numpy()\\ny_train = to_categorical(y_train, output_dim)\\ny_test = to_categorical(y_test, output_dim)\";\n",
       "                var nbb_cells = Jupyter.notebook.get_cells();\n",
       "                for (var i = 0; i < nbb_cells.length; ++i) {\n",
       "                    if (nbb_cells[i].input_prompt_number == nbb_cell_id) {\n",
       "                        if (nbb_cells[i].get_text() == nbb_unformatted_code) {\n",
       "                             nbb_cells[i].set_text(nbb_formatted_code);\n",
       "                        }\n",
       "                        break;\n",
       "                    }\n",
       "                }\n",
       "            }, 500);\n",
       "            "
      ],
      "text/plain": [
       "<IPython.core.display.Javascript object>"
      ]
     },
     "metadata": {},
     "output_type": "display_data"
    }
   ],
   "source": [
    "# Output_dim = 12 because there are 12 different age/gender groups\n",
    "output_dim = 12\n",
    "\n",
    "X_train_np = X_train.to_numpy()\n",
    "X_test_np = X_test.to_numpy()\n",
    "y_train = to_categorical(y_train, output_dim)\n",
    "y_test = to_categorical(y_test, output_dim)"
   ]
  },
  {
   "cell_type": "code",
   "execution_count": 19,
   "metadata": {},
   "outputs": [
    {
     "name": "stdout",
     "output_type": "stream",
     "text": [
      "Epoch 1/20\n",
      "2725/2725 [==============================] - 3s 1ms/step - loss: 9882664987262976.0000 - accuracy: 0.1148\n",
      "Epoch 2/20\n",
      "2725/2725 [==============================] - 3s 1ms/step - loss: 1862031531573248.0000 - accuracy: 0.1461\n",
      "Epoch 3/20\n",
      "2725/2725 [==============================] - 3s 1ms/step - loss: 2.3092 - accuracy: 0.1857\n",
      "Epoch 4/20\n",
      "2725/2725 [==============================] - 3s 1ms/step - loss: 2.3080 - accuracy: 0.1857\n",
      "Epoch 5/20\n",
      "2725/2725 [==============================] - 3s 1ms/step - loss: 2.3080 - accuracy: 0.1857\n",
      "Epoch 6/20\n",
      "2725/2725 [==============================] - 3s 1ms/step - loss: 2.3080 - accuracy: 0.1857\n",
      "Epoch 7/20\n",
      "2725/2725 [==============================] - 3s 1ms/step - loss: 2.3080 - accuracy: 0.1857\n",
      "Epoch 8/20\n",
      "2725/2725 [==============================] - 3s 1ms/step - loss: 2.3080 - accuracy: 0.1857\n",
      "Epoch 9/20\n",
      "2725/2725 [==============================] - 3s 1ms/step - loss: 2.3080 - accuracy: 0.1857\n",
      "Epoch 10/20\n",
      "2725/2725 [==============================] - 3s 1ms/step - loss: 2.3080 - accuracy: 0.1857\n",
      "Epoch 11/20\n",
      "2725/2725 [==============================] - 3s 1ms/step - loss: 2.3080 - accuracy: 0.1857\n",
      "Epoch 12/20\n",
      "2725/2725 [==============================] - 3s 1ms/step - loss: 2.3080 - accuracy: 0.1857\n",
      "Epoch 13/20\n",
      "2725/2725 [==============================] - 3s 1ms/step - loss: 2.3080 - accuracy: 0.1857\n",
      "Epoch 14/20\n",
      "2725/2725 [==============================] - 3s 1ms/step - loss: 2.3080 - accuracy: 0.1857\n",
      "Epoch 15/20\n",
      "2725/2725 [==============================] - 3s 1ms/step - loss: 2.3080 - accuracy: 0.1857\n",
      "Epoch 16/20\n",
      "2725/2725 [==============================] - 3s 1ms/step - loss: 2.3080 - accuracy: 0.1857\n",
      "Epoch 17/20\n",
      "2725/2725 [==============================] - 3s 1ms/step - loss: 2.3080 - accuracy: 0.1857\n",
      "Epoch 18/20\n",
      "2725/2725 [==============================] - 3s 1ms/step - loss: 2.3080 - accuracy: 0.1857\n",
      "Epoch 19/20\n",
      "2725/2725 [==============================] - 3s 1ms/step - loss: 2.3080 - accuracy: 0.1857\n",
      "Epoch 20/20\n",
      "2725/2725 [==============================] - 3s 1ms/step - loss: 2.3080 - accuracy: 0.1857\n"
     ]
    },
    {
     "data": {
      "text/plain": [
       "<tensorflow.python.keras.callbacks.History at 0x27a2f0e67c8>"
      ]
     },
     "execution_count": 19,
     "metadata": {},
     "output_type": "execute_result"
    },
    {
     "data": {
      "application/javascript": [
       "\n",
       "            setTimeout(function() {\n",
       "                var nbb_cell_id = 19;\n",
       "                var nbb_unformatted_code = \"model = Sequential()\\nmodel.add(Dense(128, input_dim=X_train_np.shape[1], activation=\\\"relu\\\"))\\nmodel.add(Dense(64, activation=\\\"relu\\\"))\\nmodel.add(Dense(12, activation=\\\"softmax\\\"))\\n\\nmodel.compile(loss=\\\"categorical_crossentropy\\\", optimizer=\\\"adam\\\", metrics=[\\\"accuracy\\\"])\\n\\nmodel.fit(X_train, y_train, batch_size=128, epochs=20, verbose=1)\";\n",
       "                var nbb_formatted_code = \"model = Sequential()\\nmodel.add(Dense(128, input_dim=X_train_np.shape[1], activation=\\\"relu\\\"))\\nmodel.add(Dense(64, activation=\\\"relu\\\"))\\nmodel.add(Dense(12, activation=\\\"softmax\\\"))\\n\\nmodel.compile(loss=\\\"categorical_crossentropy\\\", optimizer=\\\"adam\\\", metrics=[\\\"accuracy\\\"])\\n\\nmodel.fit(X_train, y_train, batch_size=128, epochs=20, verbose=1)\";\n",
       "                var nbb_cells = Jupyter.notebook.get_cells();\n",
       "                for (var i = 0; i < nbb_cells.length; ++i) {\n",
       "                    if (nbb_cells[i].input_prompt_number == nbb_cell_id) {\n",
       "                        if (nbb_cells[i].get_text() == nbb_unformatted_code) {\n",
       "                             nbb_cells[i].set_text(nbb_formatted_code);\n",
       "                        }\n",
       "                        break;\n",
       "                    }\n",
       "                }\n",
       "            }, 500);\n",
       "            "
      ],
      "text/plain": [
       "<IPython.core.display.Javascript object>"
      ]
     },
     "metadata": {},
     "output_type": "display_data"
    }
   ],
   "source": [
    "model = Sequential()\n",
    "model.add(Dense(128, input_dim=X_train_np.shape[1], activation=\"relu\"))\n",
    "model.add(Dense(64, activation=\"relu\"))\n",
    "model.add(Dense(12, activation=\"softmax\"))\n",
    "\n",
    "model.compile(loss=\"categorical_crossentropy\", optimizer=\"adam\", metrics=[\"accuracy\"])\n",
    "\n",
    "model.fit(X_train, y_train, batch_size=128, epochs=20, verbose=1)"
   ]
  },
  {
   "cell_type": "code",
   "execution_count": 20,
   "metadata": {},
   "outputs": [
    {
     "name": "stdout",
     "output_type": "stream",
     "text": [
      "Test accuracy: 0.18568086624145508\n"
     ]
    },
    {
     "data": {
      "application/javascript": [
       "\n",
       "            setTimeout(function() {\n",
       "                var nbb_cell_id = 20;\n",
       "                var nbb_unformatted_code = \"score = model.evaluate(X_test, y_test, verbose=0)\\nprint(\\\"Test accuracy:\\\", score[1])\";\n",
       "                var nbb_formatted_code = \"score = model.evaluate(X_test, y_test, verbose=0)\\nprint(\\\"Test accuracy:\\\", score[1])\";\n",
       "                var nbb_cells = Jupyter.notebook.get_cells();\n",
       "                for (var i = 0; i < nbb_cells.length; ++i) {\n",
       "                    if (nbb_cells[i].input_prompt_number == nbb_cell_id) {\n",
       "                        if (nbb_cells[i].get_text() == nbb_unformatted_code) {\n",
       "                             nbb_cells[i].set_text(nbb_formatted_code);\n",
       "                        }\n",
       "                        break;\n",
       "                    }\n",
       "                }\n",
       "            }, 500);\n",
       "            "
      ],
      "text/plain": [
       "<IPython.core.display.Javascript object>"
      ]
     },
     "metadata": {},
     "output_type": "display_data"
    }
   ],
   "source": [
    "score = model.evaluate(X_test, y_test, verbose=0)\n",
    "print(\"Test accuracy:\", score[1])"
   ]
  },
  {
   "cell_type": "code",
   "execution_count": 21,
   "metadata": {},
   "outputs": [
    {
     "data": {
      "application/javascript": [
       "\n",
       "            setTimeout(function() {\n",
       "                var nbb_cell_id = 21;\n",
       "                var nbb_unformatted_code = \"y_pred = model.predict(X_test)\\ny_test_arg = tf.argmax(y_test, 1)\\ny_pred_arg = tf.argmax(y_pred, 1)\";\n",
       "                var nbb_formatted_code = \"y_pred = model.predict(X_test)\\ny_test_arg = tf.argmax(y_test, 1)\\ny_pred_arg = tf.argmax(y_pred, 1)\";\n",
       "                var nbb_cells = Jupyter.notebook.get_cells();\n",
       "                for (var i = 0; i < nbb_cells.length; ++i) {\n",
       "                    if (nbb_cells[i].input_prompt_number == nbb_cell_id) {\n",
       "                        if (nbb_cells[i].get_text() == nbb_unformatted_code) {\n",
       "                             nbb_cells[i].set_text(nbb_formatted_code);\n",
       "                        }\n",
       "                        break;\n",
       "                    }\n",
       "                }\n",
       "            }, 500);\n",
       "            "
      ],
      "text/plain": [
       "<IPython.core.display.Javascript object>"
      ]
     },
     "metadata": {},
     "output_type": "display_data"
    }
   ],
   "source": [
    "y_pred = model.predict(X_test)\n",
    "y_test_arg = tf.argmax(y_test, 1)\n",
    "y_pred_arg = tf.argmax(y_pred, 1)"
   ]
  },
  {
   "cell_type": "code",
   "execution_count": 22,
   "metadata": {},
   "outputs": [
    {
     "name": "stdout",
     "output_type": "stream",
     "text": [
      "tf.Tensor(\n",
      "[[    0     0     0     0  5741     0     0     0     0     0     0     0]\n",
      " [    0     0     0     0 10080     0     0     0     0     0     0     0]\n",
      " [    0     0     0     0  6735     0     0     0     0     0     0     0]\n",
      " [    0     0     0     0 11084     0     0     0     0     0     0     0]\n",
      " [    0     0     0     0 16191     0     0     0     0     0     0     0]\n",
      " [    0     0     0     0 14392     0     0     0     0     0     0     0]\n",
      " [    0     0     0     0  2770     0     0     0     0     0     0     0]\n",
      " [    0     0     0     0  2562     0     0     0     0     0     0     0]\n",
      " [    0     0     0     0  2732     0     0     0     0     0     0     0]\n",
      " [    0     0     0     0  4170     0     0     0     0     0     0     0]\n",
      " [    0     0     0     0  6059     0     0     0     0     0     0     0]\n",
      " [    0     0     0     0  4682     0     0     0     0     0     0     0]], shape=(12, 12), dtype=int32)\n"
     ]
    },
    {
     "data": {
      "application/javascript": [
       "\n",
       "            setTimeout(function() {\n",
       "                var nbb_cell_id = 22;\n",
       "                var nbb_unformatted_code = \"res = tf.math.confusion_matrix(y_test_arg, y_pred_arg)\\nprint(res)\";\n",
       "                var nbb_formatted_code = \"res = tf.math.confusion_matrix(y_test_arg, y_pred_arg)\\nprint(res)\";\n",
       "                var nbb_cells = Jupyter.notebook.get_cells();\n",
       "                for (var i = 0; i < nbb_cells.length; ++i) {\n",
       "                    if (nbb_cells[i].input_prompt_number == nbb_cell_id) {\n",
       "                        if (nbb_cells[i].get_text() == nbb_unformatted_code) {\n",
       "                             nbb_cells[i].set_text(nbb_formatted_code);\n",
       "                        }\n",
       "                        break;\n",
       "                    }\n",
       "                }\n",
       "            }, 500);\n",
       "            "
      ],
      "text/plain": [
       "<IPython.core.display.Javascript object>"
      ]
     },
     "metadata": {},
     "output_type": "display_data"
    }
   ],
   "source": [
    "res = tf.math.confusion_matrix(y_test_arg, y_pred_arg)\n",
    "print(res)"
   ]
  }
 ],
 "metadata": {
  "kernelspec": {
   "display_name": "Python 3",
   "language": "python",
   "name": "python3"
  },
  "language_info": {
   "codemirror_mode": {
    "name": "ipython",
    "version": 3
   },
   "file_extension": ".py",
   "mimetype": "text/x-python",
   "name": "python",
   "nbconvert_exporter": "python",
   "pygments_lexer": "ipython3",
   "version": "3.7.6"
  }
 },
 "nbformat": 4,
 "nbformat_minor": 4
}
