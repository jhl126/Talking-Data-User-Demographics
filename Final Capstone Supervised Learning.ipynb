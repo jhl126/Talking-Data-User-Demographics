{
 "cells": [
  {
   "cell_type": "code",
   "execution_count": 1,
   "metadata": {},
   "outputs": [
    {
     "data": {
      "application/javascript": [
       "\n",
       "            setTimeout(function() {\n",
       "                var nbb_cell_id = 1;\n",
       "                var nbb_unformatted_code = \"%reload_ext nb_black\";\n",
       "                var nbb_formatted_code = \"%reload_ext nb_black\";\n",
       "                var nbb_cells = Jupyter.notebook.get_cells();\n",
       "                for (var i = 0; i < nbb_cells.length; ++i) {\n",
       "                    if (nbb_cells[i].input_prompt_number == nbb_cell_id) {\n",
       "                        if (nbb_cells[i].get_text() == nbb_unformatted_code) {\n",
       "                             nbb_cells[i].set_text(nbb_formatted_code);\n",
       "                        }\n",
       "                        break;\n",
       "                    }\n",
       "                }\n",
       "            }, 500);\n",
       "            "
      ],
      "text/plain": [
       "<IPython.core.display.Javascript object>"
      ]
     },
     "metadata": {},
     "output_type": "display_data"
    }
   ],
   "source": [
    "%reload_ext nb_black"
   ]
  },
  {
   "cell_type": "code",
   "execution_count": 2,
   "metadata": {},
   "outputs": [
    {
     "data": {
      "application/javascript": [
       "\n",
       "            setTimeout(function() {\n",
       "                var nbb_cell_id = 2;\n",
       "                var nbb_unformatted_code = \"# creating supervised learning imports\\n\\nimport pandas as pd\\n\\nfrom sklearn.model_selection import train_test_split, GridSearchCV\\nfrom sklearn.compose import ColumnTransformer\\nfrom sklearn.preprocessing import StandardScaler\\nfrom sklearn.pipeline import Pipeline\\n\\nfrom sklearn.neighbors import KNeighborsClassifier\\nfrom sklearn.ensemble import RandomForestClassifier\\nfrom sklearn.svm import SVC\\n\\nfrom sklearn.decomposition import PCA\\nfrom sklearn.feature_selection import SelectKBest\\n\\nfrom sklearn.metrics import (\\n    classification_report,\\n    confusion_matrix,\\n)\";\n",
       "                var nbb_formatted_code = \"# creating supervised learning imports\\n\\nimport pandas as pd\\n\\nfrom sklearn.model_selection import train_test_split, GridSearchCV\\nfrom sklearn.compose import ColumnTransformer\\nfrom sklearn.preprocessing import StandardScaler\\nfrom sklearn.pipeline import Pipeline\\n\\nfrom sklearn.neighbors import KNeighborsClassifier\\nfrom sklearn.ensemble import RandomForestClassifier\\nfrom sklearn.svm import SVC\\n\\nfrom sklearn.decomposition import PCA\\nfrom sklearn.feature_selection import SelectKBest\\n\\nfrom sklearn.metrics import (\\n    classification_report,\\n    confusion_matrix,\\n)\";\n",
       "                var nbb_cells = Jupyter.notebook.get_cells();\n",
       "                for (var i = 0; i < nbb_cells.length; ++i) {\n",
       "                    if (nbb_cells[i].input_prompt_number == nbb_cell_id) {\n",
       "                        if (nbb_cells[i].get_text() == nbb_unformatted_code) {\n",
       "                             nbb_cells[i].set_text(nbb_formatted_code);\n",
       "                        }\n",
       "                        break;\n",
       "                    }\n",
       "                }\n",
       "            }, 500);\n",
       "            "
      ],
      "text/plain": [
       "<IPython.core.display.Javascript object>"
      ]
     },
     "metadata": {},
     "output_type": "display_data"
    }
   ],
   "source": [
    "# creating supervised learning imports\n",
    "\n",
    "import pandas as pd\n",
    "\n",
    "from sklearn.model_selection import train_test_split, GridSearchCV\n",
    "from sklearn.compose import ColumnTransformer\n",
    "from sklearn.preprocessing import StandardScaler\n",
    "from sklearn.pipeline import Pipeline\n",
    "\n",
    "from sklearn.neighbors import KNeighborsClassifier\n",
    "from sklearn.ensemble import RandomForestClassifier\n",
    "from sklearn.svm import SVC\n",
    "\n",
    "from sklearn.decomposition import PCA\n",
    "from sklearn.feature_selection import SelectKBest\n",
    "\n",
    "from sklearn.metrics import (\n",
    "    classification_report,\n",
    "    confusion_matrix,\n",
    ")"
   ]
  },
  {
   "cell_type": "code",
   "execution_count": 3,
   "metadata": {},
   "outputs": [
    {
     "data": {
      "text/html": [
       "<div>\n",
       "<style scoped>\n",
       "    .dataframe tbody tr th:only-of-type {\n",
       "        vertical-align: middle;\n",
       "    }\n",
       "\n",
       "    .dataframe tbody tr th {\n",
       "        vertical-align: top;\n",
       "    }\n",
       "\n",
       "    .dataframe thead th {\n",
       "        text-align: right;\n",
       "    }\n",
       "</style>\n",
       "<table border=\"1\" class=\"dataframe\">\n",
       "  <thead>\n",
       "    <tr style=\"text-align: right;\">\n",
       "      <th></th>\n",
       "      <th>event_id</th>\n",
       "      <th>app_id</th>\n",
       "      <th>is_active</th>\n",
       "      <th>device_id</th>\n",
       "      <th>group</th>\n",
       "      <th>8</th>\n",
       "      <th>9</th>\n",
       "      <th>10</th>\n",
       "      <th>11</th>\n",
       "      <th>12</th>\n",
       "      <th>...</th>\n",
       "      <th>device_model_魅蓝</th>\n",
       "      <th>device_model_魅蓝2</th>\n",
       "      <th>device_model_魅蓝NOTE</th>\n",
       "      <th>device_model_魅蓝Note 2</th>\n",
       "      <th>device_model_魅蓝metal</th>\n",
       "      <th>device_model_麦芒3</th>\n",
       "      <th>device_model_麦芒3S</th>\n",
       "      <th>device_model_麦芒4</th>\n",
       "      <th>device_model_黄金斗士A8</th>\n",
       "      <th>device_model_黄金斗士Note8</th>\n",
       "    </tr>\n",
       "  </thead>\n",
       "  <tbody>\n",
       "    <tr>\n",
       "      <th>358014</th>\n",
       "      <td>671542</td>\n",
       "      <td>-6172775651801283024</td>\n",
       "      <td>0</td>\n",
       "      <td>-5591315370762637500</td>\n",
       "      <td>M22-</td>\n",
       "      <td>0</td>\n",
       "      <td>0</td>\n",
       "      <td>0</td>\n",
       "      <td>0</td>\n",
       "      <td>0</td>\n",
       "      <td>...</td>\n",
       "      <td>0</td>\n",
       "      <td>0</td>\n",
       "      <td>0</td>\n",
       "      <td>0</td>\n",
       "      <td>0</td>\n",
       "      <td>0</td>\n",
       "      <td>0</td>\n",
       "      <td>0</td>\n",
       "      <td>0</td>\n",
       "      <td>0</td>\n",
       "    </tr>\n",
       "    <tr>\n",
       "      <th>254503</th>\n",
       "      <td>273588</td>\n",
       "      <td>1883678791934985414</td>\n",
       "      <td>1</td>\n",
       "      <td>6414313316267266281</td>\n",
       "      <td>M23-26</td>\n",
       "      <td>0</td>\n",
       "      <td>0</td>\n",
       "      <td>0</td>\n",
       "      <td>0</td>\n",
       "      <td>0</td>\n",
       "      <td>...</td>\n",
       "      <td>0</td>\n",
       "      <td>0</td>\n",
       "      <td>0</td>\n",
       "      <td>0</td>\n",
       "      <td>0</td>\n",
       "      <td>0</td>\n",
       "      <td>0</td>\n",
       "      <td>0</td>\n",
       "      <td>0</td>\n",
       "      <td>0</td>\n",
       "    </tr>\n",
       "    <tr>\n",
       "      <th>91844</th>\n",
       "      <td>54515</td>\n",
       "      <td>-6590473556670600053</td>\n",
       "      <td>0</td>\n",
       "      <td>4189762977638537239</td>\n",
       "      <td>F29-32</td>\n",
       "      <td>0</td>\n",
       "      <td>0</td>\n",
       "      <td>0</td>\n",
       "      <td>0</td>\n",
       "      <td>0</td>\n",
       "      <td>...</td>\n",
       "      <td>0</td>\n",
       "      <td>0</td>\n",
       "      <td>0</td>\n",
       "      <td>0</td>\n",
       "      <td>0</td>\n",
       "      <td>0</td>\n",
       "      <td>0</td>\n",
       "      <td>0</td>\n",
       "      <td>0</td>\n",
       "      <td>0</td>\n",
       "    </tr>\n",
       "    <tr>\n",
       "      <th>411452</th>\n",
       "      <td>1438557</td>\n",
       "      <td>-2320783822570582843</td>\n",
       "      <td>0</td>\n",
       "      <td>8268943186752324161</td>\n",
       "      <td>M32-38</td>\n",
       "      <td>0</td>\n",
       "      <td>0</td>\n",
       "      <td>0</td>\n",
       "      <td>0</td>\n",
       "      <td>0</td>\n",
       "      <td>...</td>\n",
       "      <td>0</td>\n",
       "      <td>0</td>\n",
       "      <td>0</td>\n",
       "      <td>0</td>\n",
       "      <td>0</td>\n",
       "      <td>0</td>\n",
       "      <td>0</td>\n",
       "      <td>0</td>\n",
       "      <td>0</td>\n",
       "      <td>0</td>\n",
       "    </tr>\n",
       "    <tr>\n",
       "      <th>293071</th>\n",
       "      <td>375667</td>\n",
       "      <td>4373268368372483132</td>\n",
       "      <td>0</td>\n",
       "      <td>4917614238706511620</td>\n",
       "      <td>M29-31</td>\n",
       "      <td>0</td>\n",
       "      <td>0</td>\n",
       "      <td>0</td>\n",
       "      <td>0</td>\n",
       "      <td>0</td>\n",
       "      <td>...</td>\n",
       "      <td>0</td>\n",
       "      <td>0</td>\n",
       "      <td>0</td>\n",
       "      <td>0</td>\n",
       "      <td>0</td>\n",
       "      <td>0</td>\n",
       "      <td>0</td>\n",
       "      <td>0</td>\n",
       "      <td>0</td>\n",
       "      <td>0</td>\n",
       "    </tr>\n",
       "  </tbody>\n",
       "</table>\n",
       "<p>5 rows × 635 columns</p>\n",
       "</div>"
      ],
      "text/plain": [
       "        event_id               app_id  is_active            device_id   group  \\\n",
       "358014    671542 -6172775651801283024          0 -5591315370762637500    M22-   \n",
       "254503    273588  1883678791934985414          1  6414313316267266281  M23-26   \n",
       "91844      54515 -6590473556670600053          0  4189762977638537239  F29-32   \n",
       "411452   1438557 -2320783822570582843          0  8268943186752324161  M32-38   \n",
       "293071    375667  4373268368372483132          0  4917614238706511620  M29-31   \n",
       "\n",
       "        8  9  10  11  12  ...  device_model_魅蓝  device_model_魅蓝2  \\\n",
       "358014  0  0   0   0   0  ...                0                 0   \n",
       "254503  0  0   0   0   0  ...                0                 0   \n",
       "91844   0  0   0   0   0  ...                0                 0   \n",
       "411452  0  0   0   0   0  ...                0                 0   \n",
       "293071  0  0   0   0   0  ...                0                 0   \n",
       "\n",
       "        device_model_魅蓝NOTE  device_model_魅蓝Note 2  device_model_魅蓝metal  \\\n",
       "358014                    0                      0                     0   \n",
       "254503                    0                      0                     0   \n",
       "91844                     0                      0                     0   \n",
       "411452                    0                      0                     0   \n",
       "293071                    0                      0                     0   \n",
       "\n",
       "        device_model_麦芒3  device_model_麦芒3S  device_model_麦芒4  \\\n",
       "358014                 0                  0                 0   \n",
       "254503                 0                  0                 0   \n",
       "91844                  0                  0                 0   \n",
       "411452                 0                  0                 0   \n",
       "293071                 0                  0                 0   \n",
       "\n",
       "        device_model_黄金斗士A8  device_model_黄金斗士Note8  \n",
       "358014                    0                       0  \n",
       "254503                    0                       0  \n",
       "91844                     0                       0  \n",
       "411452                    0                       0  \n",
       "293071                    0                       0  \n",
       "\n",
       "[5 rows x 635 columns]"
      ]
     },
     "execution_count": 3,
     "metadata": {},
     "output_type": "execute_result"
    },
    {
     "data": {
      "application/javascript": [
       "\n",
       "            setTimeout(function() {\n",
       "                var nbb_cell_id = 3;\n",
       "                var nbb_unformatted_code = \"# Due to time constraints and such a large data set, I subsampled my data to work with a smaller set for preprocessing\\nfinal_df = pd.read_csv(\\\"./cleaned_data.csv\\\")\\nfinal_df = final_df.sample(100000, random_state=13)\\nfinal_df.head()\";\n",
       "                var nbb_formatted_code = \"# Due to time constraints and such a large data set, I subsampled my data to work with a smaller set for preprocessing\\nfinal_df = pd.read_csv(\\\"./cleaned_data.csv\\\")\\nfinal_df = final_df.sample(100000, random_state=13)\\nfinal_df.head()\";\n",
       "                var nbb_cells = Jupyter.notebook.get_cells();\n",
       "                for (var i = 0; i < nbb_cells.length; ++i) {\n",
       "                    if (nbb_cells[i].input_prompt_number == nbb_cell_id) {\n",
       "                        if (nbb_cells[i].get_text() == nbb_unformatted_code) {\n",
       "                             nbb_cells[i].set_text(nbb_formatted_code);\n",
       "                        }\n",
       "                        break;\n",
       "                    }\n",
       "                }\n",
       "            }, 500);\n",
       "            "
      ],
      "text/plain": [
       "<IPython.core.display.Javascript object>"
      ]
     },
     "metadata": {},
     "output_type": "display_data"
    }
   ],
   "source": [
    "# Due to time constraints and such a large data set, I subsampled my data to work with a smaller set for preprocessing\n",
    "final_df = pd.read_csv(\"./cleaned_data.csv\")\n",
    "final_df = final_df.sample(100000, random_state=13)\n",
    "final_df.head()"
   ]
  },
  {
   "cell_type": "markdown",
   "metadata": {},
   "source": [
    "# Additional EDA"
   ]
  },
  {
   "cell_type": "code",
   "execution_count": 4,
   "metadata": {},
   "outputs": [
    {
     "data": {
      "application/javascript": [
       "\n",
       "            setTimeout(function() {\n",
       "                var nbb_cell_id = 4;\n",
       "                var nbb_unformatted_code = \"# Do not think event_id, app_id are necessary\\nfinal_df = final_df.drop(columns=[\\\"app_id\\\", 'event_id'])\";\n",
       "                var nbb_formatted_code = \"# Do not think event_id, app_id are necessary\\nfinal_df = final_df.drop(columns=[\\\"app_id\\\", \\\"event_id\\\"])\";\n",
       "                var nbb_cells = Jupyter.notebook.get_cells();\n",
       "                for (var i = 0; i < nbb_cells.length; ++i) {\n",
       "                    if (nbb_cells[i].input_prompt_number == nbb_cell_id) {\n",
       "                        if (nbb_cells[i].get_text() == nbb_unformatted_code) {\n",
       "                             nbb_cells[i].set_text(nbb_formatted_code);\n",
       "                        }\n",
       "                        break;\n",
       "                    }\n",
       "                }\n",
       "            }, 500);\n",
       "            "
      ],
      "text/plain": [
       "<IPython.core.display.Javascript object>"
      ]
     },
     "metadata": {},
     "output_type": "display_data"
    }
   ],
   "source": [
    "# Do not think event_id, app_id are necessary\n",
    "final_df = final_df.drop(columns=[\"app_id\", \"event_id\"])"
   ]
  },
  {
   "cell_type": "code",
   "execution_count": 5,
   "metadata": {},
   "outputs": [
    {
     "data": {
      "text/plain": [
       "M32-38    18475\n",
       "M39+      16530\n",
       "M29-31    12766\n",
       "M23-26    11633\n",
       "M27-28     7644\n",
       "F33-42     7031\n",
       "M22-       6669\n",
       "F43+       5263\n",
       "F29-32     4755\n",
       "F27-28     3138\n",
       "F23-       3086\n",
       "F24-26     3010\n",
       "Name: group, dtype: int64"
      ]
     },
     "execution_count": 5,
     "metadata": {},
     "output_type": "execute_result"
    },
    {
     "data": {
      "application/javascript": [
       "\n",
       "            setTimeout(function() {\n",
       "                var nbb_cell_id = 5;\n",
       "                var nbb_unformatted_code = \"# Need to convert these values to numeric values\\n# Considering:\\n# M22- : 0\\n# M23-26 : 1\\n# M27-28 : 2\\n# M29-31 : 3\\n# M32-38 : 4\\n# M39+ : 5\\n# F23- : 6\\n# F24-26 : 7\\n# F27-28 : 8\\n# F29-32 : 9\\n# F33-42 : 10\\n# F43+ : 11\\nfinal_df[\\\"group\\\"].value_counts()\";\n",
       "                var nbb_formatted_code = \"# Need to convert these values to numeric values\\n# Considering:\\n# M22- : 0\\n# M23-26 : 1\\n# M27-28 : 2\\n# M29-31 : 3\\n# M32-38 : 4\\n# M39+ : 5\\n# F23- : 6\\n# F24-26 : 7\\n# F27-28 : 8\\n# F29-32 : 9\\n# F33-42 : 10\\n# F43+ : 11\\nfinal_df[\\\"group\\\"].value_counts()\";\n",
       "                var nbb_cells = Jupyter.notebook.get_cells();\n",
       "                for (var i = 0; i < nbb_cells.length; ++i) {\n",
       "                    if (nbb_cells[i].input_prompt_number == nbb_cell_id) {\n",
       "                        if (nbb_cells[i].get_text() == nbb_unformatted_code) {\n",
       "                             nbb_cells[i].set_text(nbb_formatted_code);\n",
       "                        }\n",
       "                        break;\n",
       "                    }\n",
       "                }\n",
       "            }, 500);\n",
       "            "
      ],
      "text/plain": [
       "<IPython.core.display.Javascript object>"
      ]
     },
     "metadata": {},
     "output_type": "display_data"
    }
   ],
   "source": [
    "# Need to convert these values to numeric values\n",
    "# Considering:\n",
    "# M22- : 0\n",
    "# M23-26 : 1\n",
    "# M27-28 : 2\n",
    "# M29-31 : 3\n",
    "# M32-38 : 4\n",
    "# M39+ : 5\n",
    "# F23- : 6\n",
    "# F24-26 : 7\n",
    "# F27-28 : 8\n",
    "# F29-32 : 9\n",
    "# F33-42 : 10\n",
    "# F43+ : 11\n",
    "final_df[\"group\"].value_counts()"
   ]
  },
  {
   "cell_type": "code",
   "execution_count": 6,
   "metadata": {
    "scrolled": true
   },
   "outputs": [
    {
     "data": {
      "text/html": [
       "<div>\n",
       "<style scoped>\n",
       "    .dataframe tbody tr th:only-of-type {\n",
       "        vertical-align: middle;\n",
       "    }\n",
       "\n",
       "    .dataframe tbody tr th {\n",
       "        vertical-align: top;\n",
       "    }\n",
       "\n",
       "    .dataframe thead th {\n",
       "        text-align: right;\n",
       "    }\n",
       "</style>\n",
       "<table border=\"1\" class=\"dataframe\">\n",
       "  <thead>\n",
       "    <tr style=\"text-align: right;\">\n",
       "      <th></th>\n",
       "      <th>is_active</th>\n",
       "      <th>device_id</th>\n",
       "      <th>8</th>\n",
       "      <th>9</th>\n",
       "      <th>10</th>\n",
       "      <th>11</th>\n",
       "      <th>12</th>\n",
       "      <th>13</th>\n",
       "      <th>16</th>\n",
       "      <th>17</th>\n",
       "      <th>...</th>\n",
       "      <th>device_model_魅蓝2</th>\n",
       "      <th>device_model_魅蓝NOTE</th>\n",
       "      <th>device_model_魅蓝Note 2</th>\n",
       "      <th>device_model_魅蓝metal</th>\n",
       "      <th>device_model_麦芒3</th>\n",
       "      <th>device_model_麦芒3S</th>\n",
       "      <th>device_model_麦芒4</th>\n",
       "      <th>device_model_黄金斗士A8</th>\n",
       "      <th>device_model_黄金斗士Note8</th>\n",
       "      <th>num_group</th>\n",
       "    </tr>\n",
       "  </thead>\n",
       "  <tbody>\n",
       "    <tr>\n",
       "      <th>358014</th>\n",
       "      <td>0</td>\n",
       "      <td>-5591315370762637500</td>\n",
       "      <td>0</td>\n",
       "      <td>0</td>\n",
       "      <td>0</td>\n",
       "      <td>0</td>\n",
       "      <td>0</td>\n",
       "      <td>0</td>\n",
       "      <td>0</td>\n",
       "      <td>0</td>\n",
       "      <td>...</td>\n",
       "      <td>0</td>\n",
       "      <td>0</td>\n",
       "      <td>0</td>\n",
       "      <td>0</td>\n",
       "      <td>0</td>\n",
       "      <td>0</td>\n",
       "      <td>0</td>\n",
       "      <td>0</td>\n",
       "      <td>0</td>\n",
       "      <td>0</td>\n",
       "    </tr>\n",
       "    <tr>\n",
       "      <th>254503</th>\n",
       "      <td>1</td>\n",
       "      <td>6414313316267266281</td>\n",
       "      <td>0</td>\n",
       "      <td>0</td>\n",
       "      <td>0</td>\n",
       "      <td>0</td>\n",
       "      <td>0</td>\n",
       "      <td>0</td>\n",
       "      <td>0</td>\n",
       "      <td>0</td>\n",
       "      <td>...</td>\n",
       "      <td>0</td>\n",
       "      <td>0</td>\n",
       "      <td>0</td>\n",
       "      <td>0</td>\n",
       "      <td>0</td>\n",
       "      <td>0</td>\n",
       "      <td>0</td>\n",
       "      <td>0</td>\n",
       "      <td>0</td>\n",
       "      <td>1</td>\n",
       "    </tr>\n",
       "    <tr>\n",
       "      <th>91844</th>\n",
       "      <td>0</td>\n",
       "      <td>4189762977638537239</td>\n",
       "      <td>0</td>\n",
       "      <td>0</td>\n",
       "      <td>0</td>\n",
       "      <td>0</td>\n",
       "      <td>0</td>\n",
       "      <td>0</td>\n",
       "      <td>0</td>\n",
       "      <td>0</td>\n",
       "      <td>...</td>\n",
       "      <td>0</td>\n",
       "      <td>0</td>\n",
       "      <td>0</td>\n",
       "      <td>0</td>\n",
       "      <td>0</td>\n",
       "      <td>0</td>\n",
       "      <td>0</td>\n",
       "      <td>0</td>\n",
       "      <td>0</td>\n",
       "      <td>9</td>\n",
       "    </tr>\n",
       "    <tr>\n",
       "      <th>411452</th>\n",
       "      <td>0</td>\n",
       "      <td>8268943186752324161</td>\n",
       "      <td>0</td>\n",
       "      <td>0</td>\n",
       "      <td>0</td>\n",
       "      <td>0</td>\n",
       "      <td>0</td>\n",
       "      <td>0</td>\n",
       "      <td>0</td>\n",
       "      <td>0</td>\n",
       "      <td>...</td>\n",
       "      <td>0</td>\n",
       "      <td>0</td>\n",
       "      <td>0</td>\n",
       "      <td>0</td>\n",
       "      <td>0</td>\n",
       "      <td>0</td>\n",
       "      <td>0</td>\n",
       "      <td>0</td>\n",
       "      <td>0</td>\n",
       "      <td>4</td>\n",
       "    </tr>\n",
       "    <tr>\n",
       "      <th>293071</th>\n",
       "      <td>0</td>\n",
       "      <td>4917614238706511620</td>\n",
       "      <td>0</td>\n",
       "      <td>0</td>\n",
       "      <td>0</td>\n",
       "      <td>0</td>\n",
       "      <td>0</td>\n",
       "      <td>0</td>\n",
       "      <td>0</td>\n",
       "      <td>0</td>\n",
       "      <td>...</td>\n",
       "      <td>0</td>\n",
       "      <td>0</td>\n",
       "      <td>0</td>\n",
       "      <td>0</td>\n",
       "      <td>0</td>\n",
       "      <td>0</td>\n",
       "      <td>0</td>\n",
       "      <td>0</td>\n",
       "      <td>0</td>\n",
       "      <td>3</td>\n",
       "    </tr>\n",
       "  </tbody>\n",
       "</table>\n",
       "<p>5 rows × 633 columns</p>\n",
       "</div>"
      ],
      "text/plain": [
       "        is_active            device_id  8  9  10  11  12  13  16  17  ...  \\\n",
       "358014          0 -5591315370762637500  0  0   0   0   0   0   0   0  ...   \n",
       "254503          1  6414313316267266281  0  0   0   0   0   0   0   0  ...   \n",
       "91844           0  4189762977638537239  0  0   0   0   0   0   0   0  ...   \n",
       "411452          0  8268943186752324161  0  0   0   0   0   0   0   0  ...   \n",
       "293071          0  4917614238706511620  0  0   0   0   0   0   0   0  ...   \n",
       "\n",
       "        device_model_魅蓝2  device_model_魅蓝NOTE  device_model_魅蓝Note 2  \\\n",
       "358014                 0                    0                      0   \n",
       "254503                 0                    0                      0   \n",
       "91844                  0                    0                      0   \n",
       "411452                 0                    0                      0   \n",
       "293071                 0                    0                      0   \n",
       "\n",
       "        device_model_魅蓝metal  device_model_麦芒3  device_model_麦芒3S  \\\n",
       "358014                     0                 0                  0   \n",
       "254503                     0                 0                  0   \n",
       "91844                      0                 0                  0   \n",
       "411452                     0                 0                  0   \n",
       "293071                     0                 0                  0   \n",
       "\n",
       "        device_model_麦芒4  device_model_黄金斗士A8  device_model_黄金斗士Note8  \\\n",
       "358014                 0                    0                       0   \n",
       "254503                 0                    0                       0   \n",
       "91844                  0                    0                       0   \n",
       "411452                 0                    0                       0   \n",
       "293071                 0                    0                       0   \n",
       "\n",
       "        num_group  \n",
       "358014          0  \n",
       "254503          1  \n",
       "91844           9  \n",
       "411452          4  \n",
       "293071          3  \n",
       "\n",
       "[5 rows x 633 columns]"
      ]
     },
     "execution_count": 6,
     "metadata": {},
     "output_type": "execute_result"
    },
    {
     "data": {
      "application/javascript": [
       "\n",
       "            setTimeout(function() {\n",
       "                var nbb_cell_id = 6;\n",
       "                var nbb_unformatted_code = \"# Converting object data to numeric data in group column\\nto_num = {\\n    \\\"M22-\\\": 0,\\n    \\\"M23-26\\\": 1,\\n    \\\"M27-28\\\": 2,\\n    \\\"M29-31\\\": 3,\\n    \\\"M32-38\\\": 4,\\n    \\\"M39+\\\": 5,\\n    \\\"F23-\\\": 6,\\n    \\\"F24-26\\\": 7,\\n    \\\"F27-28\\\": 8,\\n    \\\"F29-32\\\": 9,\\n    \\\"F33-42\\\": 10,\\n    \\\"F43+\\\": 11,\\n}\\n\\n# Created new column for numeric group, can now drop old group column\\nfinal_df[\\\"num_group\\\"] = final_df[\\\"group\\\"].map(to_num)\\nfinal_df = final_df.drop(columns=[\\\"group\\\"])\\nfinal_df.head()\";\n",
       "                var nbb_formatted_code = \"# Converting object data to numeric data in group column\\nto_num = {\\n    \\\"M22-\\\": 0,\\n    \\\"M23-26\\\": 1,\\n    \\\"M27-28\\\": 2,\\n    \\\"M29-31\\\": 3,\\n    \\\"M32-38\\\": 4,\\n    \\\"M39+\\\": 5,\\n    \\\"F23-\\\": 6,\\n    \\\"F24-26\\\": 7,\\n    \\\"F27-28\\\": 8,\\n    \\\"F29-32\\\": 9,\\n    \\\"F33-42\\\": 10,\\n    \\\"F43+\\\": 11,\\n}\\n\\n# Created new column for numeric group, can now drop old group column\\nfinal_df[\\\"num_group\\\"] = final_df[\\\"group\\\"].map(to_num)\\nfinal_df = final_df.drop(columns=[\\\"group\\\"])\\nfinal_df.head()\";\n",
       "                var nbb_cells = Jupyter.notebook.get_cells();\n",
       "                for (var i = 0; i < nbb_cells.length; ++i) {\n",
       "                    if (nbb_cells[i].input_prompt_number == nbb_cell_id) {\n",
       "                        if (nbb_cells[i].get_text() == nbb_unformatted_code) {\n",
       "                             nbb_cells[i].set_text(nbb_formatted_code);\n",
       "                        }\n",
       "                        break;\n",
       "                    }\n",
       "                }\n",
       "            }, 500);\n",
       "            "
      ],
      "text/plain": [
       "<IPython.core.display.Javascript object>"
      ]
     },
     "metadata": {},
     "output_type": "display_data"
    }
   ],
   "source": [
    "# Converting object data to numeric data in group column\n",
    "to_num = {\n",
    "    \"M22-\": 0,\n",
    "    \"M23-26\": 1,\n",
    "    \"M27-28\": 2,\n",
    "    \"M29-31\": 3,\n",
    "    \"M32-38\": 4,\n",
    "    \"M39+\": 5,\n",
    "    \"F23-\": 6,\n",
    "    \"F24-26\": 7,\n",
    "    \"F27-28\": 8,\n",
    "    \"F29-32\": 9,\n",
    "    \"F33-42\": 10,\n",
    "    \"F43+\": 11,\n",
    "}\n",
    "\n",
    "# Created new column for numeric group, can now drop old group column\n",
    "final_df[\"num_group\"] = final_df[\"group\"].map(to_num)\n",
    "final_df = final_df.drop(columns=[\"group\"])\n",
    "final_df.head()"
   ]
  },
  {
   "cell_type": "code",
   "execution_count": 7,
   "metadata": {},
   "outputs": [
    {
     "data": {
      "application/javascript": [
       "\n",
       "            setTimeout(function() {\n",
       "                var nbb_cell_id = 7;\n",
       "                var nbb_unformatted_code = \"num_cols = [\\\"device_id\\\"]\";\n",
       "                var nbb_formatted_code = \"num_cols = [\\\"device_id\\\"]\";\n",
       "                var nbb_cells = Jupyter.notebook.get_cells();\n",
       "                for (var i = 0; i < nbb_cells.length; ++i) {\n",
       "                    if (nbb_cells[i].input_prompt_number == nbb_cell_id) {\n",
       "                        if (nbb_cells[i].get_text() == nbb_unformatted_code) {\n",
       "                             nbb_cells[i].set_text(nbb_formatted_code);\n",
       "                        }\n",
       "                        break;\n",
       "                    }\n",
       "                }\n",
       "            }, 500);\n",
       "            "
      ],
      "text/plain": [
       "<IPython.core.display.Javascript object>"
      ]
     },
     "metadata": {},
     "output_type": "display_data"
    }
   ],
   "source": [
    "num_cols = [\"device_id\"]"
   ]
  },
  {
   "cell_type": "code",
   "execution_count": 8,
   "metadata": {},
   "outputs": [
    {
     "data": {
      "application/javascript": [
       "\n",
       "            setTimeout(function() {\n",
       "                var nbb_cell_id = 8;\n",
       "                var nbb_unformatted_code = \"# splitting up the data and choosing num_group as target variable\\nX = final_df.drop(columns=[\\\"num_group\\\"])\\ny = final_df[\\\"num_group\\\"]\\n\\nX_train, X_test, y_train, y_test = train_test_split(\\n    X, y, test_size=0.20, random_state=13, stratify=y\\n)\";\n",
       "                var nbb_formatted_code = \"# splitting up the data and choosing num_group as target variable\\nX = final_df.drop(columns=[\\\"num_group\\\"])\\ny = final_df[\\\"num_group\\\"]\\n\\nX_train, X_test, y_train, y_test = train_test_split(\\n    X, y, test_size=0.20, random_state=13, stratify=y\\n)\";\n",
       "                var nbb_cells = Jupyter.notebook.get_cells();\n",
       "                for (var i = 0; i < nbb_cells.length; ++i) {\n",
       "                    if (nbb_cells[i].input_prompt_number == nbb_cell_id) {\n",
       "                        if (nbb_cells[i].get_text() == nbb_unformatted_code) {\n",
       "                             nbb_cells[i].set_text(nbb_formatted_code);\n",
       "                        }\n",
       "                        break;\n",
       "                    }\n",
       "                }\n",
       "            }, 500);\n",
       "            "
      ],
      "text/plain": [
       "<IPython.core.display.Javascript object>"
      ]
     },
     "metadata": {},
     "output_type": "display_data"
    }
   ],
   "source": [
    "# splitting up the data and choosing num_group as target variable\n",
    "X = final_df.drop(columns=[\"num_group\"])\n",
    "y = final_df[\"num_group\"]\n",
    "\n",
    "X_train, X_test, y_train, y_test = train_test_split(\n",
    "    X, y, test_size=0.20, random_state=13, stratify=y\n",
    ")"
   ]
  },
  {
   "cell_type": "code",
   "execution_count": 9,
   "metadata": {},
   "outputs": [
    {
     "data": {
      "application/javascript": [
       "\n",
       "            setTimeout(function() {\n",
       "                var nbb_cell_id = 9;\n",
       "                var nbb_unformatted_code = \"# set up preprocessing for pipeline (used to scale features)\\npreprocessing = ColumnTransformer(\\n    [(\\\"scale\\\", StandardScaler(), num_cols),], remainder=\\\"passthrough\\\",\\n)\";\n",
       "                var nbb_formatted_code = \"# set up preprocessing for pipeline (used to scale features)\\npreprocessing = ColumnTransformer(\\n    [(\\\"scale\\\", StandardScaler(), num_cols),], remainder=\\\"passthrough\\\",\\n)\";\n",
       "                var nbb_cells = Jupyter.notebook.get_cells();\n",
       "                for (var i = 0; i < nbb_cells.length; ++i) {\n",
       "                    if (nbb_cells[i].input_prompt_number == nbb_cell_id) {\n",
       "                        if (nbb_cells[i].get_text() == nbb_unformatted_code) {\n",
       "                             nbb_cells[i].set_text(nbb_formatted_code);\n",
       "                        }\n",
       "                        break;\n",
       "                    }\n",
       "                }\n",
       "            }, 500);\n",
       "            "
      ],
      "text/plain": [
       "<IPython.core.display.Javascript object>"
      ]
     },
     "metadata": {},
     "output_type": "display_data"
    }
   ],
   "source": [
    "# set up preprocessing for pipeline (used to scale features)\n",
    "preprocessing = ColumnTransformer(\n",
    "    [(\"scale\", StandardScaler(), num_cols),], remainder=\"passthrough\",\n",
    ")"
   ]
  },
  {
   "cell_type": "markdown",
   "metadata": {},
   "source": [
    "# Original Models"
   ]
  },
  {
   "cell_type": "markdown",
   "metadata": {},
   "source": [
    "### KNearestNeighbor Classifier"
   ]
  },
  {
   "cell_type": "code",
   "execution_count": 10,
   "metadata": {},
   "outputs": [
    {
     "name": "stdout",
     "output_type": "stream",
     "text": [
      "[Pipeline] ..... (step 1 of 2) Processing preprocessing, total=   0.2s\n",
      "[Pipeline] ............... (step 2 of 2) Processing knn, total=  22.3s\n"
     ]
    },
    {
     "data": {
      "text/plain": [
       "Pipeline(steps=[('preprocessing',\n",
       "                 ColumnTransformer(remainder='passthrough',\n",
       "                                   transformers=[('scale', StandardScaler(),\n",
       "                                                  ['device_id'])])),\n",
       "                ('knn', KNeighborsClassifier())],\n",
       "         verbose=True)"
      ]
     },
     "execution_count": 10,
     "metadata": {},
     "output_type": "execute_result"
    },
    {
     "data": {
      "application/javascript": [
       "\n",
       "            setTimeout(function() {\n",
       "                var nbb_cell_id = 10;\n",
       "                var nbb_unformatted_code = \"pipeline = Pipeline(\\n    [(\\\"preprocessing\\\", preprocessing), (\\\"knn\\\", KNeighborsClassifier())], verbose=True\\n)\\n\\npipeline.fit(X_train, y_train)\";\n",
       "                var nbb_formatted_code = \"pipeline = Pipeline(\\n    [(\\\"preprocessing\\\", preprocessing), (\\\"knn\\\", KNeighborsClassifier())], verbose=True\\n)\\n\\npipeline.fit(X_train, y_train)\";\n",
       "                var nbb_cells = Jupyter.notebook.get_cells();\n",
       "                for (var i = 0; i < nbb_cells.length; ++i) {\n",
       "                    if (nbb_cells[i].input_prompt_number == nbb_cell_id) {\n",
       "                        if (nbb_cells[i].get_text() == nbb_unformatted_code) {\n",
       "                             nbb_cells[i].set_text(nbb_formatted_code);\n",
       "                        }\n",
       "                        break;\n",
       "                    }\n",
       "                }\n",
       "            }, 500);\n",
       "            "
      ],
      "text/plain": [
       "<IPython.core.display.Javascript object>"
      ]
     },
     "metadata": {},
     "output_type": "display_data"
    }
   ],
   "source": [
    "pipeline = Pipeline(\n",
    "    [(\"preprocessing\", preprocessing), (\"knn\", KNeighborsClassifier())], verbose=True\n",
    ")\n",
    "\n",
    "pipeline.fit(X_train, y_train)"
   ]
  },
  {
   "cell_type": "code",
   "execution_count": 11,
   "metadata": {},
   "outputs": [
    {
     "name": "stdout",
     "output_type": "stream",
     "text": [
      "Fitting 2 folds for each of 9 candidates, totalling 18 fits\n"
     ]
    },
    {
     "name": "stderr",
     "output_type": "stream",
     "text": [
      "[Parallel(n_jobs=-1)]: Using backend LokyBackend with 12 concurrent workers.\n",
      "[Parallel(n_jobs=-1)]: Done   5 out of  18 | elapsed: 50.9min remaining: 132.4min\n",
      "[Parallel(n_jobs=-1)]: Done  15 out of  18 | elapsed: 80.3min remaining: 16.1min\n",
      "[Parallel(n_jobs=-1)]: Done  18 out of  18 | elapsed: 81.1min finished\n"
     ]
    },
    {
     "name": "stdout",
     "output_type": "stream",
     "text": [
      "[Pipeline] ..... (step 1 of 2) Processing preprocessing, total=   0.3s\n",
      "[Pipeline] ............... (step 2 of 2) Processing knn, total=  22.4s\n"
     ]
    },
    {
     "data": {
      "text/plain": [
       "GridSearchCV(cv=2,\n",
       "             estimator=Pipeline(steps=[('preprocessing',\n",
       "                                        ColumnTransformer(remainder='passthrough',\n",
       "                                                          transformers=[('scale',\n",
       "                                                                         StandardScaler(),\n",
       "                                                                         ['device_id'])])),\n",
       "                                       ('knn', KNeighborsClassifier())],\n",
       "                                verbose=True),\n",
       "             n_jobs=-1,\n",
       "             param_grid={'knn__leaf_size': [30, 50, 70],\n",
       "                         'knn__n_neighbors': [100, 130, 150],\n",
       "                         'knn__weights': ['distance']},\n",
       "             verbose=2)"
      ]
     },
     "execution_count": 11,
     "metadata": {},
     "output_type": "execute_result"
    },
    {
     "data": {
      "application/javascript": [
       "\n",
       "            setTimeout(function() {\n",
       "                var nbb_cell_id = 11;\n",
       "                var nbb_unformatted_code = \"# Due to shortage of time I decreased the amount of parameters and lowered the cv\\ngrid = {\\n    \\\"knn__n_neighbors\\\": [100, 130, 150],\\n    \\\"knn__weights\\\": [\\\"distance\\\"],\\n    \\\"knn__leaf_size\\\": [30, 50, 70],\\n}\\n\\nmodel = GridSearchCV(pipeline, grid, n_jobs=-1, verbose=2, cv=2)\\nmodel.fit(X_train, y_train)\";\n",
       "                var nbb_formatted_code = \"# Due to shortage of time I decreased the amount of parameters and lowered the cv\\ngrid = {\\n    \\\"knn__n_neighbors\\\": [100, 130, 150],\\n    \\\"knn__weights\\\": [\\\"distance\\\"],\\n    \\\"knn__leaf_size\\\": [30, 50, 70],\\n}\\n\\nmodel = GridSearchCV(pipeline, grid, n_jobs=-1, verbose=2, cv=2)\\nmodel.fit(X_train, y_train)\";\n",
       "                var nbb_cells = Jupyter.notebook.get_cells();\n",
       "                for (var i = 0; i < nbb_cells.length; ++i) {\n",
       "                    if (nbb_cells[i].input_prompt_number == nbb_cell_id) {\n",
       "                        if (nbb_cells[i].get_text() == nbb_unformatted_code) {\n",
       "                             nbb_cells[i].set_text(nbb_formatted_code);\n",
       "                        }\n",
       "                        break;\n",
       "                    }\n",
       "                }\n",
       "            }, 500);\n",
       "            "
      ],
      "text/plain": [
       "<IPython.core.display.Javascript object>"
      ]
     },
     "metadata": {},
     "output_type": "display_data"
    }
   ],
   "source": [
    "# Due to shortage of time I decreased the amount of parameters and lowered the cv\n",
    "grid = {\n",
    "    \"knn__n_neighbors\": [100, 130, 150],\n",
    "    \"knn__weights\": [\"distance\"],\n",
    "    \"knn__leaf_size\": [30, 50, 70],\n",
    "}\n",
    "\n",
    "model = GridSearchCV(pipeline, grid, n_jobs=-1, verbose=2, cv=2)\n",
    "model.fit(X_train, y_train)"
   ]
  },
  {
   "cell_type": "code",
   "execution_count": 12,
   "metadata": {},
   "outputs": [
    {
     "data": {
      "text/plain": [
       "{'knn__leaf_size': 30, 'knn__n_neighbors': 150, 'knn__weights': 'distance'}"
      ]
     },
     "execution_count": 12,
     "metadata": {},
     "output_type": "execute_result"
    },
    {
     "data": {
      "application/javascript": [
       "\n",
       "            setTimeout(function() {\n",
       "                var nbb_cell_id = 12;\n",
       "                var nbb_unformatted_code = \"# It seems like the higher the amount of n_neighbors the better the score, for next test, will increase n_neighbors\\nmodel.best_params_\";\n",
       "                var nbb_formatted_code = \"# It seems like the higher the amount of n_neighbors the better the score, for next test, will increase n_neighbors\\nmodel.best_params_\";\n",
       "                var nbb_cells = Jupyter.notebook.get_cells();\n",
       "                for (var i = 0; i < nbb_cells.length; ++i) {\n",
       "                    if (nbb_cells[i].input_prompt_number == nbb_cell_id) {\n",
       "                        if (nbb_cells[i].get_text() == nbb_unformatted_code) {\n",
       "                             nbb_cells[i].set_text(nbb_formatted_code);\n",
       "                        }\n",
       "                        break;\n",
       "                    }\n",
       "                }\n",
       "            }, 500);\n",
       "            "
      ],
      "text/plain": [
       "<IPython.core.display.Javascript object>"
      ]
     },
     "metadata": {},
     "output_type": "display_data"
    }
   ],
   "source": [
    "# It seems like the higher the amount of n_neighbors the better the score, for next test, will increase n_neighbors\n",
    "model.best_params_"
   ]
  },
  {
   "cell_type": "code",
   "execution_count": 13,
   "metadata": {},
   "outputs": [
    {
     "name": "stdout",
     "output_type": "stream",
     "text": [
      "Train score: 1.0\n",
      "Test score: 0.2477\n"
     ]
    },
    {
     "data": {
      "application/javascript": [
       "\n",
       "            setTimeout(function() {\n",
       "                var nbb_cell_id = 13;\n",
       "                var nbb_unformatted_code = \"# Model still appears to be extremely overfitting\\n# One solution could be to remove the device_id, app_id, and event_id\\ntrain_score = model.score(X_train, y_train)\\ntest_score = model.score(X_test, y_test)\\n\\nprint(f\\\"Train score: {train_score}\\\")\\nprint(f\\\"Test score: {test_score}\\\")\";\n",
       "                var nbb_formatted_code = \"# Model still appears to be extremely overfitting\\n# One solution could be to remove the device_id, app_id, and event_id\\ntrain_score = model.score(X_train, y_train)\\ntest_score = model.score(X_test, y_test)\\n\\nprint(f\\\"Train score: {train_score}\\\")\\nprint(f\\\"Test score: {test_score}\\\")\";\n",
       "                var nbb_cells = Jupyter.notebook.get_cells();\n",
       "                for (var i = 0; i < nbb_cells.length; ++i) {\n",
       "                    if (nbb_cells[i].input_prompt_number == nbb_cell_id) {\n",
       "                        if (nbb_cells[i].get_text() == nbb_unformatted_code) {\n",
       "                             nbb_cells[i].set_text(nbb_formatted_code);\n",
       "                        }\n",
       "                        break;\n",
       "                    }\n",
       "                }\n",
       "            }, 500);\n",
       "            "
      ],
      "text/plain": [
       "<IPython.core.display.Javascript object>"
      ]
     },
     "metadata": {},
     "output_type": "display_data"
    }
   ],
   "source": [
    "# Model still appears to be extremely overfitting\n",
    "train_score = model.score(X_train, y_train)\n",
    "test_score = model.score(X_test, y_test)\n",
    "\n",
    "print(f\"Train score: {train_score}\")\n",
    "print(f\"Test score: {test_score}\")"
   ]
  },
  {
   "cell_type": "code",
   "execution_count": 14,
   "metadata": {},
   "outputs": [
    {
     "data": {
      "text/html": [
       "<style  type=\"text/css\" >\n",
       "#T_676cdb12_31af_11eb_b17a_40ec99f34421row0_col0,#T_676cdb12_31af_11eb_b17a_40ec99f34421row2_col1{\n",
       "            background-color:  #f0eaf4;\n",
       "            color:  #000000;\n",
       "        }#T_676cdb12_31af_11eb_b17a_40ec99f34421row0_col1,#T_676cdb12_31af_11eb_b17a_40ec99f34421row1_col3{\n",
       "            background-color:  #eee9f3;\n",
       "            color:  #000000;\n",
       "        }#T_676cdb12_31af_11eb_b17a_40ec99f34421row0_col2,#T_676cdb12_31af_11eb_b17a_40ec99f34421row0_col6,#T_676cdb12_31af_11eb_b17a_40ec99f34421row1_col6,#T_676cdb12_31af_11eb_b17a_40ec99f34421row1_col10,#T_676cdb12_31af_11eb_b17a_40ec99f34421row1_col11,#T_676cdb12_31af_11eb_b17a_40ec99f34421row2_col10,#T_676cdb12_31af_11eb_b17a_40ec99f34421row3_col6,#T_676cdb12_31af_11eb_b17a_40ec99f34421row3_col9,#T_676cdb12_31af_11eb_b17a_40ec99f34421row3_col10,#T_676cdb12_31af_11eb_b17a_40ec99f34421row3_col11,#T_676cdb12_31af_11eb_b17a_40ec99f34421row4_col6,#T_676cdb12_31af_11eb_b17a_40ec99f34421row4_col9,#T_676cdb12_31af_11eb_b17a_40ec99f34421row4_col11,#T_676cdb12_31af_11eb_b17a_40ec99f34421row5_col9,#T_676cdb12_31af_11eb_b17a_40ec99f34421row5_col11,#T_676cdb12_31af_11eb_b17a_40ec99f34421row6_col0,#T_676cdb12_31af_11eb_b17a_40ec99f34421row7_col0,#T_676cdb12_31af_11eb_b17a_40ec99f34421row7_col7,#T_676cdb12_31af_11eb_b17a_40ec99f34421row8_col0,#T_676cdb12_31af_11eb_b17a_40ec99f34421row9_col0,#T_676cdb12_31af_11eb_b17a_40ec99f34421row9_col2,#T_676cdb12_31af_11eb_b17a_40ec99f34421row10_col0,#T_676cdb12_31af_11eb_b17a_40ec99f34421row11_col0{\n",
       "            background-color:  #fdf5fa;\n",
       "            color:  #000000;\n",
       "        }#T_676cdb12_31af_11eb_b17a_40ec99f34421row0_col3,#T_676cdb12_31af_11eb_b17a_40ec99f34421row2_col2,#T_676cdb12_31af_11eb_b17a_40ec99f34421row10_col10{\n",
       "            background-color:  #f5eff6;\n",
       "            color:  #000000;\n",
       "        }#T_676cdb12_31af_11eb_b17a_40ec99f34421row0_col4{\n",
       "            background-color:  #d2d3e7;\n",
       "            color:  #000000;\n",
       "        }#T_676cdb12_31af_11eb_b17a_40ec99f34421row0_col5,#T_676cdb12_31af_11eb_b17a_40ec99f34421row3_col1{\n",
       "            background-color:  #ece7f2;\n",
       "            color:  #000000;\n",
       "        }#T_676cdb12_31af_11eb_b17a_40ec99f34421row0_col7,#T_676cdb12_31af_11eb_b17a_40ec99f34421row0_col9,#T_676cdb12_31af_11eb_b17a_40ec99f34421row0_col11,#T_676cdb12_31af_11eb_b17a_40ec99f34421row1_col7,#T_676cdb12_31af_11eb_b17a_40ec99f34421row1_col8,#T_676cdb12_31af_11eb_b17a_40ec99f34421row2_col9,#T_676cdb12_31af_11eb_b17a_40ec99f34421row3_col7,#T_676cdb12_31af_11eb_b17a_40ec99f34421row3_col8,#T_676cdb12_31af_11eb_b17a_40ec99f34421row4_col7,#T_676cdb12_31af_11eb_b17a_40ec99f34421row5_col7,#T_676cdb12_31af_11eb_b17a_40ec99f34421row5_col8,#T_676cdb12_31af_11eb_b17a_40ec99f34421row6_col2,#T_676cdb12_31af_11eb_b17a_40ec99f34421row6_col10,#T_676cdb12_31af_11eb_b17a_40ec99f34421row7_col8,#T_676cdb12_31af_11eb_b17a_40ec99f34421row7_col10,#T_676cdb12_31af_11eb_b17a_40ec99f34421row8_col2,#T_676cdb12_31af_11eb_b17a_40ec99f34421row8_col10,#T_676cdb12_31af_11eb_b17a_40ec99f34421row9_col11,#T_676cdb12_31af_11eb_b17a_40ec99f34421row10_col6,#T_676cdb12_31af_11eb_b17a_40ec99f34421row10_col7,#T_676cdb12_31af_11eb_b17a_40ec99f34421row10_col8,#T_676cdb12_31af_11eb_b17a_40ec99f34421row10_col9,#T_676cdb12_31af_11eb_b17a_40ec99f34421row11_col6,#T_676cdb12_31af_11eb_b17a_40ec99f34421row11_col9,#T_676cdb12_31af_11eb_b17a_40ec99f34421row11_col10{\n",
       "            background-color:  #fef6fb;\n",
       "            color:  #000000;\n",
       "        }#T_676cdb12_31af_11eb_b17a_40ec99f34421row0_col8,#T_676cdb12_31af_11eb_b17a_40ec99f34421row2_col7,#T_676cdb12_31af_11eb_b17a_40ec99f34421row2_col8,#T_676cdb12_31af_11eb_b17a_40ec99f34421row6_col7,#T_676cdb12_31af_11eb_b17a_40ec99f34421row6_col8,#T_676cdb12_31af_11eb_b17a_40ec99f34421row6_col9,#T_676cdb12_31af_11eb_b17a_40ec99f34421row6_col11,#T_676cdb12_31af_11eb_b17a_40ec99f34421row7_col9,#T_676cdb12_31af_11eb_b17a_40ec99f34421row7_col11,#T_676cdb12_31af_11eb_b17a_40ec99f34421row8_col6,#T_676cdb12_31af_11eb_b17a_40ec99f34421row8_col7,#T_676cdb12_31af_11eb_b17a_40ec99f34421row8_col9,#T_676cdb12_31af_11eb_b17a_40ec99f34421row8_col11,#T_676cdb12_31af_11eb_b17a_40ec99f34421row9_col7,#T_676cdb12_31af_11eb_b17a_40ec99f34421row9_col8,#T_676cdb12_31af_11eb_b17a_40ec99f34421row11_col7,#T_676cdb12_31af_11eb_b17a_40ec99f34421row11_col8{\n",
       "            background-color:  #fff7fb;\n",
       "            color:  #000000;\n",
       "        }#T_676cdb12_31af_11eb_b17a_40ec99f34421row0_col10,#T_676cdb12_31af_11eb_b17a_40ec99f34421row1_col9,#T_676cdb12_31af_11eb_b17a_40ec99f34421row2_col6,#T_676cdb12_31af_11eb_b17a_40ec99f34421row2_col11,#T_676cdb12_31af_11eb_b17a_40ec99f34421row4_col8,#T_676cdb12_31af_11eb_b17a_40ec99f34421row5_col6,#T_676cdb12_31af_11eb_b17a_40ec99f34421row7_col2,#T_676cdb12_31af_11eb_b17a_40ec99f34421row7_col6,#T_676cdb12_31af_11eb_b17a_40ec99f34421row9_col6,#T_676cdb12_31af_11eb_b17a_40ec99f34421row9_col10,#T_676cdb12_31af_11eb_b17a_40ec99f34421row10_col2,#T_676cdb12_31af_11eb_b17a_40ec99f34421row10_col11,#T_676cdb12_31af_11eb_b17a_40ec99f34421row11_col2{\n",
       "            background-color:  #fef6fa;\n",
       "            color:  #000000;\n",
       "        }#T_676cdb12_31af_11eb_b17a_40ec99f34421row1_col0,#T_676cdb12_31af_11eb_b17a_40ec99f34421row10_col1,#T_676cdb12_31af_11eb_b17a_40ec99f34421row10_col3{\n",
       "            background-color:  #f7f0f7;\n",
       "            color:  #000000;\n",
       "        }#T_676cdb12_31af_11eb_b17a_40ec99f34421row1_col1{\n",
       "            background-color:  #d1d2e6;\n",
       "            color:  #000000;\n",
       "        }#T_676cdb12_31af_11eb_b17a_40ec99f34421row1_col2,#T_676cdb12_31af_11eb_b17a_40ec99f34421row4_col2,#T_676cdb12_31af_11eb_b17a_40ec99f34421row4_col10,#T_676cdb12_31af_11eb_b17a_40ec99f34421row5_col0,#T_676cdb12_31af_11eb_b17a_40ec99f34421row5_col2,#T_676cdb12_31af_11eb_b17a_40ec99f34421row5_col10{\n",
       "            background-color:  #fbf3f9;\n",
       "            color:  #000000;\n",
       "        }#T_676cdb12_31af_11eb_b17a_40ec99f34421row1_col4{\n",
       "            background-color:  #7bacd1;\n",
       "            color:  #000000;\n",
       "        }#T_676cdb12_31af_11eb_b17a_40ec99f34421row1_col5{\n",
       "            background-color:  #d3d4e7;\n",
       "            color:  #000000;\n",
       "        }#T_676cdb12_31af_11eb_b17a_40ec99f34421row2_col0,#T_676cdb12_31af_11eb_b17a_40ec99f34421row8_col8{\n",
       "            background-color:  #fcf4fa;\n",
       "            color:  #000000;\n",
       "        }#T_676cdb12_31af_11eb_b17a_40ec99f34421row2_col3{\n",
       "            background-color:  #f2ecf5;\n",
       "            color:  #000000;\n",
       "        }#T_676cdb12_31af_11eb_b17a_40ec99f34421row2_col4{\n",
       "            background-color:  #bbc7e0;\n",
       "            color:  #000000;\n",
       "        }#T_676cdb12_31af_11eb_b17a_40ec99f34421row2_col5,#T_676cdb12_31af_11eb_b17a_40ec99f34421row11_col5{\n",
       "            background-color:  #e2dfee;\n",
       "            color:  #000000;\n",
       "        }#T_676cdb12_31af_11eb_b17a_40ec99f34421row3_col0,#T_676cdb12_31af_11eb_b17a_40ec99f34421row8_col1,#T_676cdb12_31af_11eb_b17a_40ec99f34421row11_col1{\n",
       "            background-color:  #faf2f8;\n",
       "            color:  #000000;\n",
       "        }#T_676cdb12_31af_11eb_b17a_40ec99f34421row3_col2,#T_676cdb12_31af_11eb_b17a_40ec99f34421row6_col6,#T_676cdb12_31af_11eb_b17a_40ec99f34421row7_col1{\n",
       "            background-color:  #faf3f9;\n",
       "            color:  #000000;\n",
       "        }#T_676cdb12_31af_11eb_b17a_40ec99f34421row3_col3{\n",
       "            background-color:  #d4d4e8;\n",
       "            color:  #000000;\n",
       "        }#T_676cdb12_31af_11eb_b17a_40ec99f34421row3_col4{\n",
       "            background-color:  #63a2cb;\n",
       "            color:  #000000;\n",
       "        }#T_676cdb12_31af_11eb_b17a_40ec99f34421row3_col5{\n",
       "            background-color:  #b9c6e0;\n",
       "            color:  #000000;\n",
       "        }#T_676cdb12_31af_11eb_b17a_40ec99f34421row4_col0,#T_676cdb12_31af_11eb_b17a_40ec99f34421row11_col3{\n",
       "            background-color:  #f9f2f8;\n",
       "            color:  #000000;\n",
       "        }#T_676cdb12_31af_11eb_b17a_40ec99f34421row4_col1{\n",
       "            background-color:  #e5e1ef;\n",
       "            color:  #000000;\n",
       "        }#T_676cdb12_31af_11eb_b17a_40ec99f34421row4_col3{\n",
       "            background-color:  #e9e5f1;\n",
       "            color:  #000000;\n",
       "        }#T_676cdb12_31af_11eb_b17a_40ec99f34421row4_col4{\n",
       "            background-color:  #023858;\n",
       "            color:  #f1f1f1;\n",
       "        }#T_676cdb12_31af_11eb_b17a_40ec99f34421row4_col5{\n",
       "            background-color:  #76aad0;\n",
       "            color:  #000000;\n",
       "        }#T_676cdb12_31af_11eb_b17a_40ec99f34421row5_col1{\n",
       "            background-color:  #f1ebf5;\n",
       "            color:  #000000;\n",
       "        }#T_676cdb12_31af_11eb_b17a_40ec99f34421row5_col3,#T_676cdb12_31af_11eb_b17a_40ec99f34421row6_col4,#T_676cdb12_31af_11eb_b17a_40ec99f34421row7_col4{\n",
       "            background-color:  #ede8f3;\n",
       "            color:  #000000;\n",
       "        }#T_676cdb12_31af_11eb_b17a_40ec99f34421row5_col4{\n",
       "            background-color:  #3790c0;\n",
       "            color:  #000000;\n",
       "        }#T_676cdb12_31af_11eb_b17a_40ec99f34421row5_col5{\n",
       "            background-color:  #056ba9;\n",
       "            color:  #f1f1f1;\n",
       "        }#T_676cdb12_31af_11eb_b17a_40ec99f34421row6_col1,#T_676cdb12_31af_11eb_b17a_40ec99f34421row9_col1,#T_676cdb12_31af_11eb_b17a_40ec99f34421row9_col3,#T_676cdb12_31af_11eb_b17a_40ec99f34421row11_col11{\n",
       "            background-color:  #f8f1f8;\n",
       "            color:  #000000;\n",
       "        }#T_676cdb12_31af_11eb_b17a_40ec99f34421row6_col3,#T_676cdb12_31af_11eb_b17a_40ec99f34421row7_col3,#T_676cdb12_31af_11eb_b17a_40ec99f34421row8_col3,#T_676cdb12_31af_11eb_b17a_40ec99f34421row9_col9{\n",
       "            background-color:  #fbf4f9;\n",
       "            color:  #000000;\n",
       "        }#T_676cdb12_31af_11eb_b17a_40ec99f34421row6_col5{\n",
       "            background-color:  #f6eff7;\n",
       "            color:  #000000;\n",
       "        }#T_676cdb12_31af_11eb_b17a_40ec99f34421row7_col5,#T_676cdb12_31af_11eb_b17a_40ec99f34421row8_col5{\n",
       "            background-color:  #f4edf6;\n",
       "            color:  #000000;\n",
       "        }#T_676cdb12_31af_11eb_b17a_40ec99f34421row8_col4{\n",
       "            background-color:  #ebe6f2;\n",
       "            color:  #000000;\n",
       "        }#T_676cdb12_31af_11eb_b17a_40ec99f34421row9_col4{\n",
       "            background-color:  #dcdaeb;\n",
       "            color:  #000000;\n",
       "        }#T_676cdb12_31af_11eb_b17a_40ec99f34421row9_col5{\n",
       "            background-color:  #eae6f1;\n",
       "            color:  #000000;\n",
       "        }#T_676cdb12_31af_11eb_b17a_40ec99f34421row10_col4{\n",
       "            background-color:  #cacee5;\n",
       "            color:  #000000;\n",
       "        }#T_676cdb12_31af_11eb_b17a_40ec99f34421row10_col5{\n",
       "            background-color:  #d2d2e7;\n",
       "            color:  #000000;\n",
       "        }#T_676cdb12_31af_11eb_b17a_40ec99f34421row11_col4{\n",
       "            background-color:  #d7d6e9;\n",
       "            color:  #000000;\n",
       "        }</style><table id=\"T_676cdb12_31af_11eb_b17a_40ec99f34421\" ><thead>    <tr>        <th class=\"blank level0\" ></th>        <th class=\"col_heading level0 col0\" >Predicted M22-</th>        <th class=\"col_heading level0 col1\" >Predicted M23-26</th>        <th class=\"col_heading level0 col2\" >Predicted M27-28</th>        <th class=\"col_heading level0 col3\" >Predicted M29-31</th>        <th class=\"col_heading level0 col4\" >Predicted M32-38</th>        <th class=\"col_heading level0 col5\" >Predicted M39+</th>        <th class=\"col_heading level0 col6\" >Predicted F23-</th>        <th class=\"col_heading level0 col7\" >Predicted F24-26</th>        <th class=\"col_heading level0 col8\" >Predicted F27-28</th>        <th class=\"col_heading level0 col9\" >Predicted F29-32</th>        <th class=\"col_heading level0 col10\" >Predicted F33-42</th>        <th class=\"col_heading level0 col11\" >Predicted F43+</th>    </tr></thead><tbody>\n",
       "                <tr>\n",
       "                        <th id=\"T_676cdb12_31af_11eb_b17a_40ec99f34421level0_row0\" class=\"row_heading level0 row0\" >Actually M22-</th>\n",
       "                        <td id=\"T_676cdb12_31af_11eb_b17a_40ec99f34421row0_col0\" class=\"data row0 col0\" >189</td>\n",
       "                        <td id=\"T_676cdb12_31af_11eb_b17a_40ec99f34421row0_col1\" class=\"data row0 col1\" >207</td>\n",
       "                        <td id=\"T_676cdb12_31af_11eb_b17a_40ec99f34421row0_col2\" class=\"data row0 col2\" >34</td>\n",
       "                        <td id=\"T_676cdb12_31af_11eb_b17a_40ec99f34421row0_col3\" class=\"data row0 col3\" >120</td>\n",
       "                        <td id=\"T_676cdb12_31af_11eb_b17a_40ec99f34421row0_col4\" class=\"data row0 col4\" >452</td>\n",
       "                        <td id=\"T_676cdb12_31af_11eb_b17a_40ec99f34421row0_col5\" class=\"data row0 col5\" >240</td>\n",
       "                        <td id=\"T_676cdb12_31af_11eb_b17a_40ec99f34421row0_col6\" class=\"data row0 col6\" >35</td>\n",
       "                        <td id=\"T_676cdb12_31af_11eb_b17a_40ec99f34421row0_col7\" class=\"data row0 col7\" >11</td>\n",
       "                        <td id=\"T_676cdb12_31af_11eb_b17a_40ec99f34421row0_col8\" class=\"data row0 col8\" >5</td>\n",
       "                        <td id=\"T_676cdb12_31af_11eb_b17a_40ec99f34421row0_col9\" class=\"data row0 col9\" >10</td>\n",
       "                        <td id=\"T_676cdb12_31af_11eb_b17a_40ec99f34421row0_col10\" class=\"data row0 col10\" >16</td>\n",
       "                        <td id=\"T_676cdb12_31af_11eb_b17a_40ec99f34421row0_col11\" class=\"data row0 col11\" >15</td>\n",
       "            </tr>\n",
       "            <tr>\n",
       "                        <th id=\"T_676cdb12_31af_11eb_b17a_40ec99f34421level0_row1\" class=\"row_heading level0 row1\" >Actually M23-26</th>\n",
       "                        <td id=\"T_676cdb12_31af_11eb_b17a_40ec99f34421row1_col0\" class=\"data row1 col0\" >106</td>\n",
       "                        <td id=\"T_676cdb12_31af_11eb_b17a_40ec99f34421row1_col1\" class=\"data row1 col1\" >465</td>\n",
       "                        <td id=\"T_676cdb12_31af_11eb_b17a_40ec99f34421row1_col2\" class=\"data row1 col2\" >56</td>\n",
       "                        <td id=\"T_676cdb12_31af_11eb_b17a_40ec99f34421row1_col3\" class=\"data row1 col3\" >208</td>\n",
       "                        <td id=\"T_676cdb12_31af_11eb_b17a_40ec99f34421row1_col4\" class=\"data row1 col4\" >907</td>\n",
       "                        <td id=\"T_676cdb12_31af_11eb_b17a_40ec99f34421row1_col5\" class=\"data row1 col5\" >447</td>\n",
       "                        <td id=\"T_676cdb12_31af_11eb_b17a_40ec99f34421row1_col6\" class=\"data row1 col6\" >28</td>\n",
       "                        <td id=\"T_676cdb12_31af_11eb_b17a_40ec99f34421row1_col7\" class=\"data row1 col7\" >12</td>\n",
       "                        <td id=\"T_676cdb12_31af_11eb_b17a_40ec99f34421row1_col8\" class=\"data row1 col8\" >15</td>\n",
       "                        <td id=\"T_676cdb12_31af_11eb_b17a_40ec99f34421row1_col9\" class=\"data row1 col9\" >19</td>\n",
       "                        <td id=\"T_676cdb12_31af_11eb_b17a_40ec99f34421row1_col10\" class=\"data row1 col10\" >34</td>\n",
       "                        <td id=\"T_676cdb12_31af_11eb_b17a_40ec99f34421row1_col11\" class=\"data row1 col11\" >30</td>\n",
       "            </tr>\n",
       "            <tr>\n",
       "                        <th id=\"T_676cdb12_31af_11eb_b17a_40ec99f34421level0_row2\" class=\"row_heading level0 row2\" >Actually M27-28</th>\n",
       "                        <td id=\"T_676cdb12_31af_11eb_b17a_40ec99f34421row2_col0\" class=\"data row2 col0\" >41</td>\n",
       "                        <td id=\"T_676cdb12_31af_11eb_b17a_40ec99f34421row2_col1\" class=\"data row2 col1\" >193</td>\n",
       "                        <td id=\"T_676cdb12_31af_11eb_b17a_40ec99f34421row2_col2\" class=\"data row2 col2\" >124</td>\n",
       "                        <td id=\"T_676cdb12_31af_11eb_b17a_40ec99f34421row2_col3\" class=\"data row2 col3\" >168</td>\n",
       "                        <td id=\"T_676cdb12_31af_11eb_b17a_40ec99f34421row2_col4\" class=\"data row2 col4\" >595</td>\n",
       "                        <td id=\"T_676cdb12_31af_11eb_b17a_40ec99f34421row2_col5\" class=\"data row2 col5\" >322</td>\n",
       "                        <td id=\"T_676cdb12_31af_11eb_b17a_40ec99f34421row2_col6\" class=\"data row2 col6\" >18</td>\n",
       "                        <td id=\"T_676cdb12_31af_11eb_b17a_40ec99f34421row2_col7\" class=\"data row2 col7\" >8</td>\n",
       "                        <td id=\"T_676cdb12_31af_11eb_b17a_40ec99f34421row2_col8\" class=\"data row2 col8\" >7</td>\n",
       "                        <td id=\"T_676cdb12_31af_11eb_b17a_40ec99f34421row2_col9\" class=\"data row2 col9\" >12</td>\n",
       "                        <td id=\"T_676cdb12_31af_11eb_b17a_40ec99f34421row2_col10\" class=\"data row2 col10\" >24</td>\n",
       "                        <td id=\"T_676cdb12_31af_11eb_b17a_40ec99f34421row2_col11\" class=\"data row2 col11\" >17</td>\n",
       "            </tr>\n",
       "            <tr>\n",
       "                        <th id=\"T_676cdb12_31af_11eb_b17a_40ec99f34421level0_row3\" class=\"row_heading level0 row3\" >Actually M29-31</th>\n",
       "                        <td id=\"T_676cdb12_31af_11eb_b17a_40ec99f34421row3_col0\" class=\"data row3 col0\" >73</td>\n",
       "                        <td id=\"T_676cdb12_31af_11eb_b17a_40ec99f34421row3_col1\" class=\"data row3 col1\" >241</td>\n",
       "                        <td id=\"T_676cdb12_31af_11eb_b17a_40ec99f34421row3_col2\" class=\"data row3 col2\" >62</td>\n",
       "                        <td id=\"T_676cdb12_31af_11eb_b17a_40ec99f34421row3_col3\" class=\"data row3 col3\" >441</td>\n",
       "                        <td id=\"T_676cdb12_31af_11eb_b17a_40ec99f34421row3_col4\" class=\"data row3 col4\" >1003</td>\n",
       "                        <td id=\"T_676cdb12_31af_11eb_b17a_40ec99f34421row3_col5\" class=\"data row3 col5\" >598</td>\n",
       "                        <td id=\"T_676cdb12_31af_11eb_b17a_40ec99f34421row3_col6\" class=\"data row3 col6\" >25</td>\n",
       "                        <td id=\"T_676cdb12_31af_11eb_b17a_40ec99f34421row3_col7\" class=\"data row3 col7\" >13</td>\n",
       "                        <td id=\"T_676cdb12_31af_11eb_b17a_40ec99f34421row3_col8\" class=\"data row3 col8\" >13</td>\n",
       "                        <td id=\"T_676cdb12_31af_11eb_b17a_40ec99f34421row3_col9\" class=\"data row3 col9\" >24</td>\n",
       "                        <td id=\"T_676cdb12_31af_11eb_b17a_40ec99f34421row3_col10\" class=\"data row3 col10\" >34</td>\n",
       "                        <td id=\"T_676cdb12_31af_11eb_b17a_40ec99f34421row3_col11\" class=\"data row3 col11\" >26</td>\n",
       "            </tr>\n",
       "            <tr>\n",
       "                        <th id=\"T_676cdb12_31af_11eb_b17a_40ec99f34421level0_row4\" class=\"row_heading level0 row4\" >Actually M32-38</th>\n",
       "                        <td id=\"T_676cdb12_31af_11eb_b17a_40ec99f34421row4_col0\" class=\"data row4 col0\" >81</td>\n",
       "                        <td id=\"T_676cdb12_31af_11eb_b17a_40ec99f34421row4_col1\" class=\"data row4 col1\" >301</td>\n",
       "                        <td id=\"T_676cdb12_31af_11eb_b17a_40ec99f34421row4_col2\" class=\"data row4 col2\" >58</td>\n",
       "                        <td id=\"T_676cdb12_31af_11eb_b17a_40ec99f34421row4_col3\" class=\"data row4 col3\" >262</td>\n",
       "                        <td id=\"T_676cdb12_31af_11eb_b17a_40ec99f34421row4_col4\" class=\"data row4 col4\" >1879</td>\n",
       "                        <td id=\"T_676cdb12_31af_11eb_b17a_40ec99f34421row4_col5\" class=\"data row4 col5\" >926</td>\n",
       "                        <td id=\"T_676cdb12_31af_11eb_b17a_40ec99f34421row4_col6\" class=\"data row4 col6\" >37</td>\n",
       "                        <td id=\"T_676cdb12_31af_11eb_b17a_40ec99f34421row4_col7\" class=\"data row4 col7\" >15</td>\n",
       "                        <td id=\"T_676cdb12_31af_11eb_b17a_40ec99f34421row4_col8\" class=\"data row4 col8\" >19</td>\n",
       "                        <td id=\"T_676cdb12_31af_11eb_b17a_40ec99f34421row4_col9\" class=\"data row4 col9\" >26</td>\n",
       "                        <td id=\"T_676cdb12_31af_11eb_b17a_40ec99f34421row4_col10\" class=\"data row4 col10\" >55</td>\n",
       "                        <td id=\"T_676cdb12_31af_11eb_b17a_40ec99f34421row4_col11\" class=\"data row4 col11\" >36</td>\n",
       "            </tr>\n",
       "            <tr>\n",
       "                        <th id=\"T_676cdb12_31af_11eb_b17a_40ec99f34421level0_row5\" class=\"row_heading level0 row5\" >Actually M39+</th>\n",
       "                        <td id=\"T_676cdb12_31af_11eb_b17a_40ec99f34421row5_col0\" class=\"data row5 col0\" >56</td>\n",
       "                        <td id=\"T_676cdb12_31af_11eb_b17a_40ec99f34421row5_col1\" class=\"data row5 col1\" >177</td>\n",
       "                        <td id=\"T_676cdb12_31af_11eb_b17a_40ec99f34421row5_col2\" class=\"data row5 col2\" >56</td>\n",
       "                        <td id=\"T_676cdb12_31af_11eb_b17a_40ec99f34421row5_col3\" class=\"data row5 col3\" >224</td>\n",
       "                        <td id=\"T_676cdb12_31af_11eb_b17a_40ec99f34421row5_col4\" class=\"data row5 col4\" >1173</td>\n",
       "                        <td id=\"T_676cdb12_31af_11eb_b17a_40ec99f34421row5_col5\" class=\"data row5 col5\" >1460</td>\n",
       "                        <td id=\"T_676cdb12_31af_11eb_b17a_40ec99f34421row5_col6\" class=\"data row5 col6\" >20</td>\n",
       "                        <td id=\"T_676cdb12_31af_11eb_b17a_40ec99f34421row5_col7\" class=\"data row5 col7\" >12</td>\n",
       "                        <td id=\"T_676cdb12_31af_11eb_b17a_40ec99f34421row5_col8\" class=\"data row5 col8\" >14</td>\n",
       "                        <td id=\"T_676cdb12_31af_11eb_b17a_40ec99f34421row5_col9\" class=\"data row5 col9\" >24</td>\n",
       "                        <td id=\"T_676cdb12_31af_11eb_b17a_40ec99f34421row5_col10\" class=\"data row5 col10\" >57</td>\n",
       "                        <td id=\"T_676cdb12_31af_11eb_b17a_40ec99f34421row5_col11\" class=\"data row5 col11\" >33</td>\n",
       "            </tr>\n",
       "            <tr>\n",
       "                        <th id=\"T_676cdb12_31af_11eb_b17a_40ec99f34421level0_row6\" class=\"row_heading level0 row6\" >Actually F23-</th>\n",
       "                        <td id=\"T_676cdb12_31af_11eb_b17a_40ec99f34421row6_col0\" class=\"data row6 col0\" >30</td>\n",
       "                        <td id=\"T_676cdb12_31af_11eb_b17a_40ec99f34421row6_col1\" class=\"data row6 col1\" >88</td>\n",
       "                        <td id=\"T_676cdb12_31af_11eb_b17a_40ec99f34421row6_col2\" class=\"data row6 col2\" >15</td>\n",
       "                        <td id=\"T_676cdb12_31af_11eb_b17a_40ec99f34421row6_col3\" class=\"data row6 col3\" >47</td>\n",
       "                        <td id=\"T_676cdb12_31af_11eb_b17a_40ec99f34421row6_col4\" class=\"data row6 col4\" >225</td>\n",
       "                        <td id=\"T_676cdb12_31af_11eb_b17a_40ec99f34421row6_col5\" class=\"data row6 col5\" >116</td>\n",
       "                        <td id=\"T_676cdb12_31af_11eb_b17a_40ec99f34421row6_col6\" class=\"data row6 col6\" >67</td>\n",
       "                        <td id=\"T_676cdb12_31af_11eb_b17a_40ec99f34421row6_col7\" class=\"data row6 col7\" >6</td>\n",
       "                        <td id=\"T_676cdb12_31af_11eb_b17a_40ec99f34421row6_col8\" class=\"data row6 col8\" >3</td>\n",
       "                        <td id=\"T_676cdb12_31af_11eb_b17a_40ec99f34421row6_col9\" class=\"data row6 col9\" >4</td>\n",
       "                        <td id=\"T_676cdb12_31af_11eb_b17a_40ec99f34421row6_col10\" class=\"data row6 col10\" >9</td>\n",
       "                        <td id=\"T_676cdb12_31af_11eb_b17a_40ec99f34421row6_col11\" class=\"data row6 col11\" >7</td>\n",
       "            </tr>\n",
       "            <tr>\n",
       "                        <th id=\"T_676cdb12_31af_11eb_b17a_40ec99f34421level0_row7\" class=\"row_heading level0 row7\" >Actually F24-26</th>\n",
       "                        <td id=\"T_676cdb12_31af_11eb_b17a_40ec99f34421row7_col0\" class=\"data row7 col0\" >29</td>\n",
       "                        <td id=\"T_676cdb12_31af_11eb_b17a_40ec99f34421row7_col1\" class=\"data row7 col1\" >61</td>\n",
       "                        <td id=\"T_676cdb12_31af_11eb_b17a_40ec99f34421row7_col2\" class=\"data row7 col2\" >19</td>\n",
       "                        <td id=\"T_676cdb12_31af_11eb_b17a_40ec99f34421row7_col3\" class=\"data row7 col3\" >46</td>\n",
       "                        <td id=\"T_676cdb12_31af_11eb_b17a_40ec99f34421row7_col4\" class=\"data row7 col4\" >227</td>\n",
       "                        <td id=\"T_676cdb12_31af_11eb_b17a_40ec99f34421row7_col5\" class=\"data row7 col5\" >141</td>\n",
       "                        <td id=\"T_676cdb12_31af_11eb_b17a_40ec99f34421row7_col6\" class=\"data row7 col6\" >19</td>\n",
       "                        <td id=\"T_676cdb12_31af_11eb_b17a_40ec99f34421row7_col7\" class=\"data row7 col7\" >27</td>\n",
       "                        <td id=\"T_676cdb12_31af_11eb_b17a_40ec99f34421row7_col8\" class=\"data row7 col8\" >9</td>\n",
       "                        <td id=\"T_676cdb12_31af_11eb_b17a_40ec99f34421row7_col9\" class=\"data row7 col9\" >6</td>\n",
       "                        <td id=\"T_676cdb12_31af_11eb_b17a_40ec99f34421row7_col10\" class=\"data row7 col10\" >10</td>\n",
       "                        <td id=\"T_676cdb12_31af_11eb_b17a_40ec99f34421row7_col11\" class=\"data row7 col11\" >8</td>\n",
       "            </tr>\n",
       "            <tr>\n",
       "                        <th id=\"T_676cdb12_31af_11eb_b17a_40ec99f34421level0_row8\" class=\"row_heading level0 row8\" >Actually F27-28</th>\n",
       "                        <td id=\"T_676cdb12_31af_11eb_b17a_40ec99f34421row8_col0\" class=\"data row8 col0\" >28</td>\n",
       "                        <td id=\"T_676cdb12_31af_11eb_b17a_40ec99f34421row8_col1\" class=\"data row8 col1\" >73</td>\n",
       "                        <td id=\"T_676cdb12_31af_11eb_b17a_40ec99f34421row8_col2\" class=\"data row8 col2\" >11</td>\n",
       "                        <td id=\"T_676cdb12_31af_11eb_b17a_40ec99f34421row8_col3\" class=\"data row8 col3\" >52</td>\n",
       "                        <td id=\"T_676cdb12_31af_11eb_b17a_40ec99f34421row8_col4\" class=\"data row8 col4\" >248</td>\n",
       "                        <td id=\"T_676cdb12_31af_11eb_b17a_40ec99f34421row8_col5\" class=\"data row8 col5\" >141</td>\n",
       "                        <td id=\"T_676cdb12_31af_11eb_b17a_40ec99f34421row8_col6\" class=\"data row8 col6\" >8</td>\n",
       "                        <td id=\"T_676cdb12_31af_11eb_b17a_40ec99f34421row8_col7\" class=\"data row8 col7\" >7</td>\n",
       "                        <td id=\"T_676cdb12_31af_11eb_b17a_40ec99f34421row8_col8\" class=\"data row8 col8\" >39</td>\n",
       "                        <td id=\"T_676cdb12_31af_11eb_b17a_40ec99f34421row8_col9\" class=\"data row8 col9\" >6</td>\n",
       "                        <td id=\"T_676cdb12_31af_11eb_b17a_40ec99f34421row8_col10\" class=\"data row8 col10\" >10</td>\n",
       "                        <td id=\"T_676cdb12_31af_11eb_b17a_40ec99f34421row8_col11\" class=\"data row8 col11\" >4</td>\n",
       "            </tr>\n",
       "            <tr>\n",
       "                        <th id=\"T_676cdb12_31af_11eb_b17a_40ec99f34421level0_row9\" class=\"row_heading level0 row9\" >Actually F29-32</th>\n",
       "                        <td id=\"T_676cdb12_31af_11eb_b17a_40ec99f34421row9_col0\" class=\"data row9 col0\" >24</td>\n",
       "                        <td id=\"T_676cdb12_31af_11eb_b17a_40ec99f34421row9_col1\" class=\"data row9 col1\" >94</td>\n",
       "                        <td id=\"T_676cdb12_31af_11eb_b17a_40ec99f34421row9_col2\" class=\"data row9 col2\" >25</td>\n",
       "                        <td id=\"T_676cdb12_31af_11eb_b17a_40ec99f34421row9_col3\" class=\"data row9 col3\" >83</td>\n",
       "                        <td id=\"T_676cdb12_31af_11eb_b17a_40ec99f34421row9_col4\" class=\"data row9 col4\" >372</td>\n",
       "                        <td id=\"T_676cdb12_31af_11eb_b17a_40ec99f34421row9_col5\" class=\"data row9 col5\" >255</td>\n",
       "                        <td id=\"T_676cdb12_31af_11eb_b17a_40ec99f34421row9_col6\" class=\"data row9 col6\" >18</td>\n",
       "                        <td id=\"T_676cdb12_31af_11eb_b17a_40ec99f34421row9_col7\" class=\"data row9 col7\" >5</td>\n",
       "                        <td id=\"T_676cdb12_31af_11eb_b17a_40ec99f34421row9_col8\" class=\"data row9 col8\" >1</td>\n",
       "                        <td id=\"T_676cdb12_31af_11eb_b17a_40ec99f34421row9_col9\" class=\"data row9 col9\" >48</td>\n",
       "                        <td id=\"T_676cdb12_31af_11eb_b17a_40ec99f34421row9_col10\" class=\"data row9 col10\" >17</td>\n",
       "                        <td id=\"T_676cdb12_31af_11eb_b17a_40ec99f34421row9_col11\" class=\"data row9 col11\" >9</td>\n",
       "            </tr>\n",
       "            <tr>\n",
       "                        <th id=\"T_676cdb12_31af_11eb_b17a_40ec99f34421level0_row10\" class=\"row_heading level0 row10\" >Actually F33-42</th>\n",
       "                        <td id=\"T_676cdb12_31af_11eb_b17a_40ec99f34421row10_col0\" class=\"data row10 col0\" >26</td>\n",
       "                        <td id=\"T_676cdb12_31af_11eb_b17a_40ec99f34421row10_col1\" class=\"data row10 col1\" >103</td>\n",
       "                        <td id=\"T_676cdb12_31af_11eb_b17a_40ec99f34421row10_col2\" class=\"data row10 col2\" >18</td>\n",
       "                        <td id=\"T_676cdb12_31af_11eb_b17a_40ec99f34421row10_col3\" class=\"data row10 col3\" >104</td>\n",
       "                        <td id=\"T_676cdb12_31af_11eb_b17a_40ec99f34421row10_col4\" class=\"data row10 col4\" >500</td>\n",
       "                        <td id=\"T_676cdb12_31af_11eb_b17a_40ec99f34421row10_col5\" class=\"data row10 col5\" >462</td>\n",
       "                        <td id=\"T_676cdb12_31af_11eb_b17a_40ec99f34421row10_col6\" class=\"data row10 col6\" >15</td>\n",
       "                        <td id=\"T_676cdb12_31af_11eb_b17a_40ec99f34421row10_col7\" class=\"data row10 col7\" >9</td>\n",
       "                        <td id=\"T_676cdb12_31af_11eb_b17a_40ec99f34421row10_col8\" class=\"data row10 col8\" >12</td>\n",
       "                        <td id=\"T_676cdb12_31af_11eb_b17a_40ec99f34421row10_col9\" class=\"data row10 col9\" >13</td>\n",
       "                        <td id=\"T_676cdb12_31af_11eb_b17a_40ec99f34421row10_col10\" class=\"data row10 col10\" >123</td>\n",
       "                        <td id=\"T_676cdb12_31af_11eb_b17a_40ec99f34421row10_col11\" class=\"data row10 col11\" >21</td>\n",
       "            </tr>\n",
       "            <tr>\n",
       "                        <th id=\"T_676cdb12_31af_11eb_b17a_40ec99f34421level0_row11\" class=\"row_heading level0 row11\" >Actually F43+</th>\n",
       "                        <td id=\"T_676cdb12_31af_11eb_b17a_40ec99f34421row11_col0\" class=\"data row11 col0\" >25</td>\n",
       "                        <td id=\"T_676cdb12_31af_11eb_b17a_40ec99f34421row11_col1\" class=\"data row11 col1\" >69</td>\n",
       "                        <td id=\"T_676cdb12_31af_11eb_b17a_40ec99f34421row11_col2\" class=\"data row11 col2\" >16</td>\n",
       "                        <td id=\"T_676cdb12_31af_11eb_b17a_40ec99f34421row11_col3\" class=\"data row11 col3\" >76</td>\n",
       "                        <td id=\"T_676cdb12_31af_11eb_b17a_40ec99f34421row11_col4\" class=\"data row11 col4\" >412</td>\n",
       "                        <td id=\"T_676cdb12_31af_11eb_b17a_40ec99f34421row11_col5\" class=\"data row11 col5\" >318</td>\n",
       "                        <td id=\"T_676cdb12_31af_11eb_b17a_40ec99f34421row11_col6\" class=\"data row11 col6\" >12</td>\n",
       "                        <td id=\"T_676cdb12_31af_11eb_b17a_40ec99f34421row11_col7\" class=\"data row11 col7\" >4</td>\n",
       "                        <td id=\"T_676cdb12_31af_11eb_b17a_40ec99f34421row11_col8\" class=\"data row11 col8\" >5</td>\n",
       "                        <td id=\"T_676cdb12_31af_11eb_b17a_40ec99f34421row11_col9\" class=\"data row11 col9\" >12</td>\n",
       "                        <td id=\"T_676cdb12_31af_11eb_b17a_40ec99f34421row11_col10\" class=\"data row11 col10\" >12</td>\n",
       "                        <td id=\"T_676cdb12_31af_11eb_b17a_40ec99f34421row11_col11\" class=\"data row11 col11\" >92</td>\n",
       "            </tr>\n",
       "    </tbody></table>"
      ],
      "text/plain": [
       "<pandas.io.formats.style.Styler at 0x2307b0ab448>"
      ]
     },
     "execution_count": 14,
     "metadata": {},
     "output_type": "execute_result"
    },
    {
     "data": {
      "application/javascript": [
       "\n",
       "            setTimeout(function() {\n",
       "                var nbb_cell_id = 14;\n",
       "                var nbb_unformatted_code = \"y_pred = model.predict(X_test)\\n\\ncon_mat = pd.DataFrame(\\n    confusion_matrix(y_test, y_pred),\\n    index=[\\n        \\\"Actually M22-\\\",\\n        \\\"Actually M23-26\\\",\\n        \\\"Actually M27-28\\\",\\n        \\\"Actually M29-31\\\",\\n        \\\"Actually M32-38\\\",\\n        \\\"Actually M39+\\\",\\n        \\\"Actually F23-\\\",\\n        \\\"Actually F24-26\\\",\\n        \\\"Actually F27-28\\\",\\n        \\\"Actually F29-32\\\",\\n        \\\"Actually F33-42\\\",\\n        \\\"Actually F43+\\\",\\n    ],\\n    columns=[\\n        \\\"Predicted M22-\\\",\\n        \\\"Predicted M23-26\\\",\\n        \\\"Predicted M27-28\\\",\\n        \\\"Predicted M29-31\\\",\\n        \\\"Predicted M32-38\\\",\\n        \\\"Predicted M39+\\\",\\n        \\\"Predicted F23-\\\",\\n        \\\"Predicted F24-26\\\",\\n        \\\"Predicted F27-28\\\",\\n        \\\"Predicted F29-32\\\",\\n        \\\"Predicted F33-42\\\",\\n        \\\"Predicted F43+\\\",\\n    ],\\n)\\ncon_mat.style.background_gradient(axis=None)\";\n",
       "                var nbb_formatted_code = \"y_pred = model.predict(X_test)\\n\\ncon_mat = pd.DataFrame(\\n    confusion_matrix(y_test, y_pred),\\n    index=[\\n        \\\"Actually M22-\\\",\\n        \\\"Actually M23-26\\\",\\n        \\\"Actually M27-28\\\",\\n        \\\"Actually M29-31\\\",\\n        \\\"Actually M32-38\\\",\\n        \\\"Actually M39+\\\",\\n        \\\"Actually F23-\\\",\\n        \\\"Actually F24-26\\\",\\n        \\\"Actually F27-28\\\",\\n        \\\"Actually F29-32\\\",\\n        \\\"Actually F33-42\\\",\\n        \\\"Actually F43+\\\",\\n    ],\\n    columns=[\\n        \\\"Predicted M22-\\\",\\n        \\\"Predicted M23-26\\\",\\n        \\\"Predicted M27-28\\\",\\n        \\\"Predicted M29-31\\\",\\n        \\\"Predicted M32-38\\\",\\n        \\\"Predicted M39+\\\",\\n        \\\"Predicted F23-\\\",\\n        \\\"Predicted F24-26\\\",\\n        \\\"Predicted F27-28\\\",\\n        \\\"Predicted F29-32\\\",\\n        \\\"Predicted F33-42\\\",\\n        \\\"Predicted F43+\\\",\\n    ],\\n)\\ncon_mat.style.background_gradient(axis=None)\";\n",
       "                var nbb_cells = Jupyter.notebook.get_cells();\n",
       "                for (var i = 0; i < nbb_cells.length; ++i) {\n",
       "                    if (nbb_cells[i].input_prompt_number == nbb_cell_id) {\n",
       "                        if (nbb_cells[i].get_text() == nbb_unformatted_code) {\n",
       "                             nbb_cells[i].set_text(nbb_formatted_code);\n",
       "                        }\n",
       "                        break;\n",
       "                    }\n",
       "                }\n",
       "            }, 500);\n",
       "            "
      ],
      "text/plain": [
       "<IPython.core.display.Javascript object>"
      ]
     },
     "metadata": {},
     "output_type": "display_data"
    }
   ],
   "source": [
    "y_pred = model.predict(X_test)\n",
    "\n",
    "con_mat = pd.DataFrame(\n",
    "    confusion_matrix(y_test, y_pred),\n",
    "    index=[\n",
    "        \"Actually M22-\",\n",
    "        \"Actually M23-26\",\n",
    "        \"Actually M27-28\",\n",
    "        \"Actually M29-31\",\n",
    "        \"Actually M32-38\",\n",
    "        \"Actually M39+\",\n",
    "        \"Actually F23-\",\n",
    "        \"Actually F24-26\",\n",
    "        \"Actually F27-28\",\n",
    "        \"Actually F29-32\",\n",
    "        \"Actually F33-42\",\n",
    "        \"Actually F43+\",\n",
    "    ],\n",
    "    columns=[\n",
    "        \"Predicted M22-\",\n",
    "        \"Predicted M23-26\",\n",
    "        \"Predicted M27-28\",\n",
    "        \"Predicted M29-31\",\n",
    "        \"Predicted M32-38\",\n",
    "        \"Predicted M39+\",\n",
    "        \"Predicted F23-\",\n",
    "        \"Predicted F24-26\",\n",
    "        \"Predicted F27-28\",\n",
    "        \"Predicted F29-32\",\n",
    "        \"Predicted F33-42\",\n",
    "        \"Predicted F43+\",\n",
    "    ],\n",
    ")\n",
    "con_mat.style.background_gradient(axis=None)"
   ]
  },
  {
   "cell_type": "code",
   "execution_count": 15,
   "metadata": {},
   "outputs": [
    {
     "name": "stdout",
     "output_type": "stream",
     "text": [
      "              precision    recall  f1-score   support\n",
      "\n",
      "           0       0.27      0.14      0.19      1334\n",
      "           1       0.22      0.20      0.21      2327\n",
      "           2       0.25      0.08      0.12      1529\n",
      "           3       0.24      0.17      0.20      2553\n",
      "           4       0.24      0.51      0.32      3695\n",
      "           5       0.27      0.44      0.33      3306\n",
      "           6       0.22      0.11      0.15       617\n",
      "           7       0.21      0.04      0.07       602\n",
      "           8       0.27      0.06      0.10       627\n",
      "           9       0.24      0.05      0.08       951\n",
      "          10       0.31      0.09      0.14      1406\n",
      "          11       0.31      0.09      0.14      1053\n",
      "\n",
      "    accuracy                           0.25     20000\n",
      "   macro avg       0.25      0.17      0.17     20000\n",
      "weighted avg       0.25      0.25      0.22     20000\n",
      "\n"
     ]
    },
    {
     "data": {
      "application/javascript": [
       "\n",
       "            setTimeout(function() {\n",
       "                var nbb_cell_id = 15;\n",
       "                var nbb_unformatted_code = \"print(classification_report(y_test, y_pred))\";\n",
       "                var nbb_formatted_code = \"print(classification_report(y_test, y_pred))\";\n",
       "                var nbb_cells = Jupyter.notebook.get_cells();\n",
       "                for (var i = 0; i < nbb_cells.length; ++i) {\n",
       "                    if (nbb_cells[i].input_prompt_number == nbb_cell_id) {\n",
       "                        if (nbb_cells[i].get_text() == nbb_unformatted_code) {\n",
       "                             nbb_cells[i].set_text(nbb_formatted_code);\n",
       "                        }\n",
       "                        break;\n",
       "                    }\n",
       "                }\n",
       "            }, 500);\n",
       "            "
      ],
      "text/plain": [
       "<IPython.core.display.Javascript object>"
      ]
     },
     "metadata": {},
     "output_type": "display_data"
    }
   ],
   "source": [
    "print(classification_report(y_test, y_pred))"
   ]
  },
  {
   "cell_type": "markdown",
   "metadata": {},
   "source": [
    "### Random Forest Classifier"
   ]
  },
  {
   "cell_type": "code",
   "execution_count": 16,
   "metadata": {},
   "outputs": [
    {
     "name": "stdout",
     "output_type": "stream",
     "text": [
      "[Pipeline] ..... (step 1 of 2) Processing preprocessing, total=   0.2s\n",
      "[Pipeline] ................ (step 2 of 2) Processing rf, total= 1.3min\n"
     ]
    },
    {
     "data": {
      "text/plain": [
       "Pipeline(steps=[('preprocessing',\n",
       "                 ColumnTransformer(remainder='passthrough',\n",
       "                                   transformers=[('scale', StandardScaler(),\n",
       "                                                  ['device_id'])])),\n",
       "                ('rf', RandomForestClassifier())],\n",
       "         verbose=True)"
      ]
     },
     "execution_count": 16,
     "metadata": {},
     "output_type": "execute_result"
    },
    {
     "data": {
      "application/javascript": [
       "\n",
       "            setTimeout(function() {\n",
       "                var nbb_cell_id = 16;\n",
       "                var nbb_unformatted_code = \"pipeline = Pipeline(\\n    [(\\\"preprocessing\\\", preprocessing), (\\\"rf\\\", RandomForestClassifier())], verbose=True\\n)\\n\\npipeline.fit(X_train, y_train)\";\n",
       "                var nbb_formatted_code = \"pipeline = Pipeline(\\n    [(\\\"preprocessing\\\", preprocessing), (\\\"rf\\\", RandomForestClassifier())], verbose=True\\n)\\n\\npipeline.fit(X_train, y_train)\";\n",
       "                var nbb_cells = Jupyter.notebook.get_cells();\n",
       "                for (var i = 0; i < nbb_cells.length; ++i) {\n",
       "                    if (nbb_cells[i].input_prompt_number == nbb_cell_id) {\n",
       "                        if (nbb_cells[i].get_text() == nbb_unformatted_code) {\n",
       "                             nbb_cells[i].set_text(nbb_formatted_code);\n",
       "                        }\n",
       "                        break;\n",
       "                    }\n",
       "                }\n",
       "            }, 500);\n",
       "            "
      ],
      "text/plain": [
       "<IPython.core.display.Javascript object>"
      ]
     },
     "metadata": {},
     "output_type": "display_data"
    }
   ],
   "source": [
    "pipeline = Pipeline(\n",
    "    [(\"preprocessing\", preprocessing), (\"rf\", RandomForestClassifier())], verbose=True\n",
    ")\n",
    "\n",
    "pipeline.fit(X_train, y_train)"
   ]
  },
  {
   "cell_type": "code",
   "execution_count": 17,
   "metadata": {},
   "outputs": [
    {
     "name": "stdout",
     "output_type": "stream",
     "text": [
      "Fitting 2 folds for each of 36 candidates, totalling 72 fits\n"
     ]
    },
    {
     "name": "stderr",
     "output_type": "stream",
     "text": [
      "[Parallel(n_jobs=-1)]: Using backend LokyBackend with 12 concurrent workers.\n",
      "[Parallel(n_jobs=-1)]: Done  26 tasks      | elapsed:   44.7s\n",
      "[Parallel(n_jobs=-1)]: Done  72 out of  72 | elapsed:  2.2min finished\n"
     ]
    },
    {
     "name": "stdout",
     "output_type": "stream",
     "text": [
      "[Pipeline] ..... (step 1 of 2) Processing preprocessing, total=   0.2s\n",
      "[Pipeline] ................ (step 2 of 2) Processing rf, total=  38.0s\n"
     ]
    },
    {
     "data": {
      "text/plain": [
       "GridSearchCV(cv=2,\n",
       "             estimator=Pipeline(steps=[('preprocessing',\n",
       "                                        ColumnTransformer(remainder='passthrough',\n",
       "                                                          transformers=[('scale',\n",
       "                                                                         StandardScaler(),\n",
       "                                                                         ['device_id'])])),\n",
       "                                       ('rf', RandomForestClassifier())],\n",
       "                                verbose=True),\n",
       "             n_jobs=-1,\n",
       "             param_grid={'rf__criterion': ['gini'],\n",
       "                         'rf__max_depth': [50, 70, 90],\n",
       "                         'rf__min_samples_leaf': [1, 3, 5, 7],\n",
       "                         'rf__n_estimators': [1, 10, 100]},\n",
       "             verbose=True)"
      ]
     },
     "execution_count": 17,
     "metadata": {},
     "output_type": "execute_result"
    },
    {
     "data": {
      "application/javascript": [
       "\n",
       "            setTimeout(function() {\n",
       "                var nbb_cell_id = 17;\n",
       "                var nbb_unformatted_code = \"# Max depth of 50 provides a better score, this is much better than the previous score of around 0.2.\\n# To improve score suggest increasing max depth even more\\ngrid = {\\n    \\\"rf__max_depth\\\": [50, 70, 90],\\n    \\\"rf__n_estimators\\\": [1, 10, 100],\\n    \\\"rf__min_samples_leaf\\\": [1, 3, 5, 7],\\n    \\\"rf__criterion\\\": [\\\"gini\\\"],\\n}\\n\\nmodel = GridSearchCV(pipeline, grid, n_jobs=-1, cv=2, verbose=True)\\nmodel.fit(X_train, y_train)\";\n",
       "                var nbb_formatted_code = \"# Max depth of 50 provides a better score, this is much better than the previous score of around 0.2.\\n# To improve score suggest increasing max depth even more\\ngrid = {\\n    \\\"rf__max_depth\\\": [50, 70, 90],\\n    \\\"rf__n_estimators\\\": [1, 10, 100],\\n    \\\"rf__min_samples_leaf\\\": [1, 3, 5, 7],\\n    \\\"rf__criterion\\\": [\\\"gini\\\"],\\n}\\n\\nmodel = GridSearchCV(pipeline, grid, n_jobs=-1, cv=2, verbose=True)\\nmodel.fit(X_train, y_train)\";\n",
       "                var nbb_cells = Jupyter.notebook.get_cells();\n",
       "                for (var i = 0; i < nbb_cells.length; ++i) {\n",
       "                    if (nbb_cells[i].input_prompt_number == nbb_cell_id) {\n",
       "                        if (nbb_cells[i].get_text() == nbb_unformatted_code) {\n",
       "                             nbb_cells[i].set_text(nbb_formatted_code);\n",
       "                        }\n",
       "                        break;\n",
       "                    }\n",
       "                }\n",
       "            }, 500);\n",
       "            "
      ],
      "text/plain": [
       "<IPython.core.display.Javascript object>"
      ]
     },
     "metadata": {},
     "output_type": "display_data"
    }
   ],
   "source": [
    "# Max depth of 50 provides a better score, this is much better than the previous score of around 0.2.\n",
    "# To improve score suggest increasing max depth even more\n",
    "grid = {\n",
    "    \"rf__max_depth\": [50, 70, 90],\n",
    "    \"rf__n_estimators\": [1, 10, 100],\n",
    "    \"rf__min_samples_leaf\": [1, 3, 5, 7],\n",
    "    \"rf__criterion\": [\"gini\"],\n",
    "}\n",
    "\n",
    "model = GridSearchCV(pipeline, grid, n_jobs=-1, cv=2, verbose=True)\n",
    "model.fit(X_train, y_train)"
   ]
  },
  {
   "cell_type": "code",
   "execution_count": 18,
   "metadata": {},
   "outputs": [
    {
     "data": {
      "text/plain": [
       "{'rf__criterion': 'gini',\n",
       " 'rf__max_depth': 90,\n",
       " 'rf__min_samples_leaf': 3,\n",
       " 'rf__n_estimators': 100}"
      ]
     },
     "execution_count": 18,
     "metadata": {},
     "output_type": "execute_result"
    },
    {
     "data": {
      "application/javascript": [
       "\n",
       "            setTimeout(function() {\n",
       "                var nbb_cell_id = 18;\n",
       "                var nbb_unformatted_code = \"model.best_params_\";\n",
       "                var nbb_formatted_code = \"model.best_params_\";\n",
       "                var nbb_cells = Jupyter.notebook.get_cells();\n",
       "                for (var i = 0; i < nbb_cells.length; ++i) {\n",
       "                    if (nbb_cells[i].input_prompt_number == nbb_cell_id) {\n",
       "                        if (nbb_cells[i].get_text() == nbb_unformatted_code) {\n",
       "                             nbb_cells[i].set_text(nbb_formatted_code);\n",
       "                        }\n",
       "                        break;\n",
       "                    }\n",
       "                }\n",
       "            }, 500);\n",
       "            "
      ],
      "text/plain": [
       "<IPython.core.display.Javascript object>"
      ]
     },
     "metadata": {},
     "output_type": "display_data"
    }
   ],
   "source": [
    "model.best_params_"
   ]
  },
  {
   "cell_type": "code",
   "execution_count": 19,
   "metadata": {},
   "outputs": [
    {
     "name": "stdout",
     "output_type": "stream",
     "text": [
      "Train score: 0.415025\n",
      "Test score: 0.28685\n"
     ]
    },
    {
     "data": {
      "application/javascript": [
       "\n",
       "            setTimeout(function() {\n",
       "                var nbb_cell_id = 19;\n",
       "                var nbb_unformatted_code = \"train_score = model.score(X_train, y_train)\\ntest_score = model.score(X_test, y_test)\\n\\nprint(f\\\"Train score: {train_score}\\\")\\nprint(f\\\"Test score: {test_score}\\\")\";\n",
       "                var nbb_formatted_code = \"train_score = model.score(X_train, y_train)\\ntest_score = model.score(X_test, y_test)\\n\\nprint(f\\\"Train score: {train_score}\\\")\\nprint(f\\\"Test score: {test_score}\\\")\";\n",
       "                var nbb_cells = Jupyter.notebook.get_cells();\n",
       "                for (var i = 0; i < nbb_cells.length; ++i) {\n",
       "                    if (nbb_cells[i].input_prompt_number == nbb_cell_id) {\n",
       "                        if (nbb_cells[i].get_text() == nbb_unformatted_code) {\n",
       "                             nbb_cells[i].set_text(nbb_formatted_code);\n",
       "                        }\n",
       "                        break;\n",
       "                    }\n",
       "                }\n",
       "            }, 500);\n",
       "            "
      ],
      "text/plain": [
       "<IPython.core.display.Javascript object>"
      ]
     },
     "metadata": {},
     "output_type": "display_data"
    }
   ],
   "source": [
    "train_score = model.score(X_train, y_train)\n",
    "test_score = model.score(X_test, y_test)\n",
    "\n",
    "print(f\"Train score: {train_score}\")\n",
    "print(f\"Test score: {test_score}\")"
   ]
  },
  {
   "cell_type": "code",
   "execution_count": 20,
   "metadata": {},
   "outputs": [
    {
     "data": {
      "text/html": [
       "<style  type=\"text/css\" >\n",
       "#T_fd130176_31af_11eb_9451_40ec99f34421row0_col0,#T_fd130176_31af_11eb_9451_40ec99f34421row0_col1,#T_fd130176_31af_11eb_9451_40ec99f34421row7_col4{\n",
       "            background-color:  #efe9f3;\n",
       "            color:  #000000;\n",
       "        }#T_fd130176_31af_11eb_9451_40ec99f34421row0_col2,#T_fd130176_31af_11eb_9451_40ec99f34421row1_col9,#T_fd130176_31af_11eb_9451_40ec99f34421row1_col10,#T_fd130176_31af_11eb_9451_40ec99f34421row3_col6,#T_fd130176_31af_11eb_9451_40ec99f34421row4_col10,#T_fd130176_31af_11eb_9451_40ec99f34421row6_col10,#T_fd130176_31af_11eb_9451_40ec99f34421row7_col2,#T_fd130176_31af_11eb_9451_40ec99f34421row8_col2,#T_fd130176_31af_11eb_9451_40ec99f34421row8_col6,#T_fd130176_31af_11eb_9451_40ec99f34421row8_col10,#T_fd130176_31af_11eb_9451_40ec99f34421row9_col2,#T_fd130176_31af_11eb_9451_40ec99f34421row9_col6,#T_fd130176_31af_11eb_9451_40ec99f34421row9_col10,#T_fd130176_31af_11eb_9451_40ec99f34421row11_col2,#T_fd130176_31af_11eb_9451_40ec99f34421row11_col10{\n",
       "            background-color:  #fef6fb;\n",
       "            color:  #000000;\n",
       "        }#T_fd130176_31af_11eb_9451_40ec99f34421row0_col3,#T_fd130176_31af_11eb_9451_40ec99f34421row1_col0,#T_fd130176_31af_11eb_9451_40ec99f34421row6_col1,#T_fd130176_31af_11eb_9451_40ec99f34421row6_col5{\n",
       "            background-color:  #f8f1f8;\n",
       "            color:  #000000;\n",
       "        }#T_fd130176_31af_11eb_9451_40ec99f34421row0_col4{\n",
       "            background-color:  #dbdaeb;\n",
       "            color:  #000000;\n",
       "        }#T_fd130176_31af_11eb_9451_40ec99f34421row0_col5,#T_fd130176_31af_11eb_9451_40ec99f34421row4_col1,#T_fd130176_31af_11eb_9451_40ec99f34421row6_col4{\n",
       "            background-color:  #f0eaf4;\n",
       "            color:  #000000;\n",
       "        }#T_fd130176_31af_11eb_9451_40ec99f34421row0_col6,#T_fd130176_31af_11eb_9451_40ec99f34421row4_col2,#T_fd130176_31af_11eb_9451_40ec99f34421row4_col6,#T_fd130176_31af_11eb_9451_40ec99f34421row6_col0,#T_fd130176_31af_11eb_9451_40ec99f34421row6_col3,#T_fd130176_31af_11eb_9451_40ec99f34421row7_col0,#T_fd130176_31af_11eb_9451_40ec99f34421row7_col3,#T_fd130176_31af_11eb_9451_40ec99f34421row7_col6,#T_fd130176_31af_11eb_9451_40ec99f34421row7_col7,#T_fd130176_31af_11eb_9451_40ec99f34421row8_col0,#T_fd130176_31af_11eb_9451_40ec99f34421row9_col9,#T_fd130176_31af_11eb_9451_40ec99f34421row11_col0,#T_fd130176_31af_11eb_9451_40ec99f34421row11_col11{\n",
       "            background-color:  #fdf5fa;\n",
       "            color:  #000000;\n",
       "        }#T_fd130176_31af_11eb_9451_40ec99f34421row0_col7,#T_fd130176_31af_11eb_9451_40ec99f34421row0_col8,#T_fd130176_31af_11eb_9451_40ec99f34421row0_col9,#T_fd130176_31af_11eb_9451_40ec99f34421row0_col10,#T_fd130176_31af_11eb_9451_40ec99f34421row0_col11,#T_fd130176_31af_11eb_9451_40ec99f34421row1_col7,#T_fd130176_31af_11eb_9451_40ec99f34421row1_col8,#T_fd130176_31af_11eb_9451_40ec99f34421row1_col11,#T_fd130176_31af_11eb_9451_40ec99f34421row2_col7,#T_fd130176_31af_11eb_9451_40ec99f34421row2_col8,#T_fd130176_31af_11eb_9451_40ec99f34421row2_col9,#T_fd130176_31af_11eb_9451_40ec99f34421row2_col10,#T_fd130176_31af_11eb_9451_40ec99f34421row2_col11,#T_fd130176_31af_11eb_9451_40ec99f34421row3_col7,#T_fd130176_31af_11eb_9451_40ec99f34421row3_col8,#T_fd130176_31af_11eb_9451_40ec99f34421row3_col9,#T_fd130176_31af_11eb_9451_40ec99f34421row3_col11,#T_fd130176_31af_11eb_9451_40ec99f34421row4_col7,#T_fd130176_31af_11eb_9451_40ec99f34421row4_col8,#T_fd130176_31af_11eb_9451_40ec99f34421row4_col9,#T_fd130176_31af_11eb_9451_40ec99f34421row4_col11,#T_fd130176_31af_11eb_9451_40ec99f34421row5_col7,#T_fd130176_31af_11eb_9451_40ec99f34421row5_col8,#T_fd130176_31af_11eb_9451_40ec99f34421row5_col9,#T_fd130176_31af_11eb_9451_40ec99f34421row5_col11,#T_fd130176_31af_11eb_9451_40ec99f34421row6_col2,#T_fd130176_31af_11eb_9451_40ec99f34421row6_col7,#T_fd130176_31af_11eb_9451_40ec99f34421row6_col8,#T_fd130176_31af_11eb_9451_40ec99f34421row6_col9,#T_fd130176_31af_11eb_9451_40ec99f34421row6_col11,#T_fd130176_31af_11eb_9451_40ec99f34421row7_col8,#T_fd130176_31af_11eb_9451_40ec99f34421row7_col9,#T_fd130176_31af_11eb_9451_40ec99f34421row7_col10,#T_fd130176_31af_11eb_9451_40ec99f34421row7_col11,#T_fd130176_31af_11eb_9451_40ec99f34421row8_col7,#T_fd130176_31af_11eb_9451_40ec99f34421row8_col9,#T_fd130176_31af_11eb_9451_40ec99f34421row8_col11,#T_fd130176_31af_11eb_9451_40ec99f34421row9_col7,#T_fd130176_31af_11eb_9451_40ec99f34421row9_col8,#T_fd130176_31af_11eb_9451_40ec99f34421row9_col11,#T_fd130176_31af_11eb_9451_40ec99f34421row10_col2,#T_fd130176_31af_11eb_9451_40ec99f34421row10_col7,#T_fd130176_31af_11eb_9451_40ec99f34421row10_col8,#T_fd130176_31af_11eb_9451_40ec99f34421row10_col9,#T_fd130176_31af_11eb_9451_40ec99f34421row10_col11,#T_fd130176_31af_11eb_9451_40ec99f34421row11_col7,#T_fd130176_31af_11eb_9451_40ec99f34421row11_col8,#T_fd130176_31af_11eb_9451_40ec99f34421row11_col9{\n",
       "            background-color:  #fff7fb;\n",
       "            color:  #000000;\n",
       "        }#T_fd130176_31af_11eb_9451_40ec99f34421row1_col1,#T_fd130176_31af_11eb_9451_40ec99f34421row10_col4{\n",
       "            background-color:  #d2d3e7;\n",
       "            color:  #000000;\n",
       "        }#T_fd130176_31af_11eb_9451_40ec99f34421row1_col2,#T_fd130176_31af_11eb_9451_40ec99f34421row1_col6,#T_fd130176_31af_11eb_9451_40ec99f34421row2_col6,#T_fd130176_31af_11eb_9451_40ec99f34421row3_col2,#T_fd130176_31af_11eb_9451_40ec99f34421row3_col10,#T_fd130176_31af_11eb_9451_40ec99f34421row5_col2,#T_fd130176_31af_11eb_9451_40ec99f34421row5_col6,#T_fd130176_31af_11eb_9451_40ec99f34421row5_col10,#T_fd130176_31af_11eb_9451_40ec99f34421row8_col8,#T_fd130176_31af_11eb_9451_40ec99f34421row9_col0,#T_fd130176_31af_11eb_9451_40ec99f34421row10_col6,#T_fd130176_31af_11eb_9451_40ec99f34421row11_col6{\n",
       "            background-color:  #fef6fa;\n",
       "            color:  #000000;\n",
       "        }#T_fd130176_31af_11eb_9451_40ec99f34421row1_col3{\n",
       "            background-color:  #f3edf5;\n",
       "            color:  #000000;\n",
       "        }#T_fd130176_31af_11eb_9451_40ec99f34421row1_col4{\n",
       "            background-color:  #93b5d6;\n",
       "            color:  #000000;\n",
       "        }#T_fd130176_31af_11eb_9451_40ec99f34421row1_col5{\n",
       "            background-color:  #d9d8ea;\n",
       "            color:  #000000;\n",
       "        }#T_fd130176_31af_11eb_9451_40ec99f34421row2_col0,#T_fd130176_31af_11eb_9451_40ec99f34421row2_col2,#T_fd130176_31af_11eb_9451_40ec99f34421row3_col0,#T_fd130176_31af_11eb_9451_40ec99f34421row4_col0,#T_fd130176_31af_11eb_9451_40ec99f34421row9_col3,#T_fd130176_31af_11eb_9451_40ec99f34421row11_col1,#T_fd130176_31af_11eb_9451_40ec99f34421row11_col3{\n",
       "            background-color:  #fbf3f9;\n",
       "            color:  #000000;\n",
       "        }#T_fd130176_31af_11eb_9451_40ec99f34421row2_col1{\n",
       "            background-color:  #f4edf6;\n",
       "            color:  #000000;\n",
       "        }#T_fd130176_31af_11eb_9451_40ec99f34421row2_col3,#T_fd130176_31af_11eb_9451_40ec99f34421row8_col5{\n",
       "            background-color:  #f5eef6;\n",
       "            color:  #000000;\n",
       "        }#T_fd130176_31af_11eb_9451_40ec99f34421row2_col4{\n",
       "            background-color:  #c1cae2;\n",
       "            color:  #000000;\n",
       "        }#T_fd130176_31af_11eb_9451_40ec99f34421row2_col5{\n",
       "            background-color:  #e4e1ef;\n",
       "            color:  #000000;\n",
       "        }#T_fd130176_31af_11eb_9451_40ec99f34421row3_col1{\n",
       "            background-color:  #f1ebf4;\n",
       "            color:  #000000;\n",
       "        }#T_fd130176_31af_11eb_9451_40ec99f34421row3_col3{\n",
       "            background-color:  #d3d4e7;\n",
       "            color:  #000000;\n",
       "        }#T_fd130176_31af_11eb_9451_40ec99f34421row3_col4{\n",
       "            background-color:  #89b1d4;\n",
       "            color:  #000000;\n",
       "        }#T_fd130176_31af_11eb_9451_40ec99f34421row3_col5{\n",
       "            background-color:  #bfc9e1;\n",
       "            color:  #000000;\n",
       "        }#T_fd130176_31af_11eb_9451_40ec99f34421row4_col3{\n",
       "            background-color:  #f2ecf5;\n",
       "            color:  #000000;\n",
       "        }#T_fd130176_31af_11eb_9451_40ec99f34421row4_col4{\n",
       "            background-color:  #023858;\n",
       "            color:  #f1f1f1;\n",
       "        }#T_fd130176_31af_11eb_9451_40ec99f34421row4_col5{\n",
       "            background-color:  #9fbad9;\n",
       "            color:  #000000;\n",
       "        }#T_fd130176_31af_11eb_9451_40ec99f34421row5_col0,#T_fd130176_31af_11eb_9451_40ec99f34421row8_col3,#T_fd130176_31af_11eb_9451_40ec99f34421row10_col0{\n",
       "            background-color:  #fcf4fa;\n",
       "            color:  #000000;\n",
       "        }#T_fd130176_31af_11eb_9451_40ec99f34421row5_col1,#T_fd130176_31af_11eb_9451_40ec99f34421row5_col3,#T_fd130176_31af_11eb_9451_40ec99f34421row7_col5{\n",
       "            background-color:  #f5eff6;\n",
       "            color:  #000000;\n",
       "        }#T_fd130176_31af_11eb_9451_40ec99f34421row5_col4{\n",
       "            background-color:  #7dacd1;\n",
       "            color:  #000000;\n",
       "        }#T_fd130176_31af_11eb_9451_40ec99f34421row5_col5{\n",
       "            background-color:  #04649e;\n",
       "            color:  #f1f1f1;\n",
       "        }#T_fd130176_31af_11eb_9451_40ec99f34421row6_col6{\n",
       "            background-color:  #faf2f8;\n",
       "            color:  #000000;\n",
       "        }#T_fd130176_31af_11eb_9451_40ec99f34421row7_col1,#T_fd130176_31af_11eb_9451_40ec99f34421row8_col1,#T_fd130176_31af_11eb_9451_40ec99f34421row9_col1,#T_fd130176_31af_11eb_9451_40ec99f34421row10_col3{\n",
       "            background-color:  #faf3f9;\n",
       "            color:  #000000;\n",
       "        }#T_fd130176_31af_11eb_9451_40ec99f34421row8_col4{\n",
       "            background-color:  #eee8f3;\n",
       "            color:  #000000;\n",
       "        }#T_fd130176_31af_11eb_9451_40ec99f34421row9_col4{\n",
       "            background-color:  #dcdaeb;\n",
       "            color:  #000000;\n",
       "        }#T_fd130176_31af_11eb_9451_40ec99f34421row9_col5{\n",
       "            background-color:  #ede8f3;\n",
       "            color:  #000000;\n",
       "        }#T_fd130176_31af_11eb_9451_40ec99f34421row10_col1,#T_fd130176_31af_11eb_9451_40ec99f34421row10_col10{\n",
       "            background-color:  #f9f2f8;\n",
       "            color:  #000000;\n",
       "        }#T_fd130176_31af_11eb_9451_40ec99f34421row10_col5{\n",
       "            background-color:  #d4d4e8;\n",
       "            color:  #000000;\n",
       "        }#T_fd130176_31af_11eb_9451_40ec99f34421row11_col4{\n",
       "            background-color:  #dedcec;\n",
       "            color:  #000000;\n",
       "        }#T_fd130176_31af_11eb_9451_40ec99f34421row11_col5{\n",
       "            background-color:  #e3e0ee;\n",
       "            color:  #000000;\n",
       "        }</style><table id=\"T_fd130176_31af_11eb_9451_40ec99f34421\" ><thead>    <tr>        <th class=\"blank level0\" ></th>        <th class=\"col_heading level0 col0\" >Predicted M22-</th>        <th class=\"col_heading level0 col1\" >Predicted M23-26</th>        <th class=\"col_heading level0 col2\" >Predicted M27-28</th>        <th class=\"col_heading level0 col3\" >Predicted M29-31</th>        <th class=\"col_heading level0 col4\" >Predicted M32-38</th>        <th class=\"col_heading level0 col5\" >Predicted M39+</th>        <th class=\"col_heading level0 col6\" >Predicted F23-</th>        <th class=\"col_heading level0 col7\" >Predicted F24-26</th>        <th class=\"col_heading level0 col8\" >Predicted F27-28</th>        <th class=\"col_heading level0 col9\" >Predicted F29-32</th>        <th class=\"col_heading level0 col10\" >Predicted F33-42</th>        <th class=\"col_heading level0 col11\" >Predicted F43+</th>    </tr></thead><tbody>\n",
       "                <tr>\n",
       "                        <th id=\"T_fd130176_31af_11eb_9451_40ec99f34421level0_row0\" class=\"row_heading level0 row0\" >Actually M22-</th>\n",
       "                        <td id=\"T_fd130176_31af_11eb_9451_40ec99f34421row0_col0\" class=\"data row0 col0\" >244</td>\n",
       "                        <td id=\"T_fd130176_31af_11eb_9451_40ec99f34421row0_col1\" class=\"data row0 col1\" >242</td>\n",
       "                        <td id=\"T_fd130176_31af_11eb_9451_40ec99f34421row0_col2\" class=\"data row0 col2\" >10</td>\n",
       "                        <td id=\"T_fd130176_31af_11eb_9451_40ec99f34421row0_col3\" class=\"data row0 col3\" >102</td>\n",
       "                        <td id=\"T_fd130176_31af_11eb_9451_40ec99f34421row0_col4\" class=\"data row0 col4\" >452</td>\n",
       "                        <td id=\"T_fd130176_31af_11eb_9451_40ec99f34421row0_col5\" class=\"data row0 col5\" >230</td>\n",
       "                        <td id=\"T_fd130176_31af_11eb_9451_40ec99f34421row0_col6\" class=\"data row0 col6\" >36</td>\n",
       "                        <td id=\"T_fd130176_31af_11eb_9451_40ec99f34421row0_col7\" class=\"data row0 col7\" >2</td>\n",
       "                        <td id=\"T_fd130176_31af_11eb_9451_40ec99f34421row0_col8\" class=\"data row0 col8\" >0</td>\n",
       "                        <td id=\"T_fd130176_31af_11eb_9451_40ec99f34421row0_col9\" class=\"data row0 col9\" >4</td>\n",
       "                        <td id=\"T_fd130176_31af_11eb_9451_40ec99f34421row0_col10\" class=\"data row0 col10\" >6</td>\n",
       "                        <td id=\"T_fd130176_31af_11eb_9451_40ec99f34421row0_col11\" class=\"data row0 col11\" >6</td>\n",
       "            </tr>\n",
       "            <tr>\n",
       "                        <th id=\"T_fd130176_31af_11eb_9451_40ec99f34421level0_row1\" class=\"row_heading level0 row1\" >Actually M23-26</th>\n",
       "                        <td id=\"T_fd130176_31af_11eb_9451_40ec99f34421row1_col0\" class=\"data row1 col0\" >105</td>\n",
       "                        <td id=\"T_fd130176_31af_11eb_9451_40ec99f34421row1_col1\" class=\"data row1 col1\" >541</td>\n",
       "                        <td id=\"T_fd130176_31af_11eb_9451_40ec99f34421row1_col2\" class=\"data row1 col2\" >22</td>\n",
       "                        <td id=\"T_fd130176_31af_11eb_9451_40ec99f34421row1_col3\" class=\"data row1 col3\" >180</td>\n",
       "                        <td id=\"T_fd130176_31af_11eb_9451_40ec99f34421row1_col4\" class=\"data row1 col4\" >947</td>\n",
       "                        <td id=\"T_fd130176_31af_11eb_9451_40ec99f34421row1_col5\" class=\"data row1 col5\" >472</td>\n",
       "                        <td id=\"T_fd130176_31af_11eb_9451_40ec99f34421row1_col6\" class=\"data row1 col6\" >22</td>\n",
       "                        <td id=\"T_fd130176_31af_11eb_9451_40ec99f34421row1_col7\" class=\"data row1 col7\" >8</td>\n",
       "                        <td id=\"T_fd130176_31af_11eb_9451_40ec99f34421row1_col8\" class=\"data row1 col8\" >1</td>\n",
       "                        <td id=\"T_fd130176_31af_11eb_9451_40ec99f34421row1_col9\" class=\"data row1 col9\" >13</td>\n",
       "                        <td id=\"T_fd130176_31af_11eb_9451_40ec99f34421row1_col10\" class=\"data row1 col10\" >10</td>\n",
       "                        <td id=\"T_fd130176_31af_11eb_9451_40ec99f34421row1_col11\" class=\"data row1 col11\" >6</td>\n",
       "            </tr>\n",
       "            <tr>\n",
       "                        <th id=\"T_fd130176_31af_11eb_9451_40ec99f34421level0_row2\" class=\"row_heading level0 row2\" >Actually M27-28</th>\n",
       "                        <td id=\"T_fd130176_31af_11eb_9451_40ec99f34421row2_col0\" class=\"data row2 col0\" >69</td>\n",
       "                        <td id=\"T_fd130176_31af_11eb_9451_40ec99f34421row2_col1\" class=\"data row2 col1\" >173</td>\n",
       "                        <td id=\"T_fd130176_31af_11eb_9451_40ec99f34421row2_col2\" class=\"data row2 col2\" >69</td>\n",
       "                        <td id=\"T_fd130176_31af_11eb_9451_40ec99f34421row2_col3\" class=\"data row2 col3\" >154</td>\n",
       "                        <td id=\"T_fd130176_31af_11eb_9451_40ec99f34421row2_col4\" class=\"data row2 col4\" >660</td>\n",
       "                        <td id=\"T_fd130176_31af_11eb_9451_40ec99f34421row2_col5\" class=\"data row2 col5\" >366</td>\n",
       "                        <td id=\"T_fd130176_31af_11eb_9451_40ec99f34421row2_col6\" class=\"data row2 col6\" >19</td>\n",
       "                        <td id=\"T_fd130176_31af_11eb_9451_40ec99f34421row2_col7\" class=\"data row2 col7\" >2</td>\n",
       "                        <td id=\"T_fd130176_31af_11eb_9451_40ec99f34421row2_col8\" class=\"data row2 col8\" >2</td>\n",
       "                        <td id=\"T_fd130176_31af_11eb_9451_40ec99f34421row2_col9\" class=\"data row2 col9\" >5</td>\n",
       "                        <td id=\"T_fd130176_31af_11eb_9451_40ec99f34421row2_col10\" class=\"data row2 col10\" >6</td>\n",
       "                        <td id=\"T_fd130176_31af_11eb_9451_40ec99f34421row2_col11\" class=\"data row2 col11\" >4</td>\n",
       "            </tr>\n",
       "            <tr>\n",
       "                        <th id=\"T_fd130176_31af_11eb_9451_40ec99f34421level0_row3\" class=\"row_heading level0 row3\" >Actually M29-31</th>\n",
       "                        <td id=\"T_fd130176_31af_11eb_9451_40ec99f34421row3_col0\" class=\"data row3 col0\" >67</td>\n",
       "                        <td id=\"T_fd130176_31af_11eb_9451_40ec99f34421row3_col1\" class=\"data row3 col1\" >213</td>\n",
       "                        <td id=\"T_fd130176_31af_11eb_9451_40ec99f34421row3_col2\" class=\"data row3 col2\" >23</td>\n",
       "                        <td id=\"T_fd130176_31af_11eb_9451_40ec99f34421row3_col3\" class=\"data row3 col3\" >526</td>\n",
       "                        <td id=\"T_fd130176_31af_11eb_9451_40ec99f34421row3_col4\" class=\"data row3 col4\" >1003</td>\n",
       "                        <td id=\"T_fd130176_31af_11eb_9451_40ec99f34421row3_col5\" class=\"data row3 col5\" >678</td>\n",
       "                        <td id=\"T_fd130176_31af_11eb_9451_40ec99f34421row3_col6\" class=\"data row3 col6\" >14</td>\n",
       "                        <td id=\"T_fd130176_31af_11eb_9451_40ec99f34421row3_col7\" class=\"data row3 col7\" >0</td>\n",
       "                        <td id=\"T_fd130176_31af_11eb_9451_40ec99f34421row3_col8\" class=\"data row3 col8\" >2</td>\n",
       "                        <td id=\"T_fd130176_31af_11eb_9451_40ec99f34421row3_col9\" class=\"data row3 col9\" >2</td>\n",
       "                        <td id=\"T_fd130176_31af_11eb_9451_40ec99f34421row3_col10\" class=\"data row3 col10\" >20</td>\n",
       "                        <td id=\"T_fd130176_31af_11eb_9451_40ec99f34421row3_col11\" class=\"data row3 col11\" >5</td>\n",
       "            </tr>\n",
       "            <tr>\n",
       "                        <th id=\"T_fd130176_31af_11eb_9451_40ec99f34421level0_row4\" class=\"row_heading level0 row4\" >Actually M32-38</th>\n",
       "                        <td id=\"T_fd130176_31af_11eb_9451_40ec99f34421row4_col0\" class=\"data row4 col0\" >68</td>\n",
       "                        <td id=\"T_fd130176_31af_11eb_9451_40ec99f34421row4_col1\" class=\"data row4 col1\" >224</td>\n",
       "                        <td id=\"T_fd130176_31af_11eb_9451_40ec99f34421row4_col2\" class=\"data row4 col2\" >32</td>\n",
       "                        <td id=\"T_fd130176_31af_11eb_9451_40ec99f34421row4_col3\" class=\"data row4 col3\" >198</td>\n",
       "                        <td id=\"T_fd130176_31af_11eb_9451_40ec99f34421row4_col4\" class=\"data row4 col4\" >2234</td>\n",
       "                        <td id=\"T_fd130176_31af_11eb_9451_40ec99f34421row4_col5\" class=\"data row4 col5\" >879</td>\n",
       "                        <td id=\"T_fd130176_31af_11eb_9451_40ec99f34421row4_col6\" class=\"data row4 col6\" >28</td>\n",
       "                        <td id=\"T_fd130176_31af_11eb_9451_40ec99f34421row4_col7\" class=\"data row4 col7\" >1</td>\n",
       "                        <td id=\"T_fd130176_31af_11eb_9451_40ec99f34421row4_col8\" class=\"data row4 col8\" >4</td>\n",
       "                        <td id=\"T_fd130176_31af_11eb_9451_40ec99f34421row4_col9\" class=\"data row4 col9\" >6</td>\n",
       "                        <td id=\"T_fd130176_31af_11eb_9451_40ec99f34421row4_col10\" class=\"data row4 col10\" >15</td>\n",
       "                        <td id=\"T_fd130176_31af_11eb_9451_40ec99f34421row4_col11\" class=\"data row4 col11\" >6</td>\n",
       "            </tr>\n",
       "            <tr>\n",
       "                        <th id=\"T_fd130176_31af_11eb_9451_40ec99f34421level0_row5\" class=\"row_heading level0 row5\" >Actually M39+</th>\n",
       "                        <td id=\"T_fd130176_31af_11eb_9451_40ec99f34421row5_col0\" class=\"data row5 col0\" >47</td>\n",
       "                        <td id=\"T_fd130176_31af_11eb_9451_40ec99f34421row5_col1\" class=\"data row5 col1\" >148</td>\n",
       "                        <td id=\"T_fd130176_31af_11eb_9451_40ec99f34421row5_col2\" class=\"data row5 col2\" >19</td>\n",
       "                        <td id=\"T_fd130176_31af_11eb_9451_40ec99f34421row5_col3\" class=\"data row5 col3\" >147</td>\n",
       "                        <td id=\"T_fd130176_31af_11eb_9451_40ec99f34421row5_col4\" class=\"data row5 col4\" >1071</td>\n",
       "                        <td id=\"T_fd130176_31af_11eb_9451_40ec99f34421row5_col5\" class=\"data row5 col5\" >1821</td>\n",
       "                        <td id=\"T_fd130176_31af_11eb_9451_40ec99f34421row5_col6\" class=\"data row5 col6\" >20</td>\n",
       "                        <td id=\"T_fd130176_31af_11eb_9451_40ec99f34421row5_col7\" class=\"data row5 col7\" >0</td>\n",
       "                        <td id=\"T_fd130176_31af_11eb_9451_40ec99f34421row5_col8\" class=\"data row5 col8\" >1</td>\n",
       "                        <td id=\"T_fd130176_31af_11eb_9451_40ec99f34421row5_col9\" class=\"data row5 col9\" >8</td>\n",
       "                        <td id=\"T_fd130176_31af_11eb_9451_40ec99f34421row5_col10\" class=\"data row5 col10\" >19</td>\n",
       "                        <td id=\"T_fd130176_31af_11eb_9451_40ec99f34421row5_col11\" class=\"data row5 col11\" >5</td>\n",
       "            </tr>\n",
       "            <tr>\n",
       "                        <th id=\"T_fd130176_31af_11eb_9451_40ec99f34421level0_row6\" class=\"row_heading level0 row6\" >Actually F23-</th>\n",
       "                        <td id=\"T_fd130176_31af_11eb_9451_40ec99f34421row6_col0\" class=\"data row6 col0\" >41</td>\n",
       "                        <td id=\"T_fd130176_31af_11eb_9451_40ec99f34421row6_col1\" class=\"data row6 col1\" >109</td>\n",
       "                        <td id=\"T_fd130176_31af_11eb_9451_40ec99f34421row6_col2\" class=\"data row6 col2\" >7</td>\n",
       "                        <td id=\"T_fd130176_31af_11eb_9451_40ec99f34421row6_col3\" class=\"data row6 col3\" >38</td>\n",
       "                        <td id=\"T_fd130176_31af_11eb_9451_40ec99f34421row6_col4\" class=\"data row6 col4\" >223</td>\n",
       "                        <td id=\"T_fd130176_31af_11eb_9451_40ec99f34421row6_col5\" class=\"data row6 col5\" >96</td>\n",
       "                        <td id=\"T_fd130176_31af_11eb_9451_40ec99f34421row6_col6\" class=\"data row6 col6\" >85</td>\n",
       "                        <td id=\"T_fd130176_31af_11eb_9451_40ec99f34421row6_col7\" class=\"data row6 col7\" >5</td>\n",
       "                        <td id=\"T_fd130176_31af_11eb_9451_40ec99f34421row6_col8\" class=\"data row6 col8\" >1</td>\n",
       "                        <td id=\"T_fd130176_31af_11eb_9451_40ec99f34421row6_col9\" class=\"data row6 col9\" >2</td>\n",
       "                        <td id=\"T_fd130176_31af_11eb_9451_40ec99f34421row6_col10\" class=\"data row6 col10\" >10</td>\n",
       "                        <td id=\"T_fd130176_31af_11eb_9451_40ec99f34421row6_col11\" class=\"data row6 col11\" >0</td>\n",
       "            </tr>\n",
       "            <tr>\n",
       "                        <th id=\"T_fd130176_31af_11eb_9451_40ec99f34421level0_row7\" class=\"row_heading level0 row7\" >Actually F24-26</th>\n",
       "                        <td id=\"T_fd130176_31af_11eb_9451_40ec99f34421row7_col0\" class=\"data row7 col0\" >42</td>\n",
       "                        <td id=\"T_fd130176_31af_11eb_9451_40ec99f34421row7_col1\" class=\"data row7 col1\" >70</td>\n",
       "                        <td id=\"T_fd130176_31af_11eb_9451_40ec99f34421row7_col2\" class=\"data row7 col2\" >12</td>\n",
       "                        <td id=\"T_fd130176_31af_11eb_9451_40ec99f34421row7_col3\" class=\"data row7 col3\" >30</td>\n",
       "                        <td id=\"T_fd130176_31af_11eb_9451_40ec99f34421row7_col4\" class=\"data row7 col4\" >239</td>\n",
       "                        <td id=\"T_fd130176_31af_11eb_9451_40ec99f34421row7_col5\" class=\"data row7 col5\" >141</td>\n",
       "                        <td id=\"T_fd130176_31af_11eb_9451_40ec99f34421row7_col6\" class=\"data row7 col6\" >28</td>\n",
       "                        <td id=\"T_fd130176_31af_11eb_9451_40ec99f34421row7_col7\" class=\"data row7 col7\" >29</td>\n",
       "                        <td id=\"T_fd130176_31af_11eb_9451_40ec99f34421row7_col8\" class=\"data row7 col8\" >0</td>\n",
       "                        <td id=\"T_fd130176_31af_11eb_9451_40ec99f34421row7_col9\" class=\"data row7 col9\" >4</td>\n",
       "                        <td id=\"T_fd130176_31af_11eb_9451_40ec99f34421row7_col10\" class=\"data row7 col10\" >7</td>\n",
       "                        <td id=\"T_fd130176_31af_11eb_9451_40ec99f34421row7_col11\" class=\"data row7 col11\" >0</td>\n",
       "            </tr>\n",
       "            <tr>\n",
       "                        <th id=\"T_fd130176_31af_11eb_9451_40ec99f34421level0_row8\" class=\"row_heading level0 row8\" >Actually F27-28</th>\n",
       "                        <td id=\"T_fd130176_31af_11eb_9451_40ec99f34421row8_col0\" class=\"data row8 col0\" >33</td>\n",
       "                        <td id=\"T_fd130176_31af_11eb_9451_40ec99f34421row8_col1\" class=\"data row8 col1\" >73</td>\n",
       "                        <td id=\"T_fd130176_31af_11eb_9451_40ec99f34421row8_col2\" class=\"data row8 col2\" >9</td>\n",
       "                        <td id=\"T_fd130176_31af_11eb_9451_40ec99f34421row8_col3\" class=\"data row8 col3\" >48</td>\n",
       "                        <td id=\"T_fd130176_31af_11eb_9451_40ec99f34421row8_col4\" class=\"data row8 col4\" >255</td>\n",
       "                        <td id=\"T_fd130176_31af_11eb_9451_40ec99f34421row8_col5\" class=\"data row8 col5\" >149</td>\n",
       "                        <td id=\"T_fd130176_31af_11eb_9451_40ec99f34421row8_col6\" class=\"data row8 col6\" >16</td>\n",
       "                        <td id=\"T_fd130176_31af_11eb_9451_40ec99f34421row8_col7\" class=\"data row8 col7\" >5</td>\n",
       "                        <td id=\"T_fd130176_31af_11eb_9451_40ec99f34421row8_col8\" class=\"data row8 col8\" >21</td>\n",
       "                        <td id=\"T_fd130176_31af_11eb_9451_40ec99f34421row8_col9\" class=\"data row8 col9\" >4</td>\n",
       "                        <td id=\"T_fd130176_31af_11eb_9451_40ec99f34421row8_col10\" class=\"data row8 col10\" >9</td>\n",
       "                        <td id=\"T_fd130176_31af_11eb_9451_40ec99f34421row8_col11\" class=\"data row8 col11\" >5</td>\n",
       "            </tr>\n",
       "            <tr>\n",
       "                        <th id=\"T_fd130176_31af_11eb_9451_40ec99f34421level0_row9\" class=\"row_heading level0 row9\" >Actually F29-32</th>\n",
       "                        <td id=\"T_fd130176_31af_11eb_9451_40ec99f34421row9_col0\" class=\"data row9 col0\" >24</td>\n",
       "                        <td id=\"T_fd130176_31af_11eb_9451_40ec99f34421row9_col1\" class=\"data row9 col1\" >72</td>\n",
       "                        <td id=\"T_fd130176_31af_11eb_9451_40ec99f34421row9_col2\" class=\"data row9 col2\" >11</td>\n",
       "                        <td id=\"T_fd130176_31af_11eb_9451_40ec99f34421row9_col3\" class=\"data row9 col3\" >68</td>\n",
       "                        <td id=\"T_fd130176_31af_11eb_9451_40ec99f34421row9_col4\" class=\"data row9 col4\" >441</td>\n",
       "                        <td id=\"T_fd130176_31af_11eb_9451_40ec99f34421row9_col5\" class=\"data row9 col5\" >265</td>\n",
       "                        <td id=\"T_fd130176_31af_11eb_9451_40ec99f34421row9_col6\" class=\"data row9 col6\" >13</td>\n",
       "                        <td id=\"T_fd130176_31af_11eb_9451_40ec99f34421row9_col7\" class=\"data row9 col7\" >2</td>\n",
       "                        <td id=\"T_fd130176_31af_11eb_9451_40ec99f34421row9_col8\" class=\"data row9 col8\" >2</td>\n",
       "                        <td id=\"T_fd130176_31af_11eb_9451_40ec99f34421row9_col9\" class=\"data row9 col9\" >38</td>\n",
       "                        <td id=\"T_fd130176_31af_11eb_9451_40ec99f34421row9_col10\" class=\"data row9 col10\" >12</td>\n",
       "                        <td id=\"T_fd130176_31af_11eb_9451_40ec99f34421row9_col11\" class=\"data row9 col11\" >3</td>\n",
       "            </tr>\n",
       "            <tr>\n",
       "                        <th id=\"T_fd130176_31af_11eb_9451_40ec99f34421level0_row10\" class=\"row_heading level0 row10\" >Actually F33-42</th>\n",
       "                        <td id=\"T_fd130176_31af_11eb_9451_40ec99f34421row10_col0\" class=\"data row10 col0\" >50</td>\n",
       "                        <td id=\"T_fd130176_31af_11eb_9451_40ec99f34421row10_col1\" class=\"data row10 col1\" >89</td>\n",
       "                        <td id=\"T_fd130176_31af_11eb_9451_40ec99f34421row10_col2\" class=\"data row10 col2\" >5</td>\n",
       "                        <td id=\"T_fd130176_31af_11eb_9451_40ec99f34421row10_col3\" class=\"data row10 col3\" >74</td>\n",
       "                        <td id=\"T_fd130176_31af_11eb_9451_40ec99f34421row10_col4\" class=\"data row10 col4\" >537</td>\n",
       "                        <td id=\"T_fd130176_31af_11eb_9451_40ec99f34421row10_col5\" class=\"data row10 col5\" >523</td>\n",
       "                        <td id=\"T_fd130176_31af_11eb_9451_40ec99f34421row10_col6\" class=\"data row10 col6\" >24</td>\n",
       "                        <td id=\"T_fd130176_31af_11eb_9451_40ec99f34421row10_col7\" class=\"data row10 col7\" >2</td>\n",
       "                        <td id=\"T_fd130176_31af_11eb_9451_40ec99f34421row10_col8\" class=\"data row10 col8\" >1</td>\n",
       "                        <td id=\"T_fd130176_31af_11eb_9451_40ec99f34421row10_col9\" class=\"data row10 col9\" >7</td>\n",
       "                        <td id=\"T_fd130176_31af_11eb_9451_40ec99f34421row10_col10\" class=\"data row10 col10\" >88</td>\n",
       "                        <td id=\"T_fd130176_31af_11eb_9451_40ec99f34421row10_col11\" class=\"data row10 col11\" >6</td>\n",
       "            </tr>\n",
       "            <tr>\n",
       "                        <th id=\"T_fd130176_31af_11eb_9451_40ec99f34421level0_row11\" class=\"row_heading level0 row11\" >Actually F43+</th>\n",
       "                        <td id=\"T_fd130176_31af_11eb_9451_40ec99f34421row11_col0\" class=\"data row11 col0\" >31</td>\n",
       "                        <td id=\"T_fd130176_31af_11eb_9451_40ec99f34421row11_col1\" class=\"data row11 col1\" >64</td>\n",
       "                        <td id=\"T_fd130176_31af_11eb_9451_40ec99f34421row11_col2\" class=\"data row11 col2\" >17</td>\n",
       "                        <td id=\"T_fd130176_31af_11eb_9451_40ec99f34421row11_col3\" class=\"data row11 col3\" >69</td>\n",
       "                        <td id=\"T_fd130176_31af_11eb_9451_40ec99f34421row11_col4\" class=\"data row11 col4\" >423</td>\n",
       "                        <td id=\"T_fd130176_31af_11eb_9451_40ec99f34421row11_col5\" class=\"data row11 col5\" >371</td>\n",
       "                        <td id=\"T_fd130176_31af_11eb_9451_40ec99f34421row11_col6\" class=\"data row11 col6\" >18</td>\n",
       "                        <td id=\"T_fd130176_31af_11eb_9451_40ec99f34421row11_col7\" class=\"data row11 col7\" >1</td>\n",
       "                        <td id=\"T_fd130176_31af_11eb_9451_40ec99f34421row11_col8\" class=\"data row11 col8\" >0</td>\n",
       "                        <td id=\"T_fd130176_31af_11eb_9451_40ec99f34421row11_col9\" class=\"data row11 col9\" >4</td>\n",
       "                        <td id=\"T_fd130176_31af_11eb_9451_40ec99f34421row11_col10\" class=\"data row11 col10\" >14</td>\n",
       "                        <td id=\"T_fd130176_31af_11eb_9451_40ec99f34421row11_col11\" class=\"data row11 col11\" >41</td>\n",
       "            </tr>\n",
       "    </tbody></table>"
      ],
      "text/plain": [
       "<pandas.io.formats.style.Styler at 0x23006101e48>"
      ]
     },
     "execution_count": 20,
     "metadata": {},
     "output_type": "execute_result"
    },
    {
     "data": {
      "application/javascript": [
       "\n",
       "            setTimeout(function() {\n",
       "                var nbb_cell_id = 20;\n",
       "                var nbb_unformatted_code = \"y_pred = model.predict(X_test)\\n\\ncon_mat = pd.DataFrame(\\n    confusion_matrix(y_test, y_pred),\\n    index=[\\n        \\\"Actually M22-\\\",\\n        \\\"Actually M23-26\\\",\\n        \\\"Actually M27-28\\\",\\n        \\\"Actually M29-31\\\",\\n        \\\"Actually M32-38\\\",\\n        \\\"Actually M39+\\\",\\n        \\\"Actually F23-\\\",\\n        \\\"Actually F24-26\\\",\\n        \\\"Actually F27-28\\\",\\n        \\\"Actually F29-32\\\",\\n        \\\"Actually F33-42\\\",\\n        \\\"Actually F43+\\\",\\n    ],\\n    columns=[\\n        \\\"Predicted M22-\\\",\\n        \\\"Predicted M23-26\\\",\\n        \\\"Predicted M27-28\\\",\\n        \\\"Predicted M29-31\\\",\\n        \\\"Predicted M32-38\\\",\\n        \\\"Predicted M39+\\\",\\n        \\\"Predicted F23-\\\",\\n        \\\"Predicted F24-26\\\",\\n        \\\"Predicted F27-28\\\",\\n        \\\"Predicted F29-32\\\",\\n        \\\"Predicted F33-42\\\",\\n        \\\"Predicted F43+\\\",\\n    ],\\n)\\ncon_mat.style.background_gradient(axis=None)\";\n",
       "                var nbb_formatted_code = \"y_pred = model.predict(X_test)\\n\\ncon_mat = pd.DataFrame(\\n    confusion_matrix(y_test, y_pred),\\n    index=[\\n        \\\"Actually M22-\\\",\\n        \\\"Actually M23-26\\\",\\n        \\\"Actually M27-28\\\",\\n        \\\"Actually M29-31\\\",\\n        \\\"Actually M32-38\\\",\\n        \\\"Actually M39+\\\",\\n        \\\"Actually F23-\\\",\\n        \\\"Actually F24-26\\\",\\n        \\\"Actually F27-28\\\",\\n        \\\"Actually F29-32\\\",\\n        \\\"Actually F33-42\\\",\\n        \\\"Actually F43+\\\",\\n    ],\\n    columns=[\\n        \\\"Predicted M22-\\\",\\n        \\\"Predicted M23-26\\\",\\n        \\\"Predicted M27-28\\\",\\n        \\\"Predicted M29-31\\\",\\n        \\\"Predicted M32-38\\\",\\n        \\\"Predicted M39+\\\",\\n        \\\"Predicted F23-\\\",\\n        \\\"Predicted F24-26\\\",\\n        \\\"Predicted F27-28\\\",\\n        \\\"Predicted F29-32\\\",\\n        \\\"Predicted F33-42\\\",\\n        \\\"Predicted F43+\\\",\\n    ],\\n)\\ncon_mat.style.background_gradient(axis=None)\";\n",
       "                var nbb_cells = Jupyter.notebook.get_cells();\n",
       "                for (var i = 0; i < nbb_cells.length; ++i) {\n",
       "                    if (nbb_cells[i].input_prompt_number == nbb_cell_id) {\n",
       "                        if (nbb_cells[i].get_text() == nbb_unformatted_code) {\n",
       "                             nbb_cells[i].set_text(nbb_formatted_code);\n",
       "                        }\n",
       "                        break;\n",
       "                    }\n",
       "                }\n",
       "            }, 500);\n",
       "            "
      ],
      "text/plain": [
       "<IPython.core.display.Javascript object>"
      ]
     },
     "metadata": {},
     "output_type": "display_data"
    }
   ],
   "source": [
    "y_pred = model.predict(X_test)\n",
    "\n",
    "con_mat = pd.DataFrame(\n",
    "    confusion_matrix(y_test, y_pred),\n",
    "    index=[\n",
    "        \"Actually M22-\",\n",
    "        \"Actually M23-26\",\n",
    "        \"Actually M27-28\",\n",
    "        \"Actually M29-31\",\n",
    "        \"Actually M32-38\",\n",
    "        \"Actually M39+\",\n",
    "        \"Actually F23-\",\n",
    "        \"Actually F24-26\",\n",
    "        \"Actually F27-28\",\n",
    "        \"Actually F29-32\",\n",
    "        \"Actually F33-42\",\n",
    "        \"Actually F43+\",\n",
    "    ],\n",
    "    columns=[\n",
    "        \"Predicted M22-\",\n",
    "        \"Predicted M23-26\",\n",
    "        \"Predicted M27-28\",\n",
    "        \"Predicted M29-31\",\n",
    "        \"Predicted M32-38\",\n",
    "        \"Predicted M39+\",\n",
    "        \"Predicted F23-\",\n",
    "        \"Predicted F24-26\",\n",
    "        \"Predicted F27-28\",\n",
    "        \"Predicted F29-32\",\n",
    "        \"Predicted F33-42\",\n",
    "        \"Predicted F43+\",\n",
    "    ],\n",
    ")\n",
    "con_mat.style.background_gradient(axis=None)"
   ]
  },
  {
   "cell_type": "code",
   "execution_count": 21,
   "metadata": {
    "scrolled": true
   },
   "outputs": [
    {
     "name": "stdout",
     "output_type": "stream",
     "text": [
      "              precision    recall  f1-score   support\n",
      "\n",
      "           0       0.30      0.18      0.23      1334\n",
      "           1       0.27      0.23      0.25      2327\n",
      "           2       0.29      0.05      0.08      1529\n",
      "           3       0.32      0.21      0.25      2553\n",
      "           4       0.26      0.60      0.37      3695\n",
      "           5       0.30      0.55      0.39      3306\n",
      "           6       0.26      0.14      0.18       617\n",
      "           7       0.51      0.05      0.09       602\n",
      "           8       0.60      0.03      0.06       627\n",
      "           9       0.39      0.04      0.07       951\n",
      "          10       0.41      0.06      0.11      1406\n",
      "          11       0.47      0.04      0.07      1053\n",
      "\n",
      "    accuracy                           0.29     20000\n",
      "   macro avg       0.37      0.18      0.18     20000\n",
      "weighted avg       0.33      0.29      0.24     20000\n",
      "\n"
     ]
    },
    {
     "data": {
      "application/javascript": [
       "\n",
       "            setTimeout(function() {\n",
       "                var nbb_cell_id = 21;\n",
       "                var nbb_unformatted_code = \"print(classification_report(y_test, y_pred))\";\n",
       "                var nbb_formatted_code = \"print(classification_report(y_test, y_pred))\";\n",
       "                var nbb_cells = Jupyter.notebook.get_cells();\n",
       "                for (var i = 0; i < nbb_cells.length; ++i) {\n",
       "                    if (nbb_cells[i].input_prompt_number == nbb_cell_id) {\n",
       "                        if (nbb_cells[i].get_text() == nbb_unformatted_code) {\n",
       "                             nbb_cells[i].set_text(nbb_formatted_code);\n",
       "                        }\n",
       "                        break;\n",
       "                    }\n",
       "                }\n",
       "            }, 500);\n",
       "            "
      ],
      "text/plain": [
       "<IPython.core.display.Javascript object>"
      ]
     },
     "metadata": {},
     "output_type": "display_data"
    }
   ],
   "source": [
    "print(classification_report(y_test, y_pred))"
   ]
  },
  {
   "cell_type": "markdown",
   "metadata": {},
   "source": [
    "# Models with PCA"
   ]
  },
  {
   "cell_type": "code",
   "execution_count": null,
   "metadata": {},
   "outputs": [],
   "source": [
    "# Since I am performing pca its necessary to standardize data and fit it to data frame.\n",
    "scaler = StandardScaler()\n",
    "X_train_std = scaler.fit_transform(X_train)\n",
    "\n",
    "# Computing the principal components\n",
    "pca = PCA()\n",
    "X_pca = pca.fit_transform(X_train_std)"
   ]
  },
  {
   "cell_type": "code",
   "execution_count": null,
   "metadata": {},
   "outputs": [],
   "source": [
    "# I plan to use the amount of components that add up to 90% variance.\n",
    "n_components = np.sum(np.cumsum(pca.explained_variance_ratio_) < 0.90)\n",
    "X_pca = X_pca[:, :n_components]"
   ]
  },
  {
   "cell_type": "code",
   "execution_count": null,
   "metadata": {},
   "outputs": [],
   "source": [
    "# check to see the amount of components being used\n",
    "n_components"
   ]
  },
  {
   "cell_type": "markdown",
   "metadata": {},
   "source": [
    "### KNearestNeighbor Classifier"
   ]
  },
  {
   "cell_type": "code",
   "execution_count": null,
   "metadata": {},
   "outputs": [],
   "source": [
    "pipeline = Pipeline(\n",
    "    [(\"scaler\", StandardScaler()), (\"pca\", PCA(n_components = n_components)), (\"knn\", KNeighborsClassifier()),]\n",
    ")\n",
    "pipeline = pipeline.fit(X_train, y_train)"
   ]
  },
  {
   "cell_type": "code",
   "execution_count": null,
   "metadata": {},
   "outputs": [],
   "source": [
    "grid = {\n",
    "    \"knn__n_neighbors\": [3, 5, 7, 9, 11,],\n",
    "    \"knn__weights\": [\"distance\", \"uniform\"],\n",
    "}\n",
    "\n",
    "model = GridSearchCV(pipeline, grid, n_jobs=-1, verbose=2)\n",
    "model.fit(X_train, y_train)"
   ]
  },
  {
   "cell_type": "code",
   "execution_count": null,
   "metadata": {},
   "outputs": [],
   "source": [
    "model.best_params_"
   ]
  },
  {
   "cell_type": "code",
   "execution_count": null,
   "metadata": {},
   "outputs": [],
   "source": [
    "train_score = model.score(X_train, y_train)\n",
    "test_score = model.score(X_test, y_test)\n",
    "\n",
    "print(f\"Train score: {train_score}\")\n",
    "print(f\"Test score: {test_score}\")"
   ]
  },
  {
   "cell_type": "code",
   "execution_count": null,
   "metadata": {},
   "outputs": [],
   "source": [
    "y_pred = model.predict(X_test)\n",
    "\n",
    "con_mat = pd.DataFrame(\n",
    "    confusion_matrix(y_test, y_pred),\n",
    "    index=[\n",
    "        \"Actually M22-\",\n",
    "        \"Actually M23-26\",\n",
    "        \"Actually M27-28\",\n",
    "        \"Actually M29-31\",\n",
    "        \"Actually M32-38\",\n",
    "        \"Actually M39+\",\n",
    "        \"Actually F23-\",\n",
    "        \"Actually F24-26\",\n",
    "        \"Actually F27-28\",\n",
    "        \"Actually F29-32\",\n",
    "        \"Actually F33-42\",\n",
    "        \"Actually F43+\",\n",
    "    ],\n",
    "    columns=[\n",
    "        \"Predicted M22-\",\n",
    "        \"Predicted M23-26\",\n",
    "        \"Predicted M27-28\",\n",
    "        \"Predicted M29-31\",\n",
    "        \"Predicted M32-38\",\n",
    "        \"Predicted M39+\",\n",
    "        \"Predicted F23-\",\n",
    "        \"Predicted F24-26\",\n",
    "        \"Predicted F27-28\",\n",
    "        \"Predicted F29-32\",\n",
    "        \"Predicted F33-42\",\n",
    "        \"Predicted F43+\",\n",
    "    ],\n",
    ")\n",
    "con_mat.style.background_gradient(axis=None)"
   ]
  },
  {
   "cell_type": "code",
   "execution_count": null,
   "metadata": {},
   "outputs": [],
   "source": [
    "print(classification_report(y_test, y_pred))"
   ]
  },
  {
   "cell_type": "markdown",
   "metadata": {},
   "source": [
    "### Random Forest Classifier"
   ]
  },
  {
   "cell_type": "code",
   "execution_count": null,
   "metadata": {},
   "outputs": [],
   "source": [
    "pipeline = Pipeline(\n",
    "    [(\"scaler\", StandardScaler()), (\"pca\", PCA(n_components = n_components)), (\"rf\", RandomForestClassifier()),]\n",
    ")\n",
    "pipeline = pipeline.fit(X_train, y_train)"
   ]
  },
  {
   "cell_type": "code",
   "execution_count": null,
   "metadata": {},
   "outputs": [],
   "source": [
    "grid = {\n",
    "    \"rf__max_depth\": [3, 5, 7, 10, 15],\n",
    "    \"rf__n_estimators\": [1, 10, 100, 1000],\n",
    "    \"rf__min_samples_leaf\": [1, 3, 5, 7, 10],\n",
    "    \"rf__criterion\": [\"gini\", \"entropy\"],\n",
    "}\n",
    "\n",
    "model = GridSearchCV(pipeline, grid, n_jobs=-1,verbose = 2)\n",
    "model.fit(X_train, y_train)"
   ]
  },
  {
   "cell_type": "code",
   "execution_count": null,
   "metadata": {},
   "outputs": [],
   "source": [
    "model.best_params_"
   ]
  },
  {
   "cell_type": "code",
   "execution_count": null,
   "metadata": {},
   "outputs": [],
   "source": [
    "train_score = model.score(X_train, y_train)\n",
    "test_score = model.score(X_test, y_test)\n",
    "\n",
    "print(f\"Train score: {train_score}\")\n",
    "print(f\"Test score: {test_score}\")"
   ]
  },
  {
   "cell_type": "code",
   "execution_count": null,
   "metadata": {},
   "outputs": [],
   "source": [
    "y_pred = model.predict(X_test)\n",
    "\n",
    "con_mat = pd.DataFrame(\n",
    "    confusion_matrix(y_test, y_pred),\n",
    "    index=[\n",
    "        \"Actually M22-\",\n",
    "        \"Actually M23-26\",\n",
    "        \"Actually M27-28\",\n",
    "        \"Actually M29-31\",\n",
    "        \"Actually M32-38\",\n",
    "        \"Actually M39+\",\n",
    "        \"Actually F23-\",\n",
    "        \"Actually F24-26\",\n",
    "        \"Actually F27-28\",\n",
    "        \"Actually F29-32\",\n",
    "        \"Actually F33-42\",\n",
    "        \"Actually F43+\",\n",
    "    ],\n",
    "    columns=[\n",
    "        \"Predicted M22-\",\n",
    "        \"Predicted M23-26\",\n",
    "        \"Predicted M27-28\",\n",
    "        \"Predicted M29-31\",\n",
    "        \"Predicted M32-38\",\n",
    "        \"Predicted M39+\",\n",
    "        \"Predicted F23-\",\n",
    "        \"Predicted F24-26\",\n",
    "        \"Predicted F27-28\",\n",
    "        \"Predicted F29-32\",\n",
    "        \"Predicted F33-42\",\n",
    "        \"Predicted F43+\",\n",
    "    ],\n",
    ")\n",
    "con_mat.style.background_gradient(axis=None)"
   ]
  },
  {
   "cell_type": "code",
   "execution_count": null,
   "metadata": {},
   "outputs": [],
   "source": [
    "print(classification_report(y_test, y_pred))"
   ]
  },
  {
   "cell_type": "markdown",
   "metadata": {},
   "source": [
    "### Support Vector Classifier"
   ]
  },
  {
   "cell_type": "code",
   "execution_count": null,
   "metadata": {},
   "outputs": [],
   "source": [
    "pipeline = Pipeline(\n",
    "    [(\"scaler\", StandardScaler()), (\"pca\", PCA(n_components = n_components)), (\"SVC\", SVC()),]\n",
    ")\n",
    "pipeline = pipeline.fit(X_train, y_train)"
   ]
  },
  {
   "cell_type": "code",
   "execution_count": null,
   "metadata": {},
   "outputs": [],
   "source": [
    "grid = {\n",
    "    \"SVC__kernel\": [\"linear\", \"rbf\", \"poly\"],\n",
    "    \"SVC__C\": [1, 10, 100, 1000],\n",
    "    \"SVC__degree\": [3, 5, 7, 10],\n",
    "}\n",
    "\n",
    "model = GridSearchCV(pipeline, grid, n_jobs=-1,verbose = 2)\n",
    "model.fit(X_train, y_train)"
   ]
  },
  {
   "cell_type": "code",
   "execution_count": null,
   "metadata": {},
   "outputs": [],
   "source": [
    "model.best_params_"
   ]
  },
  {
   "cell_type": "code",
   "execution_count": null,
   "metadata": {},
   "outputs": [],
   "source": [
    "train_score = model.score(X_train, y_train)\n",
    "test_score = model.score(X_test, y_test)\n",
    "\n",
    "print(f\"Train score: {train_score}\")\n",
    "print(f\"Test score: {test_score}\")"
   ]
  },
  {
   "cell_type": "code",
   "execution_count": null,
   "metadata": {},
   "outputs": [],
   "source": [
    "y_pred = model.predict(X_test)\n",
    "\n",
    "con_mat = pd.DataFrame(\n",
    "    confusion_matrix(y_test, y_pred),\n",
    "    index=[\n",
    "        \"Actually M22-\",\n",
    "        \"Actually M23-26\",\n",
    "        \"Actually M27-28\",\n",
    "        \"Actually M29-31\",\n",
    "        \"Actually M32-38\",\n",
    "        \"Actually M39+\",\n",
    "        \"Actually F23-\",\n",
    "        \"Actually F24-26\",\n",
    "        \"Actually F27-28\",\n",
    "        \"Actually F29-32\",\n",
    "        \"Actually F33-42\",\n",
    "        \"Actually F43+\",\n",
    "    ],\n",
    "    columns=[\n",
    "        \"Predicted M22-\",\n",
    "        \"Predicted M23-26\",\n",
    "        \"Predicted M27-28\",\n",
    "        \"Predicted M29-31\",\n",
    "        \"Predicted M32-38\",\n",
    "        \"Predicted M39+\",\n",
    "        \"Predicted F23-\",\n",
    "        \"Predicted F24-26\",\n",
    "        \"Predicted F27-28\",\n",
    "        \"Predicted F29-32\",\n",
    "        \"Predicted F33-42\",\n",
    "        \"Predicted F43+\",\n",
    "    ],\n",
    ")\n",
    "con_mat.style.background_gradient(axis=None)"
   ]
  },
  {
   "cell_type": "code",
   "execution_count": null,
   "metadata": {},
   "outputs": [],
   "source": [
    "print(classification_report(y_test, y_pred))"
   ]
  },
  {
   "cell_type": "markdown",
   "metadata": {},
   "source": [
    "# Models with SelectKBest"
   ]
  },
  {
   "cell_type": "markdown",
   "metadata": {},
   "source": [
    "### KNearestNeighbor Classifier"
   ]
  },
  {
   "cell_type": "code",
   "execution_count": null,
   "metadata": {},
   "outputs": [],
   "source": []
  }
 ],
 "metadata": {
  "kernelspec": {
   "display_name": "Python 3",
   "language": "python",
   "name": "python3"
  },
  "language_info": {
   "codemirror_mode": {
    "name": "ipython",
    "version": 3
   },
   "file_extension": ".py",
   "mimetype": "text/x-python",
   "name": "python",
   "nbconvert_exporter": "python",
   "pygments_lexer": "ipython3",
   "version": "3.7.6"
  }
 },
 "nbformat": 4,
 "nbformat_minor": 4
}
