{
 "cells": [
  {
   "cell_type": "code",
   "execution_count": 1,
   "metadata": {},
   "outputs": [
    {
     "data": {
      "application/javascript": [
       "\n",
       "            setTimeout(function() {\n",
       "                var nbb_cell_id = 1;\n",
       "                var nbb_unformatted_code = \"%reload_ext nb_black\\n\\nimport numpy as np\\nimport pandas as pd\\n\\nfrom sklearn.model_selection import train_test_split\\n\\nimport tensorflow as tf\\nfrom tensorflow.keras.optimizers import SGD\\nfrom tensorflow.keras.utils import to_categorical\\nfrom tensorflow.keras.models import Sequential\\nfrom tensorflow.keras.layers import Conv2D, MaxPooling2D\\nfrom tensorflow.keras.layers import (\\n    Activation,\\n    Dropout,\\n    Flatten,\\n    Dense,\\n    BatchNormalization,\\n)\\nfrom tensorflow.keras import backend as K\";\n",
       "                var nbb_formatted_code = \"%reload_ext nb_black\\n\\nimport numpy as np\\nimport pandas as pd\\n\\nfrom sklearn.model_selection import train_test_split\\n\\nimport tensorflow as tf\\nfrom tensorflow.keras.optimizers import SGD\\nfrom tensorflow.keras.utils import to_categorical\\nfrom tensorflow.keras.models import Sequential\\nfrom tensorflow.keras.layers import Conv2D, MaxPooling2D\\nfrom tensorflow.keras.layers import (\\n    Activation,\\n    Dropout,\\n    Flatten,\\n    Dense,\\n    BatchNormalization,\\n)\\nfrom tensorflow.keras import backend as K\";\n",
       "                var nbb_cells = Jupyter.notebook.get_cells();\n",
       "                for (var i = 0; i < nbb_cells.length; ++i) {\n",
       "                    if (nbb_cells[i].input_prompt_number == nbb_cell_id) {\n",
       "                        if (nbb_cells[i].get_text() == nbb_unformatted_code) {\n",
       "                             nbb_cells[i].set_text(nbb_formatted_code);\n",
       "                        }\n",
       "                        break;\n",
       "                    }\n",
       "                }\n",
       "            }, 500);\n",
       "            "
      ],
      "text/plain": [
       "<IPython.core.display.Javascript object>"
      ]
     },
     "metadata": {},
     "output_type": "display_data"
    }
   ],
   "source": [
    "%reload_ext nb_black\n",
    "\n",
    "import numpy as np\n",
    "import pandas as pd\n",
    "\n",
    "from sklearn.model_selection import train_test_split\n",
    "\n",
    "import tensorflow as tf\n",
    "from tensorflow.keras.optimizers import SGD\n",
    "from tensorflow.keras.utils import to_categorical\n",
    "from tensorflow.keras.models import Sequential\n",
    "from tensorflow.keras.layers import Conv2D, MaxPooling2D\n",
    "from tensorflow.keras.layers import (\n",
    "    Activation,\n",
    "    Dropout,\n",
    "    Flatten,\n",
    "    Dense,\n",
    "    BatchNormalization,\n",
    ")\n",
    "from tensorflow.keras import backend as K"
   ]
  },
  {
   "cell_type": "code",
   "execution_count": 2,
   "metadata": {},
   "outputs": [
    {
     "data": {
      "application/javascript": [
       "\n",
       "            setTimeout(function() {\n",
       "                var nbb_cell_id = 2;\n",
       "                var nbb_unformatted_code = \"final_df = pd.read_csv(\\\"./cleaned_data.csv\\\")\\n\\n# Converting object data to numeric data in group column\\nto_num = {\\n    \\\"M22-\\\": 0,\\n    \\\"M23-26\\\": 1,\\n    \\\"M27-28\\\": 2,\\n    \\\"M29-31\\\": 3,\\n    \\\"M32-38\\\": 4,\\n    \\\"M39+\\\": 5,\\n    \\\"F23-\\\": 6,\\n    \\\"F24-26\\\": 7,\\n    \\\"F27-28\\\": 8,\\n    \\\"F29-32\\\": 9,\\n    \\\"F33-42\\\": 10,\\n    \\\"F43+\\\": 11,\\n}\\n\\n# Created new column for numeric group, can now drop old group column\\nfinal_df[\\\"num_group\\\"] = final_df[\\\"group\\\"].map(to_num)\\nfinal_df = final_df.drop(columns=[\\\"group\\\"])\\nfinal_df.head()\\n\\nX = final_df.drop(columns=[\\\"num_group\\\"])\\ny = final_df[\\\"num_group\\\"]\\n\\nX_train, X_test, y_train, y_test = train_test_split(\\n    X, y, test_size=0.20, random_state=13, stratify=y\\n)\";\n",
       "                var nbb_formatted_code = \"final_df = pd.read_csv(\\\"./cleaned_data.csv\\\")\\n\\n# Converting object data to numeric data in group column\\nto_num = {\\n    \\\"M22-\\\": 0,\\n    \\\"M23-26\\\": 1,\\n    \\\"M27-28\\\": 2,\\n    \\\"M29-31\\\": 3,\\n    \\\"M32-38\\\": 4,\\n    \\\"M39+\\\": 5,\\n    \\\"F23-\\\": 6,\\n    \\\"F24-26\\\": 7,\\n    \\\"F27-28\\\": 8,\\n    \\\"F29-32\\\": 9,\\n    \\\"F33-42\\\": 10,\\n    \\\"F43+\\\": 11,\\n}\\n\\n# Created new column for numeric group, can now drop old group column\\nfinal_df[\\\"num_group\\\"] = final_df[\\\"group\\\"].map(to_num)\\nfinal_df = final_df.drop(columns=[\\\"group\\\"])\\nfinal_df.head()\\n\\nX = final_df.drop(columns=[\\\"num_group\\\"])\\ny = final_df[\\\"num_group\\\"]\\n\\nX_train, X_test, y_train, y_test = train_test_split(\\n    X, y, test_size=0.20, random_state=13, stratify=y\\n)\";\n",
       "                var nbb_cells = Jupyter.notebook.get_cells();\n",
       "                for (var i = 0; i < nbb_cells.length; ++i) {\n",
       "                    if (nbb_cells[i].input_prompt_number == nbb_cell_id) {\n",
       "                        if (nbb_cells[i].get_text() == nbb_unformatted_code) {\n",
       "                             nbb_cells[i].set_text(nbb_formatted_code);\n",
       "                        }\n",
       "                        break;\n",
       "                    }\n",
       "                }\n",
       "            }, 500);\n",
       "            "
      ],
      "text/plain": [
       "<IPython.core.display.Javascript object>"
      ]
     },
     "metadata": {},
     "output_type": "display_data"
    }
   ],
   "source": [
    "final_df = pd.read_csv(\"./cleaned_data.csv\")\n",
    "\n",
    "# Converting object data to numeric data in group column\n",
    "to_num = {\n",
    "    \"M22-\": 0,\n",
    "    \"M23-26\": 1,\n",
    "    \"M27-28\": 2,\n",
    "    \"M29-31\": 3,\n",
    "    \"M32-38\": 4,\n",
    "    \"M39+\": 5,\n",
    "    \"F23-\": 6,\n",
    "    \"F24-26\": 7,\n",
    "    \"F27-28\": 8,\n",
    "    \"F29-32\": 9,\n",
    "    \"F33-42\": 10,\n",
    "    \"F43+\": 11,\n",
    "}\n",
    "\n",
    "# Created new column for numeric group, can now drop old group column\n",
    "final_df[\"num_group\"] = final_df[\"group\"].map(to_num)\n",
    "final_df = final_df.drop(columns=[\"group\"])\n",
    "final_df.head()\n",
    "\n",
    "X = final_df.drop(columns=[\"num_group\"])\n",
    "y = final_df[\"num_group\"]\n",
    "\n",
    "X_train, X_test, y_train, y_test = train_test_split(\n",
    "    X, y, test_size=0.20, random_state=13, stratify=y\n",
    ")"
   ]
  },
  {
   "cell_type": "code",
   "execution_count": 3,
   "metadata": {},
   "outputs": [
    {
     "data": {
      "text/plain": [
       "380488     9\n",
       "421509     4\n",
       "371406    10\n",
       "3103       3\n",
       "97330      5\n",
       "          ..\n",
       "303948     5\n",
       "69371      4\n",
       "241446     5\n",
       "216378     5\n",
       "27220      1\n",
       "Name: num_group, Length: 87198, dtype: int64"
      ]
     },
     "execution_count": 3,
     "metadata": {},
     "output_type": "execute_result"
    },
    {
     "data": {
      "application/javascript": [
       "\n",
       "            setTimeout(function() {\n",
       "                var nbb_cell_id = 3;\n",
       "                var nbb_unformatted_code = \"y_test\";\n",
       "                var nbb_formatted_code = \"y_test\";\n",
       "                var nbb_cells = Jupyter.notebook.get_cells();\n",
       "                for (var i = 0; i < nbb_cells.length; ++i) {\n",
       "                    if (nbb_cells[i].input_prompt_number == nbb_cell_id) {\n",
       "                        if (nbb_cells[i].get_text() == nbb_unformatted_code) {\n",
       "                             nbb_cells[i].set_text(nbb_formatted_code);\n",
       "                        }\n",
       "                        break;\n",
       "                    }\n",
       "                }\n",
       "            }, 500);\n",
       "            "
      ],
      "text/plain": [
       "<IPython.core.display.Javascript object>"
      ]
     },
     "metadata": {},
     "output_type": "display_data"
    }
   ],
   "source": [
    "y_test"
   ]
  },
  {
   "cell_type": "code",
   "execution_count": 4,
   "metadata": {},
   "outputs": [
    {
     "data": {
      "text/html": [
       "<div>\n",
       "<style scoped>\n",
       "    .dataframe tbody tr th:only-of-type {\n",
       "        vertical-align: middle;\n",
       "    }\n",
       "\n",
       "    .dataframe tbody tr th {\n",
       "        vertical-align: top;\n",
       "    }\n",
       "\n",
       "    .dataframe thead th {\n",
       "        text-align: right;\n",
       "    }\n",
       "</style>\n",
       "<table border=\"1\" class=\"dataframe\">\n",
       "  <thead>\n",
       "    <tr style=\"text-align: right;\">\n",
       "      <th></th>\n",
       "      <th>event_id</th>\n",
       "      <th>app_id</th>\n",
       "      <th>is_active</th>\n",
       "      <th>device_id</th>\n",
       "      <th>8</th>\n",
       "      <th>9</th>\n",
       "      <th>10</th>\n",
       "      <th>11</th>\n",
       "      <th>12</th>\n",
       "      <th>13</th>\n",
       "      <th>...</th>\n",
       "      <th>device_model_魅蓝</th>\n",
       "      <th>device_model_魅蓝2</th>\n",
       "      <th>device_model_魅蓝NOTE</th>\n",
       "      <th>device_model_魅蓝Note 2</th>\n",
       "      <th>device_model_魅蓝metal</th>\n",
       "      <th>device_model_麦芒3</th>\n",
       "      <th>device_model_麦芒3S</th>\n",
       "      <th>device_model_麦芒4</th>\n",
       "      <th>device_model_黄金斗士A8</th>\n",
       "      <th>device_model_黄金斗士Note8</th>\n",
       "    </tr>\n",
       "  </thead>\n",
       "  <tbody>\n",
       "    <tr>\n",
       "      <th>380488</th>\n",
       "      <td>872832</td>\n",
       "      <td>-2339074173061010534</td>\n",
       "      <td>0</td>\n",
       "      <td>6694437260708304897</td>\n",
       "      <td>0</td>\n",
       "      <td>0</td>\n",
       "      <td>0</td>\n",
       "      <td>0</td>\n",
       "      <td>0</td>\n",
       "      <td>0</td>\n",
       "      <td>...</td>\n",
       "      <td>0</td>\n",
       "      <td>0</td>\n",
       "      <td>0</td>\n",
       "      <td>0</td>\n",
       "      <td>0</td>\n",
       "      <td>0</td>\n",
       "      <td>0</td>\n",
       "      <td>0</td>\n",
       "      <td>0</td>\n",
       "      <td>0</td>\n",
       "    </tr>\n",
       "    <tr>\n",
       "      <th>421509</th>\n",
       "      <td>1865750</td>\n",
       "      <td>3364032031731117644</td>\n",
       "      <td>0</td>\n",
       "      <td>7740472632505276922</td>\n",
       "      <td>0</td>\n",
       "      <td>0</td>\n",
       "      <td>0</td>\n",
       "      <td>0</td>\n",
       "      <td>0</td>\n",
       "      <td>0</td>\n",
       "      <td>...</td>\n",
       "      <td>0</td>\n",
       "      <td>0</td>\n",
       "      <td>0</td>\n",
       "      <td>0</td>\n",
       "      <td>0</td>\n",
       "      <td>0</td>\n",
       "      <td>0</td>\n",
       "      <td>0</td>\n",
       "      <td>0</td>\n",
       "      <td>0</td>\n",
       "    </tr>\n",
       "    <tr>\n",
       "      <th>371406</th>\n",
       "      <td>797469</td>\n",
       "      <td>4743373741129926453</td>\n",
       "      <td>0</td>\n",
       "      <td>-3864961701196257326</td>\n",
       "      <td>0</td>\n",
       "      <td>0</td>\n",
       "      <td>0</td>\n",
       "      <td>0</td>\n",
       "      <td>0</td>\n",
       "      <td>0</td>\n",
       "      <td>...</td>\n",
       "      <td>0</td>\n",
       "      <td>0</td>\n",
       "      <td>0</td>\n",
       "      <td>0</td>\n",
       "      <td>0</td>\n",
       "      <td>0</td>\n",
       "      <td>0</td>\n",
       "      <td>0</td>\n",
       "      <td>0</td>\n",
       "      <td>0</td>\n",
       "    </tr>\n",
       "    <tr>\n",
       "      <th>3103</th>\n",
       "      <td>705</td>\n",
       "      <td>1919990081572238302</td>\n",
       "      <td>0</td>\n",
       "      <td>-4675255191330300693</td>\n",
       "      <td>0</td>\n",
       "      <td>0</td>\n",
       "      <td>0</td>\n",
       "      <td>0</td>\n",
       "      <td>0</td>\n",
       "      <td>0</td>\n",
       "      <td>...</td>\n",
       "      <td>0</td>\n",
       "      <td>0</td>\n",
       "      <td>0</td>\n",
       "      <td>0</td>\n",
       "      <td>0</td>\n",
       "      <td>0</td>\n",
       "      <td>0</td>\n",
       "      <td>0</td>\n",
       "      <td>0</td>\n",
       "      <td>0</td>\n",
       "    </tr>\n",
       "    <tr>\n",
       "      <th>97330</th>\n",
       "      <td>62005</td>\n",
       "      <td>-416721070583160301</td>\n",
       "      <td>0</td>\n",
       "      <td>-5039658749766824649</td>\n",
       "      <td>0</td>\n",
       "      <td>0</td>\n",
       "      <td>0</td>\n",
       "      <td>0</td>\n",
       "      <td>0</td>\n",
       "      <td>0</td>\n",
       "      <td>...</td>\n",
       "      <td>0</td>\n",
       "      <td>0</td>\n",
       "      <td>0</td>\n",
       "      <td>0</td>\n",
       "      <td>0</td>\n",
       "      <td>0</td>\n",
       "      <td>0</td>\n",
       "      <td>0</td>\n",
       "      <td>0</td>\n",
       "      <td>0</td>\n",
       "    </tr>\n",
       "    <tr>\n",
       "      <th>...</th>\n",
       "      <td>...</td>\n",
       "      <td>...</td>\n",
       "      <td>...</td>\n",
       "      <td>...</td>\n",
       "      <td>...</td>\n",
       "      <td>...</td>\n",
       "      <td>...</td>\n",
       "      <td>...</td>\n",
       "      <td>...</td>\n",
       "      <td>...</td>\n",
       "      <td>...</td>\n",
       "      <td>...</td>\n",
       "      <td>...</td>\n",
       "      <td>...</td>\n",
       "      <td>...</td>\n",
       "      <td>...</td>\n",
       "      <td>...</td>\n",
       "      <td>...</td>\n",
       "      <td>...</td>\n",
       "      <td>...</td>\n",
       "      <td>...</td>\n",
       "    </tr>\n",
       "    <tr>\n",
       "      <th>303948</th>\n",
       "      <td>410882</td>\n",
       "      <td>-1633938282180439957</td>\n",
       "      <td>0</td>\n",
       "      <td>-3440926430976742138</td>\n",
       "      <td>0</td>\n",
       "      <td>0</td>\n",
       "      <td>0</td>\n",
       "      <td>0</td>\n",
       "      <td>0</td>\n",
       "      <td>0</td>\n",
       "      <td>...</td>\n",
       "      <td>0</td>\n",
       "      <td>0</td>\n",
       "      <td>0</td>\n",
       "      <td>0</td>\n",
       "      <td>0</td>\n",
       "      <td>0</td>\n",
       "      <td>0</td>\n",
       "      <td>0</td>\n",
       "      <td>0</td>\n",
       "      <td>0</td>\n",
       "    </tr>\n",
       "    <tr>\n",
       "      <th>69371</th>\n",
       "      <td>36033</td>\n",
       "      <td>9136721329817567486</td>\n",
       "      <td>0</td>\n",
       "      <td>6743854432188980361</td>\n",
       "      <td>0</td>\n",
       "      <td>0</td>\n",
       "      <td>0</td>\n",
       "      <td>0</td>\n",
       "      <td>0</td>\n",
       "      <td>0</td>\n",
       "      <td>...</td>\n",
       "      <td>0</td>\n",
       "      <td>0</td>\n",
       "      <td>0</td>\n",
       "      <td>0</td>\n",
       "      <td>0</td>\n",
       "      <td>0</td>\n",
       "      <td>0</td>\n",
       "      <td>0</td>\n",
       "      <td>0</td>\n",
       "      <td>0</td>\n",
       "    </tr>\n",
       "    <tr>\n",
       "      <th>241446</th>\n",
       "      <td>246747</td>\n",
       "      <td>6021688008523295900</td>\n",
       "      <td>0</td>\n",
       "      <td>-3901894988830598057</td>\n",
       "      <td>0</td>\n",
       "      <td>0</td>\n",
       "      <td>0</td>\n",
       "      <td>0</td>\n",
       "      <td>0</td>\n",
       "      <td>0</td>\n",
       "      <td>...</td>\n",
       "      <td>0</td>\n",
       "      <td>0</td>\n",
       "      <td>0</td>\n",
       "      <td>0</td>\n",
       "      <td>0</td>\n",
       "      <td>0</td>\n",
       "      <td>0</td>\n",
       "      <td>0</td>\n",
       "      <td>0</td>\n",
       "      <td>0</td>\n",
       "    </tr>\n",
       "    <tr>\n",
       "      <th>216378</th>\n",
       "      <td>197200</td>\n",
       "      <td>5927333115845830913</td>\n",
       "      <td>0</td>\n",
       "      <td>-8538333663613303418</td>\n",
       "      <td>0</td>\n",
       "      <td>0</td>\n",
       "      <td>0</td>\n",
       "      <td>0</td>\n",
       "      <td>0</td>\n",
       "      <td>0</td>\n",
       "      <td>...</td>\n",
       "      <td>0</td>\n",
       "      <td>0</td>\n",
       "      <td>0</td>\n",
       "      <td>0</td>\n",
       "      <td>0</td>\n",
       "      <td>0</td>\n",
       "      <td>0</td>\n",
       "      <td>0</td>\n",
       "      <td>0</td>\n",
       "      <td>0</td>\n",
       "    </tr>\n",
       "    <tr>\n",
       "      <th>27220</th>\n",
       "      <td>10314</td>\n",
       "      <td>3395900001236628213</td>\n",
       "      <td>0</td>\n",
       "      <td>-4469760125838724227</td>\n",
       "      <td>0</td>\n",
       "      <td>0</td>\n",
       "      <td>0</td>\n",
       "      <td>0</td>\n",
       "      <td>0</td>\n",
       "      <td>0</td>\n",
       "      <td>...</td>\n",
       "      <td>0</td>\n",
       "      <td>0</td>\n",
       "      <td>0</td>\n",
       "      <td>0</td>\n",
       "      <td>0</td>\n",
       "      <td>0</td>\n",
       "      <td>0</td>\n",
       "      <td>0</td>\n",
       "      <td>0</td>\n",
       "      <td>0</td>\n",
       "    </tr>\n",
       "  </tbody>\n",
       "</table>\n",
       "<p>87198 rows × 634 columns</p>\n",
       "</div>"
      ],
      "text/plain": [
       "        event_id               app_id  is_active            device_id  8  9  \\\n",
       "380488    872832 -2339074173061010534          0  6694437260708304897  0  0   \n",
       "421509   1865750  3364032031731117644          0  7740472632505276922  0  0   \n",
       "371406    797469  4743373741129926453          0 -3864961701196257326  0  0   \n",
       "3103         705  1919990081572238302          0 -4675255191330300693  0  0   \n",
       "97330      62005  -416721070583160301          0 -5039658749766824649  0  0   \n",
       "...          ...                  ...        ...                  ... .. ..   \n",
       "303948    410882 -1633938282180439957          0 -3440926430976742138  0  0   \n",
       "69371      36033  9136721329817567486          0  6743854432188980361  0  0   \n",
       "241446    246747  6021688008523295900          0 -3901894988830598057  0  0   \n",
       "216378    197200  5927333115845830913          0 -8538333663613303418  0  0   \n",
       "27220      10314  3395900001236628213          0 -4469760125838724227  0  0   \n",
       "\n",
       "        10  11  12  13  ...  device_model_魅蓝  device_model_魅蓝2  \\\n",
       "380488   0   0   0   0  ...                0                 0   \n",
       "421509   0   0   0   0  ...                0                 0   \n",
       "371406   0   0   0   0  ...                0                 0   \n",
       "3103     0   0   0   0  ...                0                 0   \n",
       "97330    0   0   0   0  ...                0                 0   \n",
       "...     ..  ..  ..  ..  ...              ...               ...   \n",
       "303948   0   0   0   0  ...                0                 0   \n",
       "69371    0   0   0   0  ...                0                 0   \n",
       "241446   0   0   0   0  ...                0                 0   \n",
       "216378   0   0   0   0  ...                0                 0   \n",
       "27220    0   0   0   0  ...                0                 0   \n",
       "\n",
       "        device_model_魅蓝NOTE  device_model_魅蓝Note 2  device_model_魅蓝metal  \\\n",
       "380488                    0                      0                     0   \n",
       "421509                    0                      0                     0   \n",
       "371406                    0                      0                     0   \n",
       "3103                      0                      0                     0   \n",
       "97330                     0                      0                     0   \n",
       "...                     ...                    ...                   ...   \n",
       "303948                    0                      0                     0   \n",
       "69371                     0                      0                     0   \n",
       "241446                    0                      0                     0   \n",
       "216378                    0                      0                     0   \n",
       "27220                     0                      0                     0   \n",
       "\n",
       "        device_model_麦芒3  device_model_麦芒3S  device_model_麦芒4  \\\n",
       "380488                 0                  0                 0   \n",
       "421509                 0                  0                 0   \n",
       "371406                 0                  0                 0   \n",
       "3103                   0                  0                 0   \n",
       "97330                  0                  0                 0   \n",
       "...                  ...                ...               ...   \n",
       "303948                 0                  0                 0   \n",
       "69371                  0                  0                 0   \n",
       "241446                 0                  0                 0   \n",
       "216378                 0                  0                 0   \n",
       "27220                  0                  0                 0   \n",
       "\n",
       "        device_model_黄金斗士A8  device_model_黄金斗士Note8  \n",
       "380488                    0                       0  \n",
       "421509                    0                       0  \n",
       "371406                    0                       0  \n",
       "3103                      0                       0  \n",
       "97330                     0                       0  \n",
       "...                     ...                     ...  \n",
       "303948                    0                       0  \n",
       "69371                     0                       0  \n",
       "241446                    0                       0  \n",
       "216378                    0                       0  \n",
       "27220                     0                       0  \n",
       "\n",
       "[87198 rows x 634 columns]"
      ]
     },
     "execution_count": 4,
     "metadata": {},
     "output_type": "execute_result"
    },
    {
     "data": {
      "application/javascript": [
       "\n",
       "            setTimeout(function() {\n",
       "                var nbb_cell_id = 4;\n",
       "                var nbb_unformatted_code = \"X_test\";\n",
       "                var nbb_formatted_code = \"X_test\";\n",
       "                var nbb_cells = Jupyter.notebook.get_cells();\n",
       "                for (var i = 0; i < nbb_cells.length; ++i) {\n",
       "                    if (nbb_cells[i].input_prompt_number == nbb_cell_id) {\n",
       "                        if (nbb_cells[i].get_text() == nbb_unformatted_code) {\n",
       "                             nbb_cells[i].set_text(nbb_formatted_code);\n",
       "                        }\n",
       "                        break;\n",
       "                    }\n",
       "                }\n",
       "            }, 500);\n",
       "            "
      ],
      "text/plain": [
       "<IPython.core.display.Javascript object>"
      ]
     },
     "metadata": {},
     "output_type": "display_data"
    }
   ],
   "source": [
    "X_test"
   ]
  },
  {
   "cell_type": "code",
   "execution_count": 5,
   "metadata": {},
   "outputs": [
    {
     "data": {
      "text/html": [
       "<div>\n",
       "<style scoped>\n",
       "    .dataframe tbody tr th:only-of-type {\n",
       "        vertical-align: middle;\n",
       "    }\n",
       "\n",
       "    .dataframe tbody tr th {\n",
       "        vertical-align: top;\n",
       "    }\n",
       "\n",
       "    .dataframe thead th {\n",
       "        text-align: right;\n",
       "    }\n",
       "</style>\n",
       "<table border=\"1\" class=\"dataframe\">\n",
       "  <thead>\n",
       "    <tr style=\"text-align: right;\">\n",
       "      <th></th>\n",
       "      <th>event_id</th>\n",
       "      <th>app_id</th>\n",
       "      <th>is_active</th>\n",
       "      <th>device_id</th>\n",
       "      <th>8</th>\n",
       "      <th>9</th>\n",
       "      <th>10</th>\n",
       "      <th>11</th>\n",
       "      <th>12</th>\n",
       "      <th>13</th>\n",
       "      <th>...</th>\n",
       "      <th>device_model_魅蓝2</th>\n",
       "      <th>device_model_魅蓝NOTE</th>\n",
       "      <th>device_model_魅蓝Note 2</th>\n",
       "      <th>device_model_魅蓝metal</th>\n",
       "      <th>device_model_麦芒3</th>\n",
       "      <th>device_model_麦芒3S</th>\n",
       "      <th>device_model_麦芒4</th>\n",
       "      <th>device_model_黄金斗士A8</th>\n",
       "      <th>device_model_黄金斗士Note8</th>\n",
       "      <th>num_group</th>\n",
       "    </tr>\n",
       "  </thead>\n",
       "  <tbody>\n",
       "    <tr>\n",
       "      <th>0</th>\n",
       "      <td>6</td>\n",
       "      <td>-8764672938472212518</td>\n",
       "      <td>1</td>\n",
       "      <td>1476664663289716375</td>\n",
       "      <td>0</td>\n",
       "      <td>0</td>\n",
       "      <td>0</td>\n",
       "      <td>0</td>\n",
       "      <td>0</td>\n",
       "      <td>0</td>\n",
       "      <td>...</td>\n",
       "      <td>0</td>\n",
       "      <td>0</td>\n",
       "      <td>0</td>\n",
       "      <td>0</td>\n",
       "      <td>0</td>\n",
       "      <td>0</td>\n",
       "      <td>0</td>\n",
       "      <td>0</td>\n",
       "      <td>0</td>\n",
       "      <td>0</td>\n",
       "    </tr>\n",
       "    <tr>\n",
       "      <th>1</th>\n",
       "      <td>6</td>\n",
       "      <td>-8271866350659046570</td>\n",
       "      <td>0</td>\n",
       "      <td>1476664663289716375</td>\n",
       "      <td>0</td>\n",
       "      <td>0</td>\n",
       "      <td>0</td>\n",
       "      <td>0</td>\n",
       "      <td>0</td>\n",
       "      <td>0</td>\n",
       "      <td>...</td>\n",
       "      <td>0</td>\n",
       "      <td>0</td>\n",
       "      <td>0</td>\n",
       "      <td>0</td>\n",
       "      <td>0</td>\n",
       "      <td>0</td>\n",
       "      <td>0</td>\n",
       "      <td>0</td>\n",
       "      <td>0</td>\n",
       "      <td>0</td>\n",
       "    </tr>\n",
       "    <tr>\n",
       "      <th>2</th>\n",
       "      <td>6</td>\n",
       "      <td>-7509752927626140732</td>\n",
       "      <td>0</td>\n",
       "      <td>1476664663289716375</td>\n",
       "      <td>0</td>\n",
       "      <td>0</td>\n",
       "      <td>0</td>\n",
       "      <td>0</td>\n",
       "      <td>0</td>\n",
       "      <td>0</td>\n",
       "      <td>...</td>\n",
       "      <td>0</td>\n",
       "      <td>0</td>\n",
       "      <td>0</td>\n",
       "      <td>0</td>\n",
       "      <td>0</td>\n",
       "      <td>0</td>\n",
       "      <td>0</td>\n",
       "      <td>0</td>\n",
       "      <td>0</td>\n",
       "      <td>0</td>\n",
       "    </tr>\n",
       "    <tr>\n",
       "      <th>3</th>\n",
       "      <td>6</td>\n",
       "      <td>-7377004479023402858</td>\n",
       "      <td>1</td>\n",
       "      <td>1476664663289716375</td>\n",
       "      <td>0</td>\n",
       "      <td>0</td>\n",
       "      <td>0</td>\n",
       "      <td>0</td>\n",
       "      <td>0</td>\n",
       "      <td>0</td>\n",
       "      <td>...</td>\n",
       "      <td>0</td>\n",
       "      <td>0</td>\n",
       "      <td>0</td>\n",
       "      <td>0</td>\n",
       "      <td>0</td>\n",
       "      <td>0</td>\n",
       "      <td>0</td>\n",
       "      <td>0</td>\n",
       "      <td>0</td>\n",
       "      <td>0</td>\n",
       "    </tr>\n",
       "    <tr>\n",
       "      <th>4</th>\n",
       "      <td>6</td>\n",
       "      <td>-5839858269967688123</td>\n",
       "      <td>0</td>\n",
       "      <td>1476664663289716375</td>\n",
       "      <td>0</td>\n",
       "      <td>0</td>\n",
       "      <td>0</td>\n",
       "      <td>0</td>\n",
       "      <td>0</td>\n",
       "      <td>0</td>\n",
       "      <td>...</td>\n",
       "      <td>0</td>\n",
       "      <td>0</td>\n",
       "      <td>0</td>\n",
       "      <td>0</td>\n",
       "      <td>0</td>\n",
       "      <td>0</td>\n",
       "      <td>0</td>\n",
       "      <td>0</td>\n",
       "      <td>0</td>\n",
       "      <td>0</td>\n",
       "    </tr>\n",
       "  </tbody>\n",
       "</table>\n",
       "<p>5 rows × 635 columns</p>\n",
       "</div>"
      ],
      "text/plain": [
       "   event_id               app_id  is_active            device_id  8  9  10  \\\n",
       "0         6 -8764672938472212518          1  1476664663289716375  0  0   0   \n",
       "1         6 -8271866350659046570          0  1476664663289716375  0  0   0   \n",
       "2         6 -7509752927626140732          0  1476664663289716375  0  0   0   \n",
       "3         6 -7377004479023402858          1  1476664663289716375  0  0   0   \n",
       "4         6 -5839858269967688123          0  1476664663289716375  0  0   0   \n",
       "\n",
       "   11  12  13  ...  device_model_魅蓝2  device_model_魅蓝NOTE  \\\n",
       "0   0   0   0  ...                 0                    0   \n",
       "1   0   0   0  ...                 0                    0   \n",
       "2   0   0   0  ...                 0                    0   \n",
       "3   0   0   0  ...                 0                    0   \n",
       "4   0   0   0  ...                 0                    0   \n",
       "\n",
       "   device_model_魅蓝Note 2  device_model_魅蓝metal  device_model_麦芒3  \\\n",
       "0                      0                     0                 0   \n",
       "1                      0                     0                 0   \n",
       "2                      0                     0                 0   \n",
       "3                      0                     0                 0   \n",
       "4                      0                     0                 0   \n",
       "\n",
       "   device_model_麦芒3S  device_model_麦芒4  device_model_黄金斗士A8  \\\n",
       "0                  0                 0                    0   \n",
       "1                  0                 0                    0   \n",
       "2                  0                 0                    0   \n",
       "3                  0                 0                    0   \n",
       "4                  0                 0                    0   \n",
       "\n",
       "   device_model_黄金斗士Note8  num_group  \n",
       "0                       0          0  \n",
       "1                       0          0  \n",
       "2                       0          0  \n",
       "3                       0          0  \n",
       "4                       0          0  \n",
       "\n",
       "[5 rows x 635 columns]"
      ]
     },
     "execution_count": 5,
     "metadata": {},
     "output_type": "execute_result"
    },
    {
     "data": {
      "application/javascript": [
       "\n",
       "            setTimeout(function() {\n",
       "                var nbb_cell_id = 5;\n",
       "                var nbb_unformatted_code = \"final_df.head()\";\n",
       "                var nbb_formatted_code = \"final_df.head()\";\n",
       "                var nbb_cells = Jupyter.notebook.get_cells();\n",
       "                for (var i = 0; i < nbb_cells.length; ++i) {\n",
       "                    if (nbb_cells[i].input_prompt_number == nbb_cell_id) {\n",
       "                        if (nbb_cells[i].get_text() == nbb_unformatted_code) {\n",
       "                             nbb_cells[i].set_text(nbb_formatted_code);\n",
       "                        }\n",
       "                        break;\n",
       "                    }\n",
       "                }\n",
       "            }, 500);\n",
       "            "
      ],
      "text/plain": [
       "<IPython.core.display.Javascript object>"
      ]
     },
     "metadata": {},
     "output_type": "display_data"
    }
   ],
   "source": [
    "final_df.head()"
   ]
  },
  {
   "cell_type": "code",
   "execution_count": 6,
   "metadata": {},
   "outputs": [
    {
     "data": {
      "text/plain": [
       "4     80954\n",
       "5     71960\n",
       "3     55421\n",
       "1     50400\n",
       "2     33676\n",
       "10    30293\n",
       "0     28706\n",
       "11    23410\n",
       "9     20850\n",
       "6     13852\n",
       "8     13659\n",
       "7     12809\n",
       "Name: num_group, dtype: int64"
      ]
     },
     "execution_count": 6,
     "metadata": {},
     "output_type": "execute_result"
    },
    {
     "data": {
      "application/javascript": [
       "\n",
       "            setTimeout(function() {\n",
       "                var nbb_cell_id = 6;\n",
       "                var nbb_unformatted_code = \"final_df[\\\"num_group\\\"].value_counts()\";\n",
       "                var nbb_formatted_code = \"final_df[\\\"num_group\\\"].value_counts()\";\n",
       "                var nbb_cells = Jupyter.notebook.get_cells();\n",
       "                for (var i = 0; i < nbb_cells.length; ++i) {\n",
       "                    if (nbb_cells[i].input_prompt_number == nbb_cell_id) {\n",
       "                        if (nbb_cells[i].get_text() == nbb_unformatted_code) {\n",
       "                             nbb_cells[i].set_text(nbb_formatted_code);\n",
       "                        }\n",
       "                        break;\n",
       "                    }\n",
       "                }\n",
       "            }, 500);\n",
       "            "
      ],
      "text/plain": [
       "<IPython.core.display.Javascript object>"
      ]
     },
     "metadata": {},
     "output_type": "display_data"
    }
   ],
   "source": [
    "final_df[\"num_group\"].value_counts()"
   ]
  },
  {
   "cell_type": "code",
   "execution_count": 7,
   "metadata": {},
   "outputs": [
    {
     "data": {
      "application/javascript": [
       "\n",
       "            setTimeout(function() {\n",
       "                var nbb_cell_id = 7;\n",
       "                var nbb_unformatted_code = \"# Output_dim = 12 because there are 12 different age/gender groups\\noutput_dim = 12\";\n",
       "                var nbb_formatted_code = \"# Output_dim = 12 because there are 12 different age/gender groups\\noutput_dim = 12\";\n",
       "                var nbb_cells = Jupyter.notebook.get_cells();\n",
       "                for (var i = 0; i < nbb_cells.length; ++i) {\n",
       "                    if (nbb_cells[i].input_prompt_number == nbb_cell_id) {\n",
       "                        if (nbb_cells[i].get_text() == nbb_unformatted_code) {\n",
       "                             nbb_cells[i].set_text(nbb_formatted_code);\n",
       "                        }\n",
       "                        break;\n",
       "                    }\n",
       "                }\n",
       "            }, 500);\n",
       "            "
      ],
      "text/plain": [
       "<IPython.core.display.Javascript object>"
      ]
     },
     "metadata": {},
     "output_type": "display_data"
    }
   ],
   "source": [
    "# Output_dim = 12 because there are 12 different age/gender groups\n",
    "output_dim = 12"
   ]
  },
  {
   "cell_type": "code",
   "execution_count": 8,
   "metadata": {},
   "outputs": [
    {
     "data": {
      "application/javascript": [
       "\n",
       "            setTimeout(function() {\n",
       "                var nbb_cell_id = 8;\n",
       "                var nbb_unformatted_code = \"X_train_np = X_train.to_numpy()\\nX_test_np = X_test.to_numpy()\\ny_train = to_categorical(y_train, output_dim)\\ny_test = to_categorical(y_test, output_dim)\";\n",
       "                var nbb_formatted_code = \"X_train_np = X_train.to_numpy()\\nX_test_np = X_test.to_numpy()\\ny_train = to_categorical(y_train, output_dim)\\ny_test = to_categorical(y_test, output_dim)\";\n",
       "                var nbb_cells = Jupyter.notebook.get_cells();\n",
       "                for (var i = 0; i < nbb_cells.length; ++i) {\n",
       "                    if (nbb_cells[i].input_prompt_number == nbb_cell_id) {\n",
       "                        if (nbb_cells[i].get_text() == nbb_unformatted_code) {\n",
       "                             nbb_cells[i].set_text(nbb_formatted_code);\n",
       "                        }\n",
       "                        break;\n",
       "                    }\n",
       "                }\n",
       "            }, 500);\n",
       "            "
      ],
      "text/plain": [
       "<IPython.core.display.Javascript object>"
      ]
     },
     "metadata": {},
     "output_type": "display_data"
    }
   ],
   "source": [
    "X_train_np = X_train.to_numpy()\n",
    "X_test_np = X_test.to_numpy()\n",
    "y_train = to_categorical(y_train, output_dim)\n",
    "y_test = to_categorical(y_test, output_dim)"
   ]
  },
  {
   "cell_type": "markdown",
   "metadata": {},
   "source": [
    "# 3 Layer RELU Model with ADAM Optimizer"
   ]
  },
  {
   "cell_type": "code",
   "execution_count": 9,
   "metadata": {},
   "outputs": [
    {
     "data": {
      "application/javascript": [
       "\n",
       "            setTimeout(function() {\n",
       "                var nbb_cell_id = 9;\n",
       "                var nbb_unformatted_code = \"model = Sequential()\\nmodel.add(Dense(128, input_dim=X_train_np.shape[1], activation=\\\"relu\\\"))\\nmodel.add(Dense(64, activation=\\\"relu\\\"))\\nmodel.add(Dense(12, activation=\\\"softmax\\\"))\";\n",
       "                var nbb_formatted_code = \"model = Sequential()\\nmodel.add(Dense(128, input_dim=X_train_np.shape[1], activation=\\\"relu\\\"))\\nmodel.add(Dense(64, activation=\\\"relu\\\"))\\nmodel.add(Dense(12, activation=\\\"softmax\\\"))\";\n",
       "                var nbb_cells = Jupyter.notebook.get_cells();\n",
       "                for (var i = 0; i < nbb_cells.length; ++i) {\n",
       "                    if (nbb_cells[i].input_prompt_number == nbb_cell_id) {\n",
       "                        if (nbb_cells[i].get_text() == nbb_unformatted_code) {\n",
       "                             nbb_cells[i].set_text(nbb_formatted_code);\n",
       "                        }\n",
       "                        break;\n",
       "                    }\n",
       "                }\n",
       "            }, 500);\n",
       "            "
      ],
      "text/plain": [
       "<IPython.core.display.Javascript object>"
      ]
     },
     "metadata": {},
     "output_type": "display_data"
    }
   ],
   "source": [
    "model = Sequential()\n",
    "model.add(Dense(128, input_dim=X_train_np.shape[1], activation=\"relu\"))\n",
    "model.add(Dense(64, activation=\"relu\"))\n",
    "model.add(Dense(12, activation=\"softmax\"))"
   ]
  },
  {
   "cell_type": "code",
   "execution_count": 10,
   "metadata": {},
   "outputs": [
    {
     "data": {
      "application/javascript": [
       "\n",
       "            setTimeout(function() {\n",
       "                var nbb_cell_id = 10;\n",
       "                var nbb_unformatted_code = \"model.compile(loss=\\\"categorical_crossentropy\\\", optimizer=\\\"adam\\\", metrics=[\\\"accuracy\\\"])\";\n",
       "                var nbb_formatted_code = \"model.compile(loss=\\\"categorical_crossentropy\\\", optimizer=\\\"adam\\\", metrics=[\\\"accuracy\\\"])\";\n",
       "                var nbb_cells = Jupyter.notebook.get_cells();\n",
       "                for (var i = 0; i < nbb_cells.length; ++i) {\n",
       "                    if (nbb_cells[i].input_prompt_number == nbb_cell_id) {\n",
       "                        if (nbb_cells[i].get_text() == nbb_unformatted_code) {\n",
       "                             nbb_cells[i].set_text(nbb_formatted_code);\n",
       "                        }\n",
       "                        break;\n",
       "                    }\n",
       "                }\n",
       "            }, 500);\n",
       "            "
      ],
      "text/plain": [
       "<IPython.core.display.Javascript object>"
      ]
     },
     "metadata": {},
     "output_type": "display_data"
    }
   ],
   "source": [
    "model.compile(loss=\"categorical_crossentropy\", optimizer=\"adam\", metrics=[\"accuracy\"])"
   ]
  },
  {
   "cell_type": "code",
   "execution_count": 11,
   "metadata": {},
   "outputs": [
    {
     "name": "stdout",
     "output_type": "stream",
     "text": [
      "Epoch 1/20\n",
      "2725/2725 [==============================] - 4s 1ms/step - loss: 7734890355228672.0000 - accuracy: 0.1148\n",
      "Epoch 2/20\n",
      "2725/2725 [==============================] - 4s 1ms/step - loss: 122210316451840.0000 - accuracy: 0.1795\n",
      "Epoch 3/20\n",
      "2725/2725 [==============================] - 4s 1ms/step - loss: 2.3080 - accuracy: 0.1857\n",
      "Epoch 4/20\n",
      "2725/2725 [==============================] - 4s 1ms/step - loss: 2.3080 - accuracy: 0.1857\n",
      "Epoch 5/20\n",
      "2725/2725 [==============================] - 4s 1ms/step - loss: 2.3080 - accuracy: 0.1857\n",
      "Epoch 6/20\n",
      "2725/2725 [==============================] - 4s 1ms/step - loss: 2.3080 - accuracy: 0.1857\n",
      "Epoch 7/20\n",
      "2725/2725 [==============================] - 4s 1ms/step - loss: 2.3080 - accuracy: 0.1857\n",
      "Epoch 8/20\n",
      "2725/2725 [==============================] - 4s 1ms/step - loss: 2.3080 - accuracy: 0.1857\n",
      "Epoch 9/20\n",
      "2725/2725 [==============================] - 4s 1ms/step - loss: 2.3080 - accuracy: 0.1857\n",
      "Epoch 10/20\n",
      "2725/2725 [==============================] - 4s 1ms/step - loss: 2.3080 - accuracy: 0.1857\n",
      "Epoch 11/20\n",
      "2725/2725 [==============================] - 4s 1ms/step - loss: 2.3080 - accuracy: 0.1857\n",
      "Epoch 12/20\n",
      "2725/2725 [==============================] - 4s 1ms/step - loss: 2.3080 - accuracy: 0.1857\n",
      "Epoch 13/20\n",
      "2725/2725 [==============================] - 4s 1ms/step - loss: 2.3080 - accuracy: 0.1857\n",
      "Epoch 14/20\n",
      "2725/2725 [==============================] - 4s 1ms/step - loss: 2.3080 - accuracy: 0.1857\n",
      "Epoch 15/20\n",
      "2725/2725 [==============================] - 4s 1ms/step - loss: 2.3080 - accuracy: 0.1857\n",
      "Epoch 16/20\n",
      "2725/2725 [==============================] - 4s 1ms/step - loss: 2.3080 - accuracy: 0.1857\n",
      "Epoch 17/20\n",
      "2725/2725 [==============================] - 4s 2ms/step - loss: 2.3080 - accuracy: 0.1857\n",
      "Epoch 18/20\n",
      "2725/2725 [==============================] - 5s 2ms/step - loss: 2.3080 - accuracy: 0.1857\n",
      "Epoch 19/20\n",
      "2725/2725 [==============================] - 4s 2ms/step - loss: 2.3080 - accuracy: 0.1857\n",
      "Epoch 20/20\n",
      "2725/2725 [==============================] - 4s 1ms/step - loss: 2.3080 - accuracy: 0.1857\n"
     ]
    },
    {
     "data": {
      "text/plain": [
       "<tensorflow.python.keras.callbacks.History at 0x296ae247f48>"
      ]
     },
     "execution_count": 11,
     "metadata": {},
     "output_type": "execute_result"
    },
    {
     "data": {
      "application/javascript": [
       "\n",
       "            setTimeout(function() {\n",
       "                var nbb_cell_id = 11;\n",
       "                var nbb_unformatted_code = \"model.fit(X_train, y_train, batch_size=128, epochs=20, verbose=1)\";\n",
       "                var nbb_formatted_code = \"model.fit(X_train, y_train, batch_size=128, epochs=20, verbose=1)\";\n",
       "                var nbb_cells = Jupyter.notebook.get_cells();\n",
       "                for (var i = 0; i < nbb_cells.length; ++i) {\n",
       "                    if (nbb_cells[i].input_prompt_number == nbb_cell_id) {\n",
       "                        if (nbb_cells[i].get_text() == nbb_unformatted_code) {\n",
       "                             nbb_cells[i].set_text(nbb_formatted_code);\n",
       "                        }\n",
       "                        break;\n",
       "                    }\n",
       "                }\n",
       "            }, 500);\n",
       "            "
      ],
      "text/plain": [
       "<IPython.core.display.Javascript object>"
      ]
     },
     "metadata": {},
     "output_type": "display_data"
    }
   ],
   "source": [
    "model.fit(X_train, y_train, batch_size=128, epochs=20, verbose=1)"
   ]
  },
  {
   "cell_type": "code",
   "execution_count": 12,
   "metadata": {},
   "outputs": [
    {
     "name": "stdout",
     "output_type": "stream",
     "text": [
      "Test accuracy: 0.18568086624145508\n"
     ]
    },
    {
     "data": {
      "application/javascript": [
       "\n",
       "            setTimeout(function() {\n",
       "                var nbb_cell_id = 12;\n",
       "                var nbb_unformatted_code = \"score = model.evaluate(X_test, y_test, verbose=0)\\nprint(\\\"Test accuracy:\\\", score[1])\";\n",
       "                var nbb_formatted_code = \"score = model.evaluate(X_test, y_test, verbose=0)\\nprint(\\\"Test accuracy:\\\", score[1])\";\n",
       "                var nbb_cells = Jupyter.notebook.get_cells();\n",
       "                for (var i = 0; i < nbb_cells.length; ++i) {\n",
       "                    if (nbb_cells[i].input_prompt_number == nbb_cell_id) {\n",
       "                        if (nbb_cells[i].get_text() == nbb_unformatted_code) {\n",
       "                             nbb_cells[i].set_text(nbb_formatted_code);\n",
       "                        }\n",
       "                        break;\n",
       "                    }\n",
       "                }\n",
       "            }, 500);\n",
       "            "
      ],
      "text/plain": [
       "<IPython.core.display.Javascript object>"
      ]
     },
     "metadata": {},
     "output_type": "display_data"
    }
   ],
   "source": [
    "score = model.evaluate(X_test, y_test, verbose=0)\n",
    "print(\"Test accuracy:\", score[1])"
   ]
  },
  {
   "cell_type": "code",
   "execution_count": 26,
   "metadata": {},
   "outputs": [
    {
     "data": {
      "text/plain": [
       "array([ 9,  4, 10, ...,  5,  5,  1], dtype=int64)"
      ]
     },
     "execution_count": 26,
     "metadata": {},
     "output_type": "execute_result"
    },
    {
     "data": {
      "application/javascript": [
       "\n",
       "            setTimeout(function() {\n",
       "                var nbb_cell_id = 26;\n",
       "                var nbb_unformatted_code = \"y_test_arg = y_test_arg.numpy()\\ny_test_arg\";\n",
       "                var nbb_formatted_code = \"y_test_arg = y_test_arg.numpy()\\ny_test_arg\";\n",
       "                var nbb_cells = Jupyter.notebook.get_cells();\n",
       "                for (var i = 0; i < nbb_cells.length; ++i) {\n",
       "                    if (nbb_cells[i].input_prompt_number == nbb_cell_id) {\n",
       "                        if (nbb_cells[i].get_text() == nbb_unformatted_code) {\n",
       "                             nbb_cells[i].set_text(nbb_formatted_code);\n",
       "                        }\n",
       "                        break;\n",
       "                    }\n",
       "                }\n",
       "            }, 500);\n",
       "            "
      ],
      "text/plain": [
       "<IPython.core.display.Javascript object>"
      ]
     },
     "metadata": {},
     "output_type": "display_data"
    }
   ],
   "source": [
    "y_pred = model.predict(X_test)\n",
    "y_test_arg = tf.argmax(y_test, 1)\n",
    "y_pred_arg = tf.argmax(y_pred, 1)"
   ]
  },
  {
   "cell_type": "code",
   "execution_count": 29,
   "metadata": {},
   "outputs": [
    {
     "name": "stdout",
     "output_type": "stream",
     "text": [
      "tf.Tensor(\n",
      "[[    0     0     0     0  5741     0     0     0     0     0     0     0]\n",
      " [    0     0     0     0 10080     0     0     0     0     0     0     0]\n",
      " [    0     0     0     0  6735     0     0     0     0     0     0     0]\n",
      " [    0     0     0     0 11084     0     0     0     0     0     0     0]\n",
      " [    0     0     0     0 16191     0     0     0     0     0     0     0]\n",
      " [    0     0     0     0 14392     0     0     0     0     0     0     0]\n",
      " [    0     0     0     0  2770     0     0     0     0     0     0     0]\n",
      " [    0     0     0     0  2562     0     0     0     0     0     0     0]\n",
      " [    0     0     0     0  2732     0     0     0     0     0     0     0]\n",
      " [    0     0     0     0  4170     0     0     0     0     0     0     0]\n",
      " [    0     0     0     0  6059     0     0     0     0     0     0     0]\n",
      " [    0     0     0     0  4682     0     0     0     0     0     0     0]], shape=(12, 12), dtype=int32)\n"
     ]
    },
    {
     "data": {
      "application/javascript": [
       "\n",
       "            setTimeout(function() {\n",
       "                var nbb_cell_id = 29;\n",
       "                var nbb_unformatted_code = \"res = tf.math.confusion_matrix(y_test_arg, y_pred_arg)\\nprint(res)\";\n",
       "                var nbb_formatted_code = \"res = tf.math.confusion_matrix(y_test_arg, y_pred_arg)\\nprint(res)\";\n",
       "                var nbb_cells = Jupyter.notebook.get_cells();\n",
       "                for (var i = 0; i < nbb_cells.length; ++i) {\n",
       "                    if (nbb_cells[i].input_prompt_number == nbb_cell_id) {\n",
       "                        if (nbb_cells[i].get_text() == nbb_unformatted_code) {\n",
       "                             nbb_cells[i].set_text(nbb_formatted_code);\n",
       "                        }\n",
       "                        break;\n",
       "                    }\n",
       "                }\n",
       "            }, 500);\n",
       "            "
      ],
      "text/plain": [
       "<IPython.core.display.Javascript object>"
      ]
     },
     "metadata": {},
     "output_type": "display_data"
    }
   ],
   "source": [
    "res = tf.math.confusion_matrix(y_test_arg, y_pred_arg)\n",
    "print(res)"
   ]
  },
  {
   "cell_type": "markdown",
   "metadata": {},
   "source": [
    "# 3 Layer RELU Model with SGD Optimizer"
   ]
  },
  {
   "cell_type": "code",
   "execution_count": 9,
   "metadata": {},
   "outputs": [
    {
     "data": {
      "application/javascript": [
       "\n",
       "            setTimeout(function() {\n",
       "                var nbb_cell_id = 9;\n",
       "                var nbb_unformatted_code = \"model = Sequential()\\nmodel.add(Dense(128, input_dim=X_train_np.shape[1], activation=\\\"relu\\\"))\\nmodel.add(Dense(64, activation=\\\"relu\\\"))\\nmodel.add(Dense(12, activation=\\\"softmax\\\"))\";\n",
       "                var nbb_formatted_code = \"model = Sequential()\\nmodel.add(Dense(128, input_dim=X_train_np.shape[1], activation=\\\"relu\\\"))\\nmodel.add(Dense(64, activation=\\\"relu\\\"))\\nmodel.add(Dense(12, activation=\\\"softmax\\\"))\";\n",
       "                var nbb_cells = Jupyter.notebook.get_cells();\n",
       "                for (var i = 0; i < nbb_cells.length; ++i) {\n",
       "                    if (nbb_cells[i].input_prompt_number == nbb_cell_id) {\n",
       "                        if (nbb_cells[i].get_text() == nbb_unformatted_code) {\n",
       "                             nbb_cells[i].set_text(nbb_formatted_code);\n",
       "                        }\n",
       "                        break;\n",
       "                    }\n",
       "                }\n",
       "            }, 500);\n",
       "            "
      ],
      "text/plain": [
       "<IPython.core.display.Javascript object>"
      ]
     },
     "metadata": {},
     "output_type": "display_data"
    }
   ],
   "source": [
    "model = Sequential()\n",
    "model.add(Dense(128, input_dim=X_train_np.shape[1], activation=\"relu\"))\n",
    "model.add(Dense(64, activation=\"relu\"))\n",
    "model.add(Dense(12, activation=\"softmax\"))"
   ]
  },
  {
   "cell_type": "code",
   "execution_count": 10,
   "metadata": {},
   "outputs": [
    {
     "data": {
      "application/javascript": [
       "\n",
       "            setTimeout(function() {\n",
       "                var nbb_cell_id = 10;\n",
       "                var nbb_unformatted_code = \"model.compile(loss=\\\"categorical_crossentropy\\\", optimizer=\\\"sgd\\\", metrics=[\\\"accuracy\\\"])\";\n",
       "                var nbb_formatted_code = \"model.compile(loss=\\\"categorical_crossentropy\\\", optimizer=\\\"sgd\\\", metrics=[\\\"accuracy\\\"])\";\n",
       "                var nbb_cells = Jupyter.notebook.get_cells();\n",
       "                for (var i = 0; i < nbb_cells.length; ++i) {\n",
       "                    if (nbb_cells[i].input_prompt_number == nbb_cell_id) {\n",
       "                        if (nbb_cells[i].get_text() == nbb_unformatted_code) {\n",
       "                             nbb_cells[i].set_text(nbb_formatted_code);\n",
       "                        }\n",
       "                        break;\n",
       "                    }\n",
       "                }\n",
       "            }, 500);\n",
       "            "
      ],
      "text/plain": [
       "<IPython.core.display.Javascript object>"
      ]
     },
     "metadata": {},
     "output_type": "display_data"
    }
   ],
   "source": [
    "model.compile(loss=\"categorical_crossentropy\", optimizer=\"sgd\", metrics=[\"accuracy\"])"
   ]
  },
  {
   "cell_type": "code",
   "execution_count": 11,
   "metadata": {},
   "outputs": [
    {
     "name": "stdout",
     "output_type": "stream",
     "text": [
      "Epoch 1/20\n",
      "2725/2725 [==============================] - 4s 1ms/step - loss: nan - accuracy: 0.0659\n",
      "Epoch 2/20\n",
      "2725/2725 [==============================] - 3s 1ms/step - loss: nan - accuracy: 0.0658\n",
      "Epoch 3/20\n",
      "2725/2725 [==============================] - 3s 1ms/step - loss: nan - accuracy: 0.0658\n",
      "Epoch 4/20\n",
      "2725/2725 [==============================] - 3s 1ms/step - loss: nan - accuracy: 0.0658\n",
      "Epoch 5/20\n",
      "2725/2725 [==============================] - 3s 1ms/step - loss: nan - accuracy: 0.0658\n",
      "Epoch 6/20\n",
      "2725/2725 [==============================] - 3s 1ms/step - loss: nan - accuracy: 0.0658\n",
      "Epoch 7/20\n",
      "2725/2725 [==============================] - 3s 1ms/step - loss: nan - accuracy: 0.0658\n",
      "Epoch 8/20\n",
      "2725/2725 [==============================] - 3s 1ms/step - loss: nan - accuracy: 0.0658\n",
      "Epoch 9/20\n",
      "2725/2725 [==============================] - 3s 1ms/step - loss: nan - accuracy: 0.0658\n",
      "Epoch 10/20\n",
      "2725/2725 [==============================] - 3s 1ms/step - loss: nan - accuracy: 0.0658\n",
      "Epoch 11/20\n",
      "2725/2725 [==============================] - 3s 1ms/step - loss: nan - accuracy: 0.0658\n",
      "Epoch 12/20\n",
      "2725/2725 [==============================] - 4s 1ms/step - loss: nan - accuracy: 0.0658\n",
      "Epoch 13/20\n",
      "2725/2725 [==============================] - 3s 1ms/step - loss: nan - accuracy: 0.0658\n",
      "Epoch 14/20\n",
      "2725/2725 [==============================] - 3s 1ms/step - loss: nan - accuracy: 0.0658\n",
      "Epoch 15/20\n",
      "2725/2725 [==============================] - 4s 1ms/step - loss: nan - accuracy: 0.0658\n",
      "Epoch 16/20\n",
      "2725/2725 [==============================] - 4s 1ms/step - loss: nan - accuracy: 0.0658\n",
      "Epoch 17/20\n",
      "2725/2725 [==============================] - 3s 1ms/step - loss: nan - accuracy: 0.0658\n",
      "Epoch 18/20\n",
      "2725/2725 [==============================] - 4s 1ms/step - loss: nan - accuracy: 0.0658\n",
      "Epoch 19/20\n",
      "2725/2725 [==============================] - 3s 1ms/step - loss: nan - accuracy: 0.0658\n",
      "Epoch 20/20\n",
      "2725/2725 [==============================] - 3s 1ms/step - loss: nan - accuracy: 0.0658\n"
     ]
    },
    {
     "data": {
      "text/plain": [
       "<tensorflow.python.keras.callbacks.History at 0x290fd1abdc8>"
      ]
     },
     "execution_count": 11,
     "metadata": {},
     "output_type": "execute_result"
    },
    {
     "data": {
      "application/javascript": [
       "\n",
       "            setTimeout(function() {\n",
       "                var nbb_cell_id = 11;\n",
       "                var nbb_unformatted_code = \"model.fit(X_train, y_train, batch_size=128, epochs=20, verbose=1)\";\n",
       "                var nbb_formatted_code = \"model.fit(X_train, y_train, batch_size=128, epochs=20, verbose=1)\";\n",
       "                var nbb_cells = Jupyter.notebook.get_cells();\n",
       "                for (var i = 0; i < nbb_cells.length; ++i) {\n",
       "                    if (nbb_cells[i].input_prompt_number == nbb_cell_id) {\n",
       "                        if (nbb_cells[i].get_text() == nbb_unformatted_code) {\n",
       "                             nbb_cells[i].set_text(nbb_formatted_code);\n",
       "                        }\n",
       "                        break;\n",
       "                    }\n",
       "                }\n",
       "            }, 500);\n",
       "            "
      ],
      "text/plain": [
       "<IPython.core.display.Javascript object>"
      ]
     },
     "metadata": {},
     "output_type": "display_data"
    }
   ],
   "source": [
    "model.fit(X_train, y_train, batch_size=128, epochs=20, verbose=1)"
   ]
  },
  {
   "cell_type": "code",
   "execution_count": 12,
   "metadata": {},
   "outputs": [
    {
     "name": "stdout",
     "output_type": "stream",
     "text": [
      "Test accuracy: 0.06583866477012634\n"
     ]
    },
    {
     "data": {
      "application/javascript": [
       "\n",
       "            setTimeout(function() {\n",
       "                var nbb_cell_id = 12;\n",
       "                var nbb_unformatted_code = \"score = model.evaluate(X_test, y_test, verbose=0)\\nprint(\\\"Test accuracy:\\\", score[1])\";\n",
       "                var nbb_formatted_code = \"score = model.evaluate(X_test, y_test, verbose=0)\\nprint(\\\"Test accuracy:\\\", score[1])\";\n",
       "                var nbb_cells = Jupyter.notebook.get_cells();\n",
       "                for (var i = 0; i < nbb_cells.length; ++i) {\n",
       "                    if (nbb_cells[i].input_prompt_number == nbb_cell_id) {\n",
       "                        if (nbb_cells[i].get_text() == nbb_unformatted_code) {\n",
       "                             nbb_cells[i].set_text(nbb_formatted_code);\n",
       "                        }\n",
       "                        break;\n",
       "                    }\n",
       "                }\n",
       "            }, 500);\n",
       "            "
      ],
      "text/plain": [
       "<IPython.core.display.Javascript object>"
      ]
     },
     "metadata": {},
     "output_type": "display_data"
    }
   ],
   "source": [
    "score = model.evaluate(X_test, y_test, verbose=0)\n",
    "print(\"Test accuracy:\", score[1])"
   ]
  },
  {
   "cell_type": "code",
   "execution_count": 13,
   "metadata": {},
   "outputs": [
    {
     "data": {
      "application/javascript": [
       "\n",
       "            setTimeout(function() {\n",
       "                var nbb_cell_id = 13;\n",
       "                var nbb_unformatted_code = \"y_pred = model.predict(X_test)\\ny_test_arg = tf.argmax(y_test, 1)\\ny_pred_arg = tf.argmax(y_pred, 1)\";\n",
       "                var nbb_formatted_code = \"y_pred = model.predict(X_test)\\ny_test_arg = tf.argmax(y_test, 1)\\ny_pred_arg = tf.argmax(y_pred, 1)\";\n",
       "                var nbb_cells = Jupyter.notebook.get_cells();\n",
       "                for (var i = 0; i < nbb_cells.length; ++i) {\n",
       "                    if (nbb_cells[i].input_prompt_number == nbb_cell_id) {\n",
       "                        if (nbb_cells[i].get_text() == nbb_unformatted_code) {\n",
       "                             nbb_cells[i].set_text(nbb_formatted_code);\n",
       "                        }\n",
       "                        break;\n",
       "                    }\n",
       "                }\n",
       "            }, 500);\n",
       "            "
      ],
      "text/plain": [
       "<IPython.core.display.Javascript object>"
      ]
     },
     "metadata": {},
     "output_type": "display_data"
    }
   ],
   "source": [
    "y_pred = model.predict(X_test)\n",
    "y_test_arg = tf.argmax(y_test, 1)\n",
    "y_pred_arg = tf.argmax(y_pred, 1)"
   ]
  },
  {
   "cell_type": "code",
   "execution_count": 14,
   "metadata": {},
   "outputs": [
    {
     "name": "stdout",
     "output_type": "stream",
     "text": [
      "tf.Tensor(\n",
      "[[ 5741     0     0     0     0     0     0     0     0     0     0     0]\n",
      " [10080     0     0     0     0     0     0     0     0     0     0     0]\n",
      " [ 6735     0     0     0     0     0     0     0     0     0     0     0]\n",
      " [11084     0     0     0     0     0     0     0     0     0     0     0]\n",
      " [16191     0     0     0     0     0     0     0     0     0     0     0]\n",
      " [14392     0     0     0     0     0     0     0     0     0     0     0]\n",
      " [ 2770     0     0     0     0     0     0     0     0     0     0     0]\n",
      " [ 2562     0     0     0     0     0     0     0     0     0     0     0]\n",
      " [ 2732     0     0     0     0     0     0     0     0     0     0     0]\n",
      " [ 4170     0     0     0     0     0     0     0     0     0     0     0]\n",
      " [ 6059     0     0     0     0     0     0     0     0     0     0     0]\n",
      " [ 4682     0     0     0     0     0     0     0     0     0     0     0]], shape=(12, 12), dtype=int32)\n"
     ]
    },
    {
     "data": {
      "application/javascript": [
       "\n",
       "            setTimeout(function() {\n",
       "                var nbb_cell_id = 14;\n",
       "                var nbb_unformatted_code = \"res = tf.math.confusion_matrix(y_test_arg, y_pred_arg)\\nprint(res)\";\n",
       "                var nbb_formatted_code = \"res = tf.math.confusion_matrix(y_test_arg, y_pred_arg)\\nprint(res)\";\n",
       "                var nbb_cells = Jupyter.notebook.get_cells();\n",
       "                for (var i = 0; i < nbb_cells.length; ++i) {\n",
       "                    if (nbb_cells[i].input_prompt_number == nbb_cell_id) {\n",
       "                        if (nbb_cells[i].get_text() == nbb_unformatted_code) {\n",
       "                             nbb_cells[i].set_text(nbb_formatted_code);\n",
       "                        }\n",
       "                        break;\n",
       "                    }\n",
       "                }\n",
       "            }, 500);\n",
       "            "
      ],
      "text/plain": [
       "<IPython.core.display.Javascript object>"
      ]
     },
     "metadata": {},
     "output_type": "display_data"
    }
   ],
   "source": [
    "res = tf.math.confusion_matrix(y_test_arg, y_pred_arg)\n",
    "print(res)"
   ]
  },
  {
   "cell_type": "markdown",
   "metadata": {},
   "source": [
    "# 3 Layer TANH Model with ADAM Optimizer"
   ]
  },
  {
   "cell_type": "code",
   "execution_count": 44,
   "metadata": {},
   "outputs": [
    {
     "data": {
      "application/javascript": [
       "\n",
       "            setTimeout(function() {\n",
       "                var nbb_cell_id = 44;\n",
       "                var nbb_unformatted_code = \"model = Sequential()\\nmodel.add(Dense(128, input_dim=X_train_np.shape[1], activation=\\\"tanh\\\"))\\nmodel.add(Dense(64, activation=\\\"tanh\\\"))\\nmodel.add(Dense(12, activation=\\\"softmax\\\"))\";\n",
       "                var nbb_formatted_code = \"model = Sequential()\\nmodel.add(Dense(128, input_dim=X_train_np.shape[1], activation=\\\"tanh\\\"))\\nmodel.add(Dense(64, activation=\\\"tanh\\\"))\\nmodel.add(Dense(12, activation=\\\"softmax\\\"))\";\n",
       "                var nbb_cells = Jupyter.notebook.get_cells();\n",
       "                for (var i = 0; i < nbb_cells.length; ++i) {\n",
       "                    if (nbb_cells[i].input_prompt_number == nbb_cell_id) {\n",
       "                        if (nbb_cells[i].get_text() == nbb_unformatted_code) {\n",
       "                             nbb_cells[i].set_text(nbb_formatted_code);\n",
       "                        }\n",
       "                        break;\n",
       "                    }\n",
       "                }\n",
       "            }, 500);\n",
       "            "
      ],
      "text/plain": [
       "<IPython.core.display.Javascript object>"
      ]
     },
     "metadata": {},
     "output_type": "display_data"
    }
   ],
   "source": [
    "model = Sequential()\n",
    "model.add(Dense(128, input_dim=X_train_np.shape[1], activation=\"tanh\"))\n",
    "model.add(Dense(64, activation=\"tanh\"))\n",
    "model.add(Dense(12, activation=\"softmax\"))"
   ]
  },
  {
   "cell_type": "code",
   "execution_count": 45,
   "metadata": {},
   "outputs": [
    {
     "data": {
      "application/javascript": [
       "\n",
       "            setTimeout(function() {\n",
       "                var nbb_cell_id = 45;\n",
       "                var nbb_unformatted_code = \"model.compile(loss=\\\"categorical_crossentropy\\\", optimizer=\\\"adam\\\", metrics=[\\\"accuracy\\\"])\";\n",
       "                var nbb_formatted_code = \"model.compile(loss=\\\"categorical_crossentropy\\\", optimizer=\\\"adam\\\", metrics=[\\\"accuracy\\\"])\";\n",
       "                var nbb_cells = Jupyter.notebook.get_cells();\n",
       "                for (var i = 0; i < nbb_cells.length; ++i) {\n",
       "                    if (nbb_cells[i].input_prompt_number == nbb_cell_id) {\n",
       "                        if (nbb_cells[i].get_text() == nbb_unformatted_code) {\n",
       "                             nbb_cells[i].set_text(nbb_formatted_code);\n",
       "                        }\n",
       "                        break;\n",
       "                    }\n",
       "                }\n",
       "            }, 500);\n",
       "            "
      ],
      "text/plain": [
       "<IPython.core.display.Javascript object>"
      ]
     },
     "metadata": {},
     "output_type": "display_data"
    }
   ],
   "source": [
    "model.compile(loss=\"categorical_crossentropy\", optimizer=\"adam\", metrics=[\"accuracy\"])"
   ]
  },
  {
   "cell_type": "code",
   "execution_count": 46,
   "metadata": {},
   "outputs": [
    {
     "name": "stdout",
     "output_type": "stream",
     "text": [
      "Epoch 1/20\n",
      "2725/2725 [==============================] - 3s 1ms/step - loss: 2.3287 - accuracy: 0.1771\n",
      "Epoch 2/20\n",
      "2725/2725 [==============================] - 3s 1ms/step - loss: 2.3141 - accuracy: 0.1824\n",
      "Epoch 3/20\n",
      "2725/2725 [==============================] - 3s 1ms/step - loss: 2.3127 - accuracy: 0.1830\n",
      "Epoch 4/20\n",
      "2725/2725 [==============================] - 3s 1ms/step - loss: 2.3116 - accuracy: 0.1824\n",
      "Epoch 5/20\n",
      "2725/2725 [==============================] - 3s 1ms/step - loss: 2.3108 - accuracy: 0.1829\n",
      "Epoch 6/20\n",
      "2725/2725 [==============================] - 3s 1ms/step - loss: 2.3104 - accuracy: 0.1833\n",
      "Epoch 7/20\n",
      "2725/2725 [==============================] - 3s 1ms/step - loss: 2.3103 - accuracy: 0.1835\n",
      "Epoch 8/20\n",
      "2725/2725 [==============================] - 3s 1ms/step - loss: 2.3101 - accuracy: 0.1830\n",
      "Epoch 9/20\n",
      "2725/2725 [==============================] - 4s 1ms/step - loss: 2.3097 - accuracy: 0.1836\n",
      "Epoch 10/20\n",
      "2725/2725 [==============================] - 3s 1ms/step - loss: 2.3097 - accuracy: 0.1831\n",
      "Epoch 11/20\n",
      "2725/2725 [==============================] - 3s 1ms/step - loss: 2.3093 - accuracy: 0.1829\n",
      "Epoch 12/20\n",
      "2725/2725 [==============================] - 3s 1ms/step - loss: 2.3092 - accuracy: 0.1838\n",
      "Epoch 13/20\n",
      "2725/2725 [==============================] - 3s 1ms/step - loss: 2.3092 - accuracy: 0.1835\n",
      "Epoch 14/20\n",
      "2725/2725 [==============================] - 3s 1ms/step - loss: 2.3090 - accuracy: 0.1835\n",
      "Epoch 15/20\n",
      "2725/2725 [==============================] - 3s 1ms/step - loss: 2.3089 - accuracy: 0.1838\n",
      "Epoch 16/20\n",
      "2725/2725 [==============================] - 3s 1ms/step - loss: 2.3090 - accuracy: 0.1837\n",
      "Epoch 17/20\n",
      "2725/2725 [==============================] - 3s 1ms/step - loss: 2.3088 - accuracy: 0.1835\n",
      "Epoch 18/20\n",
      "2725/2725 [==============================] - 3s 1ms/step - loss: 2.3088 - accuracy: 0.1835\n",
      "Epoch 19/20\n",
      "2725/2725 [==============================] - 3s 1ms/step - loss: 2.3088 - accuracy: 0.1838\n",
      "Epoch 20/20\n",
      "2725/2725 [==============================] - 3s 1ms/step - loss: 2.3088 - accuracy: 0.1839\n"
     ]
    },
    {
     "data": {
      "text/plain": [
       "<tensorflow.python.keras.callbacks.History at 0x296ae544a88>"
      ]
     },
     "execution_count": 46,
     "metadata": {},
     "output_type": "execute_result"
    },
    {
     "data": {
      "application/javascript": [
       "\n",
       "            setTimeout(function() {\n",
       "                var nbb_cell_id = 46;\n",
       "                var nbb_unformatted_code = \"model.fit(X_train, y_train, batch_size=128, epochs=20, verbose=1)\";\n",
       "                var nbb_formatted_code = \"model.fit(X_train, y_train, batch_size=128, epochs=20, verbose=1)\";\n",
       "                var nbb_cells = Jupyter.notebook.get_cells();\n",
       "                for (var i = 0; i < nbb_cells.length; ++i) {\n",
       "                    if (nbb_cells[i].input_prompt_number == nbb_cell_id) {\n",
       "                        if (nbb_cells[i].get_text() == nbb_unformatted_code) {\n",
       "                             nbb_cells[i].set_text(nbb_formatted_code);\n",
       "                        }\n",
       "                        break;\n",
       "                    }\n",
       "                }\n",
       "            }, 500);\n",
       "            "
      ],
      "text/plain": [
       "<IPython.core.display.Javascript object>"
      ]
     },
     "metadata": {},
     "output_type": "display_data"
    }
   ],
   "source": [
    "model.fit(X_train, y_train, batch_size=128, epochs=20, verbose=1)"
   ]
  },
  {
   "cell_type": "code",
   "execution_count": 47,
   "metadata": {},
   "outputs": [
    {
     "name": "stdout",
     "output_type": "stream",
     "text": [
      "Test accuracy: 0.18287116289138794\n"
     ]
    },
    {
     "data": {
      "application/javascript": [
       "\n",
       "            setTimeout(function() {\n",
       "                var nbb_cell_id = 47;\n",
       "                var nbb_unformatted_code = \"score = model.evaluate(X_test, y_test, verbose=0)\\nprint(\\\"Test accuracy:\\\", score[1])\";\n",
       "                var nbb_formatted_code = \"score = model.evaluate(X_test, y_test, verbose=0)\\nprint(\\\"Test accuracy:\\\", score[1])\";\n",
       "                var nbb_cells = Jupyter.notebook.get_cells();\n",
       "                for (var i = 0; i < nbb_cells.length; ++i) {\n",
       "                    if (nbb_cells[i].input_prompt_number == nbb_cell_id) {\n",
       "                        if (nbb_cells[i].get_text() == nbb_unformatted_code) {\n",
       "                             nbb_cells[i].set_text(nbb_formatted_code);\n",
       "                        }\n",
       "                        break;\n",
       "                    }\n",
       "                }\n",
       "            }, 500);\n",
       "            "
      ],
      "text/plain": [
       "<IPython.core.display.Javascript object>"
      ]
     },
     "metadata": {},
     "output_type": "display_data"
    }
   ],
   "source": [
    "score = model.evaluate(X_test, y_test, verbose=0)\n",
    "print(\"Test accuracy:\", score[1])"
   ]
  },
  {
   "cell_type": "code",
   "execution_count": 48,
   "metadata": {},
   "outputs": [
    {
     "data": {
      "application/javascript": [
       "\n",
       "            setTimeout(function() {\n",
       "                var nbb_cell_id = 48;\n",
       "                var nbb_unformatted_code = \"y_pred = model.predict(X_test)\\ny_test_arg = tf.argmax(y_test, 1)\\ny_pred_arg = tf.argmax(y_pred, 1)\";\n",
       "                var nbb_formatted_code = \"y_pred = model.predict(X_test)\\ny_test_arg = tf.argmax(y_test, 1)\\ny_pred_arg = tf.argmax(y_pred, 1)\";\n",
       "                var nbb_cells = Jupyter.notebook.get_cells();\n",
       "                for (var i = 0; i < nbb_cells.length; ++i) {\n",
       "                    if (nbb_cells[i].input_prompt_number == nbb_cell_id) {\n",
       "                        if (nbb_cells[i].get_text() == nbb_unformatted_code) {\n",
       "                             nbb_cells[i].set_text(nbb_formatted_code);\n",
       "                        }\n",
       "                        break;\n",
       "                    }\n",
       "                }\n",
       "            }, 500);\n",
       "            "
      ],
      "text/plain": [
       "<IPython.core.display.Javascript object>"
      ]
     },
     "metadata": {},
     "output_type": "display_data"
    }
   ],
   "source": [
    "y_pred = model.predict(X_test)\n",
    "y_test_arg = tf.argmax(y_test, 1)\n",
    "y_pred_arg = tf.argmax(y_pred, 1)"
   ]
  },
  {
   "cell_type": "code",
   "execution_count": 49,
   "metadata": {},
   "outputs": [
    {
     "name": "stdout",
     "output_type": "stream",
     "text": [
      "tf.Tensor(\n",
      "[[    0     0     0     0  4512  1229     0     0     0     0     0     0]\n",
      " [    0     1     0     0  8140  1939     0     0     0     0     0     0]\n",
      " [    0     1     0     0  5412  1322     0     0     0     0     0     0]\n",
      " [    0     0     0     0  8957  2127     0     0     0     0     0     0]\n",
      " [    0     1     0     0 13012  3178     0     0     0     0     0     0]\n",
      " [    0     0     0     0 11459  2933     0     0     0     0     0     0]\n",
      " [    0     0     0     0  2280   490     0     0     0     0     0     0]\n",
      " [    0     0     0     0  2025   537     0     0     0     0     0     0]\n",
      " [    0     0     0     0  2147   585     0     0     0     0     0     0]\n",
      " [    0     0     0     0  3360   810     0     0     0     0     0     0]\n",
      " [    0     0     0     0  4896  1163     0     0     0     0     0     0]\n",
      " [    0     0     0     0  3690   992     0     0     0     0     0     0]], shape=(12, 12), dtype=int32)\n"
     ]
    },
    {
     "data": {
      "application/javascript": [
       "\n",
       "            setTimeout(function() {\n",
       "                var nbb_cell_id = 49;\n",
       "                var nbb_unformatted_code = \"res = tf.math.confusion_matrix(y_test_arg, y_pred_arg)\\nprint(res)\";\n",
       "                var nbb_formatted_code = \"res = tf.math.confusion_matrix(y_test_arg, y_pred_arg)\\nprint(res)\";\n",
       "                var nbb_cells = Jupyter.notebook.get_cells();\n",
       "                for (var i = 0; i < nbb_cells.length; ++i) {\n",
       "                    if (nbb_cells[i].input_prompt_number == nbb_cell_id) {\n",
       "                        if (nbb_cells[i].get_text() == nbb_unformatted_code) {\n",
       "                             nbb_cells[i].set_text(nbb_formatted_code);\n",
       "                        }\n",
       "                        break;\n",
       "                    }\n",
       "                }\n",
       "            }, 500);\n",
       "            "
      ],
      "text/plain": [
       "<IPython.core.display.Javascript object>"
      ]
     },
     "metadata": {},
     "output_type": "display_data"
    }
   ],
   "source": [
    "res = tf.math.confusion_matrix(y_test_arg, y_pred_arg)\n",
    "print(res)"
   ]
  },
  {
   "cell_type": "markdown",
   "metadata": {},
   "source": [
    "# 3 Layer TANH Model with ADAM Optimizer"
   ]
  },
  {
   "cell_type": "code",
   "execution_count": 15,
   "metadata": {},
   "outputs": [
    {
     "data": {
      "application/javascript": [
       "\n",
       "            setTimeout(function() {\n",
       "                var nbb_cell_id = 15;\n",
       "                var nbb_unformatted_code = \"model = Sequential()\\nmodel.add(Dense(128, input_dim=X_train_np.shape[1], activation=\\\"tanh\\\"))\\nmodel.add(Dense(64, activation=\\\"tanh\\\"))\\nmodel.add(Dense(12, activation=\\\"softmax\\\"))\";\n",
       "                var nbb_formatted_code = \"model = Sequential()\\nmodel.add(Dense(128, input_dim=X_train_np.shape[1], activation=\\\"tanh\\\"))\\nmodel.add(Dense(64, activation=\\\"tanh\\\"))\\nmodel.add(Dense(12, activation=\\\"softmax\\\"))\";\n",
       "                var nbb_cells = Jupyter.notebook.get_cells();\n",
       "                for (var i = 0; i < nbb_cells.length; ++i) {\n",
       "                    if (nbb_cells[i].input_prompt_number == nbb_cell_id) {\n",
       "                        if (nbb_cells[i].get_text() == nbb_unformatted_code) {\n",
       "                             nbb_cells[i].set_text(nbb_formatted_code);\n",
       "                        }\n",
       "                        break;\n",
       "                    }\n",
       "                }\n",
       "            }, 500);\n",
       "            "
      ],
      "text/plain": [
       "<IPython.core.display.Javascript object>"
      ]
     },
     "metadata": {},
     "output_type": "display_data"
    }
   ],
   "source": [
    "model = Sequential()\n",
    "model.add(Dense(128, input_dim=X_train_np.shape[1], activation=\"tanh\"))\n",
    "model.add(Dense(64, activation=\"tanh\"))\n",
    "model.add(Dense(12, activation=\"softmax\"))"
   ]
  },
  {
   "cell_type": "code",
   "execution_count": 16,
   "metadata": {},
   "outputs": [
    {
     "data": {
      "application/javascript": [
       "\n",
       "            setTimeout(function() {\n",
       "                var nbb_cell_id = 16;\n",
       "                var nbb_unformatted_code = \"model.compile(loss=\\\"categorical_crossentropy\\\", optimizer=\\\"sgd\\\", metrics=[\\\"accuracy\\\"])\";\n",
       "                var nbb_formatted_code = \"model.compile(loss=\\\"categorical_crossentropy\\\", optimizer=\\\"sgd\\\", metrics=[\\\"accuracy\\\"])\";\n",
       "                var nbb_cells = Jupyter.notebook.get_cells();\n",
       "                for (var i = 0; i < nbb_cells.length; ++i) {\n",
       "                    if (nbb_cells[i].input_prompt_number == nbb_cell_id) {\n",
       "                        if (nbb_cells[i].get_text() == nbb_unformatted_code) {\n",
       "                             nbb_cells[i].set_text(nbb_formatted_code);\n",
       "                        }\n",
       "                        break;\n",
       "                    }\n",
       "                }\n",
       "            }, 500);\n",
       "            "
      ],
      "text/plain": [
       "<IPython.core.display.Javascript object>"
      ]
     },
     "metadata": {},
     "output_type": "display_data"
    }
   ],
   "source": [
    "model.compile(loss=\"categorical_crossentropy\", optimizer=\"sgd\", metrics=[\"accuracy\"])"
   ]
  },
  {
   "cell_type": "code",
   "execution_count": 17,
   "metadata": {},
   "outputs": [
    {
     "name": "stdout",
     "output_type": "stream",
     "text": [
      "Epoch 1/20\n",
      "2725/2725 [==============================] - 4s 1ms/step - loss: 2.3485 - accuracy: 0.1723\n",
      "Epoch 2/20\n",
      "2725/2725 [==============================] - 4s 1ms/step - loss: 2.3122 - accuracy: 0.1818\n",
      "Epoch 3/20\n",
      "2725/2725 [==============================] - 3s 1ms/step - loss: 2.3099 - accuracy: 0.1830\n",
      "Epoch 4/20\n",
      "2725/2725 [==============================] - 3s 1ms/step - loss: 2.3089 - accuracy: 0.1829\n",
      "Epoch 5/20\n",
      "2725/2725 [==============================] - 3s 1ms/step - loss: 2.3083 - accuracy: 0.1838\n",
      "Epoch 6/20\n",
      "2725/2725 [==============================] - 3s 1ms/step - loss: 2.3078 - accuracy: 0.1834\n",
      "Epoch 7/20\n",
      "2725/2725 [==============================] - 3s 1ms/step - loss: 2.3073 - accuracy: 0.1839\n",
      "Epoch 8/20\n",
      "2725/2725 [==============================] - 3s 1ms/step - loss: 2.3070 - accuracy: 0.1841\n",
      "Epoch 9/20\n",
      "2725/2725 [==============================] - 3s 1ms/step - loss: 2.3069 - accuracy: 0.1840\n",
      "Epoch 10/20\n",
      "2725/2725 [==============================] - 4s 1ms/step - loss: 2.3066 - accuracy: 0.1842\n",
      "Epoch 11/20\n",
      "2725/2725 [==============================] - 3s 1ms/step - loss: 2.3064 - accuracy: 0.1847\n",
      "Epoch 12/20\n",
      "2725/2725 [==============================] - 3s 1ms/step - loss: 2.3063 - accuracy: 0.1845\n",
      "Epoch 13/20\n",
      "2725/2725 [==============================] - 3s 1ms/step - loss: 2.3061 - accuracy: 0.1839\n",
      "Epoch 14/20\n",
      "2725/2725 [==============================] - 4s 1ms/step - loss: 2.3060 - accuracy: 0.1846\n",
      "Epoch 15/20\n",
      "2725/2725 [==============================] - 3s 1ms/step - loss: 2.3058 - accuracy: 0.1849\n",
      "Epoch 16/20\n",
      "2725/2725 [==============================] - 4s 1ms/step - loss: 2.3058 - accuracy: 0.1852\n",
      "Epoch 17/20\n",
      "2725/2725 [==============================] - 3s 1ms/step - loss: 2.3057 - accuracy: 0.1848\n",
      "Epoch 18/20\n",
      "2725/2725 [==============================] - 3s 1ms/step - loss: 2.3057 - accuracy: 0.1850\n",
      "Epoch 19/20\n",
      "2725/2725 [==============================] - 8s 3ms/step - loss: 2.3055 - accuracy: 0.1848\n",
      "Epoch 20/20\n",
      "2725/2725 [==============================] - 4s 1ms/step - loss: 2.3055 - accuracy: 0.1849\n"
     ]
    },
    {
     "data": {
      "text/plain": [
       "<tensorflow.python.keras.callbacks.History at 0x2911244bf88>"
      ]
     },
     "execution_count": 17,
     "metadata": {},
     "output_type": "execute_result"
    },
    {
     "data": {
      "application/javascript": [
       "\n",
       "            setTimeout(function() {\n",
       "                var nbb_cell_id = 17;\n",
       "                var nbb_unformatted_code = \"model.fit(X_train, y_train, batch_size=128, epochs=20, verbose=1)\";\n",
       "                var nbb_formatted_code = \"model.fit(X_train, y_train, batch_size=128, epochs=20, verbose=1)\";\n",
       "                var nbb_cells = Jupyter.notebook.get_cells();\n",
       "                for (var i = 0; i < nbb_cells.length; ++i) {\n",
       "                    if (nbb_cells[i].input_prompt_number == nbb_cell_id) {\n",
       "                        if (nbb_cells[i].get_text() == nbb_unformatted_code) {\n",
       "                             nbb_cells[i].set_text(nbb_formatted_code);\n",
       "                        }\n",
       "                        break;\n",
       "                    }\n",
       "                }\n",
       "            }, 500);\n",
       "            "
      ],
      "text/plain": [
       "<IPython.core.display.Javascript object>"
      ]
     },
     "metadata": {},
     "output_type": "display_data"
    }
   ],
   "source": [
    "model.fit(X_train, y_train, batch_size=128, epochs=20, verbose=1)"
   ]
  },
  {
   "cell_type": "code",
   "execution_count": 18,
   "metadata": {},
   "outputs": [
    {
     "name": "stdout",
     "output_type": "stream",
     "text": [
      "Test accuracy: 0.18410973250865936\n"
     ]
    },
    {
     "data": {
      "application/javascript": [
       "\n",
       "            setTimeout(function() {\n",
       "                var nbb_cell_id = 18;\n",
       "                var nbb_unformatted_code = \"score = model.evaluate(X_test, y_test, verbose=0)\\nprint(\\\"Test accuracy:\\\", score[1])\";\n",
       "                var nbb_formatted_code = \"score = model.evaluate(X_test, y_test, verbose=0)\\nprint(\\\"Test accuracy:\\\", score[1])\";\n",
       "                var nbb_cells = Jupyter.notebook.get_cells();\n",
       "                for (var i = 0; i < nbb_cells.length; ++i) {\n",
       "                    if (nbb_cells[i].input_prompt_number == nbb_cell_id) {\n",
       "                        if (nbb_cells[i].get_text() == nbb_unformatted_code) {\n",
       "                             nbb_cells[i].set_text(nbb_formatted_code);\n",
       "                        }\n",
       "                        break;\n",
       "                    }\n",
       "                }\n",
       "            }, 500);\n",
       "            "
      ],
      "text/plain": [
       "<IPython.core.display.Javascript object>"
      ]
     },
     "metadata": {},
     "output_type": "display_data"
    }
   ],
   "source": [
    "score = model.evaluate(X_test, y_test, verbose=0)\n",
    "print(\"Test accuracy:\", score[1])"
   ]
  },
  {
   "cell_type": "code",
   "execution_count": 19,
   "metadata": {},
   "outputs": [
    {
     "data": {
      "application/javascript": [
       "\n",
       "            setTimeout(function() {\n",
       "                var nbb_cell_id = 19;\n",
       "                var nbb_unformatted_code = \"y_pred = model.predict(X_test)\\ny_test_arg = tf.argmax(y_test, 1)\\ny_pred_arg = tf.argmax(y_pred, 1)\";\n",
       "                var nbb_formatted_code = \"y_pred = model.predict(X_test)\\ny_test_arg = tf.argmax(y_test, 1)\\ny_pred_arg = tf.argmax(y_pred, 1)\";\n",
       "                var nbb_cells = Jupyter.notebook.get_cells();\n",
       "                for (var i = 0; i < nbb_cells.length; ++i) {\n",
       "                    if (nbb_cells[i].input_prompt_number == nbb_cell_id) {\n",
       "                        if (nbb_cells[i].get_text() == nbb_unformatted_code) {\n",
       "                             nbb_cells[i].set_text(nbb_formatted_code);\n",
       "                        }\n",
       "                        break;\n",
       "                    }\n",
       "                }\n",
       "            }, 500);\n",
       "            "
      ],
      "text/plain": [
       "<IPython.core.display.Javascript object>"
      ]
     },
     "metadata": {},
     "output_type": "display_data"
    }
   ],
   "source": [
    "y_pred = model.predict(X_test)\n",
    "y_test_arg = tf.argmax(y_test, 1)\n",
    "y_pred_arg = tf.argmax(y_pred, 1)"
   ]
  },
  {
   "cell_type": "code",
   "execution_count": 20,
   "metadata": {},
   "outputs": [
    {
     "name": "stdout",
     "output_type": "stream",
     "text": [
      "tf.Tensor(\n",
      "[[    0     2     0    52  4585  1102     0     0     0     0     0     0]\n",
      " [    0     3     0   114  8110  1853     0     0     0     0     0     0]\n",
      " [    0     6     0    24  5441  1264     0     0     0     0     0     0]\n",
      " [    0     2     0   171  8793  2118     0     0     0     0     0     0]\n",
      " [    0     5     0   158 12812  3216     0     0     0     0     0     0]\n",
      " [    0     4     0    95 11225  3068     0     0     0     0     0     0]\n",
      " [    0     1     0    14  2139   616     0     0     0     0     0     0]\n",
      " [    0     1     0    31  2070   460     0     0     0     0     0     0]\n",
      " [    0     0     0    14  2276   442     0     0     0     0     0     0]\n",
      " [    0     1     0    38  3230   901     0     0     0     0     0     0]\n",
      " [    0     4     0    39  4849  1167     0     0     0     0     0     0]\n",
      " [    0     0     0    28  3853   801     0     0     0     0     0     0]], shape=(12, 12), dtype=int32)\n"
     ]
    },
    {
     "data": {
      "application/javascript": [
       "\n",
       "            setTimeout(function() {\n",
       "                var nbb_cell_id = 20;\n",
       "                var nbb_unformatted_code = \"res = tf.math.confusion_matrix(y_test_arg, y_pred_arg)\\nprint(res)\";\n",
       "                var nbb_formatted_code = \"res = tf.math.confusion_matrix(y_test_arg, y_pred_arg)\\nprint(res)\";\n",
       "                var nbb_cells = Jupyter.notebook.get_cells();\n",
       "                for (var i = 0; i < nbb_cells.length; ++i) {\n",
       "                    if (nbb_cells[i].input_prompt_number == nbb_cell_id) {\n",
       "                        if (nbb_cells[i].get_text() == nbb_unformatted_code) {\n",
       "                             nbb_cells[i].set_text(nbb_formatted_code);\n",
       "                        }\n",
       "                        break;\n",
       "                    }\n",
       "                }\n",
       "            }, 500);\n",
       "            "
      ],
      "text/plain": [
       "<IPython.core.display.Javascript object>"
      ]
     },
     "metadata": {},
     "output_type": "display_data"
    }
   ],
   "source": [
    "res = tf.math.confusion_matrix(y_test_arg, y_pred_arg)\n",
    "print(res)"
   ]
  },
  {
   "cell_type": "markdown",
   "metadata": {},
   "source": [
    "# 3 Layer Sigmoid with ADAM Optimizer"
   ]
  },
  {
   "cell_type": "code",
   "execution_count": 56,
   "metadata": {},
   "outputs": [
    {
     "data": {
      "application/javascript": [
       "\n",
       "            setTimeout(function() {\n",
       "                var nbb_cell_id = 56;\n",
       "                var nbb_unformatted_code = \"model = Sequential()\\nmodel.add(Dense(128, input_dim=X_train_np.shape[1], activation=\\\"sigmoid\\\"))\\nmodel.add(Dense(64, activation=\\\"sigmoid\\\"))\\nmodel.add(Dense(12, activation=\\\"softmax\\\"))\";\n",
       "                var nbb_formatted_code = \"model = Sequential()\\nmodel.add(Dense(128, input_dim=X_train_np.shape[1], activation=\\\"sigmoid\\\"))\\nmodel.add(Dense(64, activation=\\\"sigmoid\\\"))\\nmodel.add(Dense(12, activation=\\\"softmax\\\"))\";\n",
       "                var nbb_cells = Jupyter.notebook.get_cells();\n",
       "                for (var i = 0; i < nbb_cells.length; ++i) {\n",
       "                    if (nbb_cells[i].input_prompt_number == nbb_cell_id) {\n",
       "                        if (nbb_cells[i].get_text() == nbb_unformatted_code) {\n",
       "                             nbb_cells[i].set_text(nbb_formatted_code);\n",
       "                        }\n",
       "                        break;\n",
       "                    }\n",
       "                }\n",
       "            }, 500);\n",
       "            "
      ],
      "text/plain": [
       "<IPython.core.display.Javascript object>"
      ]
     },
     "metadata": {},
     "output_type": "display_data"
    }
   ],
   "source": [
    "model = Sequential()\n",
    "model.add(Dense(128, input_dim=X_train_np.shape[1], activation=\"sigmoid\"))\n",
    "model.add(Dense(64, activation=\"sigmoid\"))\n",
    "model.add(Dense(12, activation=\"softmax\"))"
   ]
  },
  {
   "cell_type": "code",
   "execution_count": 57,
   "metadata": {},
   "outputs": [
    {
     "data": {
      "application/javascript": [
       "\n",
       "            setTimeout(function() {\n",
       "                var nbb_cell_id = 57;\n",
       "                var nbb_unformatted_code = \"model.compile(loss=\\\"categorical_crossentropy\\\", optimizer=\\\"adam\\\", metrics=[\\\"accuracy\\\"])\";\n",
       "                var nbb_formatted_code = \"model.compile(loss=\\\"categorical_crossentropy\\\", optimizer=\\\"adam\\\", metrics=[\\\"accuracy\\\"])\";\n",
       "                var nbb_cells = Jupyter.notebook.get_cells();\n",
       "                for (var i = 0; i < nbb_cells.length; ++i) {\n",
       "                    if (nbb_cells[i].input_prompt_number == nbb_cell_id) {\n",
       "                        if (nbb_cells[i].get_text() == nbb_unformatted_code) {\n",
       "                             nbb_cells[i].set_text(nbb_formatted_code);\n",
       "                        }\n",
       "                        break;\n",
       "                    }\n",
       "                }\n",
       "            }, 500);\n",
       "            "
      ],
      "text/plain": [
       "<IPython.core.display.Javascript object>"
      ]
     },
     "metadata": {},
     "output_type": "display_data"
    }
   ],
   "source": [
    "model.compile(loss=\"categorical_crossentropy\", optimizer=\"adam\", metrics=[\"accuracy\"])"
   ]
  },
  {
   "cell_type": "code",
   "execution_count": 58,
   "metadata": {},
   "outputs": [
    {
     "name": "stdout",
     "output_type": "stream",
     "text": [
      "Epoch 1/20\n",
      "2725/2725 [==============================] - 3s 1ms/step - loss: 2.3119 - accuracy: 0.1822\n",
      "Epoch 2/20\n",
      "2725/2725 [==============================] - 3s 1ms/step - loss: 2.3080 - accuracy: 0.1838\n",
      "Epoch 3/20\n",
      "2725/2725 [==============================] - 3s 1ms/step - loss: 2.3071 - accuracy: 0.1845\n",
      "Epoch 4/20\n",
      "2725/2725 [==============================] - 3s 1ms/step - loss: 2.3066 - accuracy: 0.1844\n",
      "Epoch 5/20\n",
      "2725/2725 [==============================] - 3s 1ms/step - loss: 2.3061 - accuracy: 0.1845\n",
      "Epoch 6/20\n",
      "2725/2725 [==============================] - 3s 1ms/step - loss: 2.3059 - accuracy: 0.1853\n",
      "Epoch 7/20\n",
      "2725/2725 [==============================] - 3s 1ms/step - loss: 2.3055 - accuracy: 0.1854\n",
      "Epoch 8/20\n",
      "2725/2725 [==============================] - 3s 1ms/step - loss: 2.3054 - accuracy: 0.1853\n",
      "Epoch 9/20\n",
      "2725/2725 [==============================] - 3s 1ms/step - loss: 2.3052 - accuracy: 0.1851\n",
      "Epoch 10/20\n",
      "2725/2725 [==============================] - 3s 1ms/step - loss: 2.3051 - accuracy: 0.1856\n",
      "Epoch 11/20\n",
      "2725/2725 [==============================] - 3s 1ms/step - loss: 2.3049 - accuracy: 0.1862\n",
      "Epoch 12/20\n",
      "2725/2725 [==============================] - 3s 1ms/step - loss: 2.3048 - accuracy: 0.1853\n",
      "Epoch 13/20\n",
      "2725/2725 [==============================] - 3s 1ms/step - loss: 2.3045 - accuracy: 0.1860\n",
      "Epoch 14/20\n",
      "2725/2725 [==============================] - 3s 1ms/step - loss: 2.3045 - accuracy: 0.1856\n",
      "Epoch 15/20\n",
      "2725/2725 [==============================] - 3s 1ms/step - loss: 2.3044 - accuracy: 0.1861\n",
      "Epoch 16/20\n",
      "2725/2725 [==============================] - 3s 1ms/step - loss: 2.3043 - accuracy: 0.1858\n",
      "Epoch 17/20\n",
      "2725/2725 [==============================] - ETA: 0s - loss: 2.3041 - accuracy: 0.18 - 3s 1ms/step - loss: 2.3042 - accuracy: 0.1862\n",
      "Epoch 18/20\n",
      "2725/2725 [==============================] - 3s 1ms/step - loss: 2.3042 - accuracy: 0.1860\n",
      "Epoch 19/20\n",
      "2725/2725 [==============================] - 3s 1ms/step - loss: 2.3041 - accuracy: 0.1859\n",
      "Epoch 20/20\n",
      "2725/2725 [==============================] - 3s 1ms/step - loss: 2.3040 - accuracy: 0.1864\n"
     ]
    },
    {
     "data": {
      "text/plain": [
       "<tensorflow.python.keras.callbacks.History at 0x296ae299188>"
      ]
     },
     "execution_count": 58,
     "metadata": {},
     "output_type": "execute_result"
    },
    {
     "data": {
      "application/javascript": [
       "\n",
       "            setTimeout(function() {\n",
       "                var nbb_cell_id = 58;\n",
       "                var nbb_unformatted_code = \"model.fit(X_train, y_train, batch_size=128, epochs=20, verbose=1)\";\n",
       "                var nbb_formatted_code = \"model.fit(X_train, y_train, batch_size=128, epochs=20, verbose=1)\";\n",
       "                var nbb_cells = Jupyter.notebook.get_cells();\n",
       "                for (var i = 0; i < nbb_cells.length; ++i) {\n",
       "                    if (nbb_cells[i].input_prompt_number == nbb_cell_id) {\n",
       "                        if (nbb_cells[i].get_text() == nbb_unformatted_code) {\n",
       "                             nbb_cells[i].set_text(nbb_formatted_code);\n",
       "                        }\n",
       "                        break;\n",
       "                    }\n",
       "                }\n",
       "            }, 500);\n",
       "            "
      ],
      "text/plain": [
       "<IPython.core.display.Javascript object>"
      ]
     },
     "metadata": {},
     "output_type": "display_data"
    }
   ],
   "source": [
    "model.fit(X_train, y_train, batch_size=128, epochs=20, verbose=1)"
   ]
  },
  {
   "cell_type": "code",
   "execution_count": 59,
   "metadata": {},
   "outputs": [
    {
     "name": "stdout",
     "output_type": "stream",
     "text": [
      "Test accuracy: 0.1856120526790619\n"
     ]
    },
    {
     "data": {
      "application/javascript": [
       "\n",
       "            setTimeout(function() {\n",
       "                var nbb_cell_id = 59;\n",
       "                var nbb_unformatted_code = \"score = model.evaluate(X_test, y_test, verbose=0)\\nprint(\\\"Test accuracy:\\\", score[1])\";\n",
       "                var nbb_formatted_code = \"score = model.evaluate(X_test, y_test, verbose=0)\\nprint(\\\"Test accuracy:\\\", score[1])\";\n",
       "                var nbb_cells = Jupyter.notebook.get_cells();\n",
       "                for (var i = 0; i < nbb_cells.length; ++i) {\n",
       "                    if (nbb_cells[i].input_prompt_number == nbb_cell_id) {\n",
       "                        if (nbb_cells[i].get_text() == nbb_unformatted_code) {\n",
       "                             nbb_cells[i].set_text(nbb_formatted_code);\n",
       "                        }\n",
       "                        break;\n",
       "                    }\n",
       "                }\n",
       "            }, 500);\n",
       "            "
      ],
      "text/plain": [
       "<IPython.core.display.Javascript object>"
      ]
     },
     "metadata": {},
     "output_type": "display_data"
    }
   ],
   "source": [
    "score = model.evaluate(X_test, y_test, verbose=0)\n",
    "print(\"Test accuracy:\", score[1])"
   ]
  },
  {
   "cell_type": "code",
   "execution_count": 60,
   "metadata": {},
   "outputs": [
    {
     "data": {
      "application/javascript": [
       "\n",
       "            setTimeout(function() {\n",
       "                var nbb_cell_id = 60;\n",
       "                var nbb_unformatted_code = \"y_pred = model.predict(X_test)\\ny_test_arg = tf.argmax(y_test, 1)\\ny_pred_arg = tf.argmax(y_pred, 1)\";\n",
       "                var nbb_formatted_code = \"y_pred = model.predict(X_test)\\ny_test_arg = tf.argmax(y_test, 1)\\ny_pred_arg = tf.argmax(y_pred, 1)\";\n",
       "                var nbb_cells = Jupyter.notebook.get_cells();\n",
       "                for (var i = 0; i < nbb_cells.length; ++i) {\n",
       "                    if (nbb_cells[i].input_prompt_number == nbb_cell_id) {\n",
       "                        if (nbb_cells[i].get_text() == nbb_unformatted_code) {\n",
       "                             nbb_cells[i].set_text(nbb_formatted_code);\n",
       "                        }\n",
       "                        break;\n",
       "                    }\n",
       "                }\n",
       "            }, 500);\n",
       "            "
      ],
      "text/plain": [
       "<IPython.core.display.Javascript object>"
      ]
     },
     "metadata": {},
     "output_type": "display_data"
    }
   ],
   "source": [
    "y_pred = model.predict(X_test)\n",
    "y_test_arg = tf.argmax(y_test, 1)\n",
    "y_pred_arg = tf.argmax(y_pred, 1)"
   ]
  },
  {
   "cell_type": "code",
   "execution_count": 61,
   "metadata": {},
   "outputs": [
    {
     "name": "stdout",
     "output_type": "stream",
     "text": [
      "tf.Tensor(\n",
      "[[    0     0     0    23  5500   218     0     0     0     0     0     0]\n",
      " [    0     0     0    84  9585   411     0     0     0     0     0     0]\n",
      " [    0     0     0    12  6466   257     0     0     0     0     0     0]\n",
      " [    0     0     0   131 10549   404     0     0     0     0     0     0]\n",
      " [    0     0     0   113 15405   673     0     0     0     0     0     0]\n",
      " [    0     0     0    52 13691   649     0     0     0     0     0     0]\n",
      " [    0     0     0     7  2658   105     0     0     0     0     0     0]\n",
      " [    0     0     0    18  2438   106     0     0     0     0     0     0]\n",
      " [    0     0     0     6  2614   112     0     0     0     0     0     0]\n",
      " [    0     0     0    28  3971   171     0     0     0     0     0     0]\n",
      " [    0     0     0    22  5772   265     0     0     0     0     0     0]\n",
      " [    0     0     0     9  4480   193     0     0     0     0     0     0]], shape=(12, 12), dtype=int32)\n"
     ]
    },
    {
     "data": {
      "application/javascript": [
       "\n",
       "            setTimeout(function() {\n",
       "                var nbb_cell_id = 61;\n",
       "                var nbb_unformatted_code = \"res = tf.math.confusion_matrix(y_test_arg, y_pred_arg)\\nprint(res)\";\n",
       "                var nbb_formatted_code = \"res = tf.math.confusion_matrix(y_test_arg, y_pred_arg)\\nprint(res)\";\n",
       "                var nbb_cells = Jupyter.notebook.get_cells();\n",
       "                for (var i = 0; i < nbb_cells.length; ++i) {\n",
       "                    if (nbb_cells[i].input_prompt_number == nbb_cell_id) {\n",
       "                        if (nbb_cells[i].get_text() == nbb_unformatted_code) {\n",
       "                             nbb_cells[i].set_text(nbb_formatted_code);\n",
       "                        }\n",
       "                        break;\n",
       "                    }\n",
       "                }\n",
       "            }, 500);\n",
       "            "
      ],
      "text/plain": [
       "<IPython.core.display.Javascript object>"
      ]
     },
     "metadata": {},
     "output_type": "display_data"
    }
   ],
   "source": [
    "res = tf.math.confusion_matrix(y_test_arg, y_pred_arg)\n",
    "print(res)"
   ]
  },
  {
   "cell_type": "markdown",
   "metadata": {},
   "source": [
    "# 3 Layer Sigmoid with SGD Optimizer"
   ]
  },
  {
   "cell_type": "code",
   "execution_count": 21,
   "metadata": {},
   "outputs": [
    {
     "data": {
      "application/javascript": [
       "\n",
       "            setTimeout(function() {\n",
       "                var nbb_cell_id = 21;\n",
       "                var nbb_unformatted_code = \"model = Sequential()\\nmodel.add(Dense(128, input_dim=X_train_np.shape[1], activation=\\\"sigmoid\\\"))\\nmodel.add(Dense(64, activation=\\\"sigmoid\\\"))\\nmodel.add(Dense(12, activation=\\\"softmax\\\"))\";\n",
       "                var nbb_formatted_code = \"model = Sequential()\\nmodel.add(Dense(128, input_dim=X_train_np.shape[1], activation=\\\"sigmoid\\\"))\\nmodel.add(Dense(64, activation=\\\"sigmoid\\\"))\\nmodel.add(Dense(12, activation=\\\"softmax\\\"))\";\n",
       "                var nbb_cells = Jupyter.notebook.get_cells();\n",
       "                for (var i = 0; i < nbb_cells.length; ++i) {\n",
       "                    if (nbb_cells[i].input_prompt_number == nbb_cell_id) {\n",
       "                        if (nbb_cells[i].get_text() == nbb_unformatted_code) {\n",
       "                             nbb_cells[i].set_text(nbb_formatted_code);\n",
       "                        }\n",
       "                        break;\n",
       "                    }\n",
       "                }\n",
       "            }, 500);\n",
       "            "
      ],
      "text/plain": [
       "<IPython.core.display.Javascript object>"
      ]
     },
     "metadata": {},
     "output_type": "display_data"
    }
   ],
   "source": [
    "model = Sequential()\n",
    "model.add(Dense(128, input_dim=X_train_np.shape[1], activation=\"sigmoid\"))\n",
    "model.add(Dense(64, activation=\"sigmoid\"))\n",
    "model.add(Dense(12, activation=\"softmax\"))"
   ]
  },
  {
   "cell_type": "code",
   "execution_count": 22,
   "metadata": {},
   "outputs": [
    {
     "data": {
      "application/javascript": [
       "\n",
       "            setTimeout(function() {\n",
       "                var nbb_cell_id = 22;\n",
       "                var nbb_unformatted_code = \"model.compile(loss=\\\"categorical_crossentropy\\\", optimizer=\\\"sgd\\\", metrics=[\\\"accuracy\\\"])\";\n",
       "                var nbb_formatted_code = \"model.compile(loss=\\\"categorical_crossentropy\\\", optimizer=\\\"sgd\\\", metrics=[\\\"accuracy\\\"])\";\n",
       "                var nbb_cells = Jupyter.notebook.get_cells();\n",
       "                for (var i = 0; i < nbb_cells.length; ++i) {\n",
       "                    if (nbb_cells[i].input_prompt_number == nbb_cell_id) {\n",
       "                        if (nbb_cells[i].get_text() == nbb_unformatted_code) {\n",
       "                             nbb_cells[i].set_text(nbb_formatted_code);\n",
       "                        }\n",
       "                        break;\n",
       "                    }\n",
       "                }\n",
       "            }, 500);\n",
       "            "
      ],
      "text/plain": [
       "<IPython.core.display.Javascript object>"
      ]
     },
     "metadata": {},
     "output_type": "display_data"
    }
   ],
   "source": [
    "model.compile(loss=\"categorical_crossentropy\", optimizer=\"sgd\", metrics=[\"accuracy\"])"
   ]
  },
  {
   "cell_type": "code",
   "execution_count": 23,
   "metadata": {},
   "outputs": [
    {
     "name": "stdout",
     "output_type": "stream",
     "text": [
      "Epoch 1/20\n",
      "2725/2725 [==============================] - 4s 1ms/step - loss: 2.3180 - accuracy: 0.1827\n",
      "Epoch 2/20\n",
      "2725/2725 [==============================] - 4s 1ms/step - loss: 2.3085 - accuracy: 0.1847\n",
      "Epoch 3/20\n",
      "2725/2725 [==============================] - 3s 1ms/step - loss: 2.3080 - accuracy: 0.1847\n",
      "Epoch 4/20\n",
      "2725/2725 [==============================] - 4s 1ms/step - loss: 2.3077 - accuracy: 0.1850\n",
      "Epoch 5/20\n",
      "2725/2725 [==============================] - 3s 1ms/step - loss: 2.3075 - accuracy: 0.1849\n",
      "Epoch 6/20\n",
      "2725/2725 [==============================] - 4s 1ms/step - loss: 2.3073 - accuracy: 0.1851\n",
      "Epoch 7/20\n",
      "2725/2725 [==============================] - 3s 1ms/step - loss: 2.3073 - accuracy: 0.1849\n",
      "Epoch 8/20\n",
      "2725/2725 [==============================] - 3s 1ms/step - loss: 2.3071 - accuracy: 0.1850\n",
      "Epoch 9/20\n",
      "2725/2725 [==============================] - 3s 1ms/step - loss: 2.3070 - accuracy: 0.1852\n",
      "Epoch 10/20\n",
      "2725/2725 [==============================] - 6s 2ms/step - loss: 2.3069 - accuracy: 0.1853\n",
      "Epoch 11/20\n",
      "2725/2725 [==============================] - 6s 2ms/step - loss: 2.3068 - accuracy: 0.1850\n",
      "Epoch 12/20\n",
      "2725/2725 [==============================] - 3s 1ms/step - loss: 2.3067 - accuracy: 0.1853\n",
      "Epoch 13/20\n",
      "2725/2725 [==============================] - 3s 1ms/step - loss: 2.3066 - accuracy: 0.1849\n",
      "Epoch 14/20\n",
      "2725/2725 [==============================] - 3s 1ms/step - loss: 2.3066 - accuracy: 0.1851\n",
      "Epoch 15/20\n",
      "2725/2725 [==============================] - 3s 1ms/step - loss: 2.3065 - accuracy: 0.1851\n",
      "Epoch 16/20\n",
      "2725/2725 [==============================] - 3s 1ms/step - loss: 2.3064 - accuracy: 0.1852\n",
      "Epoch 17/20\n",
      "2725/2725 [==============================] - 3s 1ms/step - loss: 2.3064 - accuracy: 0.1851\n",
      "Epoch 18/20\n",
      "2725/2725 [==============================] - 3s 1ms/step - loss: 2.3064 - accuracy: 0.1850\n",
      "Epoch 19/20\n",
      "2725/2725 [==============================] - 3s 1ms/step - loss: 2.3063 - accuracy: 0.1852\n",
      "Epoch 20/20\n",
      "2725/2725 [==============================] - 3s 1ms/step - loss: 2.3062 - accuracy: 0.1854\n"
     ]
    },
    {
     "data": {
      "text/plain": [
       "<tensorflow.python.keras.callbacks.History at 0x2911e46dcc8>"
      ]
     },
     "execution_count": 23,
     "metadata": {},
     "output_type": "execute_result"
    },
    {
     "data": {
      "application/javascript": [
       "\n",
       "            setTimeout(function() {\n",
       "                var nbb_cell_id = 23;\n",
       "                var nbb_unformatted_code = \"model.fit(X_train, y_train, batch_size=128, epochs=20, verbose=1)\";\n",
       "                var nbb_formatted_code = \"model.fit(X_train, y_train, batch_size=128, epochs=20, verbose=1)\";\n",
       "                var nbb_cells = Jupyter.notebook.get_cells();\n",
       "                for (var i = 0; i < nbb_cells.length; ++i) {\n",
       "                    if (nbb_cells[i].input_prompt_number == nbb_cell_id) {\n",
       "                        if (nbb_cells[i].get_text() == nbb_unformatted_code) {\n",
       "                             nbb_cells[i].set_text(nbb_formatted_code);\n",
       "                        }\n",
       "                        break;\n",
       "                    }\n",
       "                }\n",
       "            }, 500);\n",
       "            "
      ],
      "text/plain": [
       "<IPython.core.display.Javascript object>"
      ]
     },
     "metadata": {},
     "output_type": "display_data"
    }
   ],
   "source": [
    "model.fit(X_train, y_train, batch_size=128, epochs=20, verbose=1)"
   ]
  },
  {
   "cell_type": "code",
   "execution_count": 24,
   "metadata": {},
   "outputs": [
    {
     "name": "stdout",
     "output_type": "stream",
     "text": [
      "Test accuracy: 0.18549737334251404\n"
     ]
    },
    {
     "data": {
      "application/javascript": [
       "\n",
       "            setTimeout(function() {\n",
       "                var nbb_cell_id = 24;\n",
       "                var nbb_unformatted_code = \"score = model.evaluate(X_test, y_test, verbose=0)\\nprint(\\\"Test accuracy:\\\", score[1])\";\n",
       "                var nbb_formatted_code = \"score = model.evaluate(X_test, y_test, verbose=0)\\nprint(\\\"Test accuracy:\\\", score[1])\";\n",
       "                var nbb_cells = Jupyter.notebook.get_cells();\n",
       "                for (var i = 0; i < nbb_cells.length; ++i) {\n",
       "                    if (nbb_cells[i].input_prompt_number == nbb_cell_id) {\n",
       "                        if (nbb_cells[i].get_text() == nbb_unformatted_code) {\n",
       "                             nbb_cells[i].set_text(nbb_formatted_code);\n",
       "                        }\n",
       "                        break;\n",
       "                    }\n",
       "                }\n",
       "            }, 500);\n",
       "            "
      ],
      "text/plain": [
       "<IPython.core.display.Javascript object>"
      ]
     },
     "metadata": {},
     "output_type": "display_data"
    }
   ],
   "source": [
    "score = model.evaluate(X_test, y_test, verbose=0)\n",
    "print(\"Test accuracy:\", score[1])"
   ]
  },
  {
   "cell_type": "code",
   "execution_count": 25,
   "metadata": {},
   "outputs": [
    {
     "data": {
      "application/javascript": [
       "\n",
       "            setTimeout(function() {\n",
       "                var nbb_cell_id = 25;\n",
       "                var nbb_unformatted_code = \"y_pred = model.predict(X_test)\\ny_test_arg = tf.argmax(y_test, 1)\\ny_pred_arg = tf.argmax(y_pred, 1)\";\n",
       "                var nbb_formatted_code = \"y_pred = model.predict(X_test)\\ny_test_arg = tf.argmax(y_test, 1)\\ny_pred_arg = tf.argmax(y_pred, 1)\";\n",
       "                var nbb_cells = Jupyter.notebook.get_cells();\n",
       "                for (var i = 0; i < nbb_cells.length; ++i) {\n",
       "                    if (nbb_cells[i].input_prompt_number == nbb_cell_id) {\n",
       "                        if (nbb_cells[i].get_text() == nbb_unformatted_code) {\n",
       "                             nbb_cells[i].set_text(nbb_formatted_code);\n",
       "                        }\n",
       "                        break;\n",
       "                    }\n",
       "                }\n",
       "            }, 500);\n",
       "            "
      ],
      "text/plain": [
       "<IPython.core.display.Javascript object>"
      ]
     },
     "metadata": {},
     "output_type": "display_data"
    }
   ],
   "source": [
    "y_pred = model.predict(X_test)\n",
    "y_test_arg = tf.argmax(y_test, 1)\n",
    "y_pred_arg = tf.argmax(y_pred, 1)"
   ]
  },
  {
   "cell_type": "code",
   "execution_count": 26,
   "metadata": {},
   "outputs": [
    {
     "name": "stdout",
     "output_type": "stream",
     "text": [
      "tf.Tensor(\n",
      "[[    0     0     0     0  5587   154     0     0     0     0     0     0]\n",
      " [    0     0     0     0  9811   269     0     0     0     0     0     0]\n",
      " [    0     0     0     0  6559   176     0     0     0     0     0     0]\n",
      " [    0     0     0     0 10836   248     0     0     0     0     0     0]\n",
      " [    0     0     0     0 15790   401     0     0     0     0     0     0]\n",
      " [    0     0     0     0 14007   385     0     0     0     0     0     0]\n",
      " [    0     0     0     0  2705    65     0     0     0     0     0     0]\n",
      " [    0     0     0     0  2501    61     0     0     0     0     0     0]\n",
      " [    0     0     0     0  2665    67     0     0     0     0     0     0]\n",
      " [    0     0     0     0  4077    93     0     0     0     0     0     0]\n",
      " [    0     0     0     0  5927   132     0     0     0     0     0     0]\n",
      " [    0     0     0     0  4552   130     0     0     0     0     0     0]], shape=(12, 12), dtype=int32)\n"
     ]
    },
    {
     "data": {
      "application/javascript": [
       "\n",
       "            setTimeout(function() {\n",
       "                var nbb_cell_id = 26;\n",
       "                var nbb_unformatted_code = \"res = tf.math.confusion_matrix(y_test_arg, y_pred_arg)\\nprint(res)\";\n",
       "                var nbb_formatted_code = \"res = tf.math.confusion_matrix(y_test_arg, y_pred_arg)\\nprint(res)\";\n",
       "                var nbb_cells = Jupyter.notebook.get_cells();\n",
       "                for (var i = 0; i < nbb_cells.length; ++i) {\n",
       "                    if (nbb_cells[i].input_prompt_number == nbb_cell_id) {\n",
       "                        if (nbb_cells[i].get_text() == nbb_unformatted_code) {\n",
       "                             nbb_cells[i].set_text(nbb_formatted_code);\n",
       "                        }\n",
       "                        break;\n",
       "                    }\n",
       "                }\n",
       "            }, 500);\n",
       "            "
      ],
      "text/plain": [
       "<IPython.core.display.Javascript object>"
      ]
     },
     "metadata": {},
     "output_type": "display_data"
    }
   ],
   "source": [
    "res = tf.math.confusion_matrix(y_test_arg, y_pred_arg)\n",
    "print(res)"
   ]
  },
  {
   "cell_type": "markdown",
   "metadata": {},
   "source": [
    "# 3 Layer RELU with ADAM Optimizer Smaller Batch Size and More Epochs"
   ]
  },
  {
   "cell_type": "code",
   "execution_count": 27,
   "metadata": {},
   "outputs": [
    {
     "data": {
      "application/javascript": [
       "\n",
       "            setTimeout(function() {\n",
       "                var nbb_cell_id = 27;\n",
       "                var nbb_unformatted_code = \"model = Sequential()\\nmodel.add(Dense(128, input_dim=X_train_np.shape[1], activation=\\\"relu\\\"))\\nmodel.add(Dense(64, activation=\\\"relu\\\"))\\nmodel.add(Dense(12, activation=\\\"softmax\\\"))\";\n",
       "                var nbb_formatted_code = \"model = Sequential()\\nmodel.add(Dense(128, input_dim=X_train_np.shape[1], activation=\\\"relu\\\"))\\nmodel.add(Dense(64, activation=\\\"relu\\\"))\\nmodel.add(Dense(12, activation=\\\"softmax\\\"))\";\n",
       "                var nbb_cells = Jupyter.notebook.get_cells();\n",
       "                for (var i = 0; i < nbb_cells.length; ++i) {\n",
       "                    if (nbb_cells[i].input_prompt_number == nbb_cell_id) {\n",
       "                        if (nbb_cells[i].get_text() == nbb_unformatted_code) {\n",
       "                             nbb_cells[i].set_text(nbb_formatted_code);\n",
       "                        }\n",
       "                        break;\n",
       "                    }\n",
       "                }\n",
       "            }, 500);\n",
       "            "
      ],
      "text/plain": [
       "<IPython.core.display.Javascript object>"
      ]
     },
     "metadata": {},
     "output_type": "display_data"
    }
   ],
   "source": [
    "model = Sequential()\n",
    "model.add(Dense(128, input_dim=X_train_np.shape[1], activation=\"relu\"))\n",
    "model.add(Dense(64, activation=\"relu\"))\n",
    "model.add(Dense(12, activation=\"softmax\"))"
   ]
  },
  {
   "cell_type": "code",
   "execution_count": 28,
   "metadata": {},
   "outputs": [
    {
     "data": {
      "application/javascript": [
       "\n",
       "            setTimeout(function() {\n",
       "                var nbb_cell_id = 28;\n",
       "                var nbb_unformatted_code = \"model.compile(loss=\\\"categorical_crossentropy\\\", optimizer=\\\"adam\\\", metrics=[\\\"accuracy\\\"])\";\n",
       "                var nbb_formatted_code = \"model.compile(loss=\\\"categorical_crossentropy\\\", optimizer=\\\"adam\\\", metrics=[\\\"accuracy\\\"])\";\n",
       "                var nbb_cells = Jupyter.notebook.get_cells();\n",
       "                for (var i = 0; i < nbb_cells.length; ++i) {\n",
       "                    if (nbb_cells[i].input_prompt_number == nbb_cell_id) {\n",
       "                        if (nbb_cells[i].get_text() == nbb_unformatted_code) {\n",
       "                             nbb_cells[i].set_text(nbb_formatted_code);\n",
       "                        }\n",
       "                        break;\n",
       "                    }\n",
       "                }\n",
       "            }, 500);\n",
       "            "
      ],
      "text/plain": [
       "<IPython.core.display.Javascript object>"
      ]
     },
     "metadata": {},
     "output_type": "display_data"
    }
   ],
   "source": [
    "model.compile(loss=\"categorical_crossentropy\", optimizer=\"adam\", metrics=[\"accuracy\"])"
   ]
  },
  {
   "cell_type": "code",
   "execution_count": 29,
   "metadata": {},
   "outputs": [
    {
     "name": "stdout",
     "output_type": "stream",
     "text": [
      "Epoch 1/100\n",
      "5450/5450 [==============================] - 5s 928us/step - loss: 2628124579725312.0000 - accuracy: 0.1720\n",
      "Epoch 2/100\n",
      "5450/5450 [==============================] - 5s 933us/step - loss: 2.3080 - accuracy: 0.1857\n",
      "Epoch 3/100\n",
      "5450/5450 [==============================] - 5s 947us/step - loss: 2.3081 - accuracy: 0.1857\n",
      "Epoch 4/100\n",
      "5450/5450 [==============================] - 5s 931us/step - loss: 2.3080 - accuracy: 0.1857\n",
      "Epoch 5/100\n",
      "5450/5450 [==============================] - 6s 1ms/step - loss: 2.3081 - accuracy: 0.1857\n",
      "Epoch 6/100\n",
      "5450/5450 [==============================] - 6s 1ms/step - loss: 2.3081 - accuracy: 0.1857\n",
      "Epoch 7/100\n",
      "5450/5450 [==============================] - 5s 890us/step - loss: 2.3080 - accuracy: 0.1857\n",
      "Epoch 8/100\n",
      "5450/5450 [==============================] - 5s 977us/step - loss: 2.3080 - accuracy: 0.1857\n",
      "Epoch 9/100\n",
      "5450/5450 [==============================] - 5s 1ms/step - loss: 2.3080 - accuracy: 0.1857\n",
      "Epoch 10/100\n",
      "5450/5450 [==============================] - 5s 927us/step - loss: 2.3080 - accuracy: 0.1857\n",
      "Epoch 11/100\n",
      "5450/5450 [==============================] - 5s 854us/step - loss: 2.3080 - accuracy: 0.1857\n",
      "Epoch 12/100\n",
      "5450/5450 [==============================] - 5s 843us/step - loss: 2.3080 - accuracy: 0.1857\n",
      "Epoch 13/100\n",
      "5450/5450 [==============================] - 5s 831us/step - loss: 2.3080 - accuracy: 0.1857\n",
      "Epoch 14/100\n",
      "5450/5450 [==============================] - 10s 2ms/step - loss: 2.3080 - accuracy: 0.1857\n",
      "Epoch 15/100\n",
      "5450/5450 [==============================] - 5s 847us/step - loss: 2.3080 - accuracy: 0.1857\n",
      "Epoch 16/100\n",
      "5450/5450 [==============================] - 5s 872us/step - loss: 2.3080 - accuracy: 0.1857\n",
      "Epoch 17/100\n",
      "5450/5450 [==============================] - 5s 848us/step - loss: 2.3080 - accuracy: 0.1857\n",
      "Epoch 18/100\n",
      "5450/5450 [==============================] - 5s 877us/step - loss: 2.3080 - accuracy: 0.1857\n",
      "Epoch 19/100\n",
      "5450/5450 [==============================] - 5s 837us/step - loss: 2.3080 - accuracy: 0.1857\n",
      "Epoch 20/100\n",
      "5450/5450 [==============================] - 5s 853us/step - loss: 2.3080 - accuracy: 0.1857\n",
      "Epoch 21/100\n",
      "5450/5450 [==============================] - 5s 909us/step - loss: 2.3080 - accuracy: 0.1857\n",
      "Epoch 22/100\n",
      "5450/5450 [==============================] - 5s 866us/step - loss: 2.3080 - accuracy: 0.1857\n",
      "Epoch 23/100\n",
      "5450/5450 [==============================] - 10s 2ms/step - loss: 2.3080 - accuracy: 0.1857\n",
      "Epoch 24/100\n",
      "5450/5450 [==============================] - 5s 881us/step - loss: 2.3080 - accuracy: 0.1857\n",
      "Epoch 25/100\n",
      "5450/5450 [==============================] - 5s 891us/step - loss: 2.3081 - accuracy: 0.1857\n",
      "Epoch 26/100\n",
      "5450/5450 [==============================] - 5s 911us/step - loss: 2.3080 - accuracy: 0.1857\n",
      "Epoch 27/100\n",
      "5450/5450 [==============================] - 5s 900us/step - loss: 2.3081 - accuracy: 0.1857\n",
      "Epoch 28/100\n",
      "5450/5450 [==============================] - 5s 891us/step - loss: 2.3080 - accuracy: 0.1857\n",
      "Epoch 29/100\n",
      "5450/5450 [==============================] - 5s 869us/step - loss: 2.3080 - accuracy: 0.1857\n",
      "Epoch 30/100\n",
      "5450/5450 [==============================] - 10s 2ms/step - loss: 2.3081 - accuracy: 0.1857\n",
      "Epoch 31/100\n",
      "5450/5450 [==============================] - 5s 868us/step - loss: 2.3080 - accuracy: 0.1857\n",
      "Epoch 32/100\n",
      "5450/5450 [==============================] - 5s 866us/step - loss: 2.3080 - accuracy: 0.1857\n",
      "Epoch 33/100\n",
      "5450/5450 [==============================] - 5s 871us/step - loss: 2.3080 - accuracy: 0.1857\n",
      "Epoch 34/100\n",
      "5450/5450 [==============================] - 5s 872us/step - loss: 2.3080 - accuracy: 0.1857\n",
      "Epoch 35/100\n",
      "5450/5450 [==============================] - 5s 895us/step - loss: 2.3080 - accuracy: 0.1857\n",
      "Epoch 36/100\n",
      "5450/5450 [==============================] - 5s 891us/step - loss: 2.3080 - accuracy: 0.1857\n",
      "Epoch 37/100\n",
      "5450/5450 [==============================] - 7s 1ms/step - loss: 2.3080 - accuracy: 0.1857\n",
      "Epoch 38/100\n",
      "5450/5450 [==============================] - 7s 1ms/step - loss: 2.3081 - accuracy: 0.1857\n",
      "Epoch 39/100\n",
      "5450/5450 [==============================] - 5s 859us/step - loss: 2.3080 - accuracy: 0.1857\n",
      "Epoch 40/100\n",
      "5450/5450 [==============================] - 5s 865us/step - loss: 2.3081 - accuracy: 0.1857\n",
      "Epoch 41/100\n",
      "5450/5450 [==============================] - 5s 866us/step - loss: 2.3080 - accuracy: 0.1857\n",
      "Epoch 42/100\n",
      "5450/5450 [==============================] - 5s 909us/step - loss: 2.3080 - accuracy: 0.1857\n",
      "Epoch 43/100\n",
      "5450/5450 [==============================] - 5s 888us/step - loss: 2.3080 - accuracy: 0.1857\n",
      "Epoch 44/100\n",
      "5450/5450 [==============================] - 9s 2ms/step - loss: 2.3080 - accuracy: 0.1857\n",
      "Epoch 45/100\n",
      "5450/5450 [==============================] - 6s 1ms/step - loss: 2.3080 - accuracy: 0.1857\n",
      "Epoch 46/100\n",
      "5450/5450 [==============================] - 5s 881us/step - loss: 2.3080 - accuracy: 0.1857\n",
      "Epoch 47/100\n",
      "5450/5450 [==============================] - 5s 883us/step - loss: 2.3080 - accuracy: 0.1857\n",
      "Epoch 48/100\n",
      "5450/5450 [==============================] - 5s 882us/step - loss: 2.3080 - accuracy: 0.1857\n",
      "Epoch 49/100\n",
      "5450/5450 [==============================] - 5s 874us/step - loss: 2.3080 - accuracy: 0.1857\n",
      "Epoch 50/100\n",
      "5450/5450 [==============================] - 5s 898us/step - loss: 2.3080 - accuracy: 0.1857\n",
      "Epoch 51/100\n",
      "5450/5450 [==============================] - 7s 1ms/step - loss: 2.3080 - accuracy: 0.1857\n",
      "Epoch 52/100\n",
      "5450/5450 [==============================] - 7s 1ms/step - loss: 2.3080 - accuracy: 0.1857\n",
      "Epoch 53/100\n",
      "5450/5450 [==============================] - 5s 912us/step - loss: 2.3080 - accuracy: 0.1857\n",
      "Epoch 54/100\n",
      "5450/5450 [==============================] - 5s 921us/step - loss: 2.3080 - accuracy: 0.1857\n",
      "Epoch 55/100\n",
      "5450/5450 [==============================] - 5s 890us/step - loss: 2.3080 - accuracy: 0.1857\n",
      "Epoch 56/100\n",
      "5450/5450 [==============================] - 5s 871us/step - loss: 2.3080 - accuracy: 0.1857\n",
      "Epoch 57/100\n",
      "5450/5450 [==============================] - 5s 877us/step - loss: 2.3080 - accuracy: 0.1857\n",
      "Epoch 58/100\n",
      "5450/5450 [==============================] - 10s 2ms/step - loss: 2.3080 - accuracy: 0.1857\n",
      "Epoch 59/100\n",
      "5450/5450 [==============================] - 5s 874us/step - loss: 2.3080 - accuracy: 0.1857\n",
      "Epoch 60/100\n",
      "5450/5450 [==============================] - 5s 957us/step - loss: 2.3080 - accuracy: 0.1857\n",
      "Epoch 61/100\n",
      "5450/5450 [==============================] - 5s 859us/step - loss: 2.3080 - accuracy: 0.1857\n",
      "Epoch 62/100\n",
      "5450/5450 [==============================] - 5s 877us/step - loss: 2.3080 - accuracy: 0.1857\n",
      "Epoch 63/100\n",
      "5450/5450 [==============================] - 4s 802us/step - loss: 2.3080 - accuracy: 0.1857\n",
      "Epoch 64/100\n",
      "5450/5450 [==============================] - 5s 850us/step - loss: 2.3081 - accuracy: 0.1857\n",
      "Epoch 65/100\n",
      "5450/5450 [==============================] - 9s 2ms/step - loss: 2.3081 - accuracy: 0.1857\n",
      "Epoch 66/100\n",
      "5450/5450 [==============================] - 4s 810us/step - loss: 2.3080 - accuracy: 0.1857\n",
      "Epoch 67/100\n",
      "5450/5450 [==============================] - 5s 827us/step - loss: 2.3081 - accuracy: 0.1857\n",
      "Epoch 68/100\n",
      "5450/5450 [==============================] - 5s 903us/step - loss: 2.3080 - accuracy: 0.1857\n",
      "Epoch 69/100\n",
      "5450/5450 [==============================] - 5s 954us/step - loss: 2.3080 - accuracy: 0.1857\n",
      "Epoch 70/100\n",
      "5450/5450 [==============================] - 5s 893us/step - loss: 2.3080 - accuracy: 0.1857\n",
      "Epoch 71/100\n",
      "5450/5450 [==============================] - 10s 2ms/step - loss: 2.3080 - accuracy: 0.1857\n",
      "Epoch 72/100\n",
      "5450/5450 [==============================] - 5s 944us/step - loss: 2.3080 - accuracy: 0.1857\n",
      "Epoch 73/100\n",
      "5450/5450 [==============================] - 5s 839us/step - loss: 2.3080 - accuracy: 0.1857\n",
      "Epoch 74/100\n",
      "5450/5450 [==============================] - 5s 847us/step - loss: 2.3080 - accuracy: 0.1857\n",
      "Epoch 75/100\n",
      "5450/5450 [==============================] - 5s 902us/step - loss: 2.3080 - accuracy: 0.1857\n",
      "Epoch 76/100\n",
      "5450/5450 [==============================] - 5s 875us/step - loss: 2.3080 - accuracy: 0.1857\n",
      "Epoch 77/100\n",
      "5450/5450 [==============================] - 5s 940us/step - loss: 2.3080 - accuracy: 0.1857\n",
      "Epoch 78/100\n"
     ]
    },
    {
     "name": "stdout",
     "output_type": "stream",
     "text": [
      "5450/5450 [==============================] - 10s 2ms/step - loss: 2.3080 - accuracy: 0.1857\n",
      "Epoch 79/100\n",
      "5450/5450 [==============================] - 5s 831us/step - loss: 2.3080 - accuracy: 0.1857\n",
      "Epoch 80/100\n",
      "5450/5450 [==============================] - 4s 822us/step - loss: 2.3080 - accuracy: 0.1857\n",
      "Epoch 81/100\n",
      "5450/5450 [==============================] - 5s 845us/step - loss: 2.3081 - accuracy: 0.1857\n",
      "Epoch 82/100\n",
      "5450/5450 [==============================] - 5s 853us/step - loss: 2.3080 - accuracy: 0.1857\n",
      "Epoch 83/100\n",
      "5450/5450 [==============================] - 5s 826us/step - loss: 2.3080 - accuracy: 0.1857\n",
      "Epoch 84/100\n",
      "5450/5450 [==============================] - 5s 827us/step - loss: 2.3080 - accuracy: 0.1857\n",
      "Epoch 85/100\n",
      "5450/5450 [==============================] - 8s 2ms/step - loss: 2.3080 - accuracy: 0.1857\n",
      "Epoch 86/100\n",
      "5450/5450 [==============================] - 6s 1ms/step - loss: 2.3080 - accuracy: 0.1857\n",
      "Epoch 87/100\n",
      "5450/5450 [==============================] - 5s 861us/step - loss: 2.3080 - accuracy: 0.1857\n",
      "Epoch 88/100\n",
      "5450/5450 [==============================] - 5s 868us/step - loss: 2.3080 - accuracy: 0.1857\n",
      "Epoch 89/100\n",
      "5450/5450 [==============================] - 5s 855us/step - loss: 2.3080 - accuracy: 0.1857\n",
      "Epoch 90/100\n",
      "5450/5450 [==============================] - 5s 841us/step - loss: 2.3080 - accuracy: 0.1857\n",
      "Epoch 91/100\n",
      "5450/5450 [==============================] - 5s 832us/step - loss: 2.3080 - accuracy: 0.1857\n",
      "Epoch 92/100\n",
      "5450/5450 [==============================] - 10s 2ms/step - loss: 2.3081 - accuracy: 0.1857\n",
      "Epoch 93/100\n",
      "5450/5450 [==============================] - 5s 874us/step - loss: 2.3080 - accuracy: 0.1857\n",
      "Epoch 94/100\n",
      "5450/5450 [==============================] - 5s 873us/step - loss: 2.3081 - accuracy: 0.1857\n",
      "Epoch 95/100\n",
      "5450/5450 [==============================] - 5s 832us/step - loss: 2.3080 - accuracy: 0.1857\n",
      "Epoch 96/100\n",
      "5450/5450 [==============================] - 5s 826us/step - loss: 2.3080 - accuracy: 0.1857\n",
      "Epoch 97/100\n",
      "5450/5450 [==============================] - 5s 837us/step - loss: 2.3080 - accuracy: 0.1857\n",
      "Epoch 98/100\n",
      "5450/5450 [==============================] - 5s 871us/step - loss: 2.3081 - accuracy: 0.1857\n",
      "Epoch 99/100\n",
      "5450/5450 [==============================] - 7s 1ms/step - loss: 2.3080 - accuracy: 0.1857\n",
      "Epoch 100/100\n",
      "5450/5450 [==============================] - 7s 1ms/step - loss: 2.3080 - accuracy: 0.1857\n"
     ]
    },
    {
     "data": {
      "text/plain": [
       "<tensorflow.python.keras.callbacks.History at 0x290fc71be08>"
      ]
     },
     "execution_count": 29,
     "metadata": {},
     "output_type": "execute_result"
    },
    {
     "data": {
      "application/javascript": [
       "\n",
       "            setTimeout(function() {\n",
       "                var nbb_cell_id = 29;\n",
       "                var nbb_unformatted_code = \"model.fit(X_train, y_train, batch_size=64, epochs=100, verbose=1)\";\n",
       "                var nbb_formatted_code = \"model.fit(X_train, y_train, batch_size=64, epochs=100, verbose=1)\";\n",
       "                var nbb_cells = Jupyter.notebook.get_cells();\n",
       "                for (var i = 0; i < nbb_cells.length; ++i) {\n",
       "                    if (nbb_cells[i].input_prompt_number == nbb_cell_id) {\n",
       "                        if (nbb_cells[i].get_text() == nbb_unformatted_code) {\n",
       "                             nbb_cells[i].set_text(nbb_formatted_code);\n",
       "                        }\n",
       "                        break;\n",
       "                    }\n",
       "                }\n",
       "            }, 500);\n",
       "            "
      ],
      "text/plain": [
       "<IPython.core.display.Javascript object>"
      ]
     },
     "metadata": {},
     "output_type": "display_data"
    }
   ],
   "source": [
    "model.fit(X_train, y_train, batch_size=64, epochs=100, verbose=1)"
   ]
  },
  {
   "cell_type": "code",
   "execution_count": 30,
   "metadata": {},
   "outputs": [
    {
     "name": "stdout",
     "output_type": "stream",
     "text": [
      "Test accuracy: 0.18568086624145508\n"
     ]
    },
    {
     "data": {
      "application/javascript": [
       "\n",
       "            setTimeout(function() {\n",
       "                var nbb_cell_id = 30;\n",
       "                var nbb_unformatted_code = \"score = model.evaluate(X_test, y_test, verbose=0)\\nprint(\\\"Test accuracy:\\\", score[1])\";\n",
       "                var nbb_formatted_code = \"score = model.evaluate(X_test, y_test, verbose=0)\\nprint(\\\"Test accuracy:\\\", score[1])\";\n",
       "                var nbb_cells = Jupyter.notebook.get_cells();\n",
       "                for (var i = 0; i < nbb_cells.length; ++i) {\n",
       "                    if (nbb_cells[i].input_prompt_number == nbb_cell_id) {\n",
       "                        if (nbb_cells[i].get_text() == nbb_unformatted_code) {\n",
       "                             nbb_cells[i].set_text(nbb_formatted_code);\n",
       "                        }\n",
       "                        break;\n",
       "                    }\n",
       "                }\n",
       "            }, 500);\n",
       "            "
      ],
      "text/plain": [
       "<IPython.core.display.Javascript object>"
      ]
     },
     "metadata": {},
     "output_type": "display_data"
    }
   ],
   "source": [
    "score = model.evaluate(X_test, y_test, verbose=0)\n",
    "print(\"Test accuracy:\", score[1])"
   ]
  },
  {
   "cell_type": "code",
   "execution_count": 31,
   "metadata": {},
   "outputs": [
    {
     "data": {
      "application/javascript": [
       "\n",
       "            setTimeout(function() {\n",
       "                var nbb_cell_id = 31;\n",
       "                var nbb_unformatted_code = \"y_pred = model.predict(X_test)\\ny_test_arg = tf.argmax(y_test, 1)\\ny_pred_arg = tf.argmax(y_pred, 1)\";\n",
       "                var nbb_formatted_code = \"y_pred = model.predict(X_test)\\ny_test_arg = tf.argmax(y_test, 1)\\ny_pred_arg = tf.argmax(y_pred, 1)\";\n",
       "                var nbb_cells = Jupyter.notebook.get_cells();\n",
       "                for (var i = 0; i < nbb_cells.length; ++i) {\n",
       "                    if (nbb_cells[i].input_prompt_number == nbb_cell_id) {\n",
       "                        if (nbb_cells[i].get_text() == nbb_unformatted_code) {\n",
       "                             nbb_cells[i].set_text(nbb_formatted_code);\n",
       "                        }\n",
       "                        break;\n",
       "                    }\n",
       "                }\n",
       "            }, 500);\n",
       "            "
      ],
      "text/plain": [
       "<IPython.core.display.Javascript object>"
      ]
     },
     "metadata": {},
     "output_type": "display_data"
    }
   ],
   "source": [
    "y_pred = model.predict(X_test)\n",
    "y_test_arg = tf.argmax(y_test, 1)\n",
    "y_pred_arg = tf.argmax(y_pred, 1)"
   ]
  },
  {
   "cell_type": "code",
   "execution_count": 32,
   "metadata": {},
   "outputs": [
    {
     "name": "stdout",
     "output_type": "stream",
     "text": [
      "tf.Tensor(\n",
      "[[    0     0     0     0  5741     0     0     0     0     0     0     0]\n",
      " [    0     0     0     0 10080     0     0     0     0     0     0     0]\n",
      " [    0     0     0     0  6735     0     0     0     0     0     0     0]\n",
      " [    0     0     0     0 11084     0     0     0     0     0     0     0]\n",
      " [    0     0     0     0 16191     0     0     0     0     0     0     0]\n",
      " [    0     0     0     0 14392     0     0     0     0     0     0     0]\n",
      " [    0     0     0     0  2770     0     0     0     0     0     0     0]\n",
      " [    0     0     0     0  2562     0     0     0     0     0     0     0]\n",
      " [    0     0     0     0  2732     0     0     0     0     0     0     0]\n",
      " [    0     0     0     0  4170     0     0     0     0     0     0     0]\n",
      " [    0     0     0     0  6059     0     0     0     0     0     0     0]\n",
      " [    0     0     0     0  4682     0     0     0     0     0     0     0]], shape=(12, 12), dtype=int32)\n"
     ]
    },
    {
     "data": {
      "application/javascript": [
       "\n",
       "            setTimeout(function() {\n",
       "                var nbb_cell_id = 32;\n",
       "                var nbb_unformatted_code = \"res = tf.math.confusion_matrix(y_test_arg, y_pred_arg)\\nprint(res)\";\n",
       "                var nbb_formatted_code = \"res = tf.math.confusion_matrix(y_test_arg, y_pred_arg)\\nprint(res)\";\n",
       "                var nbb_cells = Jupyter.notebook.get_cells();\n",
       "                for (var i = 0; i < nbb_cells.length; ++i) {\n",
       "                    if (nbb_cells[i].input_prompt_number == nbb_cell_id) {\n",
       "                        if (nbb_cells[i].get_text() == nbb_unformatted_code) {\n",
       "                             nbb_cells[i].set_text(nbb_formatted_code);\n",
       "                        }\n",
       "                        break;\n",
       "                    }\n",
       "                }\n",
       "            }, 500);\n",
       "            "
      ],
      "text/plain": [
       "<IPython.core.display.Javascript object>"
      ]
     },
     "metadata": {},
     "output_type": "display_data"
    }
   ],
   "source": [
    "res = tf.math.confusion_matrix(y_test_arg, y_pred_arg)\n",
    "print(res)"
   ]
  }
 ],
 "metadata": {
  "kernelspec": {
   "display_name": "Python 3",
   "language": "python",
   "name": "python3"
  },
  "language_info": {
   "codemirror_mode": {
    "name": "ipython",
    "version": 3
   },
   "file_extension": ".py",
   "mimetype": "text/x-python",
   "name": "python",
   "nbconvert_exporter": "python",
   "pygments_lexer": "ipython3",
   "version": "3.7.6"
  }
 },
 "nbformat": 4,
 "nbformat_minor": 4
}
